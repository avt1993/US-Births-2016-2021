{
 "cells": [
  {
   "cell_type": "code",
   "execution_count": 2,
   "metadata": {},
   "outputs": [],
   "source": [
    "import pandas as pd\n",
    "import plotly.express as px\n",
    "import json\n",
    "import plotly.graph_objects as go"
   ]
  },
  {
   "cell_type": "code",
   "execution_count": 81,
   "metadata": {},
   "outputs": [
    {
     "data": {
      "text/html": [
       "<div>\n",
       "<style scoped>\n",
       "    .dataframe tbody tr th:only-of-type {\n",
       "        vertical-align: middle;\n",
       "    }\n",
       "\n",
       "    .dataframe tbody tr th {\n",
       "        vertical-align: top;\n",
       "    }\n",
       "\n",
       "    .dataframe thead th {\n",
       "        text-align: right;\n",
       "    }\n",
       "</style>\n",
       "<table border=\"1\" class=\"dataframe\">\n",
       "  <thead>\n",
       "    <tr style=\"text-align: right;\">\n",
       "      <th></th>\n",
       "      <th>State</th>\n",
       "      <th>State Abbreviation</th>\n",
       "      <th>Year</th>\n",
       "      <th>Gender</th>\n",
       "      <th>Education Level of Mother</th>\n",
       "      <th>Education Level Code</th>\n",
       "      <th>Number of Births</th>\n",
       "      <th>Average Age of Mother (years)</th>\n",
       "      <th>Average Birth Weight (g)</th>\n",
       "    </tr>\n",
       "  </thead>\n",
       "  <tbody>\n",
       "    <tr>\n",
       "      <th>0</th>\n",
       "      <td>Alabama</td>\n",
       "      <td>AL</td>\n",
       "      <td>2016</td>\n",
       "      <td>F</td>\n",
       "      <td>&gt; 8th Grade</td>\n",
       "      <td>1</td>\n",
       "      <td>1052</td>\n",
       "      <td>27.8</td>\n",
       "      <td>3116.9</td>\n",
       "    </tr>\n",
       "    <tr>\n",
       "      <th>1</th>\n",
       "      <td>Alabama</td>\n",
       "      <td>AL</td>\n",
       "      <td>2016</td>\n",
       "      <td>F</td>\n",
       "      <td>9th &gt; 12th Grade</td>\n",
       "      <td>2</td>\n",
       "      <td>3436</td>\n",
       "      <td>24.1</td>\n",
       "      <td>3040.0</td>\n",
       "    </tr>\n",
       "    <tr>\n",
       "      <th>2</th>\n",
       "      <td>Alabama</td>\n",
       "      <td>AL</td>\n",
       "      <td>2016</td>\n",
       "      <td>F</td>\n",
       "      <td>High School Grad</td>\n",
       "      <td>3</td>\n",
       "      <td>8777</td>\n",
       "      <td>25.4</td>\n",
       "      <td>3080.0</td>\n",
       "    </tr>\n",
       "    <tr>\n",
       "      <th>3</th>\n",
       "      <td>Alabama</td>\n",
       "      <td>AL</td>\n",
       "      <td>2016</td>\n",
       "      <td>F</td>\n",
       "      <td>Some College Credit</td>\n",
       "      <td>4</td>\n",
       "      <td>6453</td>\n",
       "      <td>26.7</td>\n",
       "      <td>3121.9</td>\n",
       "    </tr>\n",
       "    <tr>\n",
       "      <th>4</th>\n",
       "      <td>Alabama</td>\n",
       "      <td>AL</td>\n",
       "      <td>2016</td>\n",
       "      <td>F</td>\n",
       "      <td>Associate Degree</td>\n",
       "      <td>5</td>\n",
       "      <td>2227</td>\n",
       "      <td>28.9</td>\n",
       "      <td>3174.3</td>\n",
       "    </tr>\n",
       "  </tbody>\n",
       "</table>\n",
       "</div>"
      ],
      "text/plain": [
       "     State State Abbreviation  Year Gender Education Level of Mother  \\\n",
       "0  Alabama                 AL  2016      F               > 8th Grade   \n",
       "1  Alabama                 AL  2016      F          9th > 12th Grade   \n",
       "2  Alabama                 AL  2016      F          High School Grad   \n",
       "3  Alabama                 AL  2016      F       Some College Credit   \n",
       "4  Alabama                 AL  2016      F          Associate Degree   \n",
       "\n",
       "   Education Level Code  Number of Births  Average Age of Mother (years)  \\\n",
       "0                     1              1052                           27.8   \n",
       "1                     2              3436                           24.1   \n",
       "2                     3              8777                           25.4   \n",
       "3                     4              6453                           26.7   \n",
       "4                     5              2227                           28.9   \n",
       "\n",
       "   Average Birth Weight (g)  \n",
       "0                    3116.9  \n",
       "1                    3040.0  \n",
       "2                    3080.0  \n",
       "3                    3121.9  \n",
       "4                    3174.3  "
      ]
     },
     "execution_count": 81,
     "metadata": {},
     "output_type": "execute_result"
    }
   ],
   "source": [
    "us_births = pd.read_csv('https://raw.githubusercontent.com/avt1993/US-Births-2016-2021/main/us_births_2016_2021.csv')\n",
    "us_births.head()\n",
    "#us_births.dtypes"
   ]
  },
  {
   "cell_type": "code",
   "execution_count": 135,
   "metadata": {},
   "outputs": [
    {
     "data": {
      "text/html": [
       "<div>\n",
       "<style scoped>\n",
       "    .dataframe tbody tr th:only-of-type {\n",
       "        vertical-align: middle;\n",
       "    }\n",
       "\n",
       "    .dataframe tbody tr th {\n",
       "        vertical-align: top;\n",
       "    }\n",
       "\n",
       "    .dataframe thead th {\n",
       "        text-align: right;\n",
       "    }\n",
       "</style>\n",
       "<table border=\"1\" class=\"dataframe\">\n",
       "  <thead>\n",
       "    <tr style=\"text-align: right;\">\n",
       "      <th></th>\n",
       "      <th>State</th>\n",
       "      <th>State Abbreviation</th>\n",
       "      <th>Education Level of Mother</th>\n",
       "      <th>Year</th>\n",
       "      <th>Number of Births</th>\n",
       "      <th>Total Births in State</th>\n",
       "      <th>Average Age of Mother (years)</th>\n",
       "      <th>Political Party Governing</th>\n",
       "    </tr>\n",
       "  </thead>\n",
       "  <tbody>\n",
       "    <tr>\n",
       "      <th>0</th>\n",
       "      <td>Alabama</td>\n",
       "      <td>AL</td>\n",
       "      <td>9th &gt; 12th Grade</td>\n",
       "      <td>2016</td>\n",
       "      <td>7093</td>\n",
       "      <td>59151</td>\n",
       "      <td>24.00</td>\n",
       "      <td>R</td>\n",
       "    </tr>\n",
       "    <tr>\n",
       "      <th>1</th>\n",
       "      <td>Alabama</td>\n",
       "      <td>AL</td>\n",
       "      <td>&gt; 8th Grade</td>\n",
       "      <td>2016</td>\n",
       "      <td>2240</td>\n",
       "      <td>59151</td>\n",
       "      <td>27.70</td>\n",
       "      <td>R</td>\n",
       "    </tr>\n",
       "    <tr>\n",
       "      <th>2</th>\n",
       "      <td>Alabama</td>\n",
       "      <td>AL</td>\n",
       "      <td>Associate Degree</td>\n",
       "      <td>2016</td>\n",
       "      <td>4687</td>\n",
       "      <td>59151</td>\n",
       "      <td>28.95</td>\n",
       "      <td>R</td>\n",
       "    </tr>\n",
       "    <tr>\n",
       "      <th>3</th>\n",
       "      <td>Alabama</td>\n",
       "      <td>AL</td>\n",
       "      <td>Bahcelor's Degree</td>\n",
       "      <td>2016</td>\n",
       "      <td>9098</td>\n",
       "      <td>59151</td>\n",
       "      <td>30.30</td>\n",
       "      <td>R</td>\n",
       "    </tr>\n",
       "    <tr>\n",
       "      <th>4</th>\n",
       "      <td>Alabama</td>\n",
       "      <td>AL</td>\n",
       "      <td>Doctorate</td>\n",
       "      <td>2016</td>\n",
       "      <td>998</td>\n",
       "      <td>59151</td>\n",
       "      <td>32.95</td>\n",
       "      <td>R</td>\n",
       "    </tr>\n",
       "  </tbody>\n",
       "</table>\n",
       "</div>"
      ],
      "text/plain": [
       "     State State Abbreviation Education Level of Mother  Year  \\\n",
       "0  Alabama                 AL          9th > 12th Grade  2016   \n",
       "1  Alabama                 AL               > 8th Grade  2016   \n",
       "2  Alabama                 AL          Associate Degree  2016   \n",
       "3  Alabama                 AL         Bahcelor's Degree  2016   \n",
       "4  Alabama                 AL                 Doctorate  2016   \n",
       "\n",
       "   Number of Births  Total Births in State  Average Age of Mother (years)  \\\n",
       "0              7093                  59151                          24.00   \n",
       "1              2240                  59151                          27.70   \n",
       "2              4687                  59151                          28.95   \n",
       "3              9098                  59151                          30.30   \n",
       "4               998                  59151                          32.95   \n",
       "\n",
       "  Political Party Governing  \n",
       "0                         R  \n",
       "1                         R  \n",
       "2                         R  \n",
       "3                         R  \n",
       "4                         R  "
      ]
     },
     "execution_count": 135,
     "metadata": {},
     "output_type": "execute_result"
    }
   ],
   "source": [
    "df = pd.read_csv('us_births_data.csv')\n",
    "df = df.drop('Unnamed: 0', axis = 1)\n",
    "df.head()"
   ]
  },
  {
   "cell_type": "code",
   "execution_count": 35,
   "metadata": {},
   "outputs": [
    {
     "data": {
      "text/plain": [
       "'Alabama'"
      ]
     },
     "execution_count": 35,
     "metadata": {},
     "output_type": "execute_result"
    }
   ],
   "source": [
    "test = df[(df['Year'] == 2016) & (df['State Abbreviation'] == 'AL')]\n",
    "test_value = test['State'][0]\n",
    "test_value"
   ]
  },
  {
   "cell_type": "code",
   "execution_count": 47,
   "metadata": {},
   "outputs": [
    {
     "data": {
      "text/html": [
       "<div>\n",
       "<style scoped>\n",
       "    .dataframe tbody tr th:only-of-type {\n",
       "        vertical-align: middle;\n",
       "    }\n",
       "\n",
       "    .dataframe tbody tr th {\n",
       "        vertical-align: top;\n",
       "    }\n",
       "\n",
       "    .dataframe thead th {\n",
       "        text-align: right;\n",
       "    }\n",
       "</style>\n",
       "<table border=\"1\" class=\"dataframe\">\n",
       "  <thead>\n",
       "    <tr style=\"text-align: right;\">\n",
       "      <th></th>\n",
       "      <th>Political Party</th>\n",
       "      <th>9th &gt; 12th Grade</th>\n",
       "      <th>&gt; 8th Grade</th>\n",
       "      <th>Associate Degree</th>\n",
       "      <th>Bahcelor's Degree</th>\n",
       "      <th>Doctorate</th>\n",
       "      <th>High School Grad</th>\n",
       "      <th>Master's Degree</th>\n",
       "      <th>Some College Credit</th>\n",
       "      <th>Unknown</th>\n",
       "    </tr>\n",
       "  </thead>\n",
       "  <tbody>\n",
       "  </tbody>\n",
       "</table>\n",
       "</div>"
      ],
      "text/plain": [
       "Empty DataFrame\n",
       "Columns: [Political Party, 9th > 12th Grade, > 8th Grade, Associate Degree, Bahcelor's Degree, Doctorate, High School Grad, Master's Degree, Some College Credit, Unknown]\n",
       "Index: []"
      ]
     },
     "execution_count": 47,
     "metadata": {},
     "output_type": "execute_result"
    }
   ],
   "source": [
    "ed_level_list = df['Education Level of Mother'].unique().tolist()\n",
    "party_list = df['Political Party Governing'].unique().tolist()\n",
    "ed_level_by_political_party = pd.DataFrame(columns = ed_level_list)\n",
    "new_column_name = 'Political Party'\n",
    "ed_level_by_political_party.insert(0, new_column_name, '')\n",
    "ed_level_by_political_party\n",
    "#ed_level_list"
   ]
  },
  {
   "cell_type": "code",
   "execution_count": 137,
   "metadata": {},
   "outputs": [
    {
     "data": {
      "text/html": [
       "<div>\n",
       "<style scoped>\n",
       "    .dataframe tbody tr th:only-of-type {\n",
       "        vertical-align: middle;\n",
       "    }\n",
       "\n",
       "    .dataframe tbody tr th {\n",
       "        vertical-align: top;\n",
       "    }\n",
       "\n",
       "    .dataframe thead th {\n",
       "        text-align: right;\n",
       "    }\n",
       "</style>\n",
       "<table border=\"1\" class=\"dataframe\">\n",
       "  <thead>\n",
       "    <tr style=\"text-align: right;\">\n",
       "      <th></th>\n",
       "      <th>Political Party</th>\n",
       "      <th>9th &gt; 12th Grade</th>\n",
       "      <th>&gt; 8th Grade</th>\n",
       "      <th>Associate Degree</th>\n",
       "      <th>Bahcelor's Degree</th>\n",
       "      <th>Doctorate</th>\n",
       "      <th>High School Grad</th>\n",
       "      <th>Master's Degree</th>\n",
       "      <th>Some College Credit</th>\n",
       "      <th>Unknown</th>\n",
       "    </tr>\n",
       "  </thead>\n",
       "  <tbody>\n",
       "    <tr>\n",
       "      <th>0</th>\n",
       "      <td>R</td>\n",
       "      <td>10.0</td>\n",
       "      <td>3.0</td>\n",
       "      <td>8.0</td>\n",
       "      <td>20.0</td>\n",
       "      <td>2.0</td>\n",
       "      <td>27.0</td>\n",
       "      <td>8.0</td>\n",
       "      <td>20.0</td>\n",
       "      <td>1.0</td>\n",
       "    </tr>\n",
       "    <tr>\n",
       "      <th>1</th>\n",
       "      <td>I</td>\n",
       "      <td>9.0</td>\n",
       "      <td>1.0</td>\n",
       "      <td>8.0</td>\n",
       "      <td>17.0</td>\n",
       "      <td>2.0</td>\n",
       "      <td>30.0</td>\n",
       "      <td>6.0</td>\n",
       "      <td>26.0</td>\n",
       "      <td>1.0</td>\n",
       "    </tr>\n",
       "    <tr>\n",
       "      <th>2</th>\n",
       "      <td>D</td>\n",
       "      <td>8.0</td>\n",
       "      <td>3.0</td>\n",
       "      <td>8.0</td>\n",
       "      <td>21.0</td>\n",
       "      <td>3.0</td>\n",
       "      <td>24.0</td>\n",
       "      <td>11.0</td>\n",
       "      <td>19.0</td>\n",
       "      <td>2.0</td>\n",
       "    </tr>\n",
       "  </tbody>\n",
       "</table>\n",
       "</div>"
      ],
      "text/plain": [
       "  Political Party 9th > 12th Grade > 8th Grade Associate Degree  \\\n",
       "0               R             10.0         3.0              8.0   \n",
       "1               I              9.0         1.0              8.0   \n",
       "2               D              8.0         3.0              8.0   \n",
       "\n",
       "  Bahcelor's Degree Doctorate High School Grad Master's Degree  \\\n",
       "0              20.0       2.0             27.0             8.0   \n",
       "1              17.0       2.0             30.0             6.0   \n",
       "2              21.0       3.0             24.0            11.0   \n",
       "\n",
       "  Some College Credit Unknown  \n",
       "0                20.0     1.0  \n",
       "1                26.0     1.0  \n",
       "2                19.0     2.0  "
      ]
     },
     "execution_count": 137,
     "metadata": {},
     "output_type": "execute_result"
    }
   ],
   "source": [
    "# Generate a dataframe that calculates the percentage of births by each level education based on political party.\n",
    "\n",
    "ed_level_list = df['Education Level of Mother'].unique().tolist()\n",
    "party_list = df['Political Party Governing'].unique().tolist()\n",
    "ed_level_by_political_party = pd.DataFrame(columns = ed_level_list)\n",
    "new_column_name = 'Political Party'\n",
    "ed_level_by_political_party.insert(0, new_column_name, '')\n",
    "ed_level_by_political_party\n",
    "\n",
    "\n",
    "for i, ed_level in enumerate(ed_level_list):\n",
    "    filtered_df = df[(df['Year'].between(2016, 2021)) & (df['Education Level of Mother'] == ed_level)]\n",
    "\n",
    "    for x, party in enumerate(party_list):\n",
    "        filtered_df_by_party = filtered_df[filtered_df['Political Party Governing'] == party]\n",
    "        percentage = (((filtered_df_by_party['Number of Births'].sum()) / (filtered_df_by_party['Total Births in State'].sum()))*100).round(0)\n",
    "\n",
    "        ed_level_by_political_party.loc[x, 'Political Party'] = party\n",
    "        ed_level_by_political_party.loc[x, ed_level] = percentage\n",
    "\n",
    "ed_level_by_political_party"
   ]
  },
  {
   "cell_type": "code",
   "execution_count": 138,
   "metadata": {},
   "outputs": [
    {
     "data": {
      "text/html": [
       "<div>\n",
       "<style scoped>\n",
       "    .dataframe tbody tr th:only-of-type {\n",
       "        vertical-align: middle;\n",
       "    }\n",
       "\n",
       "    .dataframe tbody tr th {\n",
       "        vertical-align: top;\n",
       "    }\n",
       "\n",
       "    .dataframe thead th {\n",
       "        text-align: right;\n",
       "    }\n",
       "</style>\n",
       "<table border=\"1\" class=\"dataframe\">\n",
       "  <thead>\n",
       "    <tr style=\"text-align: right;\">\n",
       "      <th></th>\n",
       "      <th>Education Level of Mother</th>\n",
       "      <th>Republican State</th>\n",
       "      <th>Independant State</th>\n",
       "      <th>Democratic State</th>\n",
       "    </tr>\n",
       "  </thead>\n",
       "  <tbody>\n",
       "    <tr>\n",
       "      <th>0</th>\n",
       "      <td>9th &gt; 12th Grade</td>\n",
       "      <td>10.0</td>\n",
       "      <td>9.0</td>\n",
       "      <td>8.0</td>\n",
       "    </tr>\n",
       "    <tr>\n",
       "      <th>1</th>\n",
       "      <td>&gt; 8th Grade</td>\n",
       "      <td>3.0</td>\n",
       "      <td>1.0</td>\n",
       "      <td>3.0</td>\n",
       "    </tr>\n",
       "    <tr>\n",
       "      <th>2</th>\n",
       "      <td>Associate Degree</td>\n",
       "      <td>8.0</td>\n",
       "      <td>8.0</td>\n",
       "      <td>8.0</td>\n",
       "    </tr>\n",
       "    <tr>\n",
       "      <th>3</th>\n",
       "      <td>Bahcelor's Degree</td>\n",
       "      <td>20.0</td>\n",
       "      <td>17.0</td>\n",
       "      <td>21.0</td>\n",
       "    </tr>\n",
       "    <tr>\n",
       "      <th>4</th>\n",
       "      <td>Doctorate</td>\n",
       "      <td>2.0</td>\n",
       "      <td>2.0</td>\n",
       "      <td>3.0</td>\n",
       "    </tr>\n",
       "    <tr>\n",
       "      <th>5</th>\n",
       "      <td>High School Grad</td>\n",
       "      <td>27.0</td>\n",
       "      <td>30.0</td>\n",
       "      <td>24.0</td>\n",
       "    </tr>\n",
       "    <tr>\n",
       "      <th>6</th>\n",
       "      <td>Master's Degree</td>\n",
       "      <td>8.0</td>\n",
       "      <td>6.0</td>\n",
       "      <td>11.0</td>\n",
       "    </tr>\n",
       "    <tr>\n",
       "      <th>7</th>\n",
       "      <td>Some College Credit</td>\n",
       "      <td>20.0</td>\n",
       "      <td>26.0</td>\n",
       "      <td>19.0</td>\n",
       "    </tr>\n",
       "    <tr>\n",
       "      <th>8</th>\n",
       "      <td>Unknown</td>\n",
       "      <td>1.0</td>\n",
       "      <td>1.0</td>\n",
       "      <td>2.0</td>\n",
       "    </tr>\n",
       "  </tbody>\n",
       "</table>\n",
       "</div>"
      ],
      "text/plain": [
       "  Education Level of Mother  Republican State  Independant State  \\\n",
       "0          9th > 12th Grade              10.0                9.0   \n",
       "1               > 8th Grade               3.0                1.0   \n",
       "2          Associate Degree               8.0                8.0   \n",
       "3         Bahcelor's Degree              20.0               17.0   \n",
       "4                 Doctorate               2.0                2.0   \n",
       "5          High School Grad              27.0               30.0   \n",
       "6           Master's Degree               8.0                6.0   \n",
       "7       Some College Credit              20.0               26.0   \n",
       "8                   Unknown               1.0                1.0   \n",
       "\n",
       "   Democratic State  \n",
       "0               8.0  \n",
       "1               3.0  \n",
       "2               8.0  \n",
       "3              21.0  \n",
       "4               3.0  \n",
       "5              24.0  \n",
       "6              11.0  \n",
       "7              19.0  \n",
       "8               2.0  "
      ]
     },
     "execution_count": 138,
     "metadata": {},
     "output_type": "execute_result"
    }
   ],
   "source": [
    "row_dataRep = ed_level_by_political_party.iloc[0].tolist()\n",
    "del row_dataRep[0]\n",
    "row_dataInd = ed_level_by_political_party.iloc[1].tolist()\n",
    "del row_dataInd[0]\n",
    "row_dataDem = ed_level_by_political_party.iloc[2].tolist()\n",
    "del row_dataDem[0]\n",
    "ed_level_list = df['Education Level of Mother'].unique().tolist()\n",
    "\n",
    "dataframe_final = pd.DataFrame({'Education Level of Mother': ed_level_list, 'Republican State': row_dataRep, 'Independant State': row_dataInd, 'Democratic State': row_dataDem})\n",
    "#dataframe_final.set_index('Education Level of Mother', inplace = True)\n",
    "dataframe_final\n",
    "\n"
   ]
  },
  {
   "cell_type": "code",
   "execution_count": 60,
   "metadata": {},
   "outputs": [
    {
     "data": {
      "application/vnd.plotly.v1+json": {
       "config": {
        "plotlyServerURL": "https://plot.ly"
       },
       "data": [
        {
         "hovertemplate": "<extra></extra>",
         "legendgroup": "",
         "line": {
          "color": "#636efa",
          "dash": "solid"
         },
         "marker": {
          "symbol": "circle"
         },
         "mode": "lines",
         "name": "",
         "orientation": "v",
         "showlegend": false,
         "type": "scatter",
         "xaxis": "x",
         "yaxis": "y"
        },
        {
         "name": "Republican State",
         "type": "scatter",
         "x": [
          "9th > 12th Grade",
          "> 8th Grade",
          "Associate Degree",
          "Bahcelor's Degree",
          "Doctorate",
          "High School Grad",
          "Master's Degree",
          "Some College Credit",
          "Unknown"
         ],
         "y": [
          0.09853652181170823,
          0.030929407381923225,
          0.0841961862845487,
          0.19862303985733684,
          0.024209418456233065,
          0.2693147567214343,
          0.08365159081239427,
          0.20382967548607875,
          0.006744330640162998
         ]
        },
        {
         "name": "Independant State",
         "type": "scatter",
         "x": [
          "9th > 12th Grade",
          "> 8th Grade",
          "Associate Degree",
          "Bahcelor's Degree",
          "Doctorate",
          "High School Grad",
          "Master's Degree",
          "Some College Credit",
          "Unknown"
         ],
         "y": [
          0.09048519218651543,
          0.0071518588531821045,
          0.08153749212350346,
          0.1672022684310019,
          0.018304977945809705,
          0.29817265280403277,
          0.0645872715816005,
          0.2580340264650284,
          0.014524259609325772
         ]
        },
        {
         "name": "Democratic State",
         "type": "scatter",
         "x": [
          "9th > 12th Grade",
          "> 8th Grade",
          "Associate Degree",
          "Bahcelor's Degree",
          "Doctorate",
          "High School Grad",
          "Master's Degree",
          "Some College Credit",
          "Unknown"
         ],
         "y": [
          0.08471593790234579,
          0.0319084654869629,
          0.08093029027330687,
          0.21453274673972486,
          0.03156624902861448,
          0.2387319768112255,
          0.10928069963559996,
          0.18599562064388592,
          0.022361522825339146
         ]
        }
       ],
       "layout": {
        "legend": {
         "tracegroupgap": 0
        },
        "margin": {
         "t": 60
        },
        "plot_bgcolor": "rgba(0,0,0,0)",
        "template": {
         "data": {
          "bar": [
           {
            "error_x": {
             "color": "#2a3f5f"
            },
            "error_y": {
             "color": "#2a3f5f"
            },
            "marker": {
             "line": {
              "color": "#E5ECF6",
              "width": 0.5
             },
             "pattern": {
              "fillmode": "overlay",
              "size": 10,
              "solidity": 0.2
             }
            },
            "type": "bar"
           }
          ],
          "barpolar": [
           {
            "marker": {
             "line": {
              "color": "#E5ECF6",
              "width": 0.5
             },
             "pattern": {
              "fillmode": "overlay",
              "size": 10,
              "solidity": 0.2
             }
            },
            "type": "barpolar"
           }
          ],
          "carpet": [
           {
            "aaxis": {
             "endlinecolor": "#2a3f5f",
             "gridcolor": "white",
             "linecolor": "white",
             "minorgridcolor": "white",
             "startlinecolor": "#2a3f5f"
            },
            "baxis": {
             "endlinecolor": "#2a3f5f",
             "gridcolor": "white",
             "linecolor": "white",
             "minorgridcolor": "white",
             "startlinecolor": "#2a3f5f"
            },
            "type": "carpet"
           }
          ],
          "choropleth": [
           {
            "colorbar": {
             "outlinewidth": 0,
             "ticks": ""
            },
            "type": "choropleth"
           }
          ],
          "contour": [
           {
            "colorbar": {
             "outlinewidth": 0,
             "ticks": ""
            },
            "colorscale": [
             [
              0,
              "#0d0887"
             ],
             [
              0.1111111111111111,
              "#46039f"
             ],
             [
              0.2222222222222222,
              "#7201a8"
             ],
             [
              0.3333333333333333,
              "#9c179e"
             ],
             [
              0.4444444444444444,
              "#bd3786"
             ],
             [
              0.5555555555555556,
              "#d8576b"
             ],
             [
              0.6666666666666666,
              "#ed7953"
             ],
             [
              0.7777777777777778,
              "#fb9f3a"
             ],
             [
              0.8888888888888888,
              "#fdca26"
             ],
             [
              1,
              "#f0f921"
             ]
            ],
            "type": "contour"
           }
          ],
          "contourcarpet": [
           {
            "colorbar": {
             "outlinewidth": 0,
             "ticks": ""
            },
            "type": "contourcarpet"
           }
          ],
          "heatmap": [
           {
            "colorbar": {
             "outlinewidth": 0,
             "ticks": ""
            },
            "colorscale": [
             [
              0,
              "#0d0887"
             ],
             [
              0.1111111111111111,
              "#46039f"
             ],
             [
              0.2222222222222222,
              "#7201a8"
             ],
             [
              0.3333333333333333,
              "#9c179e"
             ],
             [
              0.4444444444444444,
              "#bd3786"
             ],
             [
              0.5555555555555556,
              "#d8576b"
             ],
             [
              0.6666666666666666,
              "#ed7953"
             ],
             [
              0.7777777777777778,
              "#fb9f3a"
             ],
             [
              0.8888888888888888,
              "#fdca26"
             ],
             [
              1,
              "#f0f921"
             ]
            ],
            "type": "heatmap"
           }
          ],
          "heatmapgl": [
           {
            "colorbar": {
             "outlinewidth": 0,
             "ticks": ""
            },
            "colorscale": [
             [
              0,
              "#0d0887"
             ],
             [
              0.1111111111111111,
              "#46039f"
             ],
             [
              0.2222222222222222,
              "#7201a8"
             ],
             [
              0.3333333333333333,
              "#9c179e"
             ],
             [
              0.4444444444444444,
              "#bd3786"
             ],
             [
              0.5555555555555556,
              "#d8576b"
             ],
             [
              0.6666666666666666,
              "#ed7953"
             ],
             [
              0.7777777777777778,
              "#fb9f3a"
             ],
             [
              0.8888888888888888,
              "#fdca26"
             ],
             [
              1,
              "#f0f921"
             ]
            ],
            "type": "heatmapgl"
           }
          ],
          "histogram": [
           {
            "marker": {
             "pattern": {
              "fillmode": "overlay",
              "size": 10,
              "solidity": 0.2
             }
            },
            "type": "histogram"
           }
          ],
          "histogram2d": [
           {
            "colorbar": {
             "outlinewidth": 0,
             "ticks": ""
            },
            "colorscale": [
             [
              0,
              "#0d0887"
             ],
             [
              0.1111111111111111,
              "#46039f"
             ],
             [
              0.2222222222222222,
              "#7201a8"
             ],
             [
              0.3333333333333333,
              "#9c179e"
             ],
             [
              0.4444444444444444,
              "#bd3786"
             ],
             [
              0.5555555555555556,
              "#d8576b"
             ],
             [
              0.6666666666666666,
              "#ed7953"
             ],
             [
              0.7777777777777778,
              "#fb9f3a"
             ],
             [
              0.8888888888888888,
              "#fdca26"
             ],
             [
              1,
              "#f0f921"
             ]
            ],
            "type": "histogram2d"
           }
          ],
          "histogram2dcontour": [
           {
            "colorbar": {
             "outlinewidth": 0,
             "ticks": ""
            },
            "colorscale": [
             [
              0,
              "#0d0887"
             ],
             [
              0.1111111111111111,
              "#46039f"
             ],
             [
              0.2222222222222222,
              "#7201a8"
             ],
             [
              0.3333333333333333,
              "#9c179e"
             ],
             [
              0.4444444444444444,
              "#bd3786"
             ],
             [
              0.5555555555555556,
              "#d8576b"
             ],
             [
              0.6666666666666666,
              "#ed7953"
             ],
             [
              0.7777777777777778,
              "#fb9f3a"
             ],
             [
              0.8888888888888888,
              "#fdca26"
             ],
             [
              1,
              "#f0f921"
             ]
            ],
            "type": "histogram2dcontour"
           }
          ],
          "mesh3d": [
           {
            "colorbar": {
             "outlinewidth": 0,
             "ticks": ""
            },
            "type": "mesh3d"
           }
          ],
          "parcoords": [
           {
            "line": {
             "colorbar": {
              "outlinewidth": 0,
              "ticks": ""
             }
            },
            "type": "parcoords"
           }
          ],
          "pie": [
           {
            "automargin": true,
            "type": "pie"
           }
          ],
          "scatter": [
           {
            "fillpattern": {
             "fillmode": "overlay",
             "size": 10,
             "solidity": 0.2
            },
            "type": "scatter"
           }
          ],
          "scatter3d": [
           {
            "line": {
             "colorbar": {
              "outlinewidth": 0,
              "ticks": ""
             }
            },
            "marker": {
             "colorbar": {
              "outlinewidth": 0,
              "ticks": ""
             }
            },
            "type": "scatter3d"
           }
          ],
          "scattercarpet": [
           {
            "marker": {
             "colorbar": {
              "outlinewidth": 0,
              "ticks": ""
             }
            },
            "type": "scattercarpet"
           }
          ],
          "scattergeo": [
           {
            "marker": {
             "colorbar": {
              "outlinewidth": 0,
              "ticks": ""
             }
            },
            "type": "scattergeo"
           }
          ],
          "scattergl": [
           {
            "marker": {
             "colorbar": {
              "outlinewidth": 0,
              "ticks": ""
             }
            },
            "type": "scattergl"
           }
          ],
          "scattermapbox": [
           {
            "marker": {
             "colorbar": {
              "outlinewidth": 0,
              "ticks": ""
             }
            },
            "type": "scattermapbox"
           }
          ],
          "scatterpolar": [
           {
            "marker": {
             "colorbar": {
              "outlinewidth": 0,
              "ticks": ""
             }
            },
            "type": "scatterpolar"
           }
          ],
          "scatterpolargl": [
           {
            "marker": {
             "colorbar": {
              "outlinewidth": 0,
              "ticks": ""
             }
            },
            "type": "scatterpolargl"
           }
          ],
          "scatterternary": [
           {
            "marker": {
             "colorbar": {
              "outlinewidth": 0,
              "ticks": ""
             }
            },
            "type": "scatterternary"
           }
          ],
          "surface": [
           {
            "colorbar": {
             "outlinewidth": 0,
             "ticks": ""
            },
            "colorscale": [
             [
              0,
              "#0d0887"
             ],
             [
              0.1111111111111111,
              "#46039f"
             ],
             [
              0.2222222222222222,
              "#7201a8"
             ],
             [
              0.3333333333333333,
              "#9c179e"
             ],
             [
              0.4444444444444444,
              "#bd3786"
             ],
             [
              0.5555555555555556,
              "#d8576b"
             ],
             [
              0.6666666666666666,
              "#ed7953"
             ],
             [
              0.7777777777777778,
              "#fb9f3a"
             ],
             [
              0.8888888888888888,
              "#fdca26"
             ],
             [
              1,
              "#f0f921"
             ]
            ],
            "type": "surface"
           }
          ],
          "table": [
           {
            "cells": {
             "fill": {
              "color": "#EBF0F8"
             },
             "line": {
              "color": "white"
             }
            },
            "header": {
             "fill": {
              "color": "#C8D4E3"
             },
             "line": {
              "color": "white"
             }
            },
            "type": "table"
           }
          ]
         },
         "layout": {
          "annotationdefaults": {
           "arrowcolor": "#2a3f5f",
           "arrowhead": 0,
           "arrowwidth": 1
          },
          "autotypenumbers": "strict",
          "coloraxis": {
           "colorbar": {
            "outlinewidth": 0,
            "ticks": ""
           }
          },
          "colorscale": {
           "diverging": [
            [
             0,
             "#8e0152"
            ],
            [
             0.1,
             "#c51b7d"
            ],
            [
             0.2,
             "#de77ae"
            ],
            [
             0.3,
             "#f1b6da"
            ],
            [
             0.4,
             "#fde0ef"
            ],
            [
             0.5,
             "#f7f7f7"
            ],
            [
             0.6,
             "#e6f5d0"
            ],
            [
             0.7,
             "#b8e186"
            ],
            [
             0.8,
             "#7fbc41"
            ],
            [
             0.9,
             "#4d9221"
            ],
            [
             1,
             "#276419"
            ]
           ],
           "sequential": [
            [
             0,
             "#0d0887"
            ],
            [
             0.1111111111111111,
             "#46039f"
            ],
            [
             0.2222222222222222,
             "#7201a8"
            ],
            [
             0.3333333333333333,
             "#9c179e"
            ],
            [
             0.4444444444444444,
             "#bd3786"
            ],
            [
             0.5555555555555556,
             "#d8576b"
            ],
            [
             0.6666666666666666,
             "#ed7953"
            ],
            [
             0.7777777777777778,
             "#fb9f3a"
            ],
            [
             0.8888888888888888,
             "#fdca26"
            ],
            [
             1,
             "#f0f921"
            ]
           ],
           "sequentialminus": [
            [
             0,
             "#0d0887"
            ],
            [
             0.1111111111111111,
             "#46039f"
            ],
            [
             0.2222222222222222,
             "#7201a8"
            ],
            [
             0.3333333333333333,
             "#9c179e"
            ],
            [
             0.4444444444444444,
             "#bd3786"
            ],
            [
             0.5555555555555556,
             "#d8576b"
            ],
            [
             0.6666666666666666,
             "#ed7953"
            ],
            [
             0.7777777777777778,
             "#fb9f3a"
            ],
            [
             0.8888888888888888,
             "#fdca26"
            ],
            [
             1,
             "#f0f921"
            ]
           ]
          },
          "colorway": [
           "#636efa",
           "#EF553B",
           "#00cc96",
           "#ab63fa",
           "#FFA15A",
           "#19d3f3",
           "#FF6692",
           "#B6E880",
           "#FF97FF",
           "#FECB52"
          ],
          "font": {
           "color": "#2a3f5f"
          },
          "geo": {
           "bgcolor": "white",
           "lakecolor": "white",
           "landcolor": "#E5ECF6",
           "showlakes": true,
           "showland": true,
           "subunitcolor": "white"
          },
          "hoverlabel": {
           "align": "left"
          },
          "hovermode": "closest",
          "mapbox": {
           "style": "light"
          },
          "paper_bgcolor": "white",
          "plot_bgcolor": "#E5ECF6",
          "polar": {
           "angularaxis": {
            "gridcolor": "white",
            "linecolor": "white",
            "ticks": ""
           },
           "bgcolor": "#E5ECF6",
           "radialaxis": {
            "gridcolor": "white",
            "linecolor": "white",
            "ticks": ""
           }
          },
          "scene": {
           "xaxis": {
            "backgroundcolor": "#E5ECF6",
            "gridcolor": "white",
            "gridwidth": 2,
            "linecolor": "white",
            "showbackground": true,
            "ticks": "",
            "zerolinecolor": "white"
           },
           "yaxis": {
            "backgroundcolor": "#E5ECF6",
            "gridcolor": "white",
            "gridwidth": 2,
            "linecolor": "white",
            "showbackground": true,
            "ticks": "",
            "zerolinecolor": "white"
           },
           "zaxis": {
            "backgroundcolor": "#E5ECF6",
            "gridcolor": "white",
            "gridwidth": 2,
            "linecolor": "white",
            "showbackground": true,
            "ticks": "",
            "zerolinecolor": "white"
           }
          },
          "shapedefaults": {
           "line": {
            "color": "#2a3f5f"
           }
          },
          "ternary": {
           "aaxis": {
            "gridcolor": "white",
            "linecolor": "white",
            "ticks": ""
           },
           "baxis": {
            "gridcolor": "white",
            "linecolor": "white",
            "ticks": ""
           },
           "bgcolor": "#E5ECF6",
           "caxis": {
            "gridcolor": "white",
            "linecolor": "white",
            "ticks": ""
           }
          },
          "title": {
           "x": 0.05
          },
          "xaxis": {
           "automargin": true,
           "gridcolor": "white",
           "linecolor": "white",
           "ticks": "",
           "title": {
            "standoff": 15
           },
           "zerolinecolor": "white",
           "zerolinewidth": 2
          },
          "yaxis": {
           "automargin": true,
           "gridcolor": "white",
           "linecolor": "white",
           "ticks": "",
           "title": {
            "standoff": 15
           },
           "zerolinecolor": "white",
           "zerolinewidth": 2
          }
         }
        },
        "title": {
         "text": "Percentage of Births by Education Level and Political Ideology"
        },
        "xaxis": {
         "anchor": "y",
         "domain": [
          0,
          1
         ],
         "visible": true
        },
        "yaxis": {
         "anchor": "x",
         "domain": [
          0,
          1
         ],
         "tickformat": ".0%"
        }
       }
      }
     },
     "metadata": {},
     "output_type": "display_data"
    }
   ],
   "source": [
    "# Create a line chart with multiple lines\n",
    "fig = px.line()\n",
    "\n",
    "# Add lines to the chart for each column\n",
    "for col in dataframe_final.columns:\n",
    "    fig.add_scatter(x = dataframe_final.index, y = dataframe_final[col], name = col)\n",
    "\n",
    "# Update the chart layout\n",
    "fig.update_layout(\n",
    "    title = 'Percentage of Births by Education Level and Political Ideology',\n",
    "    yaxis_tickformat='.0%',\n",
    "    xaxis_visible = True,\n",
    "    plot_bgcolor = 'rgba(0,0,0,0)' )\n",
    "\n",
    "# Display the figure\n",
    "fig.show()"
   ]
  },
  {
   "cell_type": "code",
   "execution_count": 143,
   "metadata": {},
   "outputs": [
    {
     "data": {
      "text/html": [
       "<div>\n",
       "<style scoped>\n",
       "    .dataframe tbody tr th:only-of-type {\n",
       "        vertical-align: middle;\n",
       "    }\n",
       "\n",
       "    .dataframe tbody tr th {\n",
       "        vertical-align: top;\n",
       "    }\n",
       "\n",
       "    .dataframe thead th {\n",
       "        text-align: right;\n",
       "    }\n",
       "</style>\n",
       "<table border=\"1\" class=\"dataframe\">\n",
       "  <thead>\n",
       "    <tr style=\"text-align: right;\">\n",
       "      <th></th>\n",
       "      <th>Education Level of Mother</th>\n",
       "      <th>Percentage</th>\n",
       "    </tr>\n",
       "  </thead>\n",
       "  <tbody>\n",
       "    <tr>\n",
       "      <th>0</th>\n",
       "      <td>Higher Ed Level</td>\n",
       "      <td>59.0</td>\n",
       "    </tr>\n",
       "    <tr>\n",
       "      <th>1</th>\n",
       "      <td>Lower Ed Level</td>\n",
       "      <td>41.0</td>\n",
       "    </tr>\n",
       "  </tbody>\n",
       "</table>\n",
       "</div>"
      ],
      "text/plain": [
       "  Education Level of Mother  Percentage\n",
       "0           Higher Ed Level        59.0\n",
       "1            Lower Ed Level        41.0"
      ]
     },
     "execution_count": 143,
     "metadata": {},
     "output_type": "execute_result"
    }
   ],
   "source": [
    "# Find percentage of higher ed and lower ed by state\n",
    "\n",
    "state = 'Alaska'\n",
    "\n",
    "lower_ed = ['Unknown', '> 8th Grade', '9th > 12th Grade', 'High School Grad']\n",
    "higher_ed = ['Some College Credit', 'Associate Degree', \"Bahcelor's Degree\", \"Master's Degree\", 'Doctorate']\n",
    "\n",
    "low_ed_level_df = df[(df['Year'].between(2016, 2021)) & (df['State'] == state) & df['Education Level of Mother'].isin(lower_ed)].reset_index()\n",
    "high_ed_level_df = df[(df['Year'].between(2016, 2021)) & (df['State'] == state) & df['Education Level of Mother'].isin(higher_ed)].reset_index()\n",
    "percentage_lower_ed = ((low_ed_level_df['Number of Births'].sum() / low_ed_level_df['Total Births in State'].unique().sum()) * 100).round(0)\n",
    "percentage_higher_ed = ((high_ed_level_df['Number of Births'].sum() / high_ed_level_df['Total Births in State'].unique().sum()) * 100).round(0)\n",
    "\n",
    "ed_level_df = pd.DataFrame({'Education Level of Mother': ['Higher Ed Level', 'Lower Ed Level'], 'Percentage': [percentage_higher_ed, percentage_lower_ed]})\n",
    "ed_level_df"
   ]
  },
  {
   "cell_type": "code",
   "execution_count": 144,
   "metadata": {},
   "outputs": [
    {
     "data": {
      "application/vnd.plotly.v1+json": {
       "config": {
        "plotlyServerURL": "https://plot.ly"
       },
       "data": [
        {
         "alignmentgroup": "True",
         "cliponaxis": false,
         "hovertemplate": "Education Level of Mother=%{x}<br>Percentage=%{text}<extra></extra>",
         "legendgroup": "",
         "marker": {
          "color": "#636efa",
          "pattern": {
           "shape": ""
          }
         },
         "name": "",
         "offsetgroup": "",
         "orientation": "v",
         "showlegend": false,
         "text": [
          59,
          41
         ],
         "textposition": "outside",
         "texttemplate": "%{text}%",
         "type": "bar",
         "x": [
          "Higher Ed Level",
          "Lower Ed Level"
         ],
         "xaxis": "x",
         "y": [
          59,
          41
         ],
         "yaxis": "y"
        }
       ],
       "layout": {
        "barmode": "relative",
        "legend": {
         "tracegroupgap": 0
        },
        "margin": {
         "t": 60
        },
        "plot_bgcolor": "rgba(0,0,0,0)",
        "template": {
         "data": {
          "bar": [
           {
            "error_x": {
             "color": "#2a3f5f"
            },
            "error_y": {
             "color": "#2a3f5f"
            },
            "marker": {
             "line": {
              "color": "#E5ECF6",
              "width": 0.5
             },
             "pattern": {
              "fillmode": "overlay",
              "size": 10,
              "solidity": 0.2
             }
            },
            "type": "bar"
           }
          ],
          "barpolar": [
           {
            "marker": {
             "line": {
              "color": "#E5ECF6",
              "width": 0.5
             },
             "pattern": {
              "fillmode": "overlay",
              "size": 10,
              "solidity": 0.2
             }
            },
            "type": "barpolar"
           }
          ],
          "carpet": [
           {
            "aaxis": {
             "endlinecolor": "#2a3f5f",
             "gridcolor": "white",
             "linecolor": "white",
             "minorgridcolor": "white",
             "startlinecolor": "#2a3f5f"
            },
            "baxis": {
             "endlinecolor": "#2a3f5f",
             "gridcolor": "white",
             "linecolor": "white",
             "minorgridcolor": "white",
             "startlinecolor": "#2a3f5f"
            },
            "type": "carpet"
           }
          ],
          "choropleth": [
           {
            "colorbar": {
             "outlinewidth": 0,
             "ticks": ""
            },
            "type": "choropleth"
           }
          ],
          "contour": [
           {
            "colorbar": {
             "outlinewidth": 0,
             "ticks": ""
            },
            "colorscale": [
             [
              0,
              "#0d0887"
             ],
             [
              0.1111111111111111,
              "#46039f"
             ],
             [
              0.2222222222222222,
              "#7201a8"
             ],
             [
              0.3333333333333333,
              "#9c179e"
             ],
             [
              0.4444444444444444,
              "#bd3786"
             ],
             [
              0.5555555555555556,
              "#d8576b"
             ],
             [
              0.6666666666666666,
              "#ed7953"
             ],
             [
              0.7777777777777778,
              "#fb9f3a"
             ],
             [
              0.8888888888888888,
              "#fdca26"
             ],
             [
              1,
              "#f0f921"
             ]
            ],
            "type": "contour"
           }
          ],
          "contourcarpet": [
           {
            "colorbar": {
             "outlinewidth": 0,
             "ticks": ""
            },
            "type": "contourcarpet"
           }
          ],
          "heatmap": [
           {
            "colorbar": {
             "outlinewidth": 0,
             "ticks": ""
            },
            "colorscale": [
             [
              0,
              "#0d0887"
             ],
             [
              0.1111111111111111,
              "#46039f"
             ],
             [
              0.2222222222222222,
              "#7201a8"
             ],
             [
              0.3333333333333333,
              "#9c179e"
             ],
             [
              0.4444444444444444,
              "#bd3786"
             ],
             [
              0.5555555555555556,
              "#d8576b"
             ],
             [
              0.6666666666666666,
              "#ed7953"
             ],
             [
              0.7777777777777778,
              "#fb9f3a"
             ],
             [
              0.8888888888888888,
              "#fdca26"
             ],
             [
              1,
              "#f0f921"
             ]
            ],
            "type": "heatmap"
           }
          ],
          "heatmapgl": [
           {
            "colorbar": {
             "outlinewidth": 0,
             "ticks": ""
            },
            "colorscale": [
             [
              0,
              "#0d0887"
             ],
             [
              0.1111111111111111,
              "#46039f"
             ],
             [
              0.2222222222222222,
              "#7201a8"
             ],
             [
              0.3333333333333333,
              "#9c179e"
             ],
             [
              0.4444444444444444,
              "#bd3786"
             ],
             [
              0.5555555555555556,
              "#d8576b"
             ],
             [
              0.6666666666666666,
              "#ed7953"
             ],
             [
              0.7777777777777778,
              "#fb9f3a"
             ],
             [
              0.8888888888888888,
              "#fdca26"
             ],
             [
              1,
              "#f0f921"
             ]
            ],
            "type": "heatmapgl"
           }
          ],
          "histogram": [
           {
            "marker": {
             "pattern": {
              "fillmode": "overlay",
              "size": 10,
              "solidity": 0.2
             }
            },
            "type": "histogram"
           }
          ],
          "histogram2d": [
           {
            "colorbar": {
             "outlinewidth": 0,
             "ticks": ""
            },
            "colorscale": [
             [
              0,
              "#0d0887"
             ],
             [
              0.1111111111111111,
              "#46039f"
             ],
             [
              0.2222222222222222,
              "#7201a8"
             ],
             [
              0.3333333333333333,
              "#9c179e"
             ],
             [
              0.4444444444444444,
              "#bd3786"
             ],
             [
              0.5555555555555556,
              "#d8576b"
             ],
             [
              0.6666666666666666,
              "#ed7953"
             ],
             [
              0.7777777777777778,
              "#fb9f3a"
             ],
             [
              0.8888888888888888,
              "#fdca26"
             ],
             [
              1,
              "#f0f921"
             ]
            ],
            "type": "histogram2d"
           }
          ],
          "histogram2dcontour": [
           {
            "colorbar": {
             "outlinewidth": 0,
             "ticks": ""
            },
            "colorscale": [
             [
              0,
              "#0d0887"
             ],
             [
              0.1111111111111111,
              "#46039f"
             ],
             [
              0.2222222222222222,
              "#7201a8"
             ],
             [
              0.3333333333333333,
              "#9c179e"
             ],
             [
              0.4444444444444444,
              "#bd3786"
             ],
             [
              0.5555555555555556,
              "#d8576b"
             ],
             [
              0.6666666666666666,
              "#ed7953"
             ],
             [
              0.7777777777777778,
              "#fb9f3a"
             ],
             [
              0.8888888888888888,
              "#fdca26"
             ],
             [
              1,
              "#f0f921"
             ]
            ],
            "type": "histogram2dcontour"
           }
          ],
          "mesh3d": [
           {
            "colorbar": {
             "outlinewidth": 0,
             "ticks": ""
            },
            "type": "mesh3d"
           }
          ],
          "parcoords": [
           {
            "line": {
             "colorbar": {
              "outlinewidth": 0,
              "ticks": ""
             }
            },
            "type": "parcoords"
           }
          ],
          "pie": [
           {
            "automargin": true,
            "type": "pie"
           }
          ],
          "scatter": [
           {
            "fillpattern": {
             "fillmode": "overlay",
             "size": 10,
             "solidity": 0.2
            },
            "type": "scatter"
           }
          ],
          "scatter3d": [
           {
            "line": {
             "colorbar": {
              "outlinewidth": 0,
              "ticks": ""
             }
            },
            "marker": {
             "colorbar": {
              "outlinewidth": 0,
              "ticks": ""
             }
            },
            "type": "scatter3d"
           }
          ],
          "scattercarpet": [
           {
            "marker": {
             "colorbar": {
              "outlinewidth": 0,
              "ticks": ""
             }
            },
            "type": "scattercarpet"
           }
          ],
          "scattergeo": [
           {
            "marker": {
             "colorbar": {
              "outlinewidth": 0,
              "ticks": ""
             }
            },
            "type": "scattergeo"
           }
          ],
          "scattergl": [
           {
            "marker": {
             "colorbar": {
              "outlinewidth": 0,
              "ticks": ""
             }
            },
            "type": "scattergl"
           }
          ],
          "scattermapbox": [
           {
            "marker": {
             "colorbar": {
              "outlinewidth": 0,
              "ticks": ""
             }
            },
            "type": "scattermapbox"
           }
          ],
          "scatterpolar": [
           {
            "marker": {
             "colorbar": {
              "outlinewidth": 0,
              "ticks": ""
             }
            },
            "type": "scatterpolar"
           }
          ],
          "scatterpolargl": [
           {
            "marker": {
             "colorbar": {
              "outlinewidth": 0,
              "ticks": ""
             }
            },
            "type": "scatterpolargl"
           }
          ],
          "scatterternary": [
           {
            "marker": {
             "colorbar": {
              "outlinewidth": 0,
              "ticks": ""
             }
            },
            "type": "scatterternary"
           }
          ],
          "surface": [
           {
            "colorbar": {
             "outlinewidth": 0,
             "ticks": ""
            },
            "colorscale": [
             [
              0,
              "#0d0887"
             ],
             [
              0.1111111111111111,
              "#46039f"
             ],
             [
              0.2222222222222222,
              "#7201a8"
             ],
             [
              0.3333333333333333,
              "#9c179e"
             ],
             [
              0.4444444444444444,
              "#bd3786"
             ],
             [
              0.5555555555555556,
              "#d8576b"
             ],
             [
              0.6666666666666666,
              "#ed7953"
             ],
             [
              0.7777777777777778,
              "#fb9f3a"
             ],
             [
              0.8888888888888888,
              "#fdca26"
             ],
             [
              1,
              "#f0f921"
             ]
            ],
            "type": "surface"
           }
          ],
          "table": [
           {
            "cells": {
             "fill": {
              "color": "#EBF0F8"
             },
             "line": {
              "color": "white"
             }
            },
            "header": {
             "fill": {
              "color": "#C8D4E3"
             },
             "line": {
              "color": "white"
             }
            },
            "type": "table"
           }
          ]
         },
         "layout": {
          "annotationdefaults": {
           "arrowcolor": "#2a3f5f",
           "arrowhead": 0,
           "arrowwidth": 1
          },
          "autotypenumbers": "strict",
          "coloraxis": {
           "colorbar": {
            "outlinewidth": 0,
            "ticks": ""
           }
          },
          "colorscale": {
           "diverging": [
            [
             0,
             "#8e0152"
            ],
            [
             0.1,
             "#c51b7d"
            ],
            [
             0.2,
             "#de77ae"
            ],
            [
             0.3,
             "#f1b6da"
            ],
            [
             0.4,
             "#fde0ef"
            ],
            [
             0.5,
             "#f7f7f7"
            ],
            [
             0.6,
             "#e6f5d0"
            ],
            [
             0.7,
             "#b8e186"
            ],
            [
             0.8,
             "#7fbc41"
            ],
            [
             0.9,
             "#4d9221"
            ],
            [
             1,
             "#276419"
            ]
           ],
           "sequential": [
            [
             0,
             "#0d0887"
            ],
            [
             0.1111111111111111,
             "#46039f"
            ],
            [
             0.2222222222222222,
             "#7201a8"
            ],
            [
             0.3333333333333333,
             "#9c179e"
            ],
            [
             0.4444444444444444,
             "#bd3786"
            ],
            [
             0.5555555555555556,
             "#d8576b"
            ],
            [
             0.6666666666666666,
             "#ed7953"
            ],
            [
             0.7777777777777778,
             "#fb9f3a"
            ],
            [
             0.8888888888888888,
             "#fdca26"
            ],
            [
             1,
             "#f0f921"
            ]
           ],
           "sequentialminus": [
            [
             0,
             "#0d0887"
            ],
            [
             0.1111111111111111,
             "#46039f"
            ],
            [
             0.2222222222222222,
             "#7201a8"
            ],
            [
             0.3333333333333333,
             "#9c179e"
            ],
            [
             0.4444444444444444,
             "#bd3786"
            ],
            [
             0.5555555555555556,
             "#d8576b"
            ],
            [
             0.6666666666666666,
             "#ed7953"
            ],
            [
             0.7777777777777778,
             "#fb9f3a"
            ],
            [
             0.8888888888888888,
             "#fdca26"
            ],
            [
             1,
             "#f0f921"
            ]
           ]
          },
          "colorway": [
           "#636efa",
           "#EF553B",
           "#00cc96",
           "#ab63fa",
           "#FFA15A",
           "#19d3f3",
           "#FF6692",
           "#B6E880",
           "#FF97FF",
           "#FECB52"
          ],
          "font": {
           "color": "#2a3f5f"
          },
          "geo": {
           "bgcolor": "white",
           "lakecolor": "white",
           "landcolor": "#E5ECF6",
           "showlakes": true,
           "showland": true,
           "subunitcolor": "white"
          },
          "hoverlabel": {
           "align": "left"
          },
          "hovermode": "closest",
          "mapbox": {
           "style": "light"
          },
          "paper_bgcolor": "white",
          "plot_bgcolor": "#E5ECF6",
          "polar": {
           "angularaxis": {
            "gridcolor": "white",
            "linecolor": "white",
            "ticks": ""
           },
           "bgcolor": "#E5ECF6",
           "radialaxis": {
            "gridcolor": "white",
            "linecolor": "white",
            "ticks": ""
           }
          },
          "scene": {
           "xaxis": {
            "backgroundcolor": "#E5ECF6",
            "gridcolor": "white",
            "gridwidth": 2,
            "linecolor": "white",
            "showbackground": true,
            "ticks": "",
            "zerolinecolor": "white"
           },
           "yaxis": {
            "backgroundcolor": "#E5ECF6",
            "gridcolor": "white",
            "gridwidth": 2,
            "linecolor": "white",
            "showbackground": true,
            "ticks": "",
            "zerolinecolor": "white"
           },
           "zaxis": {
            "backgroundcolor": "#E5ECF6",
            "gridcolor": "white",
            "gridwidth": 2,
            "linecolor": "white",
            "showbackground": true,
            "ticks": "",
            "zerolinecolor": "white"
           }
          },
          "shapedefaults": {
           "line": {
            "color": "#2a3f5f"
           }
          },
          "ternary": {
           "aaxis": {
            "gridcolor": "white",
            "linecolor": "white",
            "ticks": ""
           },
           "baxis": {
            "gridcolor": "white",
            "linecolor": "white",
            "ticks": ""
           },
           "bgcolor": "#E5ECF6",
           "caxis": {
            "gridcolor": "white",
            "linecolor": "white",
            "ticks": ""
           }
          },
          "title": {
           "x": 0.05
          },
          "xaxis": {
           "automargin": true,
           "gridcolor": "white",
           "linecolor": "white",
           "ticks": "",
           "title": {
            "standoff": 15
           },
           "zerolinecolor": "white",
           "zerolinewidth": 2
          },
          "yaxis": {
           "automargin": true,
           "gridcolor": "white",
           "linecolor": "white",
           "ticks": "",
           "title": {
            "standoff": 15
           },
           "zerolinecolor": "white",
           "zerolinewidth": 2
          }
         }
        },
        "title": {
         "text": "Percentage of Births by Education Level<br>State: Texas  /  Year: 2016 - 2018"
        },
        "xaxis": {
         "anchor": "y",
         "domain": [
          0,
          1
         ],
         "title": {
          "text": ""
         },
         "visible": true
        },
        "yaxis": {
         "anchor": "x",
         "domain": [
          0,
          1
         ],
         "title": {
          "text": "False"
         },
         "visible": false
        }
       }
      }
     },
     "metadata": {},
     "output_type": "display_data"
    }
   ],
   "source": [
    "fig = px.bar(ed_level_df, x = 'Education Level of Mother', y = 'Percentage', text = 'Percentage')\n",
    "fig.update_layout(\n",
    "    title = ('Percentage of Births by Education Level<br>' + 'State: ' + 'Texas' + '  /  ' + 'Year: ' + '2016 - 2018'),\n",
    "    xaxis_title = \"\",\n",
    "    yaxis_title = False,\n",
    "    yaxis_visible = False,\n",
    "    xaxis_visible = True,\n",
    "    plot_bgcolor = 'rgba(0,0,0,0)'  # Set the plot background color to transparent\n",
    ")\n",
    "fig.update_traces(textposition = \"outside\", cliponaxis = False, texttemplate = '%{text}%', )"
   ]
  },
  {
   "cell_type": "code",
   "execution_count": 161,
   "metadata": {},
   "outputs": [
    {
     "data": {
      "text/html": [
       "<div>\n",
       "<style scoped>\n",
       "    .dataframe tbody tr th:only-of-type {\n",
       "        vertical-align: middle;\n",
       "    }\n",
       "\n",
       "    .dataframe tbody tr th {\n",
       "        vertical-align: top;\n",
       "    }\n",
       "\n",
       "    .dataframe thead th {\n",
       "        text-align: right;\n",
       "    }\n",
       "</style>\n",
       "<table border=\"1\" class=\"dataframe\">\n",
       "  <thead>\n",
       "    <tr style=\"text-align: right;\">\n",
       "      <th></th>\n",
       "      <th>State</th>\n",
       "      <th>State Abbreviation</th>\n",
       "      <th>Education Level of Mother</th>\n",
       "      <th>Average Age of Mother (years)</th>\n",
       "    </tr>\n",
       "  </thead>\n",
       "  <tbody>\n",
       "    <tr>\n",
       "      <th>0</th>\n",
       "      <td>Alabama</td>\n",
       "      <td>AL</td>\n",
       "      <td>9th &gt; 12th Grade</td>\n",
       "      <td>24.3</td>\n",
       "    </tr>\n",
       "    <tr>\n",
       "      <th>1</th>\n",
       "      <td>Alabama</td>\n",
       "      <td>AL</td>\n",
       "      <td>&gt; 8th Grade</td>\n",
       "      <td>27.7</td>\n",
       "    </tr>\n",
       "    <tr>\n",
       "      <th>2</th>\n",
       "      <td>Alabama</td>\n",
       "      <td>AL</td>\n",
       "      <td>Associate Degree</td>\n",
       "      <td>29.0</td>\n",
       "    </tr>\n",
       "    <tr>\n",
       "      <th>3</th>\n",
       "      <td>Alabama</td>\n",
       "      <td>AL</td>\n",
       "      <td>Bahcelor's Degree</td>\n",
       "      <td>30.4</td>\n",
       "    </tr>\n",
       "    <tr>\n",
       "      <th>4</th>\n",
       "      <td>Alabama</td>\n",
       "      <td>AL</td>\n",
       "      <td>Doctorate</td>\n",
       "      <td>33.1</td>\n",
       "    </tr>\n",
       "    <tr>\n",
       "      <th>...</th>\n",
       "      <td>...</td>\n",
       "      <td>...</td>\n",
       "      <td>...</td>\n",
       "      <td>...</td>\n",
       "    </tr>\n",
       "    <tr>\n",
       "      <th>445</th>\n",
       "      <td>Wyoming</td>\n",
       "      <td>WY</td>\n",
       "      <td>Doctorate</td>\n",
       "      <td>33.3</td>\n",
       "    </tr>\n",
       "    <tr>\n",
       "      <th>446</th>\n",
       "      <td>Wyoming</td>\n",
       "      <td>WY</td>\n",
       "      <td>High School Grad</td>\n",
       "      <td>25.7</td>\n",
       "    </tr>\n",
       "    <tr>\n",
       "      <th>447</th>\n",
       "      <td>Wyoming</td>\n",
       "      <td>WY</td>\n",
       "      <td>Master's Degree</td>\n",
       "      <td>32.6</td>\n",
       "    </tr>\n",
       "    <tr>\n",
       "      <th>448</th>\n",
       "      <td>Wyoming</td>\n",
       "      <td>WY</td>\n",
       "      <td>Some College Credit</td>\n",
       "      <td>27.3</td>\n",
       "    </tr>\n",
       "    <tr>\n",
       "      <th>449</th>\n",
       "      <td>Wyoming</td>\n",
       "      <td>WY</td>\n",
       "      <td>Unknown</td>\n",
       "      <td>29.5</td>\n",
       "    </tr>\n",
       "  </tbody>\n",
       "</table>\n",
       "<p>450 rows × 4 columns</p>\n",
       "</div>"
      ],
      "text/plain": [
       "       State State Abbreviation Education Level of Mother  \\\n",
       "0    Alabama                 AL          9th > 12th Grade   \n",
       "1    Alabama                 AL               > 8th Grade   \n",
       "2    Alabama                 AL          Associate Degree   \n",
       "3    Alabama                 AL         Bahcelor's Degree   \n",
       "4    Alabama                 AL                 Doctorate   \n",
       "..       ...                ...                       ...   \n",
       "445  Wyoming                 WY                 Doctorate   \n",
       "446  Wyoming                 WY          High School Grad   \n",
       "447  Wyoming                 WY           Master's Degree   \n",
       "448  Wyoming                 WY       Some College Credit   \n",
       "449  Wyoming                 WY                   Unknown   \n",
       "\n",
       "     Average Age of Mother (years)  \n",
       "0                             24.3  \n",
       "1                             27.7  \n",
       "2                             29.0  \n",
       "3                             30.4  \n",
       "4                             33.1  \n",
       "..                             ...  \n",
       "445                           33.3  \n",
       "446                           25.7  \n",
       "447                           32.6  \n",
       "448                           27.3  \n",
       "449                           29.5  \n",
       "\n",
       "[450 rows x 4 columns]"
      ]
     },
     "execution_count": 161,
     "metadata": {},
     "output_type": "execute_result"
    }
   ],
   "source": [
    "#Average Age of Mother in the USA by Education Level\n",
    "average_age_df = df.groupby(['State', 'State Abbreviation', 'Education Level of Mother'])['Average Age of Mother (years)'].mean().round(1).reset_index()\n",
    "#average_age_df = average_age_df.sort_values('Average Age of Mother (years)', ascending = False)\n",
    "average_age_df"
   ]
  },
  {
   "cell_type": "code",
   "execution_count": 156,
   "metadata": {},
   "outputs": [
    {
     "data": {
      "application/vnd.plotly.v1+json": {
       "config": {
        "plotlyServerURL": "https://plot.ly"
       },
       "data": [
        {
         "alignmentgroup": "True",
         "cliponaxis": false,
         "hovertemplate": "Education Level of Mother=%{x}<br>Average Age of Mother (years)=%{text}<extra></extra>",
         "legendgroup": "",
         "marker": {
          "color": "#636efa",
          "pattern": {
           "shape": ""
          }
         },
         "name": "",
         "offsetgroup": "",
         "orientation": "v",
         "showlegend": false,
         "text": [
          33.7,
          32.7,
          31.2,
          29.8,
          29.4,
          29.4,
          28.1,
          26.5,
          25.1
         ],
         "textposition": "outside",
         "type": "bar",
         "x": [
          "Doctorate",
          "Master's Degree",
          "Bahcelor's Degree",
          "Associate Degree",
          "> 8th Grade",
          "Unknown",
          "Some College Credit",
          "High School Grad",
          "9th > 12th Grade"
         ],
         "xaxis": "x",
         "y": [
          33.7,
          32.7,
          31.2,
          29.8,
          29.4,
          29.4,
          28.1,
          26.5,
          25.1
         ],
         "yaxis": "y"
        }
       ],
       "layout": {
        "barmode": "relative",
        "legend": {
         "tracegroupgap": 0
        },
        "margin": {
         "t": 60
        },
        "plot_bgcolor": "rgba(0,0,0,0)",
        "template": {
         "data": {
          "bar": [
           {
            "error_x": {
             "color": "#2a3f5f"
            },
            "error_y": {
             "color": "#2a3f5f"
            },
            "marker": {
             "line": {
              "color": "#E5ECF6",
              "width": 0.5
             },
             "pattern": {
              "fillmode": "overlay",
              "size": 10,
              "solidity": 0.2
             }
            },
            "type": "bar"
           }
          ],
          "barpolar": [
           {
            "marker": {
             "line": {
              "color": "#E5ECF6",
              "width": 0.5
             },
             "pattern": {
              "fillmode": "overlay",
              "size": 10,
              "solidity": 0.2
             }
            },
            "type": "barpolar"
           }
          ],
          "carpet": [
           {
            "aaxis": {
             "endlinecolor": "#2a3f5f",
             "gridcolor": "white",
             "linecolor": "white",
             "minorgridcolor": "white",
             "startlinecolor": "#2a3f5f"
            },
            "baxis": {
             "endlinecolor": "#2a3f5f",
             "gridcolor": "white",
             "linecolor": "white",
             "minorgridcolor": "white",
             "startlinecolor": "#2a3f5f"
            },
            "type": "carpet"
           }
          ],
          "choropleth": [
           {
            "colorbar": {
             "outlinewidth": 0,
             "ticks": ""
            },
            "type": "choropleth"
           }
          ],
          "contour": [
           {
            "colorbar": {
             "outlinewidth": 0,
             "ticks": ""
            },
            "colorscale": [
             [
              0,
              "#0d0887"
             ],
             [
              0.1111111111111111,
              "#46039f"
             ],
             [
              0.2222222222222222,
              "#7201a8"
             ],
             [
              0.3333333333333333,
              "#9c179e"
             ],
             [
              0.4444444444444444,
              "#bd3786"
             ],
             [
              0.5555555555555556,
              "#d8576b"
             ],
             [
              0.6666666666666666,
              "#ed7953"
             ],
             [
              0.7777777777777778,
              "#fb9f3a"
             ],
             [
              0.8888888888888888,
              "#fdca26"
             ],
             [
              1,
              "#f0f921"
             ]
            ],
            "type": "contour"
           }
          ],
          "contourcarpet": [
           {
            "colorbar": {
             "outlinewidth": 0,
             "ticks": ""
            },
            "type": "contourcarpet"
           }
          ],
          "heatmap": [
           {
            "colorbar": {
             "outlinewidth": 0,
             "ticks": ""
            },
            "colorscale": [
             [
              0,
              "#0d0887"
             ],
             [
              0.1111111111111111,
              "#46039f"
             ],
             [
              0.2222222222222222,
              "#7201a8"
             ],
             [
              0.3333333333333333,
              "#9c179e"
             ],
             [
              0.4444444444444444,
              "#bd3786"
             ],
             [
              0.5555555555555556,
              "#d8576b"
             ],
             [
              0.6666666666666666,
              "#ed7953"
             ],
             [
              0.7777777777777778,
              "#fb9f3a"
             ],
             [
              0.8888888888888888,
              "#fdca26"
             ],
             [
              1,
              "#f0f921"
             ]
            ],
            "type": "heatmap"
           }
          ],
          "heatmapgl": [
           {
            "colorbar": {
             "outlinewidth": 0,
             "ticks": ""
            },
            "colorscale": [
             [
              0,
              "#0d0887"
             ],
             [
              0.1111111111111111,
              "#46039f"
             ],
             [
              0.2222222222222222,
              "#7201a8"
             ],
             [
              0.3333333333333333,
              "#9c179e"
             ],
             [
              0.4444444444444444,
              "#bd3786"
             ],
             [
              0.5555555555555556,
              "#d8576b"
             ],
             [
              0.6666666666666666,
              "#ed7953"
             ],
             [
              0.7777777777777778,
              "#fb9f3a"
             ],
             [
              0.8888888888888888,
              "#fdca26"
             ],
             [
              1,
              "#f0f921"
             ]
            ],
            "type": "heatmapgl"
           }
          ],
          "histogram": [
           {
            "marker": {
             "pattern": {
              "fillmode": "overlay",
              "size": 10,
              "solidity": 0.2
             }
            },
            "type": "histogram"
           }
          ],
          "histogram2d": [
           {
            "colorbar": {
             "outlinewidth": 0,
             "ticks": ""
            },
            "colorscale": [
             [
              0,
              "#0d0887"
             ],
             [
              0.1111111111111111,
              "#46039f"
             ],
             [
              0.2222222222222222,
              "#7201a8"
             ],
             [
              0.3333333333333333,
              "#9c179e"
             ],
             [
              0.4444444444444444,
              "#bd3786"
             ],
             [
              0.5555555555555556,
              "#d8576b"
             ],
             [
              0.6666666666666666,
              "#ed7953"
             ],
             [
              0.7777777777777778,
              "#fb9f3a"
             ],
             [
              0.8888888888888888,
              "#fdca26"
             ],
             [
              1,
              "#f0f921"
             ]
            ],
            "type": "histogram2d"
           }
          ],
          "histogram2dcontour": [
           {
            "colorbar": {
             "outlinewidth": 0,
             "ticks": ""
            },
            "colorscale": [
             [
              0,
              "#0d0887"
             ],
             [
              0.1111111111111111,
              "#46039f"
             ],
             [
              0.2222222222222222,
              "#7201a8"
             ],
             [
              0.3333333333333333,
              "#9c179e"
             ],
             [
              0.4444444444444444,
              "#bd3786"
             ],
             [
              0.5555555555555556,
              "#d8576b"
             ],
             [
              0.6666666666666666,
              "#ed7953"
             ],
             [
              0.7777777777777778,
              "#fb9f3a"
             ],
             [
              0.8888888888888888,
              "#fdca26"
             ],
             [
              1,
              "#f0f921"
             ]
            ],
            "type": "histogram2dcontour"
           }
          ],
          "mesh3d": [
           {
            "colorbar": {
             "outlinewidth": 0,
             "ticks": ""
            },
            "type": "mesh3d"
           }
          ],
          "parcoords": [
           {
            "line": {
             "colorbar": {
              "outlinewidth": 0,
              "ticks": ""
             }
            },
            "type": "parcoords"
           }
          ],
          "pie": [
           {
            "automargin": true,
            "type": "pie"
           }
          ],
          "scatter": [
           {
            "fillpattern": {
             "fillmode": "overlay",
             "size": 10,
             "solidity": 0.2
            },
            "type": "scatter"
           }
          ],
          "scatter3d": [
           {
            "line": {
             "colorbar": {
              "outlinewidth": 0,
              "ticks": ""
             }
            },
            "marker": {
             "colorbar": {
              "outlinewidth": 0,
              "ticks": ""
             }
            },
            "type": "scatter3d"
           }
          ],
          "scattercarpet": [
           {
            "marker": {
             "colorbar": {
              "outlinewidth": 0,
              "ticks": ""
             }
            },
            "type": "scattercarpet"
           }
          ],
          "scattergeo": [
           {
            "marker": {
             "colorbar": {
              "outlinewidth": 0,
              "ticks": ""
             }
            },
            "type": "scattergeo"
           }
          ],
          "scattergl": [
           {
            "marker": {
             "colorbar": {
              "outlinewidth": 0,
              "ticks": ""
             }
            },
            "type": "scattergl"
           }
          ],
          "scattermapbox": [
           {
            "marker": {
             "colorbar": {
              "outlinewidth": 0,
              "ticks": ""
             }
            },
            "type": "scattermapbox"
           }
          ],
          "scatterpolar": [
           {
            "marker": {
             "colorbar": {
              "outlinewidth": 0,
              "ticks": ""
             }
            },
            "type": "scatterpolar"
           }
          ],
          "scatterpolargl": [
           {
            "marker": {
             "colorbar": {
              "outlinewidth": 0,
              "ticks": ""
             }
            },
            "type": "scatterpolargl"
           }
          ],
          "scatterternary": [
           {
            "marker": {
             "colorbar": {
              "outlinewidth": 0,
              "ticks": ""
             }
            },
            "type": "scatterternary"
           }
          ],
          "surface": [
           {
            "colorbar": {
             "outlinewidth": 0,
             "ticks": ""
            },
            "colorscale": [
             [
              0,
              "#0d0887"
             ],
             [
              0.1111111111111111,
              "#46039f"
             ],
             [
              0.2222222222222222,
              "#7201a8"
             ],
             [
              0.3333333333333333,
              "#9c179e"
             ],
             [
              0.4444444444444444,
              "#bd3786"
             ],
             [
              0.5555555555555556,
              "#d8576b"
             ],
             [
              0.6666666666666666,
              "#ed7953"
             ],
             [
              0.7777777777777778,
              "#fb9f3a"
             ],
             [
              0.8888888888888888,
              "#fdca26"
             ],
             [
              1,
              "#f0f921"
             ]
            ],
            "type": "surface"
           }
          ],
          "table": [
           {
            "cells": {
             "fill": {
              "color": "#EBF0F8"
             },
             "line": {
              "color": "white"
             }
            },
            "header": {
             "fill": {
              "color": "#C8D4E3"
             },
             "line": {
              "color": "white"
             }
            },
            "type": "table"
           }
          ]
         },
         "layout": {
          "annotationdefaults": {
           "arrowcolor": "#2a3f5f",
           "arrowhead": 0,
           "arrowwidth": 1
          },
          "autotypenumbers": "strict",
          "coloraxis": {
           "colorbar": {
            "outlinewidth": 0,
            "ticks": ""
           }
          },
          "colorscale": {
           "diverging": [
            [
             0,
             "#8e0152"
            ],
            [
             0.1,
             "#c51b7d"
            ],
            [
             0.2,
             "#de77ae"
            ],
            [
             0.3,
             "#f1b6da"
            ],
            [
             0.4,
             "#fde0ef"
            ],
            [
             0.5,
             "#f7f7f7"
            ],
            [
             0.6,
             "#e6f5d0"
            ],
            [
             0.7,
             "#b8e186"
            ],
            [
             0.8,
             "#7fbc41"
            ],
            [
             0.9,
             "#4d9221"
            ],
            [
             1,
             "#276419"
            ]
           ],
           "sequential": [
            [
             0,
             "#0d0887"
            ],
            [
             0.1111111111111111,
             "#46039f"
            ],
            [
             0.2222222222222222,
             "#7201a8"
            ],
            [
             0.3333333333333333,
             "#9c179e"
            ],
            [
             0.4444444444444444,
             "#bd3786"
            ],
            [
             0.5555555555555556,
             "#d8576b"
            ],
            [
             0.6666666666666666,
             "#ed7953"
            ],
            [
             0.7777777777777778,
             "#fb9f3a"
            ],
            [
             0.8888888888888888,
             "#fdca26"
            ],
            [
             1,
             "#f0f921"
            ]
           ],
           "sequentialminus": [
            [
             0,
             "#0d0887"
            ],
            [
             0.1111111111111111,
             "#46039f"
            ],
            [
             0.2222222222222222,
             "#7201a8"
            ],
            [
             0.3333333333333333,
             "#9c179e"
            ],
            [
             0.4444444444444444,
             "#bd3786"
            ],
            [
             0.5555555555555556,
             "#d8576b"
            ],
            [
             0.6666666666666666,
             "#ed7953"
            ],
            [
             0.7777777777777778,
             "#fb9f3a"
            ],
            [
             0.8888888888888888,
             "#fdca26"
            ],
            [
             1,
             "#f0f921"
            ]
           ]
          },
          "colorway": [
           "#636efa",
           "#EF553B",
           "#00cc96",
           "#ab63fa",
           "#FFA15A",
           "#19d3f3",
           "#FF6692",
           "#B6E880",
           "#FF97FF",
           "#FECB52"
          ],
          "font": {
           "color": "#2a3f5f"
          },
          "geo": {
           "bgcolor": "white",
           "lakecolor": "white",
           "landcolor": "#E5ECF6",
           "showlakes": true,
           "showland": true,
           "subunitcolor": "white"
          },
          "hoverlabel": {
           "align": "left"
          },
          "hovermode": "closest",
          "mapbox": {
           "style": "light"
          },
          "paper_bgcolor": "white",
          "plot_bgcolor": "#E5ECF6",
          "polar": {
           "angularaxis": {
            "gridcolor": "white",
            "linecolor": "white",
            "ticks": ""
           },
           "bgcolor": "#E5ECF6",
           "radialaxis": {
            "gridcolor": "white",
            "linecolor": "white",
            "ticks": ""
           }
          },
          "scene": {
           "xaxis": {
            "backgroundcolor": "#E5ECF6",
            "gridcolor": "white",
            "gridwidth": 2,
            "linecolor": "white",
            "showbackground": true,
            "ticks": "",
            "zerolinecolor": "white"
           },
           "yaxis": {
            "backgroundcolor": "#E5ECF6",
            "gridcolor": "white",
            "gridwidth": 2,
            "linecolor": "white",
            "showbackground": true,
            "ticks": "",
            "zerolinecolor": "white"
           },
           "zaxis": {
            "backgroundcolor": "#E5ECF6",
            "gridcolor": "white",
            "gridwidth": 2,
            "linecolor": "white",
            "showbackground": true,
            "ticks": "",
            "zerolinecolor": "white"
           }
          },
          "shapedefaults": {
           "line": {
            "color": "#2a3f5f"
           }
          },
          "ternary": {
           "aaxis": {
            "gridcolor": "white",
            "linecolor": "white",
            "ticks": ""
           },
           "baxis": {
            "gridcolor": "white",
            "linecolor": "white",
            "ticks": ""
           },
           "bgcolor": "#E5ECF6",
           "caxis": {
            "gridcolor": "white",
            "linecolor": "white",
            "ticks": ""
           }
          },
          "title": {
           "x": 0.05
          },
          "xaxis": {
           "automargin": true,
           "gridcolor": "white",
           "linecolor": "white",
           "ticks": "",
           "title": {
            "standoff": 15
           },
           "zerolinecolor": "white",
           "zerolinewidth": 2
          },
          "yaxis": {
           "automargin": true,
           "gridcolor": "white",
           "linecolor": "white",
           "ticks": "",
           "title": {
            "standoff": 15
           },
           "zerolinecolor": "white",
           "zerolinewidth": 2
          }
         }
        },
        "xaxis": {
         "anchor": "y",
         "domain": [
          0,
          1
         ],
         "title": {
          "text": ""
         },
         "visible": true
        },
        "yaxis": {
         "anchor": "x",
         "domain": [
          0,
          1
         ],
         "title": {
          "text": "False"
         },
         "visible": false
        }
       }
      }
     },
     "metadata": {},
     "output_type": "display_data"
    }
   ],
   "source": [
    "avg_age_fig = px.bar(average_age_df, x = 'Education Level of Mother', y = 'Average Age of Mother (years)', text = 'Average Age of Mother (years)')\n",
    "avg_age_fig.update_layout(\n",
    "   # title = ('Births by Education Level of Mother<br>' + 'State: ' + state_selected + '  /  ' + 'Year: ' + year_title),\n",
    "    xaxis_title = \"\",\n",
    "    yaxis_title = False,\n",
    "    yaxis_visible = False,\n",
    "    xaxis_visible = True,\n",
    "    plot_bgcolor = 'rgba(0,0,0,0)'  # Set the plot background color to transparent\n",
    ")\n",
    "avg_age_fig.update_traces(textposition = \"outside\", cliponaxis = False)\n",
    "\n",
    "\n",
    "\n"
   ]
  },
  {
   "cell_type": "code",
   "execution_count": 13,
   "metadata": {},
   "outputs": [
    {
     "data": {
      "text/html": [
       "<div>\n",
       "<style scoped>\n",
       "    .dataframe tbody tr th:only-of-type {\n",
       "        vertical-align: middle;\n",
       "    }\n",
       "\n",
       "    .dataframe tbody tr th {\n",
       "        vertical-align: top;\n",
       "    }\n",
       "\n",
       "    .dataframe thead th {\n",
       "        text-align: right;\n",
       "    }\n",
       "</style>\n",
       "<table border=\"1\" class=\"dataframe\">\n",
       "  <thead>\n",
       "    <tr style=\"text-align: right;\">\n",
       "      <th></th>\n",
       "      <th>Education Level of Mother</th>\n",
       "      <th>Number of Births</th>\n",
       "      <th>Birth Percentage</th>\n",
       "    </tr>\n",
       "  </thead>\n",
       "  <tbody>\n",
       "    <tr>\n",
       "      <th>0</th>\n",
       "      <td>9th &gt; 12th Grade</td>\n",
       "      <td>31227</td>\n",
       "      <td>7.430418</td>\n",
       "    </tr>\n",
       "    <tr>\n",
       "      <th>1</th>\n",
       "      <td>&gt; 8th Grade</td>\n",
       "      <td>13407</td>\n",
       "      <td>3.190176</td>\n",
       "    </tr>\n",
       "    <tr>\n",
       "      <th>2</th>\n",
       "      <td>Associate Degree</td>\n",
       "      <td>28365</td>\n",
       "      <td>6.749409</td>\n",
       "    </tr>\n",
       "    <tr>\n",
       "      <th>3</th>\n",
       "      <td>Bahcelor's Degree</td>\n",
       "      <td>86356</td>\n",
       "      <td>20.548281</td>\n",
       "    </tr>\n",
       "    <tr>\n",
       "      <th>4</th>\n",
       "      <td>Doctorate</td>\n",
       "      <td>13535</td>\n",
       "      <td>3.220633</td>\n",
       "    </tr>\n",
       "    <tr>\n",
       "      <th>5</th>\n",
       "      <td>High School Grad</td>\n",
       "      <td>99814</td>\n",
       "      <td>23.750592</td>\n",
       "    </tr>\n",
       "    <tr>\n",
       "      <th>6</th>\n",
       "      <td>Master's Degree</td>\n",
       "      <td>40136</td>\n",
       "      <td>9.550301</td>\n",
       "    </tr>\n",
       "    <tr>\n",
       "      <th>7</th>\n",
       "      <td>Some College Credit</td>\n",
       "      <td>78868</td>\n",
       "      <td>18.766523</td>\n",
       "    </tr>\n",
       "    <tr>\n",
       "      <th>8</th>\n",
       "      <td>Unknown</td>\n",
       "      <td>28551</td>\n",
       "      <td>6.793668</td>\n",
       "    </tr>\n",
       "  </tbody>\n",
       "</table>\n",
       "</div>"
      ],
      "text/plain": [
       "  Education Level of Mother  Number of Births  Birth Percentage\n",
       "0          9th > 12th Grade             31227          7.430418\n",
       "1               > 8th Grade             13407          3.190176\n",
       "2          Associate Degree             28365          6.749409\n",
       "3         Bahcelor's Degree             86356         20.548281\n",
       "4                 Doctorate             13535          3.220633\n",
       "5          High School Grad             99814         23.750592\n",
       "6           Master's Degree             40136          9.550301\n",
       "7       Some College Credit             78868         18.766523\n",
       "8                   Unknown             28551          6.793668"
      ]
     },
     "execution_count": 13,
     "metadata": {},
     "output_type": "execute_result"
    }
   ],
   "source": [
    "df_by_ed_level = us_births[(us_births['State'] == state_selected) & (us_births['Year'] == year_selected)].groupby('Education Level of Mother')['Number of Births'].sum().reset_index()\n",
    "df_by_ed_level['Birth Percentage'] = (df_by_ed_level['Number of Births'] / total_births) * 100\n",
    "df_by_ed_level\n"
   ]
  },
  {
   "cell_type": "code",
   "execution_count": 124,
   "metadata": {},
   "outputs": [
    {
     "data": {
      "application/vnd.plotly.v1+json": {
       "config": {
        "plotlyServerURL": "https://plot.ly"
       },
       "data": [
        {
         "alignmentgroup": "True",
         "hovertemplate": "Column=Column1<br>Category=%{x}<br>value=%{y}<extra></extra>",
         "legendgroup": "Column1",
         "marker": {
          "color": "#636efa",
          "pattern": {
           "shape": ""
          }
         },
         "name": "Column1",
         "offsetgroup": "Column1",
         "orientation": "v",
         "showlegend": true,
         "textposition": "auto",
         "type": "bar",
         "x": [
          "A",
          "B",
          "C",
          "D"
         ],
         "xaxis": "x",
         "y": [
          10,
          20,
          30,
          40
         ],
         "yaxis": "y"
        },
        {
         "alignmentgroup": "True",
         "hovertemplate": "Column=Column2<br>Category=%{x}<br>value=%{y}<extra></extra>",
         "legendgroup": "Column2",
         "marker": {
          "color": "#EF553B",
          "pattern": {
           "shape": ""
          }
         },
         "name": "Column2",
         "offsetgroup": "Column2",
         "orientation": "v",
         "showlegend": true,
         "textposition": "auto",
         "type": "bar",
         "x": [
          "A",
          "B",
          "C",
          "D"
         ],
         "xaxis": "x",
         "y": [
          15,
          25,
          35,
          45
         ],
         "yaxis": "y"
        },
        {
         "alignmentgroup": "True",
         "hovertemplate": "Column=Column3<br>Category=%{x}<br>value=%{y}<extra></extra>",
         "legendgroup": "Column3",
         "marker": {
          "color": "#00cc96",
          "pattern": {
           "shape": ""
          }
         },
         "name": "Column3",
         "offsetgroup": "Column3",
         "orientation": "v",
         "showlegend": true,
         "textposition": "auto",
         "type": "bar",
         "x": [
          "A",
          "B",
          "C",
          "D"
         ],
         "xaxis": "x",
         "y": [
          5,
          15,
          25,
          35
         ],
         "yaxis": "y"
        }
       ],
       "layout": {
        "barmode": "stack",
        "legend": {
         "title": {
          "text": "Column"
         },
         "tracegroupgap": 0
        },
        "margin": {
         "t": 60
        },
        "template": {
         "data": {
          "bar": [
           {
            "error_x": {
             "color": "#2a3f5f"
            },
            "error_y": {
             "color": "#2a3f5f"
            },
            "marker": {
             "line": {
              "color": "#E5ECF6",
              "width": 0.5
             },
             "pattern": {
              "fillmode": "overlay",
              "size": 10,
              "solidity": 0.2
             }
            },
            "type": "bar"
           }
          ],
          "barpolar": [
           {
            "marker": {
             "line": {
              "color": "#E5ECF6",
              "width": 0.5
             },
             "pattern": {
              "fillmode": "overlay",
              "size": 10,
              "solidity": 0.2
             }
            },
            "type": "barpolar"
           }
          ],
          "carpet": [
           {
            "aaxis": {
             "endlinecolor": "#2a3f5f",
             "gridcolor": "white",
             "linecolor": "white",
             "minorgridcolor": "white",
             "startlinecolor": "#2a3f5f"
            },
            "baxis": {
             "endlinecolor": "#2a3f5f",
             "gridcolor": "white",
             "linecolor": "white",
             "minorgridcolor": "white",
             "startlinecolor": "#2a3f5f"
            },
            "type": "carpet"
           }
          ],
          "choropleth": [
           {
            "colorbar": {
             "outlinewidth": 0,
             "ticks": ""
            },
            "type": "choropleth"
           }
          ],
          "contour": [
           {
            "colorbar": {
             "outlinewidth": 0,
             "ticks": ""
            },
            "colorscale": [
             [
              0,
              "#0d0887"
             ],
             [
              0.1111111111111111,
              "#46039f"
             ],
             [
              0.2222222222222222,
              "#7201a8"
             ],
             [
              0.3333333333333333,
              "#9c179e"
             ],
             [
              0.4444444444444444,
              "#bd3786"
             ],
             [
              0.5555555555555556,
              "#d8576b"
             ],
             [
              0.6666666666666666,
              "#ed7953"
             ],
             [
              0.7777777777777778,
              "#fb9f3a"
             ],
             [
              0.8888888888888888,
              "#fdca26"
             ],
             [
              1,
              "#f0f921"
             ]
            ],
            "type": "contour"
           }
          ],
          "contourcarpet": [
           {
            "colorbar": {
             "outlinewidth": 0,
             "ticks": ""
            },
            "type": "contourcarpet"
           }
          ],
          "heatmap": [
           {
            "colorbar": {
             "outlinewidth": 0,
             "ticks": ""
            },
            "colorscale": [
             [
              0,
              "#0d0887"
             ],
             [
              0.1111111111111111,
              "#46039f"
             ],
             [
              0.2222222222222222,
              "#7201a8"
             ],
             [
              0.3333333333333333,
              "#9c179e"
             ],
             [
              0.4444444444444444,
              "#bd3786"
             ],
             [
              0.5555555555555556,
              "#d8576b"
             ],
             [
              0.6666666666666666,
              "#ed7953"
             ],
             [
              0.7777777777777778,
              "#fb9f3a"
             ],
             [
              0.8888888888888888,
              "#fdca26"
             ],
             [
              1,
              "#f0f921"
             ]
            ],
            "type": "heatmap"
           }
          ],
          "heatmapgl": [
           {
            "colorbar": {
             "outlinewidth": 0,
             "ticks": ""
            },
            "colorscale": [
             [
              0,
              "#0d0887"
             ],
             [
              0.1111111111111111,
              "#46039f"
             ],
             [
              0.2222222222222222,
              "#7201a8"
             ],
             [
              0.3333333333333333,
              "#9c179e"
             ],
             [
              0.4444444444444444,
              "#bd3786"
             ],
             [
              0.5555555555555556,
              "#d8576b"
             ],
             [
              0.6666666666666666,
              "#ed7953"
             ],
             [
              0.7777777777777778,
              "#fb9f3a"
             ],
             [
              0.8888888888888888,
              "#fdca26"
             ],
             [
              1,
              "#f0f921"
             ]
            ],
            "type": "heatmapgl"
           }
          ],
          "histogram": [
           {
            "marker": {
             "pattern": {
              "fillmode": "overlay",
              "size": 10,
              "solidity": 0.2
             }
            },
            "type": "histogram"
           }
          ],
          "histogram2d": [
           {
            "colorbar": {
             "outlinewidth": 0,
             "ticks": ""
            },
            "colorscale": [
             [
              0,
              "#0d0887"
             ],
             [
              0.1111111111111111,
              "#46039f"
             ],
             [
              0.2222222222222222,
              "#7201a8"
             ],
             [
              0.3333333333333333,
              "#9c179e"
             ],
             [
              0.4444444444444444,
              "#bd3786"
             ],
             [
              0.5555555555555556,
              "#d8576b"
             ],
             [
              0.6666666666666666,
              "#ed7953"
             ],
             [
              0.7777777777777778,
              "#fb9f3a"
             ],
             [
              0.8888888888888888,
              "#fdca26"
             ],
             [
              1,
              "#f0f921"
             ]
            ],
            "type": "histogram2d"
           }
          ],
          "histogram2dcontour": [
           {
            "colorbar": {
             "outlinewidth": 0,
             "ticks": ""
            },
            "colorscale": [
             [
              0,
              "#0d0887"
             ],
             [
              0.1111111111111111,
              "#46039f"
             ],
             [
              0.2222222222222222,
              "#7201a8"
             ],
             [
              0.3333333333333333,
              "#9c179e"
             ],
             [
              0.4444444444444444,
              "#bd3786"
             ],
             [
              0.5555555555555556,
              "#d8576b"
             ],
             [
              0.6666666666666666,
              "#ed7953"
             ],
             [
              0.7777777777777778,
              "#fb9f3a"
             ],
             [
              0.8888888888888888,
              "#fdca26"
             ],
             [
              1,
              "#f0f921"
             ]
            ],
            "type": "histogram2dcontour"
           }
          ],
          "mesh3d": [
           {
            "colorbar": {
             "outlinewidth": 0,
             "ticks": ""
            },
            "type": "mesh3d"
           }
          ],
          "parcoords": [
           {
            "line": {
             "colorbar": {
              "outlinewidth": 0,
              "ticks": ""
             }
            },
            "type": "parcoords"
           }
          ],
          "pie": [
           {
            "automargin": true,
            "type": "pie"
           }
          ],
          "scatter": [
           {
            "fillpattern": {
             "fillmode": "overlay",
             "size": 10,
             "solidity": 0.2
            },
            "type": "scatter"
           }
          ],
          "scatter3d": [
           {
            "line": {
             "colorbar": {
              "outlinewidth": 0,
              "ticks": ""
             }
            },
            "marker": {
             "colorbar": {
              "outlinewidth": 0,
              "ticks": ""
             }
            },
            "type": "scatter3d"
           }
          ],
          "scattercarpet": [
           {
            "marker": {
             "colorbar": {
              "outlinewidth": 0,
              "ticks": ""
             }
            },
            "type": "scattercarpet"
           }
          ],
          "scattergeo": [
           {
            "marker": {
             "colorbar": {
              "outlinewidth": 0,
              "ticks": ""
             }
            },
            "type": "scattergeo"
           }
          ],
          "scattergl": [
           {
            "marker": {
             "colorbar": {
              "outlinewidth": 0,
              "ticks": ""
             }
            },
            "type": "scattergl"
           }
          ],
          "scattermapbox": [
           {
            "marker": {
             "colorbar": {
              "outlinewidth": 0,
              "ticks": ""
             }
            },
            "type": "scattermapbox"
           }
          ],
          "scatterpolar": [
           {
            "marker": {
             "colorbar": {
              "outlinewidth": 0,
              "ticks": ""
             }
            },
            "type": "scatterpolar"
           }
          ],
          "scatterpolargl": [
           {
            "marker": {
             "colorbar": {
              "outlinewidth": 0,
              "ticks": ""
             }
            },
            "type": "scatterpolargl"
           }
          ],
          "scatterternary": [
           {
            "marker": {
             "colorbar": {
              "outlinewidth": 0,
              "ticks": ""
             }
            },
            "type": "scatterternary"
           }
          ],
          "surface": [
           {
            "colorbar": {
             "outlinewidth": 0,
             "ticks": ""
            },
            "colorscale": [
             [
              0,
              "#0d0887"
             ],
             [
              0.1111111111111111,
              "#46039f"
             ],
             [
              0.2222222222222222,
              "#7201a8"
             ],
             [
              0.3333333333333333,
              "#9c179e"
             ],
             [
              0.4444444444444444,
              "#bd3786"
             ],
             [
              0.5555555555555556,
              "#d8576b"
             ],
             [
              0.6666666666666666,
              "#ed7953"
             ],
             [
              0.7777777777777778,
              "#fb9f3a"
             ],
             [
              0.8888888888888888,
              "#fdca26"
             ],
             [
              1,
              "#f0f921"
             ]
            ],
            "type": "surface"
           }
          ],
          "table": [
           {
            "cells": {
             "fill": {
              "color": "#EBF0F8"
             },
             "line": {
              "color": "white"
             }
            },
            "header": {
             "fill": {
              "color": "#C8D4E3"
             },
             "line": {
              "color": "white"
             }
            },
            "type": "table"
           }
          ]
         },
         "layout": {
          "annotationdefaults": {
           "arrowcolor": "#2a3f5f",
           "arrowhead": 0,
           "arrowwidth": 1
          },
          "autotypenumbers": "strict",
          "coloraxis": {
           "colorbar": {
            "outlinewidth": 0,
            "ticks": ""
           }
          },
          "colorscale": {
           "diverging": [
            [
             0,
             "#8e0152"
            ],
            [
             0.1,
             "#c51b7d"
            ],
            [
             0.2,
             "#de77ae"
            ],
            [
             0.3,
             "#f1b6da"
            ],
            [
             0.4,
             "#fde0ef"
            ],
            [
             0.5,
             "#f7f7f7"
            ],
            [
             0.6,
             "#e6f5d0"
            ],
            [
             0.7,
             "#b8e186"
            ],
            [
             0.8,
             "#7fbc41"
            ],
            [
             0.9,
             "#4d9221"
            ],
            [
             1,
             "#276419"
            ]
           ],
           "sequential": [
            [
             0,
             "#0d0887"
            ],
            [
             0.1111111111111111,
             "#46039f"
            ],
            [
             0.2222222222222222,
             "#7201a8"
            ],
            [
             0.3333333333333333,
             "#9c179e"
            ],
            [
             0.4444444444444444,
             "#bd3786"
            ],
            [
             0.5555555555555556,
             "#d8576b"
            ],
            [
             0.6666666666666666,
             "#ed7953"
            ],
            [
             0.7777777777777778,
             "#fb9f3a"
            ],
            [
             0.8888888888888888,
             "#fdca26"
            ],
            [
             1,
             "#f0f921"
            ]
           ],
           "sequentialminus": [
            [
             0,
             "#0d0887"
            ],
            [
             0.1111111111111111,
             "#46039f"
            ],
            [
             0.2222222222222222,
             "#7201a8"
            ],
            [
             0.3333333333333333,
             "#9c179e"
            ],
            [
             0.4444444444444444,
             "#bd3786"
            ],
            [
             0.5555555555555556,
             "#d8576b"
            ],
            [
             0.6666666666666666,
             "#ed7953"
            ],
            [
             0.7777777777777778,
             "#fb9f3a"
            ],
            [
             0.8888888888888888,
             "#fdca26"
            ],
            [
             1,
             "#f0f921"
            ]
           ]
          },
          "colorway": [
           "#636efa",
           "#EF553B",
           "#00cc96",
           "#ab63fa",
           "#FFA15A",
           "#19d3f3",
           "#FF6692",
           "#B6E880",
           "#FF97FF",
           "#FECB52"
          ],
          "font": {
           "color": "#2a3f5f"
          },
          "geo": {
           "bgcolor": "white",
           "lakecolor": "white",
           "landcolor": "#E5ECF6",
           "showlakes": true,
           "showland": true,
           "subunitcolor": "white"
          },
          "hoverlabel": {
           "align": "left"
          },
          "hovermode": "closest",
          "mapbox": {
           "style": "light"
          },
          "paper_bgcolor": "white",
          "plot_bgcolor": "#E5ECF6",
          "polar": {
           "angularaxis": {
            "gridcolor": "white",
            "linecolor": "white",
            "ticks": ""
           },
           "bgcolor": "#E5ECF6",
           "radialaxis": {
            "gridcolor": "white",
            "linecolor": "white",
            "ticks": ""
           }
          },
          "scene": {
           "xaxis": {
            "backgroundcolor": "#E5ECF6",
            "gridcolor": "white",
            "gridwidth": 2,
            "linecolor": "white",
            "showbackground": true,
            "ticks": "",
            "zerolinecolor": "white"
           },
           "yaxis": {
            "backgroundcolor": "#E5ECF6",
            "gridcolor": "white",
            "gridwidth": 2,
            "linecolor": "white",
            "showbackground": true,
            "ticks": "",
            "zerolinecolor": "white"
           },
           "zaxis": {
            "backgroundcolor": "#E5ECF6",
            "gridcolor": "white",
            "gridwidth": 2,
            "linecolor": "white",
            "showbackground": true,
            "ticks": "",
            "zerolinecolor": "white"
           }
          },
          "shapedefaults": {
           "line": {
            "color": "#2a3f5f"
           }
          },
          "ternary": {
           "aaxis": {
            "gridcolor": "white",
            "linecolor": "white",
            "ticks": ""
           },
           "baxis": {
            "gridcolor": "white",
            "linecolor": "white",
            "ticks": ""
           },
           "bgcolor": "#E5ECF6",
           "caxis": {
            "gridcolor": "white",
            "linecolor": "white",
            "ticks": ""
           }
          },
          "title": {
           "x": 0.05
          },
          "xaxis": {
           "automargin": true,
           "gridcolor": "white",
           "linecolor": "white",
           "ticks": "",
           "title": {
            "standoff": 15
           },
           "zerolinecolor": "white",
           "zerolinewidth": 2
          },
          "yaxis": {
           "automargin": true,
           "gridcolor": "white",
           "linecolor": "white",
           "ticks": "",
           "title": {
            "standoff": 15
           },
           "zerolinecolor": "white",
           "zerolinewidth": 2
          }
         }
        },
        "xaxis": {
         "anchor": "y",
         "domain": [
          0,
          1
         ],
         "title": {
          "text": "Category"
         }
        },
        "yaxis": {
         "anchor": "x",
         "domain": [
          0,
          1
         ],
         "title": {
          "text": "value"
         }
        }
       }
      }
     },
     "metadata": {},
     "output_type": "display_data"
    }
   ],
   "source": [
    "import pandas as pd\n",
    "import plotly.express as px\n",
    "\n",
    "\n",
    "\n",
    "# Create a stacked bar chart with Plotly Express\n",
    "fig = px.bar(dataframe_final, x = dataframe_final.index, y = 'value', color='Column', barmode='stack')\n",
    "\n",
    "# Show the chart\n",
    "fig.show()"
   ]
  },
  {
   "cell_type": "code",
   "execution_count": 177,
   "metadata": {},
   "outputs": [
    {
     "data": {
      "text/html": [
       "<div>\n",
       "<style scoped>\n",
       "    .dataframe tbody tr th:only-of-type {\n",
       "        vertical-align: middle;\n",
       "    }\n",
       "\n",
       "    .dataframe tbody tr th {\n",
       "        vertical-align: top;\n",
       "    }\n",
       "\n",
       "    .dataframe thead th {\n",
       "        text-align: right;\n",
       "    }\n",
       "</style>\n",
       "<table border=\"1\" class=\"dataframe\">\n",
       "  <thead>\n",
       "    <tr style=\"text-align: right;\">\n",
       "      <th></th>\n",
       "      <th>State</th>\n",
       "      <th>State Abbreviation</th>\n",
       "      <th>Education Level of Mother</th>\n",
       "      <th>Average Age of Mother (years)</th>\n",
       "    </tr>\n",
       "  </thead>\n",
       "  <tbody>\n",
       "    <tr>\n",
       "      <th>0</th>\n",
       "      <td>Alabama</td>\n",
       "      <td>AL</td>\n",
       "      <td>Doctorate</td>\n",
       "      <td>33.1</td>\n",
       "    </tr>\n",
       "    <tr>\n",
       "      <th>1</th>\n",
       "      <td>Alaska</td>\n",
       "      <td>AK</td>\n",
       "      <td>Doctorate</td>\n",
       "      <td>34.2</td>\n",
       "    </tr>\n",
       "    <tr>\n",
       "      <th>2</th>\n",
       "      <td>Arizona</td>\n",
       "      <td>AZ</td>\n",
       "      <td>Doctorate</td>\n",
       "      <td>33.9</td>\n",
       "    </tr>\n",
       "    <tr>\n",
       "      <th>3</th>\n",
       "      <td>Arkansas</td>\n",
       "      <td>AR</td>\n",
       "      <td>Doctorate</td>\n",
       "      <td>32.6</td>\n",
       "    </tr>\n",
       "    <tr>\n",
       "      <th>4</th>\n",
       "      <td>California</td>\n",
       "      <td>CA</td>\n",
       "      <td>Doctorate</td>\n",
       "      <td>34.8</td>\n",
       "    </tr>\n",
       "  </tbody>\n",
       "</table>\n",
       "</div>"
      ],
      "text/plain": [
       "        State State Abbreviation Education Level of Mother  \\\n",
       "0     Alabama                 AL                 Doctorate   \n",
       "1      Alaska                 AK                 Doctorate   \n",
       "2     Arizona                 AZ                 Doctorate   \n",
       "3    Arkansas                 AR                 Doctorate   \n",
       "4  California                 CA                 Doctorate   \n",
       "\n",
       "   Average Age of Mother (years)  \n",
       "0                           33.1  \n",
       "1                           34.2  \n",
       "2                           33.9  \n",
       "3                           32.6  \n",
       "4                           34.8  "
      ]
     },
     "execution_count": 177,
     "metadata": {},
     "output_type": "execute_result"
    }
   ],
   "source": [
    "average_age_df_map = df[(df['Education Level of Mother'] == 'Doctorate')].groupby(['State', 'State Abbreviation', 'Education Level of Mother'])['Average Age of Mother (years)'].mean().round(1).reset_index()\n",
    "average_age_df_map.head()"
   ]
  },
  {
   "cell_type": "code",
   "execution_count": 178,
   "metadata": {},
   "outputs": [
    {
     "data": {
      "application/vnd.plotly.v1+json": {
       "config": {
        "plotlyServerURL": "https://plot.ly"
       },
       "data": [
        {
         "colorbar": {
          "title": {
           "text": "Average Age of Mother"
          }
         },
         "colorscale": [
          [
           0,
           "rgb(247,251,255)"
          ],
          [
           0.125,
           "rgb(222,235,247)"
          ],
          [
           0.25,
           "rgb(198,219,239)"
          ],
          [
           0.375,
           "rgb(158,202,225)"
          ],
          [
           0.5,
           "rgb(107,174,214)"
          ],
          [
           0.625,
           "rgb(66,146,198)"
          ],
          [
           0.75,
           "rgb(33,113,181)"
          ],
          [
           0.875,
           "rgb(8,81,156)"
          ],
          [
           1,
           "rgb(8,48,107)"
          ]
         ],
         "hovertemplate": "State: %{location}<br>Average Age: %{text:.1f}<extra></extra>",
         "locationmode": "USA-states",
         "locations": [
          "AL",
          "AK",
          "AZ",
          "AR",
          "CA",
          "CO",
          "CT",
          "DE",
          "FL",
          "GA",
          "HI",
          "ID",
          "IL",
          "IN",
          "IA",
          "KS",
          "KY",
          "LA",
          "ME",
          "MD",
          "MA",
          "MI",
          "MN",
          "MS",
          "MO",
          "MT",
          "NE",
          "NV",
          "NH",
          "NJ",
          "NM",
          "NY",
          "NC",
          "ND",
          "OH",
          "OK",
          "OR",
          "PA",
          "RI",
          "SC",
          "SD",
          "TN",
          "TX",
          "UT",
          "VT",
          "VA",
          "WA",
          "WV",
          "WI",
          "WY"
         ],
         "marker": {
          "line": {
           "width": 2
          }
         },
         "text": [
          33.1,
          34.2,
          33.9,
          32.6,
          34.8,
          34.4,
          34.3,
          33.8,
          33.8,
          34,
          34.6,
          33.5,
          33.9,
          33.2,
          32.7,
          33,
          32.9,
          33.3,
          33.7,
          34.6,
          34.5,
          33.3,
          33.5,
          32.8,
          33.1,
          33.7,
          32.8,
          34.2,
          34.2,
          34.3,
          33.9,
          34.4,
          33.8,
          32.5,
          33.2,
          32.9,
          34.4,
          33.8,
          34.1,
          33.4,
          32.2,
          33.4,
          33.8,
          33.6,
          34.4,
          34.3,
          34.5,
          33,
          33.4,
          33.3
         ],
         "type": "choropleth",
         "z": [
          33.1,
          34.2,
          33.9,
          32.6,
          34.8,
          34.4,
          34.3,
          33.8,
          33.8,
          34,
          34.6,
          33.5,
          33.9,
          33.2,
          32.7,
          33,
          32.9,
          33.3,
          33.7,
          34.6,
          34.5,
          33.3,
          33.5,
          32.8,
          33.1,
          33.7,
          32.8,
          34.2,
          34.2,
          34.3,
          33.9,
          34.4,
          33.8,
          32.5,
          33.2,
          32.9,
          34.4,
          33.8,
          34.1,
          33.4,
          32.2,
          33.4,
          33.8,
          33.6,
          34.4,
          34.3,
          34.5,
          33,
          33.4,
          33.3
         ]
        }
       ],
       "layout": {
        "geo": {
         "lakecolor": "rgb(255, 255, 255)",
         "lataxis": {
          "range": [
           -90,
           90
          ]
         },
         "lonaxis": {
          "range": [
           -180,
           0
          ]
         },
         "projection": {
          "scale": 1
         },
         "scope": "usa",
         "showlakes": true
        },
        "height": 600,
        "template": {
         "data": {
          "bar": [
           {
            "error_x": {
             "color": "#2a3f5f"
            },
            "error_y": {
             "color": "#2a3f5f"
            },
            "marker": {
             "line": {
              "color": "#E5ECF6",
              "width": 0.5
             },
             "pattern": {
              "fillmode": "overlay",
              "size": 10,
              "solidity": 0.2
             }
            },
            "type": "bar"
           }
          ],
          "barpolar": [
           {
            "marker": {
             "line": {
              "color": "#E5ECF6",
              "width": 0.5
             },
             "pattern": {
              "fillmode": "overlay",
              "size": 10,
              "solidity": 0.2
             }
            },
            "type": "barpolar"
           }
          ],
          "carpet": [
           {
            "aaxis": {
             "endlinecolor": "#2a3f5f",
             "gridcolor": "white",
             "linecolor": "white",
             "minorgridcolor": "white",
             "startlinecolor": "#2a3f5f"
            },
            "baxis": {
             "endlinecolor": "#2a3f5f",
             "gridcolor": "white",
             "linecolor": "white",
             "minorgridcolor": "white",
             "startlinecolor": "#2a3f5f"
            },
            "type": "carpet"
           }
          ],
          "choropleth": [
           {
            "colorbar": {
             "outlinewidth": 0,
             "ticks": ""
            },
            "type": "choropleth"
           }
          ],
          "contour": [
           {
            "colorbar": {
             "outlinewidth": 0,
             "ticks": ""
            },
            "colorscale": [
             [
              0,
              "#0d0887"
             ],
             [
              0.1111111111111111,
              "#46039f"
             ],
             [
              0.2222222222222222,
              "#7201a8"
             ],
             [
              0.3333333333333333,
              "#9c179e"
             ],
             [
              0.4444444444444444,
              "#bd3786"
             ],
             [
              0.5555555555555556,
              "#d8576b"
             ],
             [
              0.6666666666666666,
              "#ed7953"
             ],
             [
              0.7777777777777778,
              "#fb9f3a"
             ],
             [
              0.8888888888888888,
              "#fdca26"
             ],
             [
              1,
              "#f0f921"
             ]
            ],
            "type": "contour"
           }
          ],
          "contourcarpet": [
           {
            "colorbar": {
             "outlinewidth": 0,
             "ticks": ""
            },
            "type": "contourcarpet"
           }
          ],
          "heatmap": [
           {
            "colorbar": {
             "outlinewidth": 0,
             "ticks": ""
            },
            "colorscale": [
             [
              0,
              "#0d0887"
             ],
             [
              0.1111111111111111,
              "#46039f"
             ],
             [
              0.2222222222222222,
              "#7201a8"
             ],
             [
              0.3333333333333333,
              "#9c179e"
             ],
             [
              0.4444444444444444,
              "#bd3786"
             ],
             [
              0.5555555555555556,
              "#d8576b"
             ],
             [
              0.6666666666666666,
              "#ed7953"
             ],
             [
              0.7777777777777778,
              "#fb9f3a"
             ],
             [
              0.8888888888888888,
              "#fdca26"
             ],
             [
              1,
              "#f0f921"
             ]
            ],
            "type": "heatmap"
           }
          ],
          "heatmapgl": [
           {
            "colorbar": {
             "outlinewidth": 0,
             "ticks": ""
            },
            "colorscale": [
             [
              0,
              "#0d0887"
             ],
             [
              0.1111111111111111,
              "#46039f"
             ],
             [
              0.2222222222222222,
              "#7201a8"
             ],
             [
              0.3333333333333333,
              "#9c179e"
             ],
             [
              0.4444444444444444,
              "#bd3786"
             ],
             [
              0.5555555555555556,
              "#d8576b"
             ],
             [
              0.6666666666666666,
              "#ed7953"
             ],
             [
              0.7777777777777778,
              "#fb9f3a"
             ],
             [
              0.8888888888888888,
              "#fdca26"
             ],
             [
              1,
              "#f0f921"
             ]
            ],
            "type": "heatmapgl"
           }
          ],
          "histogram": [
           {
            "marker": {
             "pattern": {
              "fillmode": "overlay",
              "size": 10,
              "solidity": 0.2
             }
            },
            "type": "histogram"
           }
          ],
          "histogram2d": [
           {
            "colorbar": {
             "outlinewidth": 0,
             "ticks": ""
            },
            "colorscale": [
             [
              0,
              "#0d0887"
             ],
             [
              0.1111111111111111,
              "#46039f"
             ],
             [
              0.2222222222222222,
              "#7201a8"
             ],
             [
              0.3333333333333333,
              "#9c179e"
             ],
             [
              0.4444444444444444,
              "#bd3786"
             ],
             [
              0.5555555555555556,
              "#d8576b"
             ],
             [
              0.6666666666666666,
              "#ed7953"
             ],
             [
              0.7777777777777778,
              "#fb9f3a"
             ],
             [
              0.8888888888888888,
              "#fdca26"
             ],
             [
              1,
              "#f0f921"
             ]
            ],
            "type": "histogram2d"
           }
          ],
          "histogram2dcontour": [
           {
            "colorbar": {
             "outlinewidth": 0,
             "ticks": ""
            },
            "colorscale": [
             [
              0,
              "#0d0887"
             ],
             [
              0.1111111111111111,
              "#46039f"
             ],
             [
              0.2222222222222222,
              "#7201a8"
             ],
             [
              0.3333333333333333,
              "#9c179e"
             ],
             [
              0.4444444444444444,
              "#bd3786"
             ],
             [
              0.5555555555555556,
              "#d8576b"
             ],
             [
              0.6666666666666666,
              "#ed7953"
             ],
             [
              0.7777777777777778,
              "#fb9f3a"
             ],
             [
              0.8888888888888888,
              "#fdca26"
             ],
             [
              1,
              "#f0f921"
             ]
            ],
            "type": "histogram2dcontour"
           }
          ],
          "mesh3d": [
           {
            "colorbar": {
             "outlinewidth": 0,
             "ticks": ""
            },
            "type": "mesh3d"
           }
          ],
          "parcoords": [
           {
            "line": {
             "colorbar": {
              "outlinewidth": 0,
              "ticks": ""
             }
            },
            "type": "parcoords"
           }
          ],
          "pie": [
           {
            "automargin": true,
            "type": "pie"
           }
          ],
          "scatter": [
           {
            "fillpattern": {
             "fillmode": "overlay",
             "size": 10,
             "solidity": 0.2
            },
            "type": "scatter"
           }
          ],
          "scatter3d": [
           {
            "line": {
             "colorbar": {
              "outlinewidth": 0,
              "ticks": ""
             }
            },
            "marker": {
             "colorbar": {
              "outlinewidth": 0,
              "ticks": ""
             }
            },
            "type": "scatter3d"
           }
          ],
          "scattercarpet": [
           {
            "marker": {
             "colorbar": {
              "outlinewidth": 0,
              "ticks": ""
             }
            },
            "type": "scattercarpet"
           }
          ],
          "scattergeo": [
           {
            "marker": {
             "colorbar": {
              "outlinewidth": 0,
              "ticks": ""
             }
            },
            "type": "scattergeo"
           }
          ],
          "scattergl": [
           {
            "marker": {
             "colorbar": {
              "outlinewidth": 0,
              "ticks": ""
             }
            },
            "type": "scattergl"
           }
          ],
          "scattermapbox": [
           {
            "marker": {
             "colorbar": {
              "outlinewidth": 0,
              "ticks": ""
             }
            },
            "type": "scattermapbox"
           }
          ],
          "scatterpolar": [
           {
            "marker": {
             "colorbar": {
              "outlinewidth": 0,
              "ticks": ""
             }
            },
            "type": "scatterpolar"
           }
          ],
          "scatterpolargl": [
           {
            "marker": {
             "colorbar": {
              "outlinewidth": 0,
              "ticks": ""
             }
            },
            "type": "scatterpolargl"
           }
          ],
          "scatterternary": [
           {
            "marker": {
             "colorbar": {
              "outlinewidth": 0,
              "ticks": ""
             }
            },
            "type": "scatterternary"
           }
          ],
          "surface": [
           {
            "colorbar": {
             "outlinewidth": 0,
             "ticks": ""
            },
            "colorscale": [
             [
              0,
              "#0d0887"
             ],
             [
              0.1111111111111111,
              "#46039f"
             ],
             [
              0.2222222222222222,
              "#7201a8"
             ],
             [
              0.3333333333333333,
              "#9c179e"
             ],
             [
              0.4444444444444444,
              "#bd3786"
             ],
             [
              0.5555555555555556,
              "#d8576b"
             ],
             [
              0.6666666666666666,
              "#ed7953"
             ],
             [
              0.7777777777777778,
              "#fb9f3a"
             ],
             [
              0.8888888888888888,
              "#fdca26"
             ],
             [
              1,
              "#f0f921"
             ]
            ],
            "type": "surface"
           }
          ],
          "table": [
           {
            "cells": {
             "fill": {
              "color": "#EBF0F8"
             },
             "line": {
              "color": "white"
             }
            },
            "header": {
             "fill": {
              "color": "#C8D4E3"
             },
             "line": {
              "color": "white"
             }
            },
            "type": "table"
           }
          ]
         },
         "layout": {
          "annotationdefaults": {
           "arrowcolor": "#2a3f5f",
           "arrowhead": 0,
           "arrowwidth": 1
          },
          "autotypenumbers": "strict",
          "coloraxis": {
           "colorbar": {
            "outlinewidth": 0,
            "ticks": ""
           }
          },
          "colorscale": {
           "diverging": [
            [
             0,
             "#8e0152"
            ],
            [
             0.1,
             "#c51b7d"
            ],
            [
             0.2,
             "#de77ae"
            ],
            [
             0.3,
             "#f1b6da"
            ],
            [
             0.4,
             "#fde0ef"
            ],
            [
             0.5,
             "#f7f7f7"
            ],
            [
             0.6,
             "#e6f5d0"
            ],
            [
             0.7,
             "#b8e186"
            ],
            [
             0.8,
             "#7fbc41"
            ],
            [
             0.9,
             "#4d9221"
            ],
            [
             1,
             "#276419"
            ]
           ],
           "sequential": [
            [
             0,
             "#0d0887"
            ],
            [
             0.1111111111111111,
             "#46039f"
            ],
            [
             0.2222222222222222,
             "#7201a8"
            ],
            [
             0.3333333333333333,
             "#9c179e"
            ],
            [
             0.4444444444444444,
             "#bd3786"
            ],
            [
             0.5555555555555556,
             "#d8576b"
            ],
            [
             0.6666666666666666,
             "#ed7953"
            ],
            [
             0.7777777777777778,
             "#fb9f3a"
            ],
            [
             0.8888888888888888,
             "#fdca26"
            ],
            [
             1,
             "#f0f921"
            ]
           ],
           "sequentialminus": [
            [
             0,
             "#0d0887"
            ],
            [
             0.1111111111111111,
             "#46039f"
            ],
            [
             0.2222222222222222,
             "#7201a8"
            ],
            [
             0.3333333333333333,
             "#9c179e"
            ],
            [
             0.4444444444444444,
             "#bd3786"
            ],
            [
             0.5555555555555556,
             "#d8576b"
            ],
            [
             0.6666666666666666,
             "#ed7953"
            ],
            [
             0.7777777777777778,
             "#fb9f3a"
            ],
            [
             0.8888888888888888,
             "#fdca26"
            ],
            [
             1,
             "#f0f921"
            ]
           ]
          },
          "colorway": [
           "#636efa",
           "#EF553B",
           "#00cc96",
           "#ab63fa",
           "#FFA15A",
           "#19d3f3",
           "#FF6692",
           "#B6E880",
           "#FF97FF",
           "#FECB52"
          ],
          "font": {
           "color": "#2a3f5f"
          },
          "geo": {
           "bgcolor": "white",
           "lakecolor": "white",
           "landcolor": "#E5ECF6",
           "showlakes": true,
           "showland": true,
           "subunitcolor": "white"
          },
          "hoverlabel": {
           "align": "left"
          },
          "hovermode": "closest",
          "mapbox": {
           "style": "light"
          },
          "paper_bgcolor": "white",
          "plot_bgcolor": "#E5ECF6",
          "polar": {
           "angularaxis": {
            "gridcolor": "white",
            "linecolor": "white",
            "ticks": ""
           },
           "bgcolor": "#E5ECF6",
           "radialaxis": {
            "gridcolor": "white",
            "linecolor": "white",
            "ticks": ""
           }
          },
          "scene": {
           "xaxis": {
            "backgroundcolor": "#E5ECF6",
            "gridcolor": "white",
            "gridwidth": 2,
            "linecolor": "white",
            "showbackground": true,
            "ticks": "",
            "zerolinecolor": "white"
           },
           "yaxis": {
            "backgroundcolor": "#E5ECF6",
            "gridcolor": "white",
            "gridwidth": 2,
            "linecolor": "white",
            "showbackground": true,
            "ticks": "",
            "zerolinecolor": "white"
           },
           "zaxis": {
            "backgroundcolor": "#E5ECF6",
            "gridcolor": "white",
            "gridwidth": 2,
            "linecolor": "white",
            "showbackground": true,
            "ticks": "",
            "zerolinecolor": "white"
           }
          },
          "shapedefaults": {
           "line": {
            "color": "#2a3f5f"
           }
          },
          "ternary": {
           "aaxis": {
            "gridcolor": "white",
            "linecolor": "white",
            "ticks": ""
           },
           "baxis": {
            "gridcolor": "white",
            "linecolor": "white",
            "ticks": ""
           },
           "bgcolor": "#E5ECF6",
           "caxis": {
            "gridcolor": "white",
            "linecolor": "white",
            "ticks": ""
           }
          },
          "title": {
           "x": 0.05
          },
          "xaxis": {
           "automargin": true,
           "gridcolor": "white",
           "linecolor": "white",
           "ticks": "",
           "title": {
            "standoff": 15
           },
           "zerolinecolor": "white",
           "zerolinewidth": 2
          },
          "yaxis": {
           "automargin": true,
           "gridcolor": "white",
           "linecolor": "white",
           "ticks": "",
           "title": {
            "standoff": 15
           },
           "zerolinecolor": "white",
           "zerolinewidth": 2
          }
         }
        },
        "width": 1200
       }
      }
     },
     "metadata": {},
     "output_type": "display_data"
    }
   ],
   "source": [
    "map_fig = go.Figure(\n",
    "    data = go.Choropleth(\n",
    "    locations = average_age_df_map['State Abbreviation'], # Spatial coordinates\n",
    "    z = average_age_df_map['Average Age of Mother (years)'].astype(float), # Data to be color-coded\n",
    "    locationmode = 'USA-states', # set of locations match entries in `locations`\n",
    "    colorscale = 'Blues',\n",
    "    colorbar_title = \"Average Age of Mother\",\n",
    "    marker_line_width = 2,\n",
    "    text = average_age_df_map['Average Age of Mother (years)'],\n",
    "    hovertemplate = 'State: %{location}<br>Average Age: %{text:.1f}<extra></extra>'\n",
    "    ),\n",
    "    layout = dict(\n",
    "                width = 1200,     \n",
    "                height = 600\n",
    "            )\n",
    ")   \n",
    "\n",
    "map_fig.update_layout(\n",
    "    #title_text = ('Percentage of Births by State<br>' + 'Education Level of Mother: ' + ed_level_selected + '<br>' + 'Year: ' + year_title),\n",
    "    geo = dict(\n",
    "        scope = 'usa',\n",
    "        showlakes = True,\n",
    "        lakecolor = 'rgb(255, 255, 255)',\n",
    "        projection_scale = 1,  # Adjust the scale to fit the map on the screen\n",
    "        lonaxis=dict(range=[-180, 0]),  # Adjust the longitude range to be from -180 to 0\n",
    "        lataxis=dict(range=[-90, 90]),  # Adjust the latitude range\n",
    "    ),\n",
    "    #width = 2000,  # Adjust the width of the map container\n",
    "    #height=800,  # Adjust the height of the map container\n",
    "        \n",
    "    )"
   ]
  },
  {
   "cell_type": "code",
   "execution_count": 23,
   "metadata": {},
   "outputs": [
    {
     "data": {
      "text/html": [
       "<div>\n",
       "<style scoped>\n",
       "    .dataframe tbody tr th:only-of-type {\n",
       "        vertical-align: middle;\n",
       "    }\n",
       "\n",
       "    .dataframe tbody tr th {\n",
       "        vertical-align: top;\n",
       "    }\n",
       "\n",
       "    .dataframe thead th {\n",
       "        text-align: right;\n",
       "    }\n",
       "</style>\n",
       "<table border=\"1\" class=\"dataframe\">\n",
       "  <thead>\n",
       "    <tr style=\"text-align: right;\">\n",
       "      <th></th>\n",
       "      <th>State</th>\n",
       "      <th>Education Level of Mother</th>\n",
       "      <th>Number of Births_by ed level</th>\n",
       "      <th>Number of Births_by state</th>\n",
       "    </tr>\n",
       "  </thead>\n",
       "  <tbody>\n",
       "    <tr>\n",
       "      <th>0</th>\n",
       "      <td>Alabama</td>\n",
       "      <td>9th &gt; 12th Grade</td>\n",
       "      <td>5612</td>\n",
       "      <td>57647</td>\n",
       "    </tr>\n",
       "    <tr>\n",
       "      <th>1</th>\n",
       "      <td>Alabama</td>\n",
       "      <td>&gt; 8th Grade</td>\n",
       "      <td>2294</td>\n",
       "      <td>57647</td>\n",
       "    </tr>\n",
       "    <tr>\n",
       "      <th>2</th>\n",
       "      <td>Alabama</td>\n",
       "      <td>Associate Degree</td>\n",
       "      <td>5096</td>\n",
       "      <td>57647</td>\n",
       "    </tr>\n",
       "    <tr>\n",
       "      <th>3</th>\n",
       "      <td>Alabama</td>\n",
       "      <td>Bahcelor's Degree</td>\n",
       "      <td>8850</td>\n",
       "      <td>57647</td>\n",
       "    </tr>\n",
       "    <tr>\n",
       "      <th>4</th>\n",
       "      <td>Alabama</td>\n",
       "      <td>Doctorate</td>\n",
       "      <td>1121</td>\n",
       "      <td>57647</td>\n",
       "    </tr>\n",
       "    <tr>\n",
       "      <th>...</th>\n",
       "      <td>...</td>\n",
       "      <td>...</td>\n",
       "      <td>...</td>\n",
       "      <td>...</td>\n",
       "    </tr>\n",
       "    <tr>\n",
       "      <th>453</th>\n",
       "      <td>Wyoming</td>\n",
       "      <td>Doctorate</td>\n",
       "      <td>109</td>\n",
       "      <td>6128</td>\n",
       "    </tr>\n",
       "    <tr>\n",
       "      <th>454</th>\n",
       "      <td>Wyoming</td>\n",
       "      <td>High School Grad</td>\n",
       "      <td>1542</td>\n",
       "      <td>6128</td>\n",
       "    </tr>\n",
       "    <tr>\n",
       "      <th>455</th>\n",
       "      <td>Wyoming</td>\n",
       "      <td>Master's Degree</td>\n",
       "      <td>445</td>\n",
       "      <td>6128</td>\n",
       "    </tr>\n",
       "    <tr>\n",
       "      <th>456</th>\n",
       "      <td>Wyoming</td>\n",
       "      <td>Some College Credit</td>\n",
       "      <td>1514</td>\n",
       "      <td>6128</td>\n",
       "    </tr>\n",
       "    <tr>\n",
       "      <th>457</th>\n",
       "      <td>Wyoming</td>\n",
       "      <td>Unknown</td>\n",
       "      <td>58</td>\n",
       "      <td>6128</td>\n",
       "    </tr>\n",
       "  </tbody>\n",
       "</table>\n",
       "<p>458 rows × 4 columns</p>\n",
       "</div>"
      ],
      "text/plain": [
       "       State Education Level of Mother  Number of Births_by ed level  \\\n",
       "0    Alabama          9th > 12th Grade                          5612   \n",
       "1    Alabama               > 8th Grade                          2294   \n",
       "2    Alabama          Associate Degree                          5096   \n",
       "3    Alabama         Bahcelor's Degree                          8850   \n",
       "4    Alabama                 Doctorate                          1121   \n",
       "..       ...                       ...                           ...   \n",
       "453  Wyoming                 Doctorate                           109   \n",
       "454  Wyoming          High School Grad                          1542   \n",
       "455  Wyoming           Master's Degree                           445   \n",
       "456  Wyoming       Some College Credit                          1514   \n",
       "457  Wyoming                   Unknown                            58   \n",
       "\n",
       "     Number of Births_by state  \n",
       "0                        57647  \n",
       "1                        57647  \n",
       "2                        57647  \n",
       "3                        57647  \n",
       "4                        57647  \n",
       "..                         ...  \n",
       "453                       6128  \n",
       "454                       6128  \n",
       "455                       6128  \n",
       "456                       6128  \n",
       "457                       6128  \n",
       "\n",
       "[458 rows x 4 columns]"
      ]
     },
     "execution_count": 23,
     "metadata": {},
     "output_type": "execute_result"
    }
   ],
   "source": [
    "merged_df = df_by_ed_level_usa.merge(df_state_totals, on = 'State', suffixes = ('_by ed level', '_by state'))\n",
    "merged_df"
   ]
  },
  {
   "cell_type": "code",
   "execution_count": 25,
   "metadata": {},
   "outputs": [
    {
     "data": {
      "text/html": [
       "<div>\n",
       "<style scoped>\n",
       "    .dataframe tbody tr th:only-of-type {\n",
       "        vertical-align: middle;\n",
       "    }\n",
       "\n",
       "    .dataframe tbody tr th {\n",
       "        vertical-align: top;\n",
       "    }\n",
       "\n",
       "    .dataframe thead th {\n",
       "        text-align: right;\n",
       "    }\n",
       "</style>\n",
       "<table border=\"1\" class=\"dataframe\">\n",
       "  <thead>\n",
       "    <tr style=\"text-align: right;\">\n",
       "      <th></th>\n",
       "      <th>State</th>\n",
       "      <th>Education Level of Mother</th>\n",
       "      <th>Number of Births_by ed level</th>\n",
       "      <th>Number of Births_by state</th>\n",
       "      <th>Percentage of Births by Education Level</th>\n",
       "    </tr>\n",
       "  </thead>\n",
       "  <tbody>\n",
       "    <tr>\n",
       "      <th>0</th>\n",
       "      <td>Alabama</td>\n",
       "      <td>9th &gt; 12th Grade</td>\n",
       "      <td>5612</td>\n",
       "      <td>57647</td>\n",
       "      <td>9.74</td>\n",
       "    </tr>\n",
       "    <tr>\n",
       "      <th>1</th>\n",
       "      <td>Alabama</td>\n",
       "      <td>&gt; 8th Grade</td>\n",
       "      <td>2294</td>\n",
       "      <td>57647</td>\n",
       "      <td>3.98</td>\n",
       "    </tr>\n",
       "    <tr>\n",
       "      <th>2</th>\n",
       "      <td>Alabama</td>\n",
       "      <td>Associate Degree</td>\n",
       "      <td>5096</td>\n",
       "      <td>57647</td>\n",
       "      <td>8.84</td>\n",
       "    </tr>\n",
       "    <tr>\n",
       "      <th>3</th>\n",
       "      <td>Alabama</td>\n",
       "      <td>Bahcelor's Degree</td>\n",
       "      <td>8850</td>\n",
       "      <td>57647</td>\n",
       "      <td>15.35</td>\n",
       "    </tr>\n",
       "    <tr>\n",
       "      <th>4</th>\n",
       "      <td>Alabama</td>\n",
       "      <td>Doctorate</td>\n",
       "      <td>1121</td>\n",
       "      <td>57647</td>\n",
       "      <td>1.94</td>\n",
       "    </tr>\n",
       "    <tr>\n",
       "      <th>5</th>\n",
       "      <td>Alabama</td>\n",
       "      <td>High School Grad</td>\n",
       "      <td>19011</td>\n",
       "      <td>57647</td>\n",
       "      <td>32.98</td>\n",
       "    </tr>\n",
       "    <tr>\n",
       "      <th>6</th>\n",
       "      <td>Alabama</td>\n",
       "      <td>Master's Degree</td>\n",
       "      <td>4076</td>\n",
       "      <td>57647</td>\n",
       "      <td>7.07</td>\n",
       "    </tr>\n",
       "    <tr>\n",
       "      <th>7</th>\n",
       "      <td>Alabama</td>\n",
       "      <td>Some College Credit</td>\n",
       "      <td>11508</td>\n",
       "      <td>57647</td>\n",
       "      <td>19.96</td>\n",
       "    </tr>\n",
       "    <tr>\n",
       "      <th>8</th>\n",
       "      <td>Alabama</td>\n",
       "      <td>Unknown</td>\n",
       "      <td>79</td>\n",
       "      <td>57647</td>\n",
       "      <td>0.14</td>\n",
       "    </tr>\n",
       "    <tr>\n",
       "      <th>9</th>\n",
       "      <td>Alaska</td>\n",
       "      <td>9th &gt; 12th Grade</td>\n",
       "      <td>735</td>\n",
       "      <td>9469</td>\n",
       "      <td>7.76</td>\n",
       "    </tr>\n",
       "    <tr>\n",
       "      <th>10</th>\n",
       "      <td>Alaska</td>\n",
       "      <td>&gt; 8th Grade</td>\n",
       "      <td>53</td>\n",
       "      <td>9469</td>\n",
       "      <td>0.56</td>\n",
       "    </tr>\n",
       "    <tr>\n",
       "      <th>11</th>\n",
       "      <td>Alaska</td>\n",
       "      <td>Associate Degree</td>\n",
       "      <td>813</td>\n",
       "      <td>9469</td>\n",
       "      <td>8.59</td>\n",
       "    </tr>\n",
       "    <tr>\n",
       "      <th>12</th>\n",
       "      <td>Alaska</td>\n",
       "      <td>Bahcelor's Degree</td>\n",
       "      <td>1579</td>\n",
       "      <td>9469</td>\n",
       "      <td>16.68</td>\n",
       "    </tr>\n",
       "    <tr>\n",
       "      <th>13</th>\n",
       "      <td>Alaska</td>\n",
       "      <td>Doctorate</td>\n",
       "      <td>230</td>\n",
       "      <td>9469</td>\n",
       "      <td>2.43</td>\n",
       "    </tr>\n",
       "    <tr>\n",
       "      <th>14</th>\n",
       "      <td>Alaska</td>\n",
       "      <td>High School Grad</td>\n",
       "      <td>2994</td>\n",
       "      <td>9469</td>\n",
       "      <td>31.62</td>\n",
       "    </tr>\n",
       "    <tr>\n",
       "      <th>15</th>\n",
       "      <td>Alaska</td>\n",
       "      <td>Master's Degree</td>\n",
       "      <td>612</td>\n",
       "      <td>9469</td>\n",
       "      <td>6.46</td>\n",
       "    </tr>\n",
       "    <tr>\n",
       "      <th>16</th>\n",
       "      <td>Alaska</td>\n",
       "      <td>Some College Credit</td>\n",
       "      <td>2300</td>\n",
       "      <td>9469</td>\n",
       "      <td>24.29</td>\n",
       "    </tr>\n",
       "    <tr>\n",
       "      <th>17</th>\n",
       "      <td>Alaska</td>\n",
       "      <td>Unknown</td>\n",
       "      <td>153</td>\n",
       "      <td>9469</td>\n",
       "      <td>1.62</td>\n",
       "    </tr>\n",
       "    <tr>\n",
       "      <th>18</th>\n",
       "      <td>Arizona</td>\n",
       "      <td>9th &gt; 12th Grade</td>\n",
       "      <td>9553</td>\n",
       "      <td>76947</td>\n",
       "      <td>12.42</td>\n",
       "    </tr>\n",
       "    <tr>\n",
       "      <th>19</th>\n",
       "      <td>Arizona</td>\n",
       "      <td>&gt; 8th Grade</td>\n",
       "      <td>1958</td>\n",
       "      <td>76947</td>\n",
       "      <td>2.54</td>\n",
       "    </tr>\n",
       "    <tr>\n",
       "      <th>20</th>\n",
       "      <td>Arizona</td>\n",
       "      <td>Associate Degree</td>\n",
       "      <td>6703</td>\n",
       "      <td>76947</td>\n",
       "      <td>8.71</td>\n",
       "    </tr>\n",
       "    <tr>\n",
       "      <th>21</th>\n",
       "      <td>Arizona</td>\n",
       "      <td>Bahcelor's Degree</td>\n",
       "      <td>13262</td>\n",
       "      <td>76947</td>\n",
       "      <td>17.24</td>\n",
       "    </tr>\n",
       "    <tr>\n",
       "      <th>22</th>\n",
       "      <td>Arizona</td>\n",
       "      <td>Doctorate</td>\n",
       "      <td>1641</td>\n",
       "      <td>76947</td>\n",
       "      <td>2.13</td>\n",
       "    </tr>\n",
       "    <tr>\n",
       "      <th>23</th>\n",
       "      <td>Arizona</td>\n",
       "      <td>High School Grad</td>\n",
       "      <td>20860</td>\n",
       "      <td>76947</td>\n",
       "      <td>27.11</td>\n",
       "    </tr>\n",
       "    <tr>\n",
       "      <th>24</th>\n",
       "      <td>Arizona</td>\n",
       "      <td>Master's Degree</td>\n",
       "      <td>5026</td>\n",
       "      <td>76947</td>\n",
       "      <td>6.53</td>\n",
       "    </tr>\n",
       "    <tr>\n",
       "      <th>25</th>\n",
       "      <td>Arizona</td>\n",
       "      <td>Some College Credit</td>\n",
       "      <td>17562</td>\n",
       "      <td>76947</td>\n",
       "      <td>22.82</td>\n",
       "    </tr>\n",
       "    <tr>\n",
       "      <th>26</th>\n",
       "      <td>Arizona</td>\n",
       "      <td>Unknown</td>\n",
       "      <td>382</td>\n",
       "      <td>76947</td>\n",
       "      <td>0.50</td>\n",
       "    </tr>\n",
       "    <tr>\n",
       "      <th>27</th>\n",
       "      <td>Arkansas</td>\n",
       "      <td>9th &gt; 12th Grade</td>\n",
       "      <td>3672</td>\n",
       "      <td>35251</td>\n",
       "      <td>10.42</td>\n",
       "    </tr>\n",
       "    <tr>\n",
       "      <th>28</th>\n",
       "      <td>Arkansas</td>\n",
       "      <td>&gt; 8th Grade</td>\n",
       "      <td>823</td>\n",
       "      <td>35251</td>\n",
       "      <td>2.33</td>\n",
       "    </tr>\n",
       "    <tr>\n",
       "      <th>29</th>\n",
       "      <td>Arkansas</td>\n",
       "      <td>Associate Degree</td>\n",
       "      <td>2940</td>\n",
       "      <td>35251</td>\n",
       "      <td>8.34</td>\n",
       "    </tr>\n",
       "  </tbody>\n",
       "</table>\n",
       "</div>"
      ],
      "text/plain": [
       "       State Education Level of Mother  Number of Births_by ed level  \\\n",
       "0    Alabama          9th > 12th Grade                          5612   \n",
       "1    Alabama               > 8th Grade                          2294   \n",
       "2    Alabama          Associate Degree                          5096   \n",
       "3    Alabama         Bahcelor's Degree                          8850   \n",
       "4    Alabama                 Doctorate                          1121   \n",
       "5    Alabama          High School Grad                         19011   \n",
       "6    Alabama           Master's Degree                          4076   \n",
       "7    Alabama       Some College Credit                         11508   \n",
       "8    Alabama                   Unknown                            79   \n",
       "9     Alaska          9th > 12th Grade                           735   \n",
       "10    Alaska               > 8th Grade                            53   \n",
       "11    Alaska          Associate Degree                           813   \n",
       "12    Alaska         Bahcelor's Degree                          1579   \n",
       "13    Alaska                 Doctorate                           230   \n",
       "14    Alaska          High School Grad                          2994   \n",
       "15    Alaska           Master's Degree                           612   \n",
       "16    Alaska       Some College Credit                          2300   \n",
       "17    Alaska                   Unknown                           153   \n",
       "18   Arizona          9th > 12th Grade                          9553   \n",
       "19   Arizona               > 8th Grade                          1958   \n",
       "20   Arizona          Associate Degree                          6703   \n",
       "21   Arizona         Bahcelor's Degree                         13262   \n",
       "22   Arizona                 Doctorate                          1641   \n",
       "23   Arizona          High School Grad                         20860   \n",
       "24   Arizona           Master's Degree                          5026   \n",
       "25   Arizona       Some College Credit                         17562   \n",
       "26   Arizona                   Unknown                           382   \n",
       "27  Arkansas          9th > 12th Grade                          3672   \n",
       "28  Arkansas               > 8th Grade                           823   \n",
       "29  Arkansas          Associate Degree                          2940   \n",
       "\n",
       "    Number of Births_by state  Percentage of Births by Education Level  \n",
       "0                       57647                                     9.74  \n",
       "1                       57647                                     3.98  \n",
       "2                       57647                                     8.84  \n",
       "3                       57647                                    15.35  \n",
       "4                       57647                                     1.94  \n",
       "5                       57647                                    32.98  \n",
       "6                       57647                                     7.07  \n",
       "7                       57647                                    19.96  \n",
       "8                       57647                                     0.14  \n",
       "9                        9469                                     7.76  \n",
       "10                       9469                                     0.56  \n",
       "11                       9469                                     8.59  \n",
       "12                       9469                                    16.68  \n",
       "13                       9469                                     2.43  \n",
       "14                       9469                                    31.62  \n",
       "15                       9469                                     6.46  \n",
       "16                       9469                                    24.29  \n",
       "17                       9469                                     1.62  \n",
       "18                      76947                                    12.42  \n",
       "19                      76947                                     2.54  \n",
       "20                      76947                                     8.71  \n",
       "21                      76947                                    17.24  \n",
       "22                      76947                                     2.13  \n",
       "23                      76947                                    27.11  \n",
       "24                      76947                                     6.53  \n",
       "25                      76947                                    22.82  \n",
       "26                      76947                                     0.50  \n",
       "27                      35251                                    10.42  \n",
       "28                      35251                                     2.33  \n",
       "29                      35251                                     8.34  "
      ]
     },
     "execution_count": 25,
     "metadata": {},
     "output_type": "execute_result"
    }
   ],
   "source": [
    "merged_df['Percentage of Births by Education Level'] = ((merged_df['Number of Births_by ed level'] / merged_df['Number of Births_by state']) * 100).round(2)\n",
    "merged_df.head(30)"
   ]
  },
  {
   "cell_type": "code",
   "execution_count": 29,
   "metadata": {},
   "outputs": [
    {
     "data": {
      "text/html": [
       "<div>\n",
       "<style scoped>\n",
       "    .dataframe tbody tr th:only-of-type {\n",
       "        vertical-align: middle;\n",
       "    }\n",
       "\n",
       "    .dataframe tbody tr th {\n",
       "        vertical-align: top;\n",
       "    }\n",
       "\n",
       "    .dataframe thead th {\n",
       "        text-align: right;\n",
       "    }\n",
       "</style>\n",
       "<table border=\"1\" class=\"dataframe\">\n",
       "  <thead>\n",
       "    <tr style=\"text-align: right;\">\n",
       "      <th></th>\n",
       "      <th>index</th>\n",
       "      <th>State</th>\n",
       "      <th>Education Level of Mother</th>\n",
       "      <th>Number of Births_by ed level</th>\n",
       "      <th>Number of Births_by state</th>\n",
       "      <th>Percentage of Births by Education Level</th>\n",
       "    </tr>\n",
       "  </thead>\n",
       "  <tbody>\n",
       "    <tr>\n",
       "      <th>0</th>\n",
       "      <td>5</td>\n",
       "      <td>Alabama</td>\n",
       "      <td>High School Grad</td>\n",
       "      <td>19011</td>\n",
       "      <td>57647</td>\n",
       "      <td>32.98</td>\n",
       "    </tr>\n",
       "    <tr>\n",
       "      <th>1</th>\n",
       "      <td>14</td>\n",
       "      <td>Alaska</td>\n",
       "      <td>High School Grad</td>\n",
       "      <td>2994</td>\n",
       "      <td>9469</td>\n",
       "      <td>31.62</td>\n",
       "    </tr>\n",
       "    <tr>\n",
       "      <th>2</th>\n",
       "      <td>23</td>\n",
       "      <td>Arizona</td>\n",
       "      <td>High School Grad</td>\n",
       "      <td>20860</td>\n",
       "      <td>76947</td>\n",
       "      <td>27.11</td>\n",
       "    </tr>\n",
       "    <tr>\n",
       "      <th>3</th>\n",
       "      <td>32</td>\n",
       "      <td>Arkansas</td>\n",
       "      <td>High School Grad</td>\n",
       "      <td>11853</td>\n",
       "      <td>35251</td>\n",
       "      <td>33.62</td>\n",
       "    </tr>\n",
       "    <tr>\n",
       "      <th>4</th>\n",
       "      <td>41</td>\n",
       "      <td>California</td>\n",
       "      <td>High School Grad</td>\n",
       "      <td>99814</td>\n",
       "      <td>420259</td>\n",
       "      <td>23.75</td>\n",
       "    </tr>\n",
       "    <tr>\n",
       "      <th>5</th>\n",
       "      <td>50</td>\n",
       "      <td>Colorado</td>\n",
       "      <td>High School Grad</td>\n",
       "      <td>12544</td>\n",
       "      <td>61494</td>\n",
       "      <td>20.40</td>\n",
       "    </tr>\n",
       "    <tr>\n",
       "      <th>6</th>\n",
       "      <td>59</td>\n",
       "      <td>Connecticut</td>\n",
       "      <td>High School Grad</td>\n",
       "      <td>6570</td>\n",
       "      <td>33460</td>\n",
       "      <td>19.64</td>\n",
       "    </tr>\n",
       "    <tr>\n",
       "      <th>7</th>\n",
       "      <td>68</td>\n",
       "      <td>Delaware</td>\n",
       "      <td>High School Grad</td>\n",
       "      <td>2802</td>\n",
       "      <td>10392</td>\n",
       "      <td>26.96</td>\n",
       "    </tr>\n",
       "    <tr>\n",
       "      <th>8</th>\n",
       "      <td>77</td>\n",
       "      <td>District of Columbia</td>\n",
       "      <td>High School Grad</td>\n",
       "      <td>1797</td>\n",
       "      <td>8874</td>\n",
       "      <td>20.25</td>\n",
       "    </tr>\n",
       "    <tr>\n",
       "      <th>9</th>\n",
       "      <td>86</td>\n",
       "      <td>Florida</td>\n",
       "      <td>High School Grad</td>\n",
       "      <td>65185</td>\n",
       "      <td>209671</td>\n",
       "      <td>31.09</td>\n",
       "    </tr>\n",
       "    <tr>\n",
       "      <th>10</th>\n",
       "      <td>95</td>\n",
       "      <td>Georgia</td>\n",
       "      <td>High School Grad</td>\n",
       "      <td>39675</td>\n",
       "      <td>122473</td>\n",
       "      <td>32.39</td>\n",
       "    </tr>\n",
       "    <tr>\n",
       "      <th>11</th>\n",
       "      <td>104</td>\n",
       "      <td>Hawaii</td>\n",
       "      <td>High School Grad</td>\n",
       "      <td>2797</td>\n",
       "      <td>15785</td>\n",
       "      <td>17.72</td>\n",
       "    </tr>\n",
       "    <tr>\n",
       "      <th>12</th>\n",
       "      <td>113</td>\n",
       "      <td>Idaho</td>\n",
       "      <td>High School Grad</td>\n",
       "      <td>5395</td>\n",
       "      <td>21533</td>\n",
       "      <td>25.05</td>\n",
       "    </tr>\n",
       "    <tr>\n",
       "      <th>13</th>\n",
       "      <td>122</td>\n",
       "      <td>Illinois</td>\n",
       "      <td>High School Grad</td>\n",
       "      <td>30949</td>\n",
       "      <td>133298</td>\n",
       "      <td>23.22</td>\n",
       "    </tr>\n",
       "    <tr>\n",
       "      <th>14</th>\n",
       "      <td>131</td>\n",
       "      <td>Indiana</td>\n",
       "      <td>High School Grad</td>\n",
       "      <td>23434</td>\n",
       "      <td>78616</td>\n",
       "      <td>29.81</td>\n",
       "    </tr>\n",
       "    <tr>\n",
       "      <th>15</th>\n",
       "      <td>140</td>\n",
       "      <td>Iowa</td>\n",
       "      <td>High School Grad</td>\n",
       "      <td>9088</td>\n",
       "      <td>36114</td>\n",
       "      <td>25.16</td>\n",
       "    </tr>\n",
       "    <tr>\n",
       "      <th>16</th>\n",
       "      <td>149</td>\n",
       "      <td>Kansas</td>\n",
       "      <td>High School Grad</td>\n",
       "      <td>8766</td>\n",
       "      <td>34376</td>\n",
       "      <td>25.50</td>\n",
       "    </tr>\n",
       "    <tr>\n",
       "      <th>17</th>\n",
       "      <td>158</td>\n",
       "      <td>Kentucky</td>\n",
       "      <td>High School Grad</td>\n",
       "      <td>16102</td>\n",
       "      <td>51668</td>\n",
       "      <td>31.16</td>\n",
       "    </tr>\n",
       "    <tr>\n",
       "      <th>18</th>\n",
       "      <td>167</td>\n",
       "      <td>Louisiana</td>\n",
       "      <td>High School Grad</td>\n",
       "      <td>19770</td>\n",
       "      <td>57328</td>\n",
       "      <td>34.49</td>\n",
       "    </tr>\n",
       "    <tr>\n",
       "      <th>19</th>\n",
       "      <td>176</td>\n",
       "      <td>Maine</td>\n",
       "      <td>High School Grad</td>\n",
       "      <td>2892</td>\n",
       "      <td>11539</td>\n",
       "      <td>25.06</td>\n",
       "    </tr>\n",
       "    <tr>\n",
       "      <th>20</th>\n",
       "      <td>185</td>\n",
       "      <td>Maryland</td>\n",
       "      <td>High School Grad</td>\n",
       "      <td>14194</td>\n",
       "      <td>68554</td>\n",
       "      <td>20.70</td>\n",
       "    </tr>\n",
       "    <tr>\n",
       "      <th>21</th>\n",
       "      <td>194</td>\n",
       "      <td>Massachusetts</td>\n",
       "      <td>High School Grad</td>\n",
       "      <td>10978</td>\n",
       "      <td>66428</td>\n",
       "      <td>16.53</td>\n",
       "    </tr>\n",
       "    <tr>\n",
       "      <th>22</th>\n",
       "      <td>203</td>\n",
       "      <td>Michigan</td>\n",
       "      <td>High School Grad</td>\n",
       "      <td>27691</td>\n",
       "      <td>104074</td>\n",
       "      <td>26.61</td>\n",
       "    </tr>\n",
       "    <tr>\n",
       "      <th>23</th>\n",
       "      <td>212</td>\n",
       "      <td>Minnesota</td>\n",
       "      <td>High School Grad</td>\n",
       "      <td>10793</td>\n",
       "      <td>63443</td>\n",
       "      <td>17.01</td>\n",
       "    </tr>\n",
       "    <tr>\n",
       "      <th>24</th>\n",
       "      <td>221</td>\n",
       "      <td>Mississippi</td>\n",
       "      <td>High School Grad</td>\n",
       "      <td>10971</td>\n",
       "      <td>35473</td>\n",
       "      <td>30.93</td>\n",
       "    </tr>\n",
       "    <tr>\n",
       "      <th>25</th>\n",
       "      <td>230</td>\n",
       "      <td>Missouri</td>\n",
       "      <td>High School Grad</td>\n",
       "      <td>18065</td>\n",
       "      <td>69285</td>\n",
       "      <td>26.07</td>\n",
       "    </tr>\n",
       "    <tr>\n",
       "      <th>26</th>\n",
       "      <td>239</td>\n",
       "      <td>Montana</td>\n",
       "      <td>High School Grad</td>\n",
       "      <td>2803</td>\n",
       "      <td>10777</td>\n",
       "      <td>26.01</td>\n",
       "    </tr>\n",
       "    <tr>\n",
       "      <th>27</th>\n",
       "      <td>247</td>\n",
       "      <td>Nebraska</td>\n",
       "      <td>High School Grad</td>\n",
       "      <td>4807</td>\n",
       "      <td>24291</td>\n",
       "      <td>19.79</td>\n",
       "    </tr>\n",
       "    <tr>\n",
       "      <th>28</th>\n",
       "      <td>256</td>\n",
       "      <td>Nevada</td>\n",
       "      <td>High School Grad</td>\n",
       "      <td>10951</td>\n",
       "      <td>33653</td>\n",
       "      <td>32.54</td>\n",
       "    </tr>\n",
       "    <tr>\n",
       "      <th>29</th>\n",
       "      <td>265</td>\n",
       "      <td>New Hampshire</td>\n",
       "      <td>High School Grad</td>\n",
       "      <td>2463</td>\n",
       "      <td>11791</td>\n",
       "      <td>20.89</td>\n",
       "    </tr>\n",
       "    <tr>\n",
       "      <th>30</th>\n",
       "      <td>274</td>\n",
       "      <td>New Jersey</td>\n",
       "      <td>High School Grad</td>\n",
       "      <td>23010</td>\n",
       "      <td>97954</td>\n",
       "      <td>23.49</td>\n",
       "    </tr>\n",
       "    <tr>\n",
       "      <th>31</th>\n",
       "      <td>283</td>\n",
       "      <td>New Mexico</td>\n",
       "      <td>High School Grad</td>\n",
       "      <td>5645</td>\n",
       "      <td>21903</td>\n",
       "      <td>25.77</td>\n",
       "    </tr>\n",
       "    <tr>\n",
       "      <th>32</th>\n",
       "      <td>292</td>\n",
       "      <td>New York</td>\n",
       "      <td>High School Grad</td>\n",
       "      <td>48608</td>\n",
       "      <td>209338</td>\n",
       "      <td>23.22</td>\n",
       "    </tr>\n",
       "    <tr>\n",
       "      <th>33</th>\n",
       "      <td>301</td>\n",
       "      <td>North Carolina</td>\n",
       "      <td>High School Grad</td>\n",
       "      <td>29290</td>\n",
       "      <td>116730</td>\n",
       "      <td>25.09</td>\n",
       "    </tr>\n",
       "    <tr>\n",
       "      <th>34</th>\n",
       "      <td>310</td>\n",
       "      <td>North Dakota</td>\n",
       "      <td>High School Grad</td>\n",
       "      <td>2144</td>\n",
       "      <td>10059</td>\n",
       "      <td>21.31</td>\n",
       "    </tr>\n",
       "    <tr>\n",
       "      <th>35</th>\n",
       "      <td>319</td>\n",
       "      <td>Ohio</td>\n",
       "      <td>High School Grad</td>\n",
       "      <td>37407</td>\n",
       "      <td>129191</td>\n",
       "      <td>28.95</td>\n",
       "    </tr>\n",
       "    <tr>\n",
       "      <th>36</th>\n",
       "      <td>328</td>\n",
       "      <td>Oklahoma</td>\n",
       "      <td>High School Grad</td>\n",
       "      <td>14735</td>\n",
       "      <td>47623</td>\n",
       "      <td>30.94</td>\n",
       "    </tr>\n",
       "    <tr>\n",
       "      <th>37</th>\n",
       "      <td>337</td>\n",
       "      <td>Oregon</td>\n",
       "      <td>High School Grad</td>\n",
       "      <td>9376</td>\n",
       "      <td>39820</td>\n",
       "      <td>23.55</td>\n",
       "    </tr>\n",
       "    <tr>\n",
       "      <th>38</th>\n",
       "      <td>346</td>\n",
       "      <td>Pennsylvania</td>\n",
       "      <td>High School Grad</td>\n",
       "      <td>33519</td>\n",
       "      <td>130693</td>\n",
       "      <td>25.65</td>\n",
       "    </tr>\n",
       "    <tr>\n",
       "      <th>39</th>\n",
       "      <td>355</td>\n",
       "      <td>Rhode Island</td>\n",
       "      <td>High School Grad</td>\n",
       "      <td>2097</td>\n",
       "      <td>10101</td>\n",
       "      <td>20.76</td>\n",
       "    </tr>\n",
       "    <tr>\n",
       "      <th>40</th>\n",
       "      <td>364</td>\n",
       "      <td>South Carolina</td>\n",
       "      <td>High School Grad</td>\n",
       "      <td>14594</td>\n",
       "      <td>55704</td>\n",
       "      <td>26.20</td>\n",
       "    </tr>\n",
       "    <tr>\n",
       "      <th>41</th>\n",
       "      <td>373</td>\n",
       "      <td>South Dakota</td>\n",
       "      <td>High School Grad</td>\n",
       "      <td>2747</td>\n",
       "      <td>10960</td>\n",
       "      <td>25.06</td>\n",
       "    </tr>\n",
       "    <tr>\n",
       "      <th>42</th>\n",
       "      <td>382</td>\n",
       "      <td>Tennessee</td>\n",
       "      <td>High School Grad</td>\n",
       "      <td>22506</td>\n",
       "      <td>78689</td>\n",
       "      <td>28.60</td>\n",
       "    </tr>\n",
       "    <tr>\n",
       "      <th>43</th>\n",
       "      <td>391</td>\n",
       "      <td>Texas</td>\n",
       "      <td>High School Grad</td>\n",
       "      <td>107422</td>\n",
       "      <td>368190</td>\n",
       "      <td>29.18</td>\n",
       "    </tr>\n",
       "    <tr>\n",
       "      <th>44</th>\n",
       "      <td>400</td>\n",
       "      <td>Utah</td>\n",
       "      <td>High School Grad</td>\n",
       "      <td>8971</td>\n",
       "      <td>45702</td>\n",
       "      <td>19.63</td>\n",
       "    </tr>\n",
       "    <tr>\n",
       "      <th>45</th>\n",
       "      <td>409</td>\n",
       "      <td>Vermont</td>\n",
       "      <td>High School Grad</td>\n",
       "      <td>1201</td>\n",
       "      <td>5133</td>\n",
       "      <td>23.40</td>\n",
       "    </tr>\n",
       "    <tr>\n",
       "      <th>46</th>\n",
       "      <td>418</td>\n",
       "      <td>Virginia</td>\n",
       "      <td>High School Grad</td>\n",
       "      <td>25144</td>\n",
       "      <td>94749</td>\n",
       "      <td>26.54</td>\n",
       "    </tr>\n",
       "    <tr>\n",
       "      <th>47</th>\n",
       "      <td>427</td>\n",
       "      <td>Washington</td>\n",
       "      <td>High School Grad</td>\n",
       "      <td>17930</td>\n",
       "      <td>83086</td>\n",
       "      <td>21.58</td>\n",
       "    </tr>\n",
       "    <tr>\n",
       "      <th>48</th>\n",
       "      <td>436</td>\n",
       "      <td>West Virginia</td>\n",
       "      <td>High School Grad</td>\n",
       "      <td>5752</td>\n",
       "      <td>17323</td>\n",
       "      <td>33.20</td>\n",
       "    </tr>\n",
       "    <tr>\n",
       "      <th>49</th>\n",
       "      <td>445</td>\n",
       "      <td>Wisconsin</td>\n",
       "      <td>High School Grad</td>\n",
       "      <td>15101</td>\n",
       "      <td>60594</td>\n",
       "      <td>24.92</td>\n",
       "    </tr>\n",
       "    <tr>\n",
       "      <th>50</th>\n",
       "      <td>454</td>\n",
       "      <td>Wyoming</td>\n",
       "      <td>High School Grad</td>\n",
       "      <td>1542</td>\n",
       "      <td>6128</td>\n",
       "      <td>25.16</td>\n",
       "    </tr>\n",
       "  </tbody>\n",
       "</table>\n",
       "</div>"
      ],
      "text/plain": [
       "    index                 State Education Level of Mother  \\\n",
       "0       5               Alabama          High School Grad   \n",
       "1      14                Alaska          High School Grad   \n",
       "2      23               Arizona          High School Grad   \n",
       "3      32              Arkansas          High School Grad   \n",
       "4      41            California          High School Grad   \n",
       "5      50              Colorado          High School Grad   \n",
       "6      59           Connecticut          High School Grad   \n",
       "7      68              Delaware          High School Grad   \n",
       "8      77  District of Columbia          High School Grad   \n",
       "9      86               Florida          High School Grad   \n",
       "10     95               Georgia          High School Grad   \n",
       "11    104                Hawaii          High School Grad   \n",
       "12    113                 Idaho          High School Grad   \n",
       "13    122              Illinois          High School Grad   \n",
       "14    131               Indiana          High School Grad   \n",
       "15    140                  Iowa          High School Grad   \n",
       "16    149                Kansas          High School Grad   \n",
       "17    158              Kentucky          High School Grad   \n",
       "18    167             Louisiana          High School Grad   \n",
       "19    176                 Maine          High School Grad   \n",
       "20    185              Maryland          High School Grad   \n",
       "21    194         Massachusetts          High School Grad   \n",
       "22    203              Michigan          High School Grad   \n",
       "23    212             Minnesota          High School Grad   \n",
       "24    221           Mississippi          High School Grad   \n",
       "25    230              Missouri          High School Grad   \n",
       "26    239               Montana          High School Grad   \n",
       "27    247              Nebraska          High School Grad   \n",
       "28    256                Nevada          High School Grad   \n",
       "29    265         New Hampshire          High School Grad   \n",
       "30    274            New Jersey          High School Grad   \n",
       "31    283            New Mexico          High School Grad   \n",
       "32    292              New York          High School Grad   \n",
       "33    301        North Carolina          High School Grad   \n",
       "34    310          North Dakota          High School Grad   \n",
       "35    319                  Ohio          High School Grad   \n",
       "36    328              Oklahoma          High School Grad   \n",
       "37    337                Oregon          High School Grad   \n",
       "38    346          Pennsylvania          High School Grad   \n",
       "39    355          Rhode Island          High School Grad   \n",
       "40    364        South Carolina          High School Grad   \n",
       "41    373          South Dakota          High School Grad   \n",
       "42    382             Tennessee          High School Grad   \n",
       "43    391                 Texas          High School Grad   \n",
       "44    400                  Utah          High School Grad   \n",
       "45    409               Vermont          High School Grad   \n",
       "46    418              Virginia          High School Grad   \n",
       "47    427            Washington          High School Grad   \n",
       "48    436         West Virginia          High School Grad   \n",
       "49    445             Wisconsin          High School Grad   \n",
       "50    454               Wyoming          High School Grad   \n",
       "\n",
       "    Number of Births_by ed level  Number of Births_by state  \\\n",
       "0                          19011                      57647   \n",
       "1                           2994                       9469   \n",
       "2                          20860                      76947   \n",
       "3                          11853                      35251   \n",
       "4                          99814                     420259   \n",
       "5                          12544                      61494   \n",
       "6                           6570                      33460   \n",
       "7                           2802                      10392   \n",
       "8                           1797                       8874   \n",
       "9                          65185                     209671   \n",
       "10                         39675                     122473   \n",
       "11                          2797                      15785   \n",
       "12                          5395                      21533   \n",
       "13                         30949                     133298   \n",
       "14                         23434                      78616   \n",
       "15                          9088                      36114   \n",
       "16                          8766                      34376   \n",
       "17                         16102                      51668   \n",
       "18                         19770                      57328   \n",
       "19                          2892                      11539   \n",
       "20                         14194                      68554   \n",
       "21                         10978                      66428   \n",
       "22                         27691                     104074   \n",
       "23                         10793                      63443   \n",
       "24                         10971                      35473   \n",
       "25                         18065                      69285   \n",
       "26                          2803                      10777   \n",
       "27                          4807                      24291   \n",
       "28                         10951                      33653   \n",
       "29                          2463                      11791   \n",
       "30                         23010                      97954   \n",
       "31                          5645                      21903   \n",
       "32                         48608                     209338   \n",
       "33                         29290                     116730   \n",
       "34                          2144                      10059   \n",
       "35                         37407                     129191   \n",
       "36                         14735                      47623   \n",
       "37                          9376                      39820   \n",
       "38                         33519                     130693   \n",
       "39                          2097                      10101   \n",
       "40                         14594                      55704   \n",
       "41                          2747                      10960   \n",
       "42                         22506                      78689   \n",
       "43                        107422                     368190   \n",
       "44                          8971                      45702   \n",
       "45                          1201                       5133   \n",
       "46                         25144                      94749   \n",
       "47                         17930                      83086   \n",
       "48                          5752                      17323   \n",
       "49                         15101                      60594   \n",
       "50                          1542                       6128   \n",
       "\n",
       "    Percentage of Births by Education Level  \n",
       "0                                     32.98  \n",
       "1                                     31.62  \n",
       "2                                     27.11  \n",
       "3                                     33.62  \n",
       "4                                     23.75  \n",
       "5                                     20.40  \n",
       "6                                     19.64  \n",
       "7                                     26.96  \n",
       "8                                     20.25  \n",
       "9                                     31.09  \n",
       "10                                    32.39  \n",
       "11                                    17.72  \n",
       "12                                    25.05  \n",
       "13                                    23.22  \n",
       "14                                    29.81  \n",
       "15                                    25.16  \n",
       "16                                    25.50  \n",
       "17                                    31.16  \n",
       "18                                    34.49  \n",
       "19                                    25.06  \n",
       "20                                    20.70  \n",
       "21                                    16.53  \n",
       "22                                    26.61  \n",
       "23                                    17.01  \n",
       "24                                    30.93  \n",
       "25                                    26.07  \n",
       "26                                    26.01  \n",
       "27                                    19.79  \n",
       "28                                    32.54  \n",
       "29                                    20.89  \n",
       "30                                    23.49  \n",
       "31                                    25.77  \n",
       "32                                    23.22  \n",
       "33                                    25.09  \n",
       "34                                    21.31  \n",
       "35                                    28.95  \n",
       "36                                    30.94  \n",
       "37                                    23.55  \n",
       "38                                    25.65  \n",
       "39                                    20.76  \n",
       "40                                    26.20  \n",
       "41                                    25.06  \n",
       "42                                    28.60  \n",
       "43                                    29.18  \n",
       "44                                    19.63  \n",
       "45                                    23.40  \n",
       "46                                    26.54  \n",
       "47                                    21.58  \n",
       "48                                    33.20  \n",
       "49                                    24.92  \n",
       "50                                    25.16  "
      ]
     },
     "execution_count": 29,
     "metadata": {},
     "output_type": "execute_result"
    }
   ],
   "source": [
    "test = merged_df[(merged_df['Education Level of Mother'] == 'High School Grad')].reset_index()\n",
    "test"
   ]
  },
  {
   "cell_type": "code",
   "execution_count": 16,
   "metadata": {},
   "outputs": [
    {
     "data": {
      "application/vnd.plotly.v1+json": {
       "config": {
        "plotlyServerURL": "https://plot.ly"
       },
       "data": [
        {
         "alignmentgroup": "True",
         "hovertemplate": "Year=%{x}<br>Number of Births=%{y}<extra></extra>",
         "legendgroup": "",
         "marker": {
          "color": "#636efa",
          "pattern": {
           "shape": ""
          }
         },
         "name": "",
         "offsetgroup": "",
         "orientation": "v",
         "showlegend": false,
         "textposition": "auto",
         "type": "bar",
         "x": [
          2017,
          2018,
          2019,
          2020
         ],
         "xaxis": "x",
         "y": [
          1990,
          1856,
          2350,
          2294
         ],
         "yaxis": "y"
        }
       ],
       "layout": {
        "barmode": "relative",
        "legend": {
         "tracegroupgap": 0
        },
        "margin": {
         "t": 60
        },
        "template": {
         "data": {
          "bar": [
           {
            "error_x": {
             "color": "#2a3f5f"
            },
            "error_y": {
             "color": "#2a3f5f"
            },
            "marker": {
             "line": {
              "color": "#E5ECF6",
              "width": 0.5
             },
             "pattern": {
              "fillmode": "overlay",
              "size": 10,
              "solidity": 0.2
             }
            },
            "type": "bar"
           }
          ],
          "barpolar": [
           {
            "marker": {
             "line": {
              "color": "#E5ECF6",
              "width": 0.5
             },
             "pattern": {
              "fillmode": "overlay",
              "size": 10,
              "solidity": 0.2
             }
            },
            "type": "barpolar"
           }
          ],
          "carpet": [
           {
            "aaxis": {
             "endlinecolor": "#2a3f5f",
             "gridcolor": "white",
             "linecolor": "white",
             "minorgridcolor": "white",
             "startlinecolor": "#2a3f5f"
            },
            "baxis": {
             "endlinecolor": "#2a3f5f",
             "gridcolor": "white",
             "linecolor": "white",
             "minorgridcolor": "white",
             "startlinecolor": "#2a3f5f"
            },
            "type": "carpet"
           }
          ],
          "choropleth": [
           {
            "colorbar": {
             "outlinewidth": 0,
             "ticks": ""
            },
            "type": "choropleth"
           }
          ],
          "contour": [
           {
            "colorbar": {
             "outlinewidth": 0,
             "ticks": ""
            },
            "colorscale": [
             [
              0,
              "#0d0887"
             ],
             [
              0.1111111111111111,
              "#46039f"
             ],
             [
              0.2222222222222222,
              "#7201a8"
             ],
             [
              0.3333333333333333,
              "#9c179e"
             ],
             [
              0.4444444444444444,
              "#bd3786"
             ],
             [
              0.5555555555555556,
              "#d8576b"
             ],
             [
              0.6666666666666666,
              "#ed7953"
             ],
             [
              0.7777777777777778,
              "#fb9f3a"
             ],
             [
              0.8888888888888888,
              "#fdca26"
             ],
             [
              1,
              "#f0f921"
             ]
            ],
            "type": "contour"
           }
          ],
          "contourcarpet": [
           {
            "colorbar": {
             "outlinewidth": 0,
             "ticks": ""
            },
            "type": "contourcarpet"
           }
          ],
          "heatmap": [
           {
            "colorbar": {
             "outlinewidth": 0,
             "ticks": ""
            },
            "colorscale": [
             [
              0,
              "#0d0887"
             ],
             [
              0.1111111111111111,
              "#46039f"
             ],
             [
              0.2222222222222222,
              "#7201a8"
             ],
             [
              0.3333333333333333,
              "#9c179e"
             ],
             [
              0.4444444444444444,
              "#bd3786"
             ],
             [
              0.5555555555555556,
              "#d8576b"
             ],
             [
              0.6666666666666666,
              "#ed7953"
             ],
             [
              0.7777777777777778,
              "#fb9f3a"
             ],
             [
              0.8888888888888888,
              "#fdca26"
             ],
             [
              1,
              "#f0f921"
             ]
            ],
            "type": "heatmap"
           }
          ],
          "heatmapgl": [
           {
            "colorbar": {
             "outlinewidth": 0,
             "ticks": ""
            },
            "colorscale": [
             [
              0,
              "#0d0887"
             ],
             [
              0.1111111111111111,
              "#46039f"
             ],
             [
              0.2222222222222222,
              "#7201a8"
             ],
             [
              0.3333333333333333,
              "#9c179e"
             ],
             [
              0.4444444444444444,
              "#bd3786"
             ],
             [
              0.5555555555555556,
              "#d8576b"
             ],
             [
              0.6666666666666666,
              "#ed7953"
             ],
             [
              0.7777777777777778,
              "#fb9f3a"
             ],
             [
              0.8888888888888888,
              "#fdca26"
             ],
             [
              1,
              "#f0f921"
             ]
            ],
            "type": "heatmapgl"
           }
          ],
          "histogram": [
           {
            "marker": {
             "pattern": {
              "fillmode": "overlay",
              "size": 10,
              "solidity": 0.2
             }
            },
            "type": "histogram"
           }
          ],
          "histogram2d": [
           {
            "colorbar": {
             "outlinewidth": 0,
             "ticks": ""
            },
            "colorscale": [
             [
              0,
              "#0d0887"
             ],
             [
              0.1111111111111111,
              "#46039f"
             ],
             [
              0.2222222222222222,
              "#7201a8"
             ],
             [
              0.3333333333333333,
              "#9c179e"
             ],
             [
              0.4444444444444444,
              "#bd3786"
             ],
             [
              0.5555555555555556,
              "#d8576b"
             ],
             [
              0.6666666666666666,
              "#ed7953"
             ],
             [
              0.7777777777777778,
              "#fb9f3a"
             ],
             [
              0.8888888888888888,
              "#fdca26"
             ],
             [
              1,
              "#f0f921"
             ]
            ],
            "type": "histogram2d"
           }
          ],
          "histogram2dcontour": [
           {
            "colorbar": {
             "outlinewidth": 0,
             "ticks": ""
            },
            "colorscale": [
             [
              0,
              "#0d0887"
             ],
             [
              0.1111111111111111,
              "#46039f"
             ],
             [
              0.2222222222222222,
              "#7201a8"
             ],
             [
              0.3333333333333333,
              "#9c179e"
             ],
             [
              0.4444444444444444,
              "#bd3786"
             ],
             [
              0.5555555555555556,
              "#d8576b"
             ],
             [
              0.6666666666666666,
              "#ed7953"
             ],
             [
              0.7777777777777778,
              "#fb9f3a"
             ],
             [
              0.8888888888888888,
              "#fdca26"
             ],
             [
              1,
              "#f0f921"
             ]
            ],
            "type": "histogram2dcontour"
           }
          ],
          "mesh3d": [
           {
            "colorbar": {
             "outlinewidth": 0,
             "ticks": ""
            },
            "type": "mesh3d"
           }
          ],
          "parcoords": [
           {
            "line": {
             "colorbar": {
              "outlinewidth": 0,
              "ticks": ""
             }
            },
            "type": "parcoords"
           }
          ],
          "pie": [
           {
            "automargin": true,
            "type": "pie"
           }
          ],
          "scatter": [
           {
            "fillpattern": {
             "fillmode": "overlay",
             "size": 10,
             "solidity": 0.2
            },
            "type": "scatter"
           }
          ],
          "scatter3d": [
           {
            "line": {
             "colorbar": {
              "outlinewidth": 0,
              "ticks": ""
             }
            },
            "marker": {
             "colorbar": {
              "outlinewidth": 0,
              "ticks": ""
             }
            },
            "type": "scatter3d"
           }
          ],
          "scattercarpet": [
           {
            "marker": {
             "colorbar": {
              "outlinewidth": 0,
              "ticks": ""
             }
            },
            "type": "scattercarpet"
           }
          ],
          "scattergeo": [
           {
            "marker": {
             "colorbar": {
              "outlinewidth": 0,
              "ticks": ""
             }
            },
            "type": "scattergeo"
           }
          ],
          "scattergl": [
           {
            "marker": {
             "colorbar": {
              "outlinewidth": 0,
              "ticks": ""
             }
            },
            "type": "scattergl"
           }
          ],
          "scattermapbox": [
           {
            "marker": {
             "colorbar": {
              "outlinewidth": 0,
              "ticks": ""
             }
            },
            "type": "scattermapbox"
           }
          ],
          "scatterpolar": [
           {
            "marker": {
             "colorbar": {
              "outlinewidth": 0,
              "ticks": ""
             }
            },
            "type": "scatterpolar"
           }
          ],
          "scatterpolargl": [
           {
            "marker": {
             "colorbar": {
              "outlinewidth": 0,
              "ticks": ""
             }
            },
            "type": "scatterpolargl"
           }
          ],
          "scatterternary": [
           {
            "marker": {
             "colorbar": {
              "outlinewidth": 0,
              "ticks": ""
             }
            },
            "type": "scatterternary"
           }
          ],
          "surface": [
           {
            "colorbar": {
             "outlinewidth": 0,
             "ticks": ""
            },
            "colorscale": [
             [
              0,
              "#0d0887"
             ],
             [
              0.1111111111111111,
              "#46039f"
             ],
             [
              0.2222222222222222,
              "#7201a8"
             ],
             [
              0.3333333333333333,
              "#9c179e"
             ],
             [
              0.4444444444444444,
              "#bd3786"
             ],
             [
              0.5555555555555556,
              "#d8576b"
             ],
             [
              0.6666666666666666,
              "#ed7953"
             ],
             [
              0.7777777777777778,
              "#fb9f3a"
             ],
             [
              0.8888888888888888,
              "#fdca26"
             ],
             [
              1,
              "#f0f921"
             ]
            ],
            "type": "surface"
           }
          ],
          "table": [
           {
            "cells": {
             "fill": {
              "color": "#EBF0F8"
             },
             "line": {
              "color": "white"
             }
            },
            "header": {
             "fill": {
              "color": "#C8D4E3"
             },
             "line": {
              "color": "white"
             }
            },
            "type": "table"
           }
          ]
         },
         "layout": {
          "annotationdefaults": {
           "arrowcolor": "#2a3f5f",
           "arrowhead": 0,
           "arrowwidth": 1
          },
          "autotypenumbers": "strict",
          "coloraxis": {
           "colorbar": {
            "outlinewidth": 0,
            "ticks": ""
           }
          },
          "colorscale": {
           "diverging": [
            [
             0,
             "#8e0152"
            ],
            [
             0.1,
             "#c51b7d"
            ],
            [
             0.2,
             "#de77ae"
            ],
            [
             0.3,
             "#f1b6da"
            ],
            [
             0.4,
             "#fde0ef"
            ],
            [
             0.5,
             "#f7f7f7"
            ],
            [
             0.6,
             "#e6f5d0"
            ],
            [
             0.7,
             "#b8e186"
            ],
            [
             0.8,
             "#7fbc41"
            ],
            [
             0.9,
             "#4d9221"
            ],
            [
             1,
             "#276419"
            ]
           ],
           "sequential": [
            [
             0,
             "#0d0887"
            ],
            [
             0.1111111111111111,
             "#46039f"
            ],
            [
             0.2222222222222222,
             "#7201a8"
            ],
            [
             0.3333333333333333,
             "#9c179e"
            ],
            [
             0.4444444444444444,
             "#bd3786"
            ],
            [
             0.5555555555555556,
             "#d8576b"
            ],
            [
             0.6666666666666666,
             "#ed7953"
            ],
            [
             0.7777777777777778,
             "#fb9f3a"
            ],
            [
             0.8888888888888888,
             "#fdca26"
            ],
            [
             1,
             "#f0f921"
            ]
           ],
           "sequentialminus": [
            [
             0,
             "#0d0887"
            ],
            [
             0.1111111111111111,
             "#46039f"
            ],
            [
             0.2222222222222222,
             "#7201a8"
            ],
            [
             0.3333333333333333,
             "#9c179e"
            ],
            [
             0.4444444444444444,
             "#bd3786"
            ],
            [
             0.5555555555555556,
             "#d8576b"
            ],
            [
             0.6666666666666666,
             "#ed7953"
            ],
            [
             0.7777777777777778,
             "#fb9f3a"
            ],
            [
             0.8888888888888888,
             "#fdca26"
            ],
            [
             1,
             "#f0f921"
            ]
           ]
          },
          "colorway": [
           "#636efa",
           "#EF553B",
           "#00cc96",
           "#ab63fa",
           "#FFA15A",
           "#19d3f3",
           "#FF6692",
           "#B6E880",
           "#FF97FF",
           "#FECB52"
          ],
          "font": {
           "color": "#2a3f5f"
          },
          "geo": {
           "bgcolor": "white",
           "lakecolor": "white",
           "landcolor": "#E5ECF6",
           "showlakes": true,
           "showland": true,
           "subunitcolor": "white"
          },
          "hoverlabel": {
           "align": "left"
          },
          "hovermode": "closest",
          "mapbox": {
           "style": "light"
          },
          "paper_bgcolor": "white",
          "plot_bgcolor": "#E5ECF6",
          "polar": {
           "angularaxis": {
            "gridcolor": "white",
            "linecolor": "white",
            "ticks": ""
           },
           "bgcolor": "#E5ECF6",
           "radialaxis": {
            "gridcolor": "white",
            "linecolor": "white",
            "ticks": ""
           }
          },
          "scene": {
           "xaxis": {
            "backgroundcolor": "#E5ECF6",
            "gridcolor": "white",
            "gridwidth": 2,
            "linecolor": "white",
            "showbackground": true,
            "ticks": "",
            "zerolinecolor": "white"
           },
           "yaxis": {
            "backgroundcolor": "#E5ECF6",
            "gridcolor": "white",
            "gridwidth": 2,
            "linecolor": "white",
            "showbackground": true,
            "ticks": "",
            "zerolinecolor": "white"
           },
           "zaxis": {
            "backgroundcolor": "#E5ECF6",
            "gridcolor": "white",
            "gridwidth": 2,
            "linecolor": "white",
            "showbackground": true,
            "ticks": "",
            "zerolinecolor": "white"
           }
          },
          "shapedefaults": {
           "line": {
            "color": "#2a3f5f"
           }
          },
          "ternary": {
           "aaxis": {
            "gridcolor": "white",
            "linecolor": "white",
            "ticks": ""
           },
           "baxis": {
            "gridcolor": "white",
            "linecolor": "white",
            "ticks": ""
           },
           "bgcolor": "#E5ECF6",
           "caxis": {
            "gridcolor": "white",
            "linecolor": "white",
            "ticks": ""
           }
          },
          "title": {
           "x": 0.05
          },
          "xaxis": {
           "automargin": true,
           "gridcolor": "white",
           "linecolor": "white",
           "ticks": "",
           "title": {
            "standoff": 15
           },
           "zerolinecolor": "white",
           "zerolinewidth": 2
          },
          "yaxis": {
           "automargin": true,
           "gridcolor": "white",
           "linecolor": "white",
           "ticks": "",
           "title": {
            "standoff": 15
           },
           "zerolinecolor": "white",
           "zerolinewidth": 2
          }
         }
        },
        "title": {
         "text": "Number of Births by Year"
        },
        "xaxis": {
         "anchor": "y",
         "domain": [
          0,
          1
         ],
         "title": {
          "text": "Year"
         }
        },
        "yaxis": {
         "anchor": "x",
         "domain": [
          0,
          1
         ],
         "title": {
          "text": "Number of Births"
         }
        }
       }
      }
     },
     "metadata": {},
     "output_type": "display_data"
    }
   ],
   "source": [
    "                        dl.Map(\n",
    "                            style = {'width': '100%', 'height': '600px'},\n",
    "                            children = [\n",
    "                                dl.TileLayer(),\n",
    "                                dl.GeoJSON(data = us_states_GEOJSON, \n",
    "                                           id = 'state-layer', \n",
    "                                           options = {'style': {'color': 'blue'}},\n",
    "                                           hoverStyle = arrow_function(dict(weight = 10, color = '#666', dashArray = '')))\n",
    "                                           \n",
    "                            ], center = [37.0902, -95.7129], zoom = 4)"
   ]
  },
  {
   "cell_type": "code",
   "execution_count": 26,
   "metadata": {},
   "outputs": [
    {
     "data": {
      "text/html": [
       "<div>\n",
       "<style scoped>\n",
       "    .dataframe tbody tr th:only-of-type {\n",
       "        vertical-align: middle;\n",
       "    }\n",
       "\n",
       "    .dataframe tbody tr th {\n",
       "        vertical-align: top;\n",
       "    }\n",
       "\n",
       "    .dataframe thead th {\n",
       "        text-align: right;\n",
       "    }\n",
       "</style>\n",
       "<table border=\"1\" class=\"dataframe\">\n",
       "  <thead>\n",
       "    <tr style=\"text-align: right;\">\n",
       "      <th></th>\n",
       "      <th>State</th>\n",
       "      <th>State Abbreviation</th>\n",
       "      <th>Year</th>\n",
       "      <th>Gender</th>\n",
       "      <th>Education Level of Mother</th>\n",
       "      <th>Education Level Code</th>\n",
       "      <th>Number of Births</th>\n",
       "      <th>Avg. Age of Mother</th>\n",
       "      <th>Avg. Birth Weight in Grams</th>\n",
       "    </tr>\n",
       "  </thead>\n",
       "  <tbody>\n",
       "    <tr>\n",
       "      <th>0</th>\n",
       "      <td>Alabama</td>\n",
       "      <td>AL</td>\n",
       "      <td>2016</td>\n",
       "      <td>F</td>\n",
       "      <td>8th grade or less</td>\n",
       "      <td>1</td>\n",
       "      <td>1052</td>\n",
       "      <td>27.8</td>\n",
       "      <td>3116.9</td>\n",
       "    </tr>\n",
       "    <tr>\n",
       "      <th>1</th>\n",
       "      <td>Alabama</td>\n",
       "      <td>AL</td>\n",
       "      <td>2016</td>\n",
       "      <td>F</td>\n",
       "      <td>9th through 12th grade with no diploma</td>\n",
       "      <td>2</td>\n",
       "      <td>3436</td>\n",
       "      <td>24.1</td>\n",
       "      <td>3040.0</td>\n",
       "    </tr>\n",
       "    <tr>\n",
       "      <th>2</th>\n",
       "      <td>Alabama</td>\n",
       "      <td>AL</td>\n",
       "      <td>2016</td>\n",
       "      <td>F</td>\n",
       "      <td>High school graduate or GED completed</td>\n",
       "      <td>3</td>\n",
       "      <td>8777</td>\n",
       "      <td>25.4</td>\n",
       "      <td>3080.0</td>\n",
       "    </tr>\n",
       "    <tr>\n",
       "      <th>3</th>\n",
       "      <td>Alabama</td>\n",
       "      <td>AL</td>\n",
       "      <td>2016</td>\n",
       "      <td>F</td>\n",
       "      <td>Some college credit, but not a degree</td>\n",
       "      <td>4</td>\n",
       "      <td>6453</td>\n",
       "      <td>26.7</td>\n",
       "      <td>3121.9</td>\n",
       "    </tr>\n",
       "    <tr>\n",
       "      <th>4</th>\n",
       "      <td>Alabama</td>\n",
       "      <td>AL</td>\n",
       "      <td>2016</td>\n",
       "      <td>F</td>\n",
       "      <td>Associate degree (AA, AS)</td>\n",
       "      <td>5</td>\n",
       "      <td>2227</td>\n",
       "      <td>28.9</td>\n",
       "      <td>3174.3</td>\n",
       "    </tr>\n",
       "    <tr>\n",
       "      <th>5</th>\n",
       "      <td>Alabama</td>\n",
       "      <td>AL</td>\n",
       "      <td>2016</td>\n",
       "      <td>F</td>\n",
       "      <td>Bachelor's degree (BA, AB, BS)</td>\n",
       "      <td>6</td>\n",
       "      <td>4453</td>\n",
       "      <td>30.3</td>\n",
       "      <td>3239.0</td>\n",
       "    </tr>\n",
       "    <tr>\n",
       "      <th>6</th>\n",
       "      <td>Alabama</td>\n",
       "      <td>AL</td>\n",
       "      <td>2016</td>\n",
       "      <td>F</td>\n",
       "      <td>Master's degree (MA, MS, MEng, MEd, MSW, MBA)</td>\n",
       "      <td>7</td>\n",
       "      <td>1910</td>\n",
       "      <td>32.0</td>\n",
       "      <td>3263.5</td>\n",
       "    </tr>\n",
       "    <tr>\n",
       "      <th>7</th>\n",
       "      <td>Alabama</td>\n",
       "      <td>AL</td>\n",
       "      <td>2016</td>\n",
       "      <td>F</td>\n",
       "      <td>Doctorate (PhD, EdD) or Professional Degree (M...</td>\n",
       "      <td>8</td>\n",
       "      <td>487</td>\n",
       "      <td>33.1</td>\n",
       "      <td>3196.7</td>\n",
       "    </tr>\n",
       "    <tr>\n",
       "      <th>8</th>\n",
       "      <td>Alabama</td>\n",
       "      <td>AL</td>\n",
       "      <td>2016</td>\n",
       "      <td>F</td>\n",
       "      <td>Unknown or Not Stated</td>\n",
       "      <td>-9</td>\n",
       "      <td>65</td>\n",
       "      <td>27.7</td>\n",
       "      <td>3083.9</td>\n",
       "    </tr>\n",
       "    <tr>\n",
       "      <th>9</th>\n",
       "      <td>Alabama</td>\n",
       "      <td>AL</td>\n",
       "      <td>2016</td>\n",
       "      <td>M</td>\n",
       "      <td>8th grade or less</td>\n",
       "      <td>1</td>\n",
       "      <td>1188</td>\n",
       "      <td>27.6</td>\n",
       "      <td>3232.9</td>\n",
       "    </tr>\n",
       "    <tr>\n",
       "      <th>10</th>\n",
       "      <td>Alabama</td>\n",
       "      <td>AL</td>\n",
       "      <td>2016</td>\n",
       "      <td>M</td>\n",
       "      <td>9th through 12th grade with no diploma</td>\n",
       "      <td>2</td>\n",
       "      <td>3657</td>\n",
       "      <td>23.9</td>\n",
       "      <td>3121.2</td>\n",
       "    </tr>\n",
       "    <tr>\n",
       "      <th>11</th>\n",
       "      <td>Alabama</td>\n",
       "      <td>AL</td>\n",
       "      <td>2016</td>\n",
       "      <td>M</td>\n",
       "      <td>High school graduate or GED completed</td>\n",
       "      <td>3</td>\n",
       "      <td>9284</td>\n",
       "      <td>25.2</td>\n",
       "      <td>3197.9</td>\n",
       "    </tr>\n",
       "    <tr>\n",
       "      <th>12</th>\n",
       "      <td>Alabama</td>\n",
       "      <td>AL</td>\n",
       "      <td>2016</td>\n",
       "      <td>M</td>\n",
       "      <td>Some college credit, but not a degree</td>\n",
       "      <td>4</td>\n",
       "      <td>6516</td>\n",
       "      <td>26.7</td>\n",
       "      <td>3252.1</td>\n",
       "    </tr>\n",
       "    <tr>\n",
       "      <th>13</th>\n",
       "      <td>Alabama</td>\n",
       "      <td>AL</td>\n",
       "      <td>2016</td>\n",
       "      <td>M</td>\n",
       "      <td>Associate degree (AA, AS)</td>\n",
       "      <td>5</td>\n",
       "      <td>2460</td>\n",
       "      <td>29.0</td>\n",
       "      <td>3301.4</td>\n",
       "    </tr>\n",
       "    <tr>\n",
       "      <th>14</th>\n",
       "      <td>Alabama</td>\n",
       "      <td>AL</td>\n",
       "      <td>2016</td>\n",
       "      <td>M</td>\n",
       "      <td>Bachelor's degree (BA, AB, BS)</td>\n",
       "      <td>6</td>\n",
       "      <td>4645</td>\n",
       "      <td>30.3</td>\n",
       "      <td>3376.1</td>\n",
       "    </tr>\n",
       "    <tr>\n",
       "      <th>15</th>\n",
       "      <td>Alabama</td>\n",
       "      <td>AL</td>\n",
       "      <td>2016</td>\n",
       "      <td>M</td>\n",
       "      <td>Master's degree (MA, MS, MEng, MEd, MSW, MBA)</td>\n",
       "      <td>7</td>\n",
       "      <td>1974</td>\n",
       "      <td>32.2</td>\n",
       "      <td>3358.2</td>\n",
       "    </tr>\n",
       "    <tr>\n",
       "      <th>16</th>\n",
       "      <td>Alabama</td>\n",
       "      <td>AL</td>\n",
       "      <td>2016</td>\n",
       "      <td>M</td>\n",
       "      <td>Doctorate (PhD, EdD) or Professional Degree (M...</td>\n",
       "      <td>8</td>\n",
       "      <td>511</td>\n",
       "      <td>32.8</td>\n",
       "      <td>3368.4</td>\n",
       "    </tr>\n",
       "    <tr>\n",
       "      <th>17</th>\n",
       "      <td>Alabama</td>\n",
       "      <td>AL</td>\n",
       "      <td>2016</td>\n",
       "      <td>M</td>\n",
       "      <td>Unknown or Not Stated</td>\n",
       "      <td>-9</td>\n",
       "      <td>56</td>\n",
       "      <td>27.2</td>\n",
       "      <td>3107.7</td>\n",
       "    </tr>\n",
       "    <tr>\n",
       "      <th>18</th>\n",
       "      <td>Alabama</td>\n",
       "      <td>AL</td>\n",
       "      <td>2017</td>\n",
       "      <td>F</td>\n",
       "      <td>8th grade or less</td>\n",
       "      <td>1</td>\n",
       "      <td>1012</td>\n",
       "      <td>27.6</td>\n",
       "      <td>3139.6</td>\n",
       "    </tr>\n",
       "    <tr>\n",
       "      <th>19</th>\n",
       "      <td>Alabama</td>\n",
       "      <td>AL</td>\n",
       "      <td>2017</td>\n",
       "      <td>F</td>\n",
       "      <td>9th through 12th grade with no diploma</td>\n",
       "      <td>2</td>\n",
       "      <td>3283</td>\n",
       "      <td>24.4</td>\n",
       "      <td>3040.6</td>\n",
       "    </tr>\n",
       "    <tr>\n",
       "      <th>20</th>\n",
       "      <td>Alabama</td>\n",
       "      <td>AL</td>\n",
       "      <td>2017</td>\n",
       "      <td>F</td>\n",
       "      <td>High school graduate or GED completed</td>\n",
       "      <td>3</td>\n",
       "      <td>8962</td>\n",
       "      <td>25.4</td>\n",
       "      <td>3068.8</td>\n",
       "    </tr>\n",
       "    <tr>\n",
       "      <th>21</th>\n",
       "      <td>Alabama</td>\n",
       "      <td>AL</td>\n",
       "      <td>2017</td>\n",
       "      <td>F</td>\n",
       "      <td>Some college credit, but not a degree</td>\n",
       "      <td>4</td>\n",
       "      <td>6384</td>\n",
       "      <td>26.9</td>\n",
       "      <td>3112.3</td>\n",
       "    </tr>\n",
       "    <tr>\n",
       "      <th>22</th>\n",
       "      <td>Alabama</td>\n",
       "      <td>AL</td>\n",
       "      <td>2017</td>\n",
       "      <td>F</td>\n",
       "      <td>Associate degree (AA, AS)</td>\n",
       "      <td>5</td>\n",
       "      <td>2411</td>\n",
       "      <td>28.9</td>\n",
       "      <td>3197.2</td>\n",
       "    </tr>\n",
       "    <tr>\n",
       "      <th>23</th>\n",
       "      <td>Alabama</td>\n",
       "      <td>AL</td>\n",
       "      <td>2017</td>\n",
       "      <td>F</td>\n",
       "      <td>Bachelor's degree (BA, AB, BS)</td>\n",
       "      <td>6</td>\n",
       "      <td>4335</td>\n",
       "      <td>30.5</td>\n",
       "      <td>3259.2</td>\n",
       "    </tr>\n",
       "    <tr>\n",
       "      <th>24</th>\n",
       "      <td>Alabama</td>\n",
       "      <td>AL</td>\n",
       "      <td>2017</td>\n",
       "      <td>F</td>\n",
       "      <td>Master's degree (MA, MS, MEng, MEd, MSW, MBA)</td>\n",
       "      <td>7</td>\n",
       "      <td>1874</td>\n",
       "      <td>32.1</td>\n",
       "      <td>3251.7</td>\n",
       "    </tr>\n",
       "    <tr>\n",
       "      <th>25</th>\n",
       "      <td>Alabama</td>\n",
       "      <td>AL</td>\n",
       "      <td>2017</td>\n",
       "      <td>F</td>\n",
       "      <td>Doctorate (PhD, EdD) or Professional Degree (M...</td>\n",
       "      <td>8</td>\n",
       "      <td>551</td>\n",
       "      <td>33.1</td>\n",
       "      <td>3230.8</td>\n",
       "    </tr>\n",
       "    <tr>\n",
       "      <th>26</th>\n",
       "      <td>Alabama</td>\n",
       "      <td>AL</td>\n",
       "      <td>2017</td>\n",
       "      <td>F</td>\n",
       "      <td>Unknown or Not Stated</td>\n",
       "      <td>-9</td>\n",
       "      <td>62</td>\n",
       "      <td>28.0</td>\n",
       "      <td>3014.4</td>\n",
       "    </tr>\n",
       "    <tr>\n",
       "      <th>27</th>\n",
       "      <td>Alabama</td>\n",
       "      <td>AL</td>\n",
       "      <td>2017</td>\n",
       "      <td>M</td>\n",
       "      <td>8th grade or less</td>\n",
       "      <td>1</td>\n",
       "      <td>978</td>\n",
       "      <td>27.6</td>\n",
       "      <td>3229.8</td>\n",
       "    </tr>\n",
       "    <tr>\n",
       "      <th>28</th>\n",
       "      <td>Alabama</td>\n",
       "      <td>AL</td>\n",
       "      <td>2017</td>\n",
       "      <td>M</td>\n",
       "      <td>9th through 12th grade with no diploma</td>\n",
       "      <td>2</td>\n",
       "      <td>3345</td>\n",
       "      <td>23.9</td>\n",
       "      <td>3116.2</td>\n",
       "    </tr>\n",
       "    <tr>\n",
       "      <th>29</th>\n",
       "      <td>Alabama</td>\n",
       "      <td>AL</td>\n",
       "      <td>2017</td>\n",
       "      <td>M</td>\n",
       "      <td>High school graduate or GED completed</td>\n",
       "      <td>3</td>\n",
       "      <td>9403</td>\n",
       "      <td>25.4</td>\n",
       "      <td>3190.0</td>\n",
       "    </tr>\n",
       "  </tbody>\n",
       "</table>\n",
       "</div>"
      ],
      "text/plain": [
       "      State State Abbreviation  Year Gender  \\\n",
       "0   Alabama                 AL  2016      F   \n",
       "1   Alabama                 AL  2016      F   \n",
       "2   Alabama                 AL  2016      F   \n",
       "3   Alabama                 AL  2016      F   \n",
       "4   Alabama                 AL  2016      F   \n",
       "5   Alabama                 AL  2016      F   \n",
       "6   Alabama                 AL  2016      F   \n",
       "7   Alabama                 AL  2016      F   \n",
       "8   Alabama                 AL  2016      F   \n",
       "9   Alabama                 AL  2016      M   \n",
       "10  Alabama                 AL  2016      M   \n",
       "11  Alabama                 AL  2016      M   \n",
       "12  Alabama                 AL  2016      M   \n",
       "13  Alabama                 AL  2016      M   \n",
       "14  Alabama                 AL  2016      M   \n",
       "15  Alabama                 AL  2016      M   \n",
       "16  Alabama                 AL  2016      M   \n",
       "17  Alabama                 AL  2016      M   \n",
       "18  Alabama                 AL  2017      F   \n",
       "19  Alabama                 AL  2017      F   \n",
       "20  Alabama                 AL  2017      F   \n",
       "21  Alabama                 AL  2017      F   \n",
       "22  Alabama                 AL  2017      F   \n",
       "23  Alabama                 AL  2017      F   \n",
       "24  Alabama                 AL  2017      F   \n",
       "25  Alabama                 AL  2017      F   \n",
       "26  Alabama                 AL  2017      F   \n",
       "27  Alabama                 AL  2017      M   \n",
       "28  Alabama                 AL  2017      M   \n",
       "29  Alabama                 AL  2017      M   \n",
       "\n",
       "                            Education Level of Mother  Education Level Code  \\\n",
       "0                                   8th grade or less                     1   \n",
       "1              9th through 12th grade with no diploma                     2   \n",
       "2               High school graduate or GED completed                     3   \n",
       "3               Some college credit, but not a degree                     4   \n",
       "4                           Associate degree (AA, AS)                     5   \n",
       "5                      Bachelor's degree (BA, AB, BS)                     6   \n",
       "6       Master's degree (MA, MS, MEng, MEd, MSW, MBA)                     7   \n",
       "7   Doctorate (PhD, EdD) or Professional Degree (M...                     8   \n",
       "8                               Unknown or Not Stated                    -9   \n",
       "9                                   8th grade or less                     1   \n",
       "10             9th through 12th grade with no diploma                     2   \n",
       "11              High school graduate or GED completed                     3   \n",
       "12              Some college credit, but not a degree                     4   \n",
       "13                          Associate degree (AA, AS)                     5   \n",
       "14                     Bachelor's degree (BA, AB, BS)                     6   \n",
       "15      Master's degree (MA, MS, MEng, MEd, MSW, MBA)                     7   \n",
       "16  Doctorate (PhD, EdD) or Professional Degree (M...                     8   \n",
       "17                              Unknown or Not Stated                    -9   \n",
       "18                                  8th grade or less                     1   \n",
       "19             9th through 12th grade with no diploma                     2   \n",
       "20              High school graduate or GED completed                     3   \n",
       "21              Some college credit, but not a degree                     4   \n",
       "22                          Associate degree (AA, AS)                     5   \n",
       "23                     Bachelor's degree (BA, AB, BS)                     6   \n",
       "24      Master's degree (MA, MS, MEng, MEd, MSW, MBA)                     7   \n",
       "25  Doctorate (PhD, EdD) or Professional Degree (M...                     8   \n",
       "26                              Unknown or Not Stated                    -9   \n",
       "27                                  8th grade or less                     1   \n",
       "28             9th through 12th grade with no diploma                     2   \n",
       "29              High school graduate or GED completed                     3   \n",
       "\n",
       "    Number of Births  Avg. Age of Mother  Avg. Birth Weight in Grams  \n",
       "0               1052                27.8                      3116.9  \n",
       "1               3436                24.1                      3040.0  \n",
       "2               8777                25.4                      3080.0  \n",
       "3               6453                26.7                      3121.9  \n",
       "4               2227                28.9                      3174.3  \n",
       "5               4453                30.3                      3239.0  \n",
       "6               1910                32.0                      3263.5  \n",
       "7                487                33.1                      3196.7  \n",
       "8                 65                27.7                      3083.9  \n",
       "9               1188                27.6                      3232.9  \n",
       "10              3657                23.9                      3121.2  \n",
       "11              9284                25.2                      3197.9  \n",
       "12              6516                26.7                      3252.1  \n",
       "13              2460                29.0                      3301.4  \n",
       "14              4645                30.3                      3376.1  \n",
       "15              1974                32.2                      3358.2  \n",
       "16               511                32.8                      3368.4  \n",
       "17                56                27.2                      3107.7  \n",
       "18              1012                27.6                      3139.6  \n",
       "19              3283                24.4                      3040.6  \n",
       "20              8962                25.4                      3068.8  \n",
       "21              6384                26.9                      3112.3  \n",
       "22              2411                28.9                      3197.2  \n",
       "23              4335                30.5                      3259.2  \n",
       "24              1874                32.1                      3251.7  \n",
       "25               551                33.1                      3230.8  \n",
       "26                62                28.0                      3014.4  \n",
       "27               978                27.6                      3229.8  \n",
       "28              3345                23.9                      3116.2  \n",
       "29              9403                25.4                      3190.0  "
      ]
     },
     "execution_count": 26,
     "metadata": {},
     "output_type": "execute_result"
    }
   ],
   "source": [
    "us_births = us_births.rename(columns = {'State Abbreviation ': 'State_Code', 'Average Age of Mother (years)': 'Avg. Age of Mother', 'Average Birth Weight (g)' : 'Avg. Birth Weight in Grams'})\n",
    "us_births.head(30)"
   ]
  },
  {
   "cell_type": "code",
   "execution_count": 119,
   "metadata": {},
   "outputs": [
    {
     "data": {
      "text/html": [
       "<div>\n",
       "<style scoped>\n",
       "    .dataframe tbody tr th:only-of-type {\n",
       "        vertical-align: middle;\n",
       "    }\n",
       "\n",
       "    .dataframe tbody tr th {\n",
       "        vertical-align: top;\n",
       "    }\n",
       "\n",
       "    .dataframe thead th {\n",
       "        text-align: right;\n",
       "    }\n",
       "</style>\n",
       "<table border=\"1\" class=\"dataframe\">\n",
       "  <thead>\n",
       "    <tr style=\"text-align: right;\">\n",
       "      <th></th>\n",
       "      <th>State</th>\n",
       "      <th>State Abbreviation</th>\n",
       "      <th>Year</th>\n",
       "      <th>Total Births in State</th>\n",
       "    </tr>\n",
       "  </thead>\n",
       "  <tbody>\n",
       "    <tr>\n",
       "      <th>0</th>\n",
       "      <td>Alabama</td>\n",
       "      <td>AL</td>\n",
       "      <td>2016</td>\n",
       "      <td>59151</td>\n",
       "    </tr>\n",
       "    <tr>\n",
       "      <th>1</th>\n",
       "      <td>Alabama</td>\n",
       "      <td>AL</td>\n",
       "      <td>2017</td>\n",
       "      <td>58941</td>\n",
       "    </tr>\n",
       "    <tr>\n",
       "      <th>2</th>\n",
       "      <td>Alabama</td>\n",
       "      <td>AL</td>\n",
       "      <td>2018</td>\n",
       "      <td>57761</td>\n",
       "    </tr>\n",
       "    <tr>\n",
       "      <th>3</th>\n",
       "      <td>Alabama</td>\n",
       "      <td>AL</td>\n",
       "      <td>2019</td>\n",
       "      <td>58615</td>\n",
       "    </tr>\n",
       "    <tr>\n",
       "      <th>4</th>\n",
       "      <td>Alabama</td>\n",
       "      <td>AL</td>\n",
       "      <td>2020</td>\n",
       "      <td>57647</td>\n",
       "    </tr>\n",
       "    <tr>\n",
       "      <th>...</th>\n",
       "      <td>...</td>\n",
       "      <td>...</td>\n",
       "      <td>...</td>\n",
       "      <td>...</td>\n",
       "    </tr>\n",
       "    <tr>\n",
       "      <th>301</th>\n",
       "      <td>Wyoming</td>\n",
       "      <td>WY</td>\n",
       "      <td>2017</td>\n",
       "      <td>6903</td>\n",
       "    </tr>\n",
       "    <tr>\n",
       "      <th>302</th>\n",
       "      <td>Wyoming</td>\n",
       "      <td>WY</td>\n",
       "      <td>2018</td>\n",
       "      <td>6562</td>\n",
       "    </tr>\n",
       "    <tr>\n",
       "      <th>303</th>\n",
       "      <td>Wyoming</td>\n",
       "      <td>WY</td>\n",
       "      <td>2019</td>\n",
       "      <td>6565</td>\n",
       "    </tr>\n",
       "    <tr>\n",
       "      <th>304</th>\n",
       "      <td>Wyoming</td>\n",
       "      <td>WY</td>\n",
       "      <td>2020</td>\n",
       "      <td>6128</td>\n",
       "    </tr>\n",
       "    <tr>\n",
       "      <th>305</th>\n",
       "      <td>Wyoming</td>\n",
       "      <td>WY</td>\n",
       "      <td>2021</td>\n",
       "      <td>6237</td>\n",
       "    </tr>\n",
       "  </tbody>\n",
       "</table>\n",
       "<p>306 rows × 4 columns</p>\n",
       "</div>"
      ],
      "text/plain": [
       "       State State Abbreviation  Year  Total Births in State\n",
       "0    Alabama                 AL  2016                  59151\n",
       "1    Alabama                 AL  2017                  58941\n",
       "2    Alabama                 AL  2018                  57761\n",
       "3    Alabama                 AL  2019                  58615\n",
       "4    Alabama                 AL  2020                  57647\n",
       "..       ...                ...   ...                    ...\n",
       "301  Wyoming                 WY  2017                   6903\n",
       "302  Wyoming                 WY  2018                   6562\n",
       "303  Wyoming                 WY  2019                   6565\n",
       "304  Wyoming                 WY  2020                   6128\n",
       "305  Wyoming                 WY  2021                   6237\n",
       "\n",
       "[306 rows x 4 columns]"
      ]
     },
     "execution_count": 119,
     "metadata": {},
     "output_type": "execute_result"
    }
   ],
   "source": [
    "#TOTAL BIRTHS BY STATE AND YEAR\n",
    "total_births_by_state_and_year = us_births.groupby(['State', 'State Abbreviation', 'Year'])['Number of Births'].sum().reset_index(name = 'Total Births in State')\n",
    "total_births_by_state_and_year"
   ]
  },
  {
   "cell_type": "code",
   "execution_count": 120,
   "metadata": {},
   "outputs": [
    {
     "data": {
      "text/html": [
       "<div>\n",
       "<style scoped>\n",
       "    .dataframe tbody tr th:only-of-type {\n",
       "        vertical-align: middle;\n",
       "    }\n",
       "\n",
       "    .dataframe tbody tr th {\n",
       "        vertical-align: top;\n",
       "    }\n",
       "\n",
       "    .dataframe thead th {\n",
       "        text-align: right;\n",
       "    }\n",
       "</style>\n",
       "<table border=\"1\" class=\"dataframe\">\n",
       "  <thead>\n",
       "    <tr style=\"text-align: right;\">\n",
       "      <th></th>\n",
       "      <th>State</th>\n",
       "      <th>State Abbreviation</th>\n",
       "      <th>Education Level of Mother</th>\n",
       "      <th>Year</th>\n",
       "      <th>Average Age of Mother (years)</th>\n",
       "    </tr>\n",
       "  </thead>\n",
       "  <tbody>\n",
       "    <tr>\n",
       "      <th>0</th>\n",
       "      <td>Alabama</td>\n",
       "      <td>AL</td>\n",
       "      <td>9th &gt; 12th Grade</td>\n",
       "      <td>2016</td>\n",
       "      <td>24.00</td>\n",
       "    </tr>\n",
       "    <tr>\n",
       "      <th>1</th>\n",
       "      <td>Alabama</td>\n",
       "      <td>AL</td>\n",
       "      <td>9th &gt; 12th Grade</td>\n",
       "      <td>2017</td>\n",
       "      <td>24.15</td>\n",
       "    </tr>\n",
       "    <tr>\n",
       "      <th>2</th>\n",
       "      <td>Alabama</td>\n",
       "      <td>AL</td>\n",
       "      <td>9th &gt; 12th Grade</td>\n",
       "      <td>2018</td>\n",
       "      <td>24.30</td>\n",
       "    </tr>\n",
       "    <tr>\n",
       "      <th>3</th>\n",
       "      <td>Alabama</td>\n",
       "      <td>AL</td>\n",
       "      <td>9th &gt; 12th Grade</td>\n",
       "      <td>2019</td>\n",
       "      <td>24.45</td>\n",
       "    </tr>\n",
       "    <tr>\n",
       "      <th>4</th>\n",
       "      <td>Alabama</td>\n",
       "      <td>AL</td>\n",
       "      <td>9th &gt; 12th Grade</td>\n",
       "      <td>2020</td>\n",
       "      <td>24.65</td>\n",
       "    </tr>\n",
       "    <tr>\n",
       "      <th>...</th>\n",
       "      <td>...</td>\n",
       "      <td>...</td>\n",
       "      <td>...</td>\n",
       "      <td>...</td>\n",
       "      <td>...</td>\n",
       "    </tr>\n",
       "    <tr>\n",
       "      <th>2745</th>\n",
       "      <td>Wyoming</td>\n",
       "      <td>WY</td>\n",
       "      <td>Unknown</td>\n",
       "      <td>2017</td>\n",
       "      <td>28.00</td>\n",
       "    </tr>\n",
       "    <tr>\n",
       "      <th>2746</th>\n",
       "      <td>Wyoming</td>\n",
       "      <td>WY</td>\n",
       "      <td>Unknown</td>\n",
       "      <td>2018</td>\n",
       "      <td>29.55</td>\n",
       "    </tr>\n",
       "    <tr>\n",
       "      <th>2747</th>\n",
       "      <td>Wyoming</td>\n",
       "      <td>WY</td>\n",
       "      <td>Unknown</td>\n",
       "      <td>2019</td>\n",
       "      <td>30.35</td>\n",
       "    </tr>\n",
       "    <tr>\n",
       "      <th>2748</th>\n",
       "      <td>Wyoming</td>\n",
       "      <td>WY</td>\n",
       "      <td>Unknown</td>\n",
       "      <td>2020</td>\n",
       "      <td>29.45</td>\n",
       "    </tr>\n",
       "    <tr>\n",
       "      <th>2749</th>\n",
       "      <td>Wyoming</td>\n",
       "      <td>WY</td>\n",
       "      <td>Unknown</td>\n",
       "      <td>2021</td>\n",
       "      <td>29.60</td>\n",
       "    </tr>\n",
       "  </tbody>\n",
       "</table>\n",
       "<p>2750 rows × 5 columns</p>\n",
       "</div>"
      ],
      "text/plain": [
       "        State State Abbreviation Education Level of Mother  Year  \\\n",
       "0     Alabama                 AL          9th > 12th Grade  2016   \n",
       "1     Alabama                 AL          9th > 12th Grade  2017   \n",
       "2     Alabama                 AL          9th > 12th Grade  2018   \n",
       "3     Alabama                 AL          9th > 12th Grade  2019   \n",
       "4     Alabama                 AL          9th > 12th Grade  2020   \n",
       "...       ...                ...                       ...   ...   \n",
       "2745  Wyoming                 WY                   Unknown  2017   \n",
       "2746  Wyoming                 WY                   Unknown  2018   \n",
       "2747  Wyoming                 WY                   Unknown  2019   \n",
       "2748  Wyoming                 WY                   Unknown  2020   \n",
       "2749  Wyoming                 WY                   Unknown  2021   \n",
       "\n",
       "      Average Age of Mother (years)  \n",
       "0                             24.00  \n",
       "1                             24.15  \n",
       "2                             24.30  \n",
       "3                             24.45  \n",
       "4                             24.65  \n",
       "...                             ...  \n",
       "2745                          28.00  \n",
       "2746                          29.55  \n",
       "2747                          30.35  \n",
       "2748                          29.45  \n",
       "2749                          29.60  \n",
       "\n",
       "[2750 rows x 5 columns]"
      ]
     },
     "execution_count": 120,
     "metadata": {},
     "output_type": "execute_result"
    }
   ],
   "source": [
    "#AVERAGE AGE OF MOTHER BY STATE, YEAR AND EDUCATION LEVEL\n",
    "avg_age_of_mother_by_ed_level_df = us_births.groupby(['State', 'State Abbreviation', 'Education Level of Mother', 'Year'])['Average Age of Mother (years)'].mean().reset_index()\n",
    "avg_age_of_mother_by_ed_level_df"
   ]
  },
  {
   "cell_type": "code",
   "execution_count": 121,
   "metadata": {},
   "outputs": [
    {
     "data": {
      "text/html": [
       "<div>\n",
       "<style scoped>\n",
       "    .dataframe tbody tr th:only-of-type {\n",
       "        vertical-align: middle;\n",
       "    }\n",
       "\n",
       "    .dataframe tbody tr th {\n",
       "        vertical-align: top;\n",
       "    }\n",
       "\n",
       "    .dataframe thead th {\n",
       "        text-align: right;\n",
       "    }\n",
       "</style>\n",
       "<table border=\"1\" class=\"dataframe\">\n",
       "  <thead>\n",
       "    <tr style=\"text-align: right;\">\n",
       "      <th></th>\n",
       "      <th>State</th>\n",
       "      <th>State Abbreviation</th>\n",
       "      <th>Education Level of Mother</th>\n",
       "      <th>Year</th>\n",
       "      <th>Number of Births</th>\n",
       "    </tr>\n",
       "  </thead>\n",
       "  <tbody>\n",
       "    <tr>\n",
       "      <th>0</th>\n",
       "      <td>Alabama</td>\n",
       "      <td>AL</td>\n",
       "      <td>9th &gt; 12th Grade</td>\n",
       "      <td>2016</td>\n",
       "      <td>7093</td>\n",
       "    </tr>\n",
       "    <tr>\n",
       "      <th>1</th>\n",
       "      <td>Alabama</td>\n",
       "      <td>AL</td>\n",
       "      <td>9th &gt; 12th Grade</td>\n",
       "      <td>2017</td>\n",
       "      <td>6628</td>\n",
       "    </tr>\n",
       "    <tr>\n",
       "      <th>2</th>\n",
       "      <td>Alabama</td>\n",
       "      <td>AL</td>\n",
       "      <td>9th &gt; 12th Grade</td>\n",
       "      <td>2018</td>\n",
       "      <td>6169</td>\n",
       "    </tr>\n",
       "    <tr>\n",
       "      <th>3</th>\n",
       "      <td>Alabama</td>\n",
       "      <td>AL</td>\n",
       "      <td>9th &gt; 12th Grade</td>\n",
       "      <td>2019</td>\n",
       "      <td>5855</td>\n",
       "    </tr>\n",
       "    <tr>\n",
       "      <th>4</th>\n",
       "      <td>Alabama</td>\n",
       "      <td>AL</td>\n",
       "      <td>9th &gt; 12th Grade</td>\n",
       "      <td>2020</td>\n",
       "      <td>5612</td>\n",
       "    </tr>\n",
       "    <tr>\n",
       "      <th>5</th>\n",
       "      <td>Alabama</td>\n",
       "      <td>AL</td>\n",
       "      <td>9th &gt; 12th Grade</td>\n",
       "      <td>2021</td>\n",
       "      <td>5240</td>\n",
       "    </tr>\n",
       "    <tr>\n",
       "      <th>6</th>\n",
       "      <td>Alabama</td>\n",
       "      <td>AL</td>\n",
       "      <td>&gt; 8th Grade</td>\n",
       "      <td>2016</td>\n",
       "      <td>2240</td>\n",
       "    </tr>\n",
       "    <tr>\n",
       "      <th>7</th>\n",
       "      <td>Alabama</td>\n",
       "      <td>AL</td>\n",
       "      <td>&gt; 8th Grade</td>\n",
       "      <td>2017</td>\n",
       "      <td>1990</td>\n",
       "    </tr>\n",
       "    <tr>\n",
       "      <th>8</th>\n",
       "      <td>Alabama</td>\n",
       "      <td>AL</td>\n",
       "      <td>&gt; 8th Grade</td>\n",
       "      <td>2018</td>\n",
       "      <td>1856</td>\n",
       "    </tr>\n",
       "    <tr>\n",
       "      <th>9</th>\n",
       "      <td>Alabama</td>\n",
       "      <td>AL</td>\n",
       "      <td>&gt; 8th Grade</td>\n",
       "      <td>2019</td>\n",
       "      <td>2350</td>\n",
       "    </tr>\n",
       "    <tr>\n",
       "      <th>10</th>\n",
       "      <td>Alabama</td>\n",
       "      <td>AL</td>\n",
       "      <td>&gt; 8th Grade</td>\n",
       "      <td>2020</td>\n",
       "      <td>2294</td>\n",
       "    </tr>\n",
       "    <tr>\n",
       "      <th>11</th>\n",
       "      <td>Alabama</td>\n",
       "      <td>AL</td>\n",
       "      <td>&gt; 8th Grade</td>\n",
       "      <td>2021</td>\n",
       "      <td>2386</td>\n",
       "    </tr>\n",
       "    <tr>\n",
       "      <th>12</th>\n",
       "      <td>Alabama</td>\n",
       "      <td>AL</td>\n",
       "      <td>Associate Degree</td>\n",
       "      <td>2016</td>\n",
       "      <td>4687</td>\n",
       "    </tr>\n",
       "    <tr>\n",
       "      <th>13</th>\n",
       "      <td>Alabama</td>\n",
       "      <td>AL</td>\n",
       "      <td>Associate Degree</td>\n",
       "      <td>2017</td>\n",
       "      <td>4857</td>\n",
       "    </tr>\n",
       "    <tr>\n",
       "      <th>14</th>\n",
       "      <td>Alabama</td>\n",
       "      <td>AL</td>\n",
       "      <td>Associate Degree</td>\n",
       "      <td>2018</td>\n",
       "      <td>5034</td>\n",
       "    </tr>\n",
       "    <tr>\n",
       "      <th>15</th>\n",
       "      <td>Alabama</td>\n",
       "      <td>AL</td>\n",
       "      <td>Associate Degree</td>\n",
       "      <td>2019</td>\n",
       "      <td>5017</td>\n",
       "    </tr>\n",
       "    <tr>\n",
       "      <th>16</th>\n",
       "      <td>Alabama</td>\n",
       "      <td>AL</td>\n",
       "      <td>Associate Degree</td>\n",
       "      <td>2020</td>\n",
       "      <td>5096</td>\n",
       "    </tr>\n",
       "    <tr>\n",
       "      <th>17</th>\n",
       "      <td>Alabama</td>\n",
       "      <td>AL</td>\n",
       "      <td>Associate Degree</td>\n",
       "      <td>2021</td>\n",
       "      <td>5039</td>\n",
       "    </tr>\n",
       "    <tr>\n",
       "      <th>18</th>\n",
       "      <td>Alabama</td>\n",
       "      <td>AL</td>\n",
       "      <td>Bahcelor's Degree</td>\n",
       "      <td>2016</td>\n",
       "      <td>9098</td>\n",
       "    </tr>\n",
       "    <tr>\n",
       "      <th>19</th>\n",
       "      <td>Alabama</td>\n",
       "      <td>AL</td>\n",
       "      <td>Bahcelor's Degree</td>\n",
       "      <td>2017</td>\n",
       "      <td>8959</td>\n",
       "    </tr>\n",
       "    <tr>\n",
       "      <th>20</th>\n",
       "      <td>Alabama</td>\n",
       "      <td>AL</td>\n",
       "      <td>Bahcelor's Degree</td>\n",
       "      <td>2018</td>\n",
       "      <td>8833</td>\n",
       "    </tr>\n",
       "    <tr>\n",
       "      <th>21</th>\n",
       "      <td>Alabama</td>\n",
       "      <td>AL</td>\n",
       "      <td>Bahcelor's Degree</td>\n",
       "      <td>2019</td>\n",
       "      <td>8892</td>\n",
       "    </tr>\n",
       "    <tr>\n",
       "      <th>22</th>\n",
       "      <td>Alabama</td>\n",
       "      <td>AL</td>\n",
       "      <td>Bahcelor's Degree</td>\n",
       "      <td>2020</td>\n",
       "      <td>8850</td>\n",
       "    </tr>\n",
       "    <tr>\n",
       "      <th>23</th>\n",
       "      <td>Alabama</td>\n",
       "      <td>AL</td>\n",
       "      <td>Bahcelor's Degree</td>\n",
       "      <td>2021</td>\n",
       "      <td>9266</td>\n",
       "    </tr>\n",
       "    <tr>\n",
       "      <th>24</th>\n",
       "      <td>Alabama</td>\n",
       "      <td>AL</td>\n",
       "      <td>Doctorate</td>\n",
       "      <td>2016</td>\n",
       "      <td>998</td>\n",
       "    </tr>\n",
       "    <tr>\n",
       "      <th>25</th>\n",
       "      <td>Alabama</td>\n",
       "      <td>AL</td>\n",
       "      <td>Doctorate</td>\n",
       "      <td>2017</td>\n",
       "      <td>1139</td>\n",
       "    </tr>\n",
       "    <tr>\n",
       "      <th>26</th>\n",
       "      <td>Alabama</td>\n",
       "      <td>AL</td>\n",
       "      <td>Doctorate</td>\n",
       "      <td>2018</td>\n",
       "      <td>1101</td>\n",
       "    </tr>\n",
       "    <tr>\n",
       "      <th>27</th>\n",
       "      <td>Alabama</td>\n",
       "      <td>AL</td>\n",
       "      <td>Doctorate</td>\n",
       "      <td>2019</td>\n",
       "      <td>1056</td>\n",
       "    </tr>\n",
       "    <tr>\n",
       "      <th>28</th>\n",
       "      <td>Alabama</td>\n",
       "      <td>AL</td>\n",
       "      <td>Doctorate</td>\n",
       "      <td>2020</td>\n",
       "      <td>1121</td>\n",
       "    </tr>\n",
       "    <tr>\n",
       "      <th>29</th>\n",
       "      <td>Alabama</td>\n",
       "      <td>AL</td>\n",
       "      <td>Doctorate</td>\n",
       "      <td>2021</td>\n",
       "      <td>1220</td>\n",
       "    </tr>\n",
       "    <tr>\n",
       "      <th>30</th>\n",
       "      <td>Alabama</td>\n",
       "      <td>AL</td>\n",
       "      <td>High School Grad</td>\n",
       "      <td>2016</td>\n",
       "      <td>18061</td>\n",
       "    </tr>\n",
       "    <tr>\n",
       "      <th>31</th>\n",
       "      <td>Alabama</td>\n",
       "      <td>AL</td>\n",
       "      <td>High School Grad</td>\n",
       "      <td>2017</td>\n",
       "      <td>18365</td>\n",
       "    </tr>\n",
       "    <tr>\n",
       "      <th>32</th>\n",
       "      <td>Alabama</td>\n",
       "      <td>AL</td>\n",
       "      <td>High School Grad</td>\n",
       "      <td>2018</td>\n",
       "      <td>18306</td>\n",
       "    </tr>\n",
       "    <tr>\n",
       "      <th>33</th>\n",
       "      <td>Alabama</td>\n",
       "      <td>AL</td>\n",
       "      <td>High School Grad</td>\n",
       "      <td>2019</td>\n",
       "      <td>18887</td>\n",
       "    </tr>\n",
       "    <tr>\n",
       "      <th>34</th>\n",
       "      <td>Alabama</td>\n",
       "      <td>AL</td>\n",
       "      <td>High School Grad</td>\n",
       "      <td>2020</td>\n",
       "      <td>19011</td>\n",
       "    </tr>\n",
       "    <tr>\n",
       "      <th>35</th>\n",
       "      <td>Alabama</td>\n",
       "      <td>AL</td>\n",
       "      <td>High School Grad</td>\n",
       "      <td>2021</td>\n",
       "      <td>19165</td>\n",
       "    </tr>\n",
       "    <tr>\n",
       "      <th>36</th>\n",
       "      <td>Alabama</td>\n",
       "      <td>AL</td>\n",
       "      <td>Master's Degree</td>\n",
       "      <td>2016</td>\n",
       "      <td>3884</td>\n",
       "    </tr>\n",
       "    <tr>\n",
       "      <th>37</th>\n",
       "      <td>Alabama</td>\n",
       "      <td>AL</td>\n",
       "      <td>Master's Degree</td>\n",
       "      <td>2017</td>\n",
       "      <td>3821</td>\n",
       "    </tr>\n",
       "    <tr>\n",
       "      <th>38</th>\n",
       "      <td>Alabama</td>\n",
       "      <td>AL</td>\n",
       "      <td>Master's Degree</td>\n",
       "      <td>2018</td>\n",
       "      <td>3857</td>\n",
       "    </tr>\n",
       "    <tr>\n",
       "      <th>39</th>\n",
       "      <td>Alabama</td>\n",
       "      <td>AL</td>\n",
       "      <td>Master's Degree</td>\n",
       "      <td>2019</td>\n",
       "      <td>3915</td>\n",
       "    </tr>\n",
       "  </tbody>\n",
       "</table>\n",
       "</div>"
      ],
      "text/plain": [
       "      State State Abbreviation Education Level of Mother  Year  \\\n",
       "0   Alabama                 AL          9th > 12th Grade  2016   \n",
       "1   Alabama                 AL          9th > 12th Grade  2017   \n",
       "2   Alabama                 AL          9th > 12th Grade  2018   \n",
       "3   Alabama                 AL          9th > 12th Grade  2019   \n",
       "4   Alabama                 AL          9th > 12th Grade  2020   \n",
       "5   Alabama                 AL          9th > 12th Grade  2021   \n",
       "6   Alabama                 AL               > 8th Grade  2016   \n",
       "7   Alabama                 AL               > 8th Grade  2017   \n",
       "8   Alabama                 AL               > 8th Grade  2018   \n",
       "9   Alabama                 AL               > 8th Grade  2019   \n",
       "10  Alabama                 AL               > 8th Grade  2020   \n",
       "11  Alabama                 AL               > 8th Grade  2021   \n",
       "12  Alabama                 AL          Associate Degree  2016   \n",
       "13  Alabama                 AL          Associate Degree  2017   \n",
       "14  Alabama                 AL          Associate Degree  2018   \n",
       "15  Alabama                 AL          Associate Degree  2019   \n",
       "16  Alabama                 AL          Associate Degree  2020   \n",
       "17  Alabama                 AL          Associate Degree  2021   \n",
       "18  Alabama                 AL         Bahcelor's Degree  2016   \n",
       "19  Alabama                 AL         Bahcelor's Degree  2017   \n",
       "20  Alabama                 AL         Bahcelor's Degree  2018   \n",
       "21  Alabama                 AL         Bahcelor's Degree  2019   \n",
       "22  Alabama                 AL         Bahcelor's Degree  2020   \n",
       "23  Alabama                 AL         Bahcelor's Degree  2021   \n",
       "24  Alabama                 AL                 Doctorate  2016   \n",
       "25  Alabama                 AL                 Doctorate  2017   \n",
       "26  Alabama                 AL                 Doctorate  2018   \n",
       "27  Alabama                 AL                 Doctorate  2019   \n",
       "28  Alabama                 AL                 Doctorate  2020   \n",
       "29  Alabama                 AL                 Doctorate  2021   \n",
       "30  Alabama                 AL          High School Grad  2016   \n",
       "31  Alabama                 AL          High School Grad  2017   \n",
       "32  Alabama                 AL          High School Grad  2018   \n",
       "33  Alabama                 AL          High School Grad  2019   \n",
       "34  Alabama                 AL          High School Grad  2020   \n",
       "35  Alabama                 AL          High School Grad  2021   \n",
       "36  Alabama                 AL           Master's Degree  2016   \n",
       "37  Alabama                 AL           Master's Degree  2017   \n",
       "38  Alabama                 AL           Master's Degree  2018   \n",
       "39  Alabama                 AL           Master's Degree  2019   \n",
       "\n",
       "    Number of Births  \n",
       "0               7093  \n",
       "1               6628  \n",
       "2               6169  \n",
       "3               5855  \n",
       "4               5612  \n",
       "5               5240  \n",
       "6               2240  \n",
       "7               1990  \n",
       "8               1856  \n",
       "9               2350  \n",
       "10              2294  \n",
       "11              2386  \n",
       "12              4687  \n",
       "13              4857  \n",
       "14              5034  \n",
       "15              5017  \n",
       "16              5096  \n",
       "17              5039  \n",
       "18              9098  \n",
       "19              8959  \n",
       "20              8833  \n",
       "21              8892  \n",
       "22              8850  \n",
       "23              9266  \n",
       "24               998  \n",
       "25              1139  \n",
       "26              1101  \n",
       "27              1056  \n",
       "28              1121  \n",
       "29              1220  \n",
       "30             18061  \n",
       "31             18365  \n",
       "32             18306  \n",
       "33             18887  \n",
       "34             19011  \n",
       "35             19165  \n",
       "36              3884  \n",
       "37              3821  \n",
       "38              3857  \n",
       "39              3915  "
      ]
     },
     "execution_count": 121,
     "metadata": {},
     "output_type": "execute_result"
    }
   ],
   "source": [
    "#NUMBER OF BIRTHS BY STATE, YEAR  AND EDUCATION LEVEL\n",
    "births_by_state_and_ed_level = us_births.groupby(['State', 'State Abbreviation', 'Education Level of Mother', 'Year'])['Number of Births'].sum().reset_index()\n",
    "births_by_state_and_ed_level.head(40)"
   ]
  },
  {
   "cell_type": "code",
   "execution_count": 122,
   "metadata": {},
   "outputs": [
    {
     "data": {
      "text/html": [
       "<div>\n",
       "<style scoped>\n",
       "    .dataframe tbody tr th:only-of-type {\n",
       "        vertical-align: middle;\n",
       "    }\n",
       "\n",
       "    .dataframe tbody tr th {\n",
       "        vertical-align: top;\n",
       "    }\n",
       "\n",
       "    .dataframe thead th {\n",
       "        text-align: right;\n",
       "    }\n",
       "</style>\n",
       "<table border=\"1\" class=\"dataframe\">\n",
       "  <thead>\n",
       "    <tr style=\"text-align: right;\">\n",
       "      <th></th>\n",
       "      <th>State</th>\n",
       "      <th>State Abbreviation</th>\n",
       "      <th>Education Level of Mother</th>\n",
       "      <th>Year</th>\n",
       "      <th>Number of Births</th>\n",
       "      <th>Total Births in State</th>\n",
       "    </tr>\n",
       "  </thead>\n",
       "  <tbody>\n",
       "    <tr>\n",
       "      <th>0</th>\n",
       "      <td>Alabama</td>\n",
       "      <td>AL</td>\n",
       "      <td>9th &gt; 12th Grade</td>\n",
       "      <td>2016</td>\n",
       "      <td>7093</td>\n",
       "      <td>59151</td>\n",
       "    </tr>\n",
       "    <tr>\n",
       "      <th>1</th>\n",
       "      <td>Alabama</td>\n",
       "      <td>AL</td>\n",
       "      <td>&gt; 8th Grade</td>\n",
       "      <td>2016</td>\n",
       "      <td>2240</td>\n",
       "      <td>59151</td>\n",
       "    </tr>\n",
       "    <tr>\n",
       "      <th>2</th>\n",
       "      <td>Alabama</td>\n",
       "      <td>AL</td>\n",
       "      <td>Associate Degree</td>\n",
       "      <td>2016</td>\n",
       "      <td>4687</td>\n",
       "      <td>59151</td>\n",
       "    </tr>\n",
       "    <tr>\n",
       "      <th>3</th>\n",
       "      <td>Alabama</td>\n",
       "      <td>AL</td>\n",
       "      <td>Bahcelor's Degree</td>\n",
       "      <td>2016</td>\n",
       "      <td>9098</td>\n",
       "      <td>59151</td>\n",
       "    </tr>\n",
       "    <tr>\n",
       "      <th>4</th>\n",
       "      <td>Alabama</td>\n",
       "      <td>AL</td>\n",
       "      <td>Doctorate</td>\n",
       "      <td>2016</td>\n",
       "      <td>998</td>\n",
       "      <td>59151</td>\n",
       "    </tr>\n",
       "    <tr>\n",
       "      <th>5</th>\n",
       "      <td>Alabama</td>\n",
       "      <td>AL</td>\n",
       "      <td>High School Grad</td>\n",
       "      <td>2016</td>\n",
       "      <td>18061</td>\n",
       "      <td>59151</td>\n",
       "    </tr>\n",
       "    <tr>\n",
       "      <th>6</th>\n",
       "      <td>Alabama</td>\n",
       "      <td>AL</td>\n",
       "      <td>Master's Degree</td>\n",
       "      <td>2016</td>\n",
       "      <td>3884</td>\n",
       "      <td>59151</td>\n",
       "    </tr>\n",
       "    <tr>\n",
       "      <th>7</th>\n",
       "      <td>Alabama</td>\n",
       "      <td>AL</td>\n",
       "      <td>Some College Credit</td>\n",
       "      <td>2016</td>\n",
       "      <td>12969</td>\n",
       "      <td>59151</td>\n",
       "    </tr>\n",
       "    <tr>\n",
       "      <th>8</th>\n",
       "      <td>Alabama</td>\n",
       "      <td>AL</td>\n",
       "      <td>Unknown</td>\n",
       "      <td>2016</td>\n",
       "      <td>121</td>\n",
       "      <td>59151</td>\n",
       "    </tr>\n",
       "    <tr>\n",
       "      <th>9</th>\n",
       "      <td>Alabama</td>\n",
       "      <td>AL</td>\n",
       "      <td>9th &gt; 12th Grade</td>\n",
       "      <td>2017</td>\n",
       "      <td>6628</td>\n",
       "      <td>58941</td>\n",
       "    </tr>\n",
       "    <tr>\n",
       "      <th>10</th>\n",
       "      <td>Alabama</td>\n",
       "      <td>AL</td>\n",
       "      <td>&gt; 8th Grade</td>\n",
       "      <td>2017</td>\n",
       "      <td>1990</td>\n",
       "      <td>58941</td>\n",
       "    </tr>\n",
       "    <tr>\n",
       "      <th>11</th>\n",
       "      <td>Alabama</td>\n",
       "      <td>AL</td>\n",
       "      <td>Associate Degree</td>\n",
       "      <td>2017</td>\n",
       "      <td>4857</td>\n",
       "      <td>58941</td>\n",
       "    </tr>\n",
       "    <tr>\n",
       "      <th>12</th>\n",
       "      <td>Alabama</td>\n",
       "      <td>AL</td>\n",
       "      <td>Bahcelor's Degree</td>\n",
       "      <td>2017</td>\n",
       "      <td>8959</td>\n",
       "      <td>58941</td>\n",
       "    </tr>\n",
       "    <tr>\n",
       "      <th>13</th>\n",
       "      <td>Alabama</td>\n",
       "      <td>AL</td>\n",
       "      <td>Doctorate</td>\n",
       "      <td>2017</td>\n",
       "      <td>1139</td>\n",
       "      <td>58941</td>\n",
       "    </tr>\n",
       "    <tr>\n",
       "      <th>14</th>\n",
       "      <td>Alabama</td>\n",
       "      <td>AL</td>\n",
       "      <td>High School Grad</td>\n",
       "      <td>2017</td>\n",
       "      <td>18365</td>\n",
       "      <td>58941</td>\n",
       "    </tr>\n",
       "    <tr>\n",
       "      <th>15</th>\n",
       "      <td>Alabama</td>\n",
       "      <td>AL</td>\n",
       "      <td>Master's Degree</td>\n",
       "      <td>2017</td>\n",
       "      <td>3821</td>\n",
       "      <td>58941</td>\n",
       "    </tr>\n",
       "    <tr>\n",
       "      <th>16</th>\n",
       "      <td>Alabama</td>\n",
       "      <td>AL</td>\n",
       "      <td>Some College Credit</td>\n",
       "      <td>2017</td>\n",
       "      <td>13035</td>\n",
       "      <td>58941</td>\n",
       "    </tr>\n",
       "    <tr>\n",
       "      <th>17</th>\n",
       "      <td>Alabama</td>\n",
       "      <td>AL</td>\n",
       "      <td>Unknown</td>\n",
       "      <td>2017</td>\n",
       "      <td>147</td>\n",
       "      <td>58941</td>\n",
       "    </tr>\n",
       "    <tr>\n",
       "      <th>18</th>\n",
       "      <td>Alabama</td>\n",
       "      <td>AL</td>\n",
       "      <td>9th &gt; 12th Grade</td>\n",
       "      <td>2018</td>\n",
       "      <td>6169</td>\n",
       "      <td>57761</td>\n",
       "    </tr>\n",
       "    <tr>\n",
       "      <th>19</th>\n",
       "      <td>Alabama</td>\n",
       "      <td>AL</td>\n",
       "      <td>&gt; 8th Grade</td>\n",
       "      <td>2018</td>\n",
       "      <td>1856</td>\n",
       "      <td>57761</td>\n",
       "    </tr>\n",
       "    <tr>\n",
       "      <th>20</th>\n",
       "      <td>Alabama</td>\n",
       "      <td>AL</td>\n",
       "      <td>Associate Degree</td>\n",
       "      <td>2018</td>\n",
       "      <td>5034</td>\n",
       "      <td>57761</td>\n",
       "    </tr>\n",
       "    <tr>\n",
       "      <th>21</th>\n",
       "      <td>Alabama</td>\n",
       "      <td>AL</td>\n",
       "      <td>Bahcelor's Degree</td>\n",
       "      <td>2018</td>\n",
       "      <td>8833</td>\n",
       "      <td>57761</td>\n",
       "    </tr>\n",
       "    <tr>\n",
       "      <th>22</th>\n",
       "      <td>Alabama</td>\n",
       "      <td>AL</td>\n",
       "      <td>Doctorate</td>\n",
       "      <td>2018</td>\n",
       "      <td>1101</td>\n",
       "      <td>57761</td>\n",
       "    </tr>\n",
       "    <tr>\n",
       "      <th>23</th>\n",
       "      <td>Alabama</td>\n",
       "      <td>AL</td>\n",
       "      <td>High School Grad</td>\n",
       "      <td>2018</td>\n",
       "      <td>18306</td>\n",
       "      <td>57761</td>\n",
       "    </tr>\n",
       "    <tr>\n",
       "      <th>24</th>\n",
       "      <td>Alabama</td>\n",
       "      <td>AL</td>\n",
       "      <td>Master's Degree</td>\n",
       "      <td>2018</td>\n",
       "      <td>3857</td>\n",
       "      <td>57761</td>\n",
       "    </tr>\n",
       "    <tr>\n",
       "      <th>25</th>\n",
       "      <td>Alabama</td>\n",
       "      <td>AL</td>\n",
       "      <td>Some College Credit</td>\n",
       "      <td>2018</td>\n",
       "      <td>12493</td>\n",
       "      <td>57761</td>\n",
       "    </tr>\n",
       "    <tr>\n",
       "      <th>26</th>\n",
       "      <td>Alabama</td>\n",
       "      <td>AL</td>\n",
       "      <td>Unknown</td>\n",
       "      <td>2018</td>\n",
       "      <td>112</td>\n",
       "      <td>57761</td>\n",
       "    </tr>\n",
       "    <tr>\n",
       "      <th>27</th>\n",
       "      <td>Alabama</td>\n",
       "      <td>AL</td>\n",
       "      <td>9th &gt; 12th Grade</td>\n",
       "      <td>2019</td>\n",
       "      <td>5855</td>\n",
       "      <td>58615</td>\n",
       "    </tr>\n",
       "    <tr>\n",
       "      <th>28</th>\n",
       "      <td>Alabama</td>\n",
       "      <td>AL</td>\n",
       "      <td>&gt; 8th Grade</td>\n",
       "      <td>2019</td>\n",
       "      <td>2350</td>\n",
       "      <td>58615</td>\n",
       "    </tr>\n",
       "    <tr>\n",
       "      <th>29</th>\n",
       "      <td>Alabama</td>\n",
       "      <td>AL</td>\n",
       "      <td>Associate Degree</td>\n",
       "      <td>2019</td>\n",
       "      <td>5017</td>\n",
       "      <td>58615</td>\n",
       "    </tr>\n",
       "    <tr>\n",
       "      <th>30</th>\n",
       "      <td>Alabama</td>\n",
       "      <td>AL</td>\n",
       "      <td>Bahcelor's Degree</td>\n",
       "      <td>2019</td>\n",
       "      <td>8892</td>\n",
       "      <td>58615</td>\n",
       "    </tr>\n",
       "    <tr>\n",
       "      <th>31</th>\n",
       "      <td>Alabama</td>\n",
       "      <td>AL</td>\n",
       "      <td>Doctorate</td>\n",
       "      <td>2019</td>\n",
       "      <td>1056</td>\n",
       "      <td>58615</td>\n",
       "    </tr>\n",
       "    <tr>\n",
       "      <th>32</th>\n",
       "      <td>Alabama</td>\n",
       "      <td>AL</td>\n",
       "      <td>High School Grad</td>\n",
       "      <td>2019</td>\n",
       "      <td>18887</td>\n",
       "      <td>58615</td>\n",
       "    </tr>\n",
       "    <tr>\n",
       "      <th>33</th>\n",
       "      <td>Alabama</td>\n",
       "      <td>AL</td>\n",
       "      <td>Master's Degree</td>\n",
       "      <td>2019</td>\n",
       "      <td>3915</td>\n",
       "      <td>58615</td>\n",
       "    </tr>\n",
       "    <tr>\n",
       "      <th>34</th>\n",
       "      <td>Alabama</td>\n",
       "      <td>AL</td>\n",
       "      <td>Some College Credit</td>\n",
       "      <td>2019</td>\n",
       "      <td>12545</td>\n",
       "      <td>58615</td>\n",
       "    </tr>\n",
       "    <tr>\n",
       "      <th>35</th>\n",
       "      <td>Alabama</td>\n",
       "      <td>AL</td>\n",
       "      <td>Unknown</td>\n",
       "      <td>2019</td>\n",
       "      <td>98</td>\n",
       "      <td>58615</td>\n",
       "    </tr>\n",
       "    <tr>\n",
       "      <th>36</th>\n",
       "      <td>Alabama</td>\n",
       "      <td>AL</td>\n",
       "      <td>9th &gt; 12th Grade</td>\n",
       "      <td>2020</td>\n",
       "      <td>5612</td>\n",
       "      <td>57647</td>\n",
       "    </tr>\n",
       "    <tr>\n",
       "      <th>37</th>\n",
       "      <td>Alabama</td>\n",
       "      <td>AL</td>\n",
       "      <td>&gt; 8th Grade</td>\n",
       "      <td>2020</td>\n",
       "      <td>2294</td>\n",
       "      <td>57647</td>\n",
       "    </tr>\n",
       "    <tr>\n",
       "      <th>38</th>\n",
       "      <td>Alabama</td>\n",
       "      <td>AL</td>\n",
       "      <td>Associate Degree</td>\n",
       "      <td>2020</td>\n",
       "      <td>5096</td>\n",
       "      <td>57647</td>\n",
       "    </tr>\n",
       "    <tr>\n",
       "      <th>39</th>\n",
       "      <td>Alabama</td>\n",
       "      <td>AL</td>\n",
       "      <td>Bahcelor's Degree</td>\n",
       "      <td>2020</td>\n",
       "      <td>8850</td>\n",
       "      <td>57647</td>\n",
       "    </tr>\n",
       "  </tbody>\n",
       "</table>\n",
       "</div>"
      ],
      "text/plain": [
       "      State State Abbreviation Education Level of Mother  Year  \\\n",
       "0   Alabama                 AL          9th > 12th Grade  2016   \n",
       "1   Alabama                 AL               > 8th Grade  2016   \n",
       "2   Alabama                 AL          Associate Degree  2016   \n",
       "3   Alabama                 AL         Bahcelor's Degree  2016   \n",
       "4   Alabama                 AL                 Doctorate  2016   \n",
       "5   Alabama                 AL          High School Grad  2016   \n",
       "6   Alabama                 AL           Master's Degree  2016   \n",
       "7   Alabama                 AL       Some College Credit  2016   \n",
       "8   Alabama                 AL                   Unknown  2016   \n",
       "9   Alabama                 AL          9th > 12th Grade  2017   \n",
       "10  Alabama                 AL               > 8th Grade  2017   \n",
       "11  Alabama                 AL          Associate Degree  2017   \n",
       "12  Alabama                 AL         Bahcelor's Degree  2017   \n",
       "13  Alabama                 AL                 Doctorate  2017   \n",
       "14  Alabama                 AL          High School Grad  2017   \n",
       "15  Alabama                 AL           Master's Degree  2017   \n",
       "16  Alabama                 AL       Some College Credit  2017   \n",
       "17  Alabama                 AL                   Unknown  2017   \n",
       "18  Alabama                 AL          9th > 12th Grade  2018   \n",
       "19  Alabama                 AL               > 8th Grade  2018   \n",
       "20  Alabama                 AL          Associate Degree  2018   \n",
       "21  Alabama                 AL         Bahcelor's Degree  2018   \n",
       "22  Alabama                 AL                 Doctorate  2018   \n",
       "23  Alabama                 AL          High School Grad  2018   \n",
       "24  Alabama                 AL           Master's Degree  2018   \n",
       "25  Alabama                 AL       Some College Credit  2018   \n",
       "26  Alabama                 AL                   Unknown  2018   \n",
       "27  Alabama                 AL          9th > 12th Grade  2019   \n",
       "28  Alabama                 AL               > 8th Grade  2019   \n",
       "29  Alabama                 AL          Associate Degree  2019   \n",
       "30  Alabama                 AL         Bahcelor's Degree  2019   \n",
       "31  Alabama                 AL                 Doctorate  2019   \n",
       "32  Alabama                 AL          High School Grad  2019   \n",
       "33  Alabama                 AL           Master's Degree  2019   \n",
       "34  Alabama                 AL       Some College Credit  2019   \n",
       "35  Alabama                 AL                   Unknown  2019   \n",
       "36  Alabama                 AL          9th > 12th Grade  2020   \n",
       "37  Alabama                 AL               > 8th Grade  2020   \n",
       "38  Alabama                 AL          Associate Degree  2020   \n",
       "39  Alabama                 AL         Bahcelor's Degree  2020   \n",
       "\n",
       "    Number of Births  Total Births in State  \n",
       "0               7093                  59151  \n",
       "1               2240                  59151  \n",
       "2               4687                  59151  \n",
       "3               9098                  59151  \n",
       "4                998                  59151  \n",
       "5              18061                  59151  \n",
       "6               3884                  59151  \n",
       "7              12969                  59151  \n",
       "8                121                  59151  \n",
       "9               6628                  58941  \n",
       "10              1990                  58941  \n",
       "11              4857                  58941  \n",
       "12              8959                  58941  \n",
       "13              1139                  58941  \n",
       "14             18365                  58941  \n",
       "15              3821                  58941  \n",
       "16             13035                  58941  \n",
       "17               147                  58941  \n",
       "18              6169                  57761  \n",
       "19              1856                  57761  \n",
       "20              5034                  57761  \n",
       "21              8833                  57761  \n",
       "22              1101                  57761  \n",
       "23             18306                  57761  \n",
       "24              3857                  57761  \n",
       "25             12493                  57761  \n",
       "26               112                  57761  \n",
       "27              5855                  58615  \n",
       "28              2350                  58615  \n",
       "29              5017                  58615  \n",
       "30              8892                  58615  \n",
       "31              1056                  58615  \n",
       "32             18887                  58615  \n",
       "33              3915                  58615  \n",
       "34             12545                  58615  \n",
       "35                98                  58615  \n",
       "36              5612                  57647  \n",
       "37              2294                  57647  \n",
       "38              5096                  57647  \n",
       "39              8850                  57647  "
      ]
     },
     "execution_count": 122,
     "metadata": {},
     "output_type": "execute_result"
    }
   ],
   "source": [
    "merged_df = births_by_state_and_ed_level.merge(total_births_by_state_and_year, on = ['State', \"State Abbreviation\", 'Year'], suffixes = ('_by ed level', '_by state'))\n",
    "merged_df.head(40)\n"
   ]
  },
  {
   "cell_type": "code",
   "execution_count": 123,
   "metadata": {},
   "outputs": [
    {
     "data": {
      "text/html": [
       "<div>\n",
       "<style scoped>\n",
       "    .dataframe tbody tr th:only-of-type {\n",
       "        vertical-align: middle;\n",
       "    }\n",
       "\n",
       "    .dataframe tbody tr th {\n",
       "        vertical-align: top;\n",
       "    }\n",
       "\n",
       "    .dataframe thead th {\n",
       "        text-align: right;\n",
       "    }\n",
       "</style>\n",
       "<table border=\"1\" class=\"dataframe\">\n",
       "  <thead>\n",
       "    <tr style=\"text-align: right;\">\n",
       "      <th></th>\n",
       "      <th>State</th>\n",
       "      <th>State Abbreviation</th>\n",
       "      <th>Education Level of Mother</th>\n",
       "      <th>Year</th>\n",
       "      <th>Number of Births</th>\n",
       "      <th>Total Births in State</th>\n",
       "      <th>Average Age of Mother (years)</th>\n",
       "    </tr>\n",
       "  </thead>\n",
       "  <tbody>\n",
       "    <tr>\n",
       "      <th>0</th>\n",
       "      <td>Alabama</td>\n",
       "      <td>AL</td>\n",
       "      <td>9th &gt; 12th Grade</td>\n",
       "      <td>2016</td>\n",
       "      <td>7093</td>\n",
       "      <td>59151</td>\n",
       "      <td>24.00</td>\n",
       "    </tr>\n",
       "    <tr>\n",
       "      <th>1</th>\n",
       "      <td>Alabama</td>\n",
       "      <td>AL</td>\n",
       "      <td>&gt; 8th Grade</td>\n",
       "      <td>2016</td>\n",
       "      <td>2240</td>\n",
       "      <td>59151</td>\n",
       "      <td>27.70</td>\n",
       "    </tr>\n",
       "    <tr>\n",
       "      <th>2</th>\n",
       "      <td>Alabama</td>\n",
       "      <td>AL</td>\n",
       "      <td>Associate Degree</td>\n",
       "      <td>2016</td>\n",
       "      <td>4687</td>\n",
       "      <td>59151</td>\n",
       "      <td>28.95</td>\n",
       "    </tr>\n",
       "    <tr>\n",
       "      <th>3</th>\n",
       "      <td>Alabama</td>\n",
       "      <td>AL</td>\n",
       "      <td>Bahcelor's Degree</td>\n",
       "      <td>2016</td>\n",
       "      <td>9098</td>\n",
       "      <td>59151</td>\n",
       "      <td>30.30</td>\n",
       "    </tr>\n",
       "    <tr>\n",
       "      <th>4</th>\n",
       "      <td>Alabama</td>\n",
       "      <td>AL</td>\n",
       "      <td>Doctorate</td>\n",
       "      <td>2016</td>\n",
       "      <td>998</td>\n",
       "      <td>59151</td>\n",
       "      <td>32.95</td>\n",
       "    </tr>\n",
       "    <tr>\n",
       "      <th>5</th>\n",
       "      <td>Alabama</td>\n",
       "      <td>AL</td>\n",
       "      <td>High School Grad</td>\n",
       "      <td>2016</td>\n",
       "      <td>18061</td>\n",
       "      <td>59151</td>\n",
       "      <td>25.30</td>\n",
       "    </tr>\n",
       "    <tr>\n",
       "      <th>6</th>\n",
       "      <td>Alabama</td>\n",
       "      <td>AL</td>\n",
       "      <td>Master's Degree</td>\n",
       "      <td>2016</td>\n",
       "      <td>3884</td>\n",
       "      <td>59151</td>\n",
       "      <td>32.10</td>\n",
       "    </tr>\n",
       "    <tr>\n",
       "      <th>7</th>\n",
       "      <td>Alabama</td>\n",
       "      <td>AL</td>\n",
       "      <td>Some College Credit</td>\n",
       "      <td>2016</td>\n",
       "      <td>12969</td>\n",
       "      <td>59151</td>\n",
       "      <td>26.70</td>\n",
       "    </tr>\n",
       "    <tr>\n",
       "      <th>8</th>\n",
       "      <td>Alabama</td>\n",
       "      <td>AL</td>\n",
       "      <td>Unknown</td>\n",
       "      <td>2016</td>\n",
       "      <td>121</td>\n",
       "      <td>59151</td>\n",
       "      <td>27.45</td>\n",
       "    </tr>\n",
       "    <tr>\n",
       "      <th>9</th>\n",
       "      <td>Alabama</td>\n",
       "      <td>AL</td>\n",
       "      <td>9th &gt; 12th Grade</td>\n",
       "      <td>2017</td>\n",
       "      <td>6628</td>\n",
       "      <td>58941</td>\n",
       "      <td>24.15</td>\n",
       "    </tr>\n",
       "    <tr>\n",
       "      <th>10</th>\n",
       "      <td>Alabama</td>\n",
       "      <td>AL</td>\n",
       "      <td>&gt; 8th Grade</td>\n",
       "      <td>2017</td>\n",
       "      <td>1990</td>\n",
       "      <td>58941</td>\n",
       "      <td>27.60</td>\n",
       "    </tr>\n",
       "    <tr>\n",
       "      <th>11</th>\n",
       "      <td>Alabama</td>\n",
       "      <td>AL</td>\n",
       "      <td>Associate Degree</td>\n",
       "      <td>2017</td>\n",
       "      <td>4857</td>\n",
       "      <td>58941</td>\n",
       "      <td>28.90</td>\n",
       "    </tr>\n",
       "    <tr>\n",
       "      <th>12</th>\n",
       "      <td>Alabama</td>\n",
       "      <td>AL</td>\n",
       "      <td>Bahcelor's Degree</td>\n",
       "      <td>2017</td>\n",
       "      <td>8959</td>\n",
       "      <td>58941</td>\n",
       "      <td>30.45</td>\n",
       "    </tr>\n",
       "    <tr>\n",
       "      <th>13</th>\n",
       "      <td>Alabama</td>\n",
       "      <td>AL</td>\n",
       "      <td>Doctorate</td>\n",
       "      <td>2017</td>\n",
       "      <td>1139</td>\n",
       "      <td>58941</td>\n",
       "      <td>33.05</td>\n",
       "    </tr>\n",
       "    <tr>\n",
       "      <th>14</th>\n",
       "      <td>Alabama</td>\n",
       "      <td>AL</td>\n",
       "      <td>High School Grad</td>\n",
       "      <td>2017</td>\n",
       "      <td>18365</td>\n",
       "      <td>58941</td>\n",
       "      <td>25.40</td>\n",
       "    </tr>\n",
       "    <tr>\n",
       "      <th>15</th>\n",
       "      <td>Alabama</td>\n",
       "      <td>AL</td>\n",
       "      <td>Master's Degree</td>\n",
       "      <td>2017</td>\n",
       "      <td>3821</td>\n",
       "      <td>58941</td>\n",
       "      <td>31.95</td>\n",
       "    </tr>\n",
       "    <tr>\n",
       "      <th>16</th>\n",
       "      <td>Alabama</td>\n",
       "      <td>AL</td>\n",
       "      <td>Some College Credit</td>\n",
       "      <td>2017</td>\n",
       "      <td>13035</td>\n",
       "      <td>58941</td>\n",
       "      <td>26.85</td>\n",
       "    </tr>\n",
       "    <tr>\n",
       "      <th>17</th>\n",
       "      <td>Alabama</td>\n",
       "      <td>AL</td>\n",
       "      <td>Unknown</td>\n",
       "      <td>2017</td>\n",
       "      <td>147</td>\n",
       "      <td>58941</td>\n",
       "      <td>27.35</td>\n",
       "    </tr>\n",
       "    <tr>\n",
       "      <th>18</th>\n",
       "      <td>Alabama</td>\n",
       "      <td>AL</td>\n",
       "      <td>9th &gt; 12th Grade</td>\n",
       "      <td>2018</td>\n",
       "      <td>6169</td>\n",
       "      <td>57761</td>\n",
       "      <td>24.30</td>\n",
       "    </tr>\n",
       "    <tr>\n",
       "      <th>19</th>\n",
       "      <td>Alabama</td>\n",
       "      <td>AL</td>\n",
       "      <td>&gt; 8th Grade</td>\n",
       "      <td>2018</td>\n",
       "      <td>1856</td>\n",
       "      <td>57761</td>\n",
       "      <td>27.90</td>\n",
       "    </tr>\n",
       "    <tr>\n",
       "      <th>20</th>\n",
       "      <td>Alabama</td>\n",
       "      <td>AL</td>\n",
       "      <td>Associate Degree</td>\n",
       "      <td>2018</td>\n",
       "      <td>5034</td>\n",
       "      <td>57761</td>\n",
       "      <td>28.95</td>\n",
       "    </tr>\n",
       "    <tr>\n",
       "      <th>21</th>\n",
       "      <td>Alabama</td>\n",
       "      <td>AL</td>\n",
       "      <td>Bahcelor's Degree</td>\n",
       "      <td>2018</td>\n",
       "      <td>8833</td>\n",
       "      <td>57761</td>\n",
       "      <td>30.45</td>\n",
       "    </tr>\n",
       "    <tr>\n",
       "      <th>22</th>\n",
       "      <td>Alabama</td>\n",
       "      <td>AL</td>\n",
       "      <td>Doctorate</td>\n",
       "      <td>2018</td>\n",
       "      <td>1101</td>\n",
       "      <td>57761</td>\n",
       "      <td>33.25</td>\n",
       "    </tr>\n",
       "    <tr>\n",
       "      <th>23</th>\n",
       "      <td>Alabama</td>\n",
       "      <td>AL</td>\n",
       "      <td>High School Grad</td>\n",
       "      <td>2018</td>\n",
       "      <td>18306</td>\n",
       "      <td>57761</td>\n",
       "      <td>25.50</td>\n",
       "    </tr>\n",
       "    <tr>\n",
       "      <th>24</th>\n",
       "      <td>Alabama</td>\n",
       "      <td>AL</td>\n",
       "      <td>Master's Degree</td>\n",
       "      <td>2018</td>\n",
       "      <td>3857</td>\n",
       "      <td>57761</td>\n",
       "      <td>31.95</td>\n",
       "    </tr>\n",
       "    <tr>\n",
       "      <th>25</th>\n",
       "      <td>Alabama</td>\n",
       "      <td>AL</td>\n",
       "      <td>Some College Credit</td>\n",
       "      <td>2018</td>\n",
       "      <td>12493</td>\n",
       "      <td>57761</td>\n",
       "      <td>27.00</td>\n",
       "    </tr>\n",
       "    <tr>\n",
       "      <th>26</th>\n",
       "      <td>Alabama</td>\n",
       "      <td>AL</td>\n",
       "      <td>Unknown</td>\n",
       "      <td>2018</td>\n",
       "      <td>112</td>\n",
       "      <td>57761</td>\n",
       "      <td>27.25</td>\n",
       "    </tr>\n",
       "    <tr>\n",
       "      <th>27</th>\n",
       "      <td>Alabama</td>\n",
       "      <td>AL</td>\n",
       "      <td>9th &gt; 12th Grade</td>\n",
       "      <td>2019</td>\n",
       "      <td>5855</td>\n",
       "      <td>58615</td>\n",
       "      <td>24.45</td>\n",
       "    </tr>\n",
       "    <tr>\n",
       "      <th>28</th>\n",
       "      <td>Alabama</td>\n",
       "      <td>AL</td>\n",
       "      <td>&gt; 8th Grade</td>\n",
       "      <td>2019</td>\n",
       "      <td>2350</td>\n",
       "      <td>58615</td>\n",
       "      <td>27.85</td>\n",
       "    </tr>\n",
       "    <tr>\n",
       "      <th>29</th>\n",
       "      <td>Alabama</td>\n",
       "      <td>AL</td>\n",
       "      <td>Associate Degree</td>\n",
       "      <td>2019</td>\n",
       "      <td>5017</td>\n",
       "      <td>58615</td>\n",
       "      <td>28.95</td>\n",
       "    </tr>\n",
       "    <tr>\n",
       "      <th>30</th>\n",
       "      <td>Alabama</td>\n",
       "      <td>AL</td>\n",
       "      <td>Bahcelor's Degree</td>\n",
       "      <td>2019</td>\n",
       "      <td>8892</td>\n",
       "      <td>58615</td>\n",
       "      <td>30.45</td>\n",
       "    </tr>\n",
       "    <tr>\n",
       "      <th>31</th>\n",
       "      <td>Alabama</td>\n",
       "      <td>AL</td>\n",
       "      <td>Doctorate</td>\n",
       "      <td>2019</td>\n",
       "      <td>1056</td>\n",
       "      <td>58615</td>\n",
       "      <td>33.15</td>\n",
       "    </tr>\n",
       "    <tr>\n",
       "      <th>32</th>\n",
       "      <td>Alabama</td>\n",
       "      <td>AL</td>\n",
       "      <td>High School Grad</td>\n",
       "      <td>2019</td>\n",
       "      <td>18887</td>\n",
       "      <td>58615</td>\n",
       "      <td>25.55</td>\n",
       "    </tr>\n",
       "    <tr>\n",
       "      <th>33</th>\n",
       "      <td>Alabama</td>\n",
       "      <td>AL</td>\n",
       "      <td>Master's Degree</td>\n",
       "      <td>2019</td>\n",
       "      <td>3915</td>\n",
       "      <td>58615</td>\n",
       "      <td>32.00</td>\n",
       "    </tr>\n",
       "    <tr>\n",
       "      <th>34</th>\n",
       "      <td>Alabama</td>\n",
       "      <td>AL</td>\n",
       "      <td>Some College Credit</td>\n",
       "      <td>2019</td>\n",
       "      <td>12545</td>\n",
       "      <td>58615</td>\n",
       "      <td>27.10</td>\n",
       "    </tr>\n",
       "    <tr>\n",
       "      <th>35</th>\n",
       "      <td>Alabama</td>\n",
       "      <td>AL</td>\n",
       "      <td>Unknown</td>\n",
       "      <td>2019</td>\n",
       "      <td>98</td>\n",
       "      <td>58615</td>\n",
       "      <td>27.70</td>\n",
       "    </tr>\n",
       "    <tr>\n",
       "      <th>36</th>\n",
       "      <td>Alabama</td>\n",
       "      <td>AL</td>\n",
       "      <td>9th &gt; 12th Grade</td>\n",
       "      <td>2020</td>\n",
       "      <td>5612</td>\n",
       "      <td>57647</td>\n",
       "      <td>24.65</td>\n",
       "    </tr>\n",
       "    <tr>\n",
       "      <th>37</th>\n",
       "      <td>Alabama</td>\n",
       "      <td>AL</td>\n",
       "      <td>&gt; 8th Grade</td>\n",
       "      <td>2020</td>\n",
       "      <td>2294</td>\n",
       "      <td>57647</td>\n",
       "      <td>27.50</td>\n",
       "    </tr>\n",
       "    <tr>\n",
       "      <th>38</th>\n",
       "      <td>Alabama</td>\n",
       "      <td>AL</td>\n",
       "      <td>Associate Degree</td>\n",
       "      <td>2020</td>\n",
       "      <td>5096</td>\n",
       "      <td>57647</td>\n",
       "      <td>29.15</td>\n",
       "    </tr>\n",
       "    <tr>\n",
       "      <th>39</th>\n",
       "      <td>Alabama</td>\n",
       "      <td>AL</td>\n",
       "      <td>Bahcelor's Degree</td>\n",
       "      <td>2020</td>\n",
       "      <td>8850</td>\n",
       "      <td>57647</td>\n",
       "      <td>30.45</td>\n",
       "    </tr>\n",
       "  </tbody>\n",
       "</table>\n",
       "</div>"
      ],
      "text/plain": [
       "      State State Abbreviation Education Level of Mother  Year  \\\n",
       "0   Alabama                 AL          9th > 12th Grade  2016   \n",
       "1   Alabama                 AL               > 8th Grade  2016   \n",
       "2   Alabama                 AL          Associate Degree  2016   \n",
       "3   Alabama                 AL         Bahcelor's Degree  2016   \n",
       "4   Alabama                 AL                 Doctorate  2016   \n",
       "5   Alabama                 AL          High School Grad  2016   \n",
       "6   Alabama                 AL           Master's Degree  2016   \n",
       "7   Alabama                 AL       Some College Credit  2016   \n",
       "8   Alabama                 AL                   Unknown  2016   \n",
       "9   Alabama                 AL          9th > 12th Grade  2017   \n",
       "10  Alabama                 AL               > 8th Grade  2017   \n",
       "11  Alabama                 AL          Associate Degree  2017   \n",
       "12  Alabama                 AL         Bahcelor's Degree  2017   \n",
       "13  Alabama                 AL                 Doctorate  2017   \n",
       "14  Alabama                 AL          High School Grad  2017   \n",
       "15  Alabama                 AL           Master's Degree  2017   \n",
       "16  Alabama                 AL       Some College Credit  2017   \n",
       "17  Alabama                 AL                   Unknown  2017   \n",
       "18  Alabama                 AL          9th > 12th Grade  2018   \n",
       "19  Alabama                 AL               > 8th Grade  2018   \n",
       "20  Alabama                 AL          Associate Degree  2018   \n",
       "21  Alabama                 AL         Bahcelor's Degree  2018   \n",
       "22  Alabama                 AL                 Doctorate  2018   \n",
       "23  Alabama                 AL          High School Grad  2018   \n",
       "24  Alabama                 AL           Master's Degree  2018   \n",
       "25  Alabama                 AL       Some College Credit  2018   \n",
       "26  Alabama                 AL                   Unknown  2018   \n",
       "27  Alabama                 AL          9th > 12th Grade  2019   \n",
       "28  Alabama                 AL               > 8th Grade  2019   \n",
       "29  Alabama                 AL          Associate Degree  2019   \n",
       "30  Alabama                 AL         Bahcelor's Degree  2019   \n",
       "31  Alabama                 AL                 Doctorate  2019   \n",
       "32  Alabama                 AL          High School Grad  2019   \n",
       "33  Alabama                 AL           Master's Degree  2019   \n",
       "34  Alabama                 AL       Some College Credit  2019   \n",
       "35  Alabama                 AL                   Unknown  2019   \n",
       "36  Alabama                 AL          9th > 12th Grade  2020   \n",
       "37  Alabama                 AL               > 8th Grade  2020   \n",
       "38  Alabama                 AL          Associate Degree  2020   \n",
       "39  Alabama                 AL         Bahcelor's Degree  2020   \n",
       "\n",
       "    Number of Births  Total Births in State  Average Age of Mother (years)  \n",
       "0               7093                  59151                          24.00  \n",
       "1               2240                  59151                          27.70  \n",
       "2               4687                  59151                          28.95  \n",
       "3               9098                  59151                          30.30  \n",
       "4                998                  59151                          32.95  \n",
       "5              18061                  59151                          25.30  \n",
       "6               3884                  59151                          32.10  \n",
       "7              12969                  59151                          26.70  \n",
       "8                121                  59151                          27.45  \n",
       "9               6628                  58941                          24.15  \n",
       "10              1990                  58941                          27.60  \n",
       "11              4857                  58941                          28.90  \n",
       "12              8959                  58941                          30.45  \n",
       "13              1139                  58941                          33.05  \n",
       "14             18365                  58941                          25.40  \n",
       "15              3821                  58941                          31.95  \n",
       "16             13035                  58941                          26.85  \n",
       "17               147                  58941                          27.35  \n",
       "18              6169                  57761                          24.30  \n",
       "19              1856                  57761                          27.90  \n",
       "20              5034                  57761                          28.95  \n",
       "21              8833                  57761                          30.45  \n",
       "22              1101                  57761                          33.25  \n",
       "23             18306                  57761                          25.50  \n",
       "24              3857                  57761                          31.95  \n",
       "25             12493                  57761                          27.00  \n",
       "26               112                  57761                          27.25  \n",
       "27              5855                  58615                          24.45  \n",
       "28              2350                  58615                          27.85  \n",
       "29              5017                  58615                          28.95  \n",
       "30              8892                  58615                          30.45  \n",
       "31              1056                  58615                          33.15  \n",
       "32             18887                  58615                          25.55  \n",
       "33              3915                  58615                          32.00  \n",
       "34             12545                  58615                          27.10  \n",
       "35                98                  58615                          27.70  \n",
       "36              5612                  57647                          24.65  \n",
       "37              2294                  57647                          27.50  \n",
       "38              5096                  57647                          29.15  \n",
       "39              8850                  57647                          30.45  "
      ]
     },
     "execution_count": 123,
     "metadata": {},
     "output_type": "execute_result"
    }
   ],
   "source": [
    "merged_df_final = merged_df.merge(avg_age_of_mother_by_ed_level_df, on = ['State', \"State Abbreviation\", 'Year', 'Education Level of Mother'], suffixes = ('_by ed level', '_by state'))\n",
    "merged_df_final.head(40)\n",
    "#merged_df_final.to_csv('us_births_2016_2021_updated.csv', index = False)"
   ]
  },
  {
   "cell_type": "code",
   "execution_count": 138,
   "metadata": {},
   "outputs": [
    {
     "name": "stderr",
     "output_type": "stream",
     "text": [
      "/var/folders/0p/ymgcc2_s2fz5y2m7s2hb1dzw0000gn/T/ipykernel_974/3844595338.py:1: FutureWarning:\n",
      "\n",
      "Indexing with multiple keys (implicitly converted to a tuple of keys) will be deprecated, use a list instead.\n",
      "\n"
     ]
    },
    {
     "data": {
      "text/html": [
       "<div>\n",
       "<style scoped>\n",
       "    .dataframe tbody tr th:only-of-type {\n",
       "        vertical-align: middle;\n",
       "    }\n",
       "\n",
       "    .dataframe tbody tr th {\n",
       "        vertical-align: top;\n",
       "    }\n",
       "\n",
       "    .dataframe thead th {\n",
       "        text-align: right;\n",
       "    }\n",
       "</style>\n",
       "<table border=\"1\" class=\"dataframe\">\n",
       "  <thead>\n",
       "    <tr style=\"text-align: right;\">\n",
       "      <th></th>\n",
       "      <th>Education Level of Mother</th>\n",
       "      <th>Number of Births</th>\n",
       "      <th>Total Births in State</th>\n",
       "      <th>Percentage of Births by Ed Level</th>\n",
       "    </tr>\n",
       "  </thead>\n",
       "  <tbody>\n",
       "    <tr>\n",
       "      <th>0</th>\n",
       "      <td>9th &gt; 12th Grade</td>\n",
       "      <td>19890</td>\n",
       "      <td>175853</td>\n",
       "      <td>11.3</td>\n",
       "    </tr>\n",
       "    <tr>\n",
       "      <th>1</th>\n",
       "      <td>&gt; 8th Grade</td>\n",
       "      <td>6086</td>\n",
       "      <td>175853</td>\n",
       "      <td>3.5</td>\n",
       "    </tr>\n",
       "    <tr>\n",
       "      <th>2</th>\n",
       "      <td>Associate Degree</td>\n",
       "      <td>14578</td>\n",
       "      <td>175853</td>\n",
       "      <td>8.3</td>\n",
       "    </tr>\n",
       "    <tr>\n",
       "      <th>3</th>\n",
       "      <td>Bahcelor's Degree</td>\n",
       "      <td>26890</td>\n",
       "      <td>175853</td>\n",
       "      <td>15.3</td>\n",
       "    </tr>\n",
       "    <tr>\n",
       "      <th>4</th>\n",
       "      <td>Doctorate</td>\n",
       "      <td>3238</td>\n",
       "      <td>175853</td>\n",
       "      <td>1.8</td>\n",
       "    </tr>\n",
       "    <tr>\n",
       "      <th>5</th>\n",
       "      <td>High School Grad</td>\n",
       "      <td>54732</td>\n",
       "      <td>175853</td>\n",
       "      <td>31.1</td>\n",
       "    </tr>\n",
       "    <tr>\n",
       "      <th>6</th>\n",
       "      <td>Master's Degree</td>\n",
       "      <td>11562</td>\n",
       "      <td>175853</td>\n",
       "      <td>6.6</td>\n",
       "    </tr>\n",
       "    <tr>\n",
       "      <th>7</th>\n",
       "      <td>Some College Credit</td>\n",
       "      <td>38497</td>\n",
       "      <td>175853</td>\n",
       "      <td>21.9</td>\n",
       "    </tr>\n",
       "    <tr>\n",
       "      <th>8</th>\n",
       "      <td>Unknown</td>\n",
       "      <td>380</td>\n",
       "      <td>175853</td>\n",
       "      <td>0.2</td>\n",
       "    </tr>\n",
       "  </tbody>\n",
       "</table>\n",
       "</div>"
      ],
      "text/plain": [
       "  Education Level of Mother  Number of Births  Total Births in State  \\\n",
       "0          9th > 12th Grade             19890                 175853   \n",
       "1               > 8th Grade              6086                 175853   \n",
       "2          Associate Degree             14578                 175853   \n",
       "3         Bahcelor's Degree             26890                 175853   \n",
       "4                 Doctorate              3238                 175853   \n",
       "5          High School Grad             54732                 175853   \n",
       "6           Master's Degree             11562                 175853   \n",
       "7       Some College Credit             38497                 175853   \n",
       "8                   Unknown               380                 175853   \n",
       "\n",
       "   Percentage of Births by Ed Level  \n",
       "0                              11.3  \n",
       "1                               3.5  \n",
       "2                               8.3  \n",
       "3                              15.3  \n",
       "4                               1.8  \n",
       "5                              31.1  \n",
       "6                               6.6  \n",
       "7                              21.9  \n",
       "8                               0.2  "
      ]
     },
     "execution_count": 138,
     "metadata": {},
     "output_type": "execute_result"
    }
   ],
   "source": [
    "example_df = merged_df_final[(merged_df_final['Year'].between(2016, 2018)) & (merged_df_final['State'] == 'Alabama')].groupby('Education Level of Mother')['Number of Births', 'Total Births in State'].sum().reset_index()\n",
    "example_df['Percentage of Births by Ed Level'] = ((example_df['Number of Births'] / example_df['Total Births in State'])*100).round(1)\n",
    "\n",
    "\n",
    "#example_df['Percentage of Births by Education Level'] = ((merged_df_final['Number of Births'] / merged_df_final['Total Births in State']) * 100).round(1)\n",
    "example_df"
   ]
  },
  {
   "cell_type": "code",
   "execution_count": 131,
   "metadata": {},
   "outputs": [
    {
     "name": "stderr",
     "output_type": "stream",
     "text": [
      "/var/folders/0p/ymgcc2_s2fz5y2m7s2hb1dzw0000gn/T/ipykernel_974/1403371912.py:3: FutureWarning:\n",
      "\n",
      "Indexing with multiple keys (implicitly converted to a tuple of keys) will be deprecated, use a list instead.\n",
      "\n"
     ]
    },
    {
     "data": {
      "text/html": [
       "<div>\n",
       "<style scoped>\n",
       "    .dataframe tbody tr th:only-of-type {\n",
       "        vertical-align: middle;\n",
       "    }\n",
       "\n",
       "    .dataframe tbody tr th {\n",
       "        vertical-align: top;\n",
       "    }\n",
       "\n",
       "    .dataframe thead th {\n",
       "        text-align: right;\n",
       "    }\n",
       "</style>\n",
       "<table border=\"1\" class=\"dataframe\">\n",
       "  <thead>\n",
       "    <tr style=\"text-align: right;\">\n",
       "      <th></th>\n",
       "      <th>Education Level of Mother</th>\n",
       "      <th>Number of Births</th>\n",
       "      <th>Average Age of Mother (years)</th>\n",
       "    </tr>\n",
       "  </thead>\n",
       "  <tbody>\n",
       "    <tr>\n",
       "      <th>0</th>\n",
       "      <td>9th &gt; 12th Grade</td>\n",
       "      <td>19890</td>\n",
       "      <td>24.1</td>\n",
       "    </tr>\n",
       "    <tr>\n",
       "      <th>1</th>\n",
       "      <td>&gt; 8th Grade</td>\n",
       "      <td>6086</td>\n",
       "      <td>27.7</td>\n",
       "    </tr>\n",
       "    <tr>\n",
       "      <th>2</th>\n",
       "      <td>Associate Degree</td>\n",
       "      <td>14578</td>\n",
       "      <td>28.9</td>\n",
       "    </tr>\n",
       "    <tr>\n",
       "      <th>3</th>\n",
       "      <td>Bahcelor's Degree</td>\n",
       "      <td>26890</td>\n",
       "      <td>30.4</td>\n",
       "    </tr>\n",
       "    <tr>\n",
       "      <th>4</th>\n",
       "      <td>Doctorate</td>\n",
       "      <td>3238</td>\n",
       "      <td>33.1</td>\n",
       "    </tr>\n",
       "    <tr>\n",
       "      <th>5</th>\n",
       "      <td>High School Grad</td>\n",
       "      <td>54732</td>\n",
       "      <td>25.4</td>\n",
       "    </tr>\n",
       "    <tr>\n",
       "      <th>6</th>\n",
       "      <td>Master's Degree</td>\n",
       "      <td>11562</td>\n",
       "      <td>32.0</td>\n",
       "    </tr>\n",
       "    <tr>\n",
       "      <th>7</th>\n",
       "      <td>Some College Credit</td>\n",
       "      <td>38497</td>\n",
       "      <td>26.8</td>\n",
       "    </tr>\n",
       "    <tr>\n",
       "      <th>8</th>\n",
       "      <td>Unknown</td>\n",
       "      <td>380</td>\n",
       "      <td>27.4</td>\n",
       "    </tr>\n",
       "  </tbody>\n",
       "</table>\n",
       "</div>"
      ],
      "text/plain": [
       "  Education Level of Mother  Number of Births  Average Age of Mother (years)\n",
       "0          9th > 12th Grade             19890                           24.1\n",
       "1               > 8th Grade              6086                           27.7\n",
       "2          Associate Degree             14578                           28.9\n",
       "3         Bahcelor's Degree             26890                           30.4\n",
       "4                 Doctorate              3238                           33.1\n",
       "5          High School Grad             54732                           25.4\n",
       "6           Master's Degree             11562                           32.0\n",
       "7       Some College Credit             38497                           26.8\n",
       "8                   Unknown               380                           27.4"
      ]
     },
     "execution_count": 131,
     "metadata": {},
     "output_type": "execute_result"
    }
   ],
   "source": [
    "year_list = [2016, 2018]\n",
    "divide = (year_list[1] - year_list[0]) + 1\n",
    "example2_df = merged_df_final[(merged_df_final['Year'].between(2016, 2018)) & (merged_df_final['State'] == 'Alabama')].groupby('Education Level of Mother')['Number of Births', 'Average Age of Mother (years)'].sum().reset_index()\n",
    "example2_df['Average Age of Mother (years)'] = (example2_df['Average Age of Mother (years)'] / divide).round(1)\n",
    "example2_df"
   ]
  },
  {
   "cell_type": "code",
   "execution_count": 139,
   "metadata": {},
   "outputs": [
    {
     "name": "stderr",
     "output_type": "stream",
     "text": [
      "/var/folders/0p/ymgcc2_s2fz5y2m7s2hb1dzw0000gn/T/ipykernel_974/559586766.py:1: FutureWarning:\n",
      "\n",
      "Indexing with multiple keys (implicitly converted to a tuple of keys) will be deprecated, use a list instead.\n",
      "\n"
     ]
    },
    {
     "data": {
      "text/html": [
       "<div>\n",
       "<style scoped>\n",
       "    .dataframe tbody tr th:only-of-type {\n",
       "        vertical-align: middle;\n",
       "    }\n",
       "\n",
       "    .dataframe tbody tr th {\n",
       "        vertical-align: top;\n",
       "    }\n",
       "\n",
       "    .dataframe thead th {\n",
       "        text-align: right;\n",
       "    }\n",
       "</style>\n",
       "<table border=\"1\" class=\"dataframe\">\n",
       "  <thead>\n",
       "    <tr style=\"text-align: right;\">\n",
       "      <th></th>\n",
       "      <th>Education Level of Mother</th>\n",
       "      <th>Number of Births</th>\n",
       "      <th>Average Age of Mother (years)</th>\n",
       "    </tr>\n",
       "  </thead>\n",
       "  <tbody>\n",
       "    <tr>\n",
       "      <th>0</th>\n",
       "      <td>9th &gt; 12th Grade</td>\n",
       "      <td>7093</td>\n",
       "      <td>24.00</td>\n",
       "    </tr>\n",
       "    <tr>\n",
       "      <th>1</th>\n",
       "      <td>&gt; 8th Grade</td>\n",
       "      <td>2240</td>\n",
       "      <td>27.70</td>\n",
       "    </tr>\n",
       "    <tr>\n",
       "      <th>2</th>\n",
       "      <td>Associate Degree</td>\n",
       "      <td>4687</td>\n",
       "      <td>28.95</td>\n",
       "    </tr>\n",
       "    <tr>\n",
       "      <th>3</th>\n",
       "      <td>Bahcelor's Degree</td>\n",
       "      <td>9098</td>\n",
       "      <td>30.30</td>\n",
       "    </tr>\n",
       "    <tr>\n",
       "      <th>4</th>\n",
       "      <td>Doctorate</td>\n",
       "      <td>998</td>\n",
       "      <td>32.95</td>\n",
       "    </tr>\n",
       "    <tr>\n",
       "      <th>5</th>\n",
       "      <td>High School Grad</td>\n",
       "      <td>18061</td>\n",
       "      <td>25.30</td>\n",
       "    </tr>\n",
       "    <tr>\n",
       "      <th>6</th>\n",
       "      <td>Master's Degree</td>\n",
       "      <td>3884</td>\n",
       "      <td>32.10</td>\n",
       "    </tr>\n",
       "    <tr>\n",
       "      <th>7</th>\n",
       "      <td>Some College Credit</td>\n",
       "      <td>12969</td>\n",
       "      <td>26.70</td>\n",
       "    </tr>\n",
       "    <tr>\n",
       "      <th>8</th>\n",
       "      <td>Unknown</td>\n",
       "      <td>121</td>\n",
       "      <td>27.45</td>\n",
       "    </tr>\n",
       "  </tbody>\n",
       "</table>\n",
       "</div>"
      ],
      "text/plain": [
       "  Education Level of Mother  Number of Births  Average Age of Mother (years)\n",
       "0          9th > 12th Grade              7093                          24.00\n",
       "1               > 8th Grade              2240                          27.70\n",
       "2          Associate Degree              4687                          28.95\n",
       "3         Bahcelor's Degree              9098                          30.30\n",
       "4                 Doctorate               998                          32.95\n",
       "5          High School Grad             18061                          25.30\n",
       "6           Master's Degree              3884                          32.10\n",
       "7       Some College Credit             12969                          26.70\n",
       "8                   Unknown               121                          27.45"
      ]
     },
     "execution_count": 139,
     "metadata": {},
     "output_type": "execute_result"
    }
   ],
   "source": [
    "example3 = merged_df_final[(merged_df_final['Year'] == 2016) & (merged_df_final['State'] == 'Alabama')].groupby('Education Level of Mother')['Number of Births', 'Average Age of Mother (years)'].sum().reset_index()\n",
    "example3"
   ]
  },
  {
   "cell_type": "code",
   "execution_count": 43,
   "metadata": {},
   "outputs": [
    {
     "data": {
      "text/html": [
       "<div>\n",
       "<style scoped>\n",
       "    .dataframe tbody tr th:only-of-type {\n",
       "        vertical-align: middle;\n",
       "    }\n",
       "\n",
       "    .dataframe tbody tr th {\n",
       "        vertical-align: top;\n",
       "    }\n",
       "\n",
       "    .dataframe thead th {\n",
       "        text-align: right;\n",
       "    }\n",
       "</style>\n",
       "<table border=\"1\" class=\"dataframe\">\n",
       "  <thead>\n",
       "    <tr style=\"text-align: right;\">\n",
       "      <th></th>\n",
       "      <th>State</th>\n",
       "      <th>Year</th>\n",
       "      <th>Number of Births_by ed level</th>\n",
       "      <th>Number of Births_by state</th>\n",
       "      <th>Percentage of Births by Education Level</th>\n",
       "    </tr>\n",
       "  </thead>\n",
       "  <tbody>\n",
       "    <tr>\n",
       "      <th>0</th>\n",
       "      <td>Alabama</td>\n",
       "      <td>6051</td>\n",
       "      <td>3238</td>\n",
       "      <td>175853</td>\n",
       "      <td>5.53</td>\n",
       "    </tr>\n",
       "    <tr>\n",
       "      <th>1</th>\n",
       "      <td>Alaska</td>\n",
       "      <td>6051</td>\n",
       "      <td>581</td>\n",
       "      <td>31740</td>\n",
       "      <td>5.51</td>\n",
       "    </tr>\n",
       "    <tr>\n",
       "      <th>2</th>\n",
       "      <td>Arizona</td>\n",
       "      <td>6051</td>\n",
       "      <td>4703</td>\n",
       "      <td>247115</td>\n",
       "      <td>5.71</td>\n",
       "    </tr>\n",
       "    <tr>\n",
       "      <th>3</th>\n",
       "      <td>Arkansas</td>\n",
       "      <td>6051</td>\n",
       "      <td>1608</td>\n",
       "      <td>112812</td>\n",
       "      <td>4.28</td>\n",
       "    </tr>\n",
       "    <tr>\n",
       "      <th>4</th>\n",
       "      <td>California</td>\n",
       "      <td>6051</td>\n",
       "      <td>41398</td>\n",
       "      <td>1415405</td>\n",
       "      <td>8.79</td>\n",
       "    </tr>\n",
       "    <tr>\n",
       "      <th>5</th>\n",
       "      <td>Colorado</td>\n",
       "      <td>6051</td>\n",
       "      <td>6083</td>\n",
       "      <td>193880</td>\n",
       "      <td>9.42</td>\n",
       "    </tr>\n",
       "    <tr>\n",
       "      <th>6</th>\n",
       "      <td>Connecticut</td>\n",
       "      <td>6051</td>\n",
       "      <td>4314</td>\n",
       "      <td>105961</td>\n",
       "      <td>12.22</td>\n",
       "    </tr>\n",
       "    <tr>\n",
       "      <th>7</th>\n",
       "      <td>Delaware</td>\n",
       "      <td>6051</td>\n",
       "      <td>787</td>\n",
       "      <td>32468</td>\n",
       "      <td>7.26</td>\n",
       "    </tr>\n",
       "    <tr>\n",
       "      <th>8</th>\n",
       "      <td>District of Columbia</td>\n",
       "      <td>6051</td>\n",
       "      <td>3149</td>\n",
       "      <td>28630</td>\n",
       "      <td>33.03</td>\n",
       "    </tr>\n",
       "    <tr>\n",
       "      <th>9</th>\n",
       "      <td>Florida</td>\n",
       "      <td>6051</td>\n",
       "      <td>14080</td>\n",
       "      <td>670194</td>\n",
       "      <td>6.31</td>\n",
       "    </tr>\n",
       "    <tr>\n",
       "      <th>10</th>\n",
       "      <td>Georgia</td>\n",
       "      <td>6051</td>\n",
       "      <td>6392</td>\n",
       "      <td>385457</td>\n",
       "      <td>4.98</td>\n",
       "    </tr>\n",
       "    <tr>\n",
       "      <th>11</th>\n",
       "      <td>Hawaii</td>\n",
       "      <td>6051</td>\n",
       "      <td>713</td>\n",
       "      <td>52548</td>\n",
       "      <td>4.08</td>\n",
       "    </tr>\n",
       "    <tr>\n",
       "      <th>12</th>\n",
       "      <td>Idaho</td>\n",
       "      <td>6051</td>\n",
       "      <td>911</td>\n",
       "      <td>66066</td>\n",
       "      <td>4.13</td>\n",
       "    </tr>\n",
       "    <tr>\n",
       "      <th>13</th>\n",
       "      <td>Illinois</td>\n",
       "      <td>6051</td>\n",
       "      <td>13772</td>\n",
       "      <td>448650</td>\n",
       "      <td>9.22</td>\n",
       "    </tr>\n",
       "    <tr>\n",
       "      <th>14</th>\n",
       "      <td>Indiana</td>\n",
       "      <td>6051</td>\n",
       "      <td>4637</td>\n",
       "      <td>246907</td>\n",
       "      <td>5.63</td>\n",
       "    </tr>\n",
       "    <tr>\n",
       "      <th>15</th>\n",
       "      <td>Iowa</td>\n",
       "      <td>6051</td>\n",
       "      <td>3167</td>\n",
       "      <td>115618</td>\n",
       "      <td>8.22</td>\n",
       "    </tr>\n",
       "    <tr>\n",
       "      <th>16</th>\n",
       "      <td>Kansas</td>\n",
       "      <td>6051</td>\n",
       "      <td>2680</td>\n",
       "      <td>110833</td>\n",
       "      <td>7.25</td>\n",
       "    </tr>\n",
       "    <tr>\n",
       "      <th>17</th>\n",
       "      <td>Kentucky</td>\n",
       "      <td>6051</td>\n",
       "      <td>3478</td>\n",
       "      <td>164123</td>\n",
       "      <td>6.36</td>\n",
       "    </tr>\n",
       "    <tr>\n",
       "      <th>18</th>\n",
       "      <td>Louisiana</td>\n",
       "      <td>6051</td>\n",
       "      <td>3540</td>\n",
       "      <td>183811</td>\n",
       "      <td>5.79</td>\n",
       "    </tr>\n",
       "    <tr>\n",
       "      <th>19</th>\n",
       "      <td>Maine</td>\n",
       "      <td>6051</td>\n",
       "      <td>1106</td>\n",
       "      <td>37293</td>\n",
       "      <td>8.89</td>\n",
       "    </tr>\n",
       "    <tr>\n",
       "      <th>20</th>\n",
       "      <td>Maryland</td>\n",
       "      <td>6051</td>\n",
       "      <td>9723</td>\n",
       "      <td>215857</td>\n",
       "      <td>13.51</td>\n",
       "    </tr>\n",
       "    <tr>\n",
       "      <th>21</th>\n",
       "      <td>Massachusetts</td>\n",
       "      <td>6051</td>\n",
       "      <td>11946</td>\n",
       "      <td>211128</td>\n",
       "      <td>16.98</td>\n",
       "    </tr>\n",
       "    <tr>\n",
       "      <th>22</th>\n",
       "      <td>Michigan</td>\n",
       "      <td>6051</td>\n",
       "      <td>8222</td>\n",
       "      <td>334773</td>\n",
       "      <td>7.38</td>\n",
       "    </tr>\n",
       "    <tr>\n",
       "      <th>23</th>\n",
       "      <td>Minnesota</td>\n",
       "      <td>6051</td>\n",
       "      <td>6793</td>\n",
       "      <td>205688</td>\n",
       "      <td>9.91</td>\n",
       "    </tr>\n",
       "    <tr>\n",
       "      <th>24</th>\n",
       "      <td>Mississippi</td>\n",
       "      <td>6051</td>\n",
       "      <td>1787</td>\n",
       "      <td>112285</td>\n",
       "      <td>4.78</td>\n",
       "    </tr>\n",
       "    <tr>\n",
       "      <th>25</th>\n",
       "      <td>Missouri</td>\n",
       "      <td>6051</td>\n",
       "      <td>5206</td>\n",
       "      <td>221008</td>\n",
       "      <td>7.07</td>\n",
       "    </tr>\n",
       "    <tr>\n",
       "      <th>26</th>\n",
       "      <td>Montana</td>\n",
       "      <td>6051</td>\n",
       "      <td>830</td>\n",
       "      <td>35594</td>\n",
       "      <td>7.00</td>\n",
       "    </tr>\n",
       "    <tr>\n",
       "      <th>27</th>\n",
       "      <td>Nebraska</td>\n",
       "      <td>6051</td>\n",
       "      <td>2337</td>\n",
       "      <td>77871</td>\n",
       "      <td>9.00</td>\n",
       "    </tr>\n",
       "    <tr>\n",
       "      <th>28</th>\n",
       "      <td>Nevada</td>\n",
       "      <td>6051</td>\n",
       "      <td>1489</td>\n",
       "      <td>107698</td>\n",
       "      <td>4.15</td>\n",
       "    </tr>\n",
       "    <tr>\n",
       "      <th>29</th>\n",
       "      <td>New Hampshire</td>\n",
       "      <td>6051</td>\n",
       "      <td>1167</td>\n",
       "      <td>36378</td>\n",
       "      <td>9.64</td>\n",
       "    </tr>\n",
       "    <tr>\n",
       "      <th>30</th>\n",
       "      <td>New Jersey</td>\n",
       "      <td>6051</td>\n",
       "      <td>10580</td>\n",
       "      <td>305120</td>\n",
       "      <td>10.41</td>\n",
       "    </tr>\n",
       "    <tr>\n",
       "      <th>31</th>\n",
       "      <td>New Mexico</td>\n",
       "      <td>6051</td>\n",
       "      <td>1560</td>\n",
       "      <td>71498</td>\n",
       "      <td>6.56</td>\n",
       "    </tr>\n",
       "    <tr>\n",
       "      <th>32</th>\n",
       "      <td>New York</td>\n",
       "      <td>6051</td>\n",
       "      <td>24728</td>\n",
       "      <td>690258</td>\n",
       "      <td>10.75</td>\n",
       "    </tr>\n",
       "    <tr>\n",
       "      <th>33</th>\n",
       "      <td>North Carolina</td>\n",
       "      <td>6051</td>\n",
       "      <td>8977</td>\n",
       "      <td>359858</td>\n",
       "      <td>7.49</td>\n",
       "    </tr>\n",
       "    <tr>\n",
       "      <th>34</th>\n",
       "      <td>North Dakota</td>\n",
       "      <td>6051</td>\n",
       "      <td>937</td>\n",
       "      <td>32756</td>\n",
       "      <td>8.60</td>\n",
       "    </tr>\n",
       "    <tr>\n",
       "      <th>35</th>\n",
       "      <td>Ohio</td>\n",
       "      <td>6051</td>\n",
       "      <td>10285</td>\n",
       "      <td>410051</td>\n",
       "      <td>7.53</td>\n",
       "    </tr>\n",
       "    <tr>\n",
       "      <th>36</th>\n",
       "      <td>Oklahoma</td>\n",
       "      <td>6051</td>\n",
       "      <td>2470</td>\n",
       "      <td>152606</td>\n",
       "      <td>4.85</td>\n",
       "    </tr>\n",
       "    <tr>\n",
       "      <th>37</th>\n",
       "      <td>Oregon</td>\n",
       "      <td>6051</td>\n",
       "      <td>4154</td>\n",
       "      <td>131354</td>\n",
       "      <td>9.49</td>\n",
       "    </tr>\n",
       "    <tr>\n",
       "      <th>38</th>\n",
       "      <td>Pennsylvania</td>\n",
       "      <td>6051</td>\n",
       "      <td>13370</td>\n",
       "      <td>412827</td>\n",
       "      <td>9.71</td>\n",
       "    </tr>\n",
       "    <tr>\n",
       "      <th>39</th>\n",
       "      <td>Rhode Island</td>\n",
       "      <td>6051</td>\n",
       "      <td>1090</td>\n",
       "      <td>31942</td>\n",
       "      <td>10.24</td>\n",
       "    </tr>\n",
       "    <tr>\n",
       "      <th>40</th>\n",
       "      <td>South Carolina</td>\n",
       "      <td>6051</td>\n",
       "      <td>3719</td>\n",
       "      <td>171040</td>\n",
       "      <td>6.52</td>\n",
       "    </tr>\n",
       "    <tr>\n",
       "      <th>41</th>\n",
       "      <td>South Dakota</td>\n",
       "      <td>6051</td>\n",
       "      <td>891</td>\n",
       "      <td>36302</td>\n",
       "      <td>7.37</td>\n",
       "    </tr>\n",
       "    <tr>\n",
       "      <th>42</th>\n",
       "      <td>Tennessee</td>\n",
       "      <td>6051</td>\n",
       "      <td>5541</td>\n",
       "      <td>242574</td>\n",
       "      <td>6.86</td>\n",
       "    </tr>\n",
       "    <tr>\n",
       "      <th>43</th>\n",
       "      <td>Texas</td>\n",
       "      <td>6051</td>\n",
       "      <td>23409</td>\n",
       "      <td>1158721</td>\n",
       "      <td>6.06</td>\n",
       "    </tr>\n",
       "    <tr>\n",
       "      <th>44</th>\n",
       "      <td>Utah</td>\n",
       "      <td>6051</td>\n",
       "      <td>1917</td>\n",
       "      <td>146258</td>\n",
       "      <td>3.92</td>\n",
       "    </tr>\n",
       "    <tr>\n",
       "      <th>45</th>\n",
       "      <td>Vermont</td>\n",
       "      <td>6051</td>\n",
       "      <td>632</td>\n",
       "      <td>16843</td>\n",
       "      <td>11.27</td>\n",
       "    </tr>\n",
       "    <tr>\n",
       "      <th>46</th>\n",
       "      <td>Virginia</td>\n",
       "      <td>6051</td>\n",
       "      <td>10417</td>\n",
       "      <td>302694</td>\n",
       "      <td>10.33</td>\n",
       "    </tr>\n",
       "    <tr>\n",
       "      <th>47</th>\n",
       "      <td>Washington</td>\n",
       "      <td>6051</td>\n",
       "      <td>7634</td>\n",
       "      <td>264152</td>\n",
       "      <td>8.68</td>\n",
       "    </tr>\n",
       "    <tr>\n",
       "      <th>48</th>\n",
       "      <td>West Virginia</td>\n",
       "      <td>6051</td>\n",
       "      <td>1181</td>\n",
       "      <td>56002</td>\n",
       "      <td>6.33</td>\n",
       "    </tr>\n",
       "    <tr>\n",
       "      <th>49</th>\n",
       "      <td>Wisconsin</td>\n",
       "      <td>6051</td>\n",
       "      <td>5127</td>\n",
       "      <td>195688</td>\n",
       "      <td>7.86</td>\n",
       "    </tr>\n",
       "    <tr>\n",
       "      <th>50</th>\n",
       "      <td>Wyoming</td>\n",
       "      <td>6051</td>\n",
       "      <td>383</td>\n",
       "      <td>20851</td>\n",
       "      <td>5.52</td>\n",
       "    </tr>\n",
       "  </tbody>\n",
       "</table>\n",
       "</div>"
      ],
      "text/plain": [
       "                   State  Year  Number of Births_by ed level  \\\n",
       "0                Alabama  6051                          3238   \n",
       "1                 Alaska  6051                           581   \n",
       "2                Arizona  6051                          4703   \n",
       "3               Arkansas  6051                          1608   \n",
       "4             California  6051                         41398   \n",
       "5               Colorado  6051                          6083   \n",
       "6            Connecticut  6051                          4314   \n",
       "7               Delaware  6051                           787   \n",
       "8   District of Columbia  6051                          3149   \n",
       "9                Florida  6051                         14080   \n",
       "10               Georgia  6051                          6392   \n",
       "11                Hawaii  6051                           713   \n",
       "12                 Idaho  6051                           911   \n",
       "13              Illinois  6051                         13772   \n",
       "14               Indiana  6051                          4637   \n",
       "15                  Iowa  6051                          3167   \n",
       "16                Kansas  6051                          2680   \n",
       "17              Kentucky  6051                          3478   \n",
       "18             Louisiana  6051                          3540   \n",
       "19                 Maine  6051                          1106   \n",
       "20              Maryland  6051                          9723   \n",
       "21         Massachusetts  6051                         11946   \n",
       "22              Michigan  6051                          8222   \n",
       "23             Minnesota  6051                          6793   \n",
       "24           Mississippi  6051                          1787   \n",
       "25              Missouri  6051                          5206   \n",
       "26               Montana  6051                           830   \n",
       "27              Nebraska  6051                          2337   \n",
       "28                Nevada  6051                          1489   \n",
       "29         New Hampshire  6051                          1167   \n",
       "30            New Jersey  6051                         10580   \n",
       "31            New Mexico  6051                          1560   \n",
       "32              New York  6051                         24728   \n",
       "33        North Carolina  6051                          8977   \n",
       "34          North Dakota  6051                           937   \n",
       "35                  Ohio  6051                         10285   \n",
       "36              Oklahoma  6051                          2470   \n",
       "37                Oregon  6051                          4154   \n",
       "38          Pennsylvania  6051                         13370   \n",
       "39          Rhode Island  6051                          1090   \n",
       "40        South Carolina  6051                          3719   \n",
       "41          South Dakota  6051                           891   \n",
       "42             Tennessee  6051                          5541   \n",
       "43                 Texas  6051                         23409   \n",
       "44                  Utah  6051                          1917   \n",
       "45               Vermont  6051                           632   \n",
       "46              Virginia  6051                         10417   \n",
       "47            Washington  6051                          7634   \n",
       "48         West Virginia  6051                          1181   \n",
       "49             Wisconsin  6051                          5127   \n",
       "50               Wyoming  6051                           383   \n",
       "\n",
       "    Number of Births_by state  Percentage of Births by Education Level  \n",
       "0                      175853                                     5.53  \n",
       "1                       31740                                     5.51  \n",
       "2                      247115                                     5.71  \n",
       "3                      112812                                     4.28  \n",
       "4                     1415405                                     8.79  \n",
       "5                      193880                                     9.42  \n",
       "6                      105961                                    12.22  \n",
       "7                       32468                                     7.26  \n",
       "8                       28630                                    33.03  \n",
       "9                      670194                                     6.31  \n",
       "10                     385457                                     4.98  \n",
       "11                      52548                                     4.08  \n",
       "12                      66066                                     4.13  \n",
       "13                     448650                                     9.22  \n",
       "14                     246907                                     5.63  \n",
       "15                     115618                                     8.22  \n",
       "16                     110833                                     7.25  \n",
       "17                     164123                                     6.36  \n",
       "18                     183811                                     5.79  \n",
       "19                      37293                                     8.89  \n",
       "20                     215857                                    13.51  \n",
       "21                     211128                                    16.98  \n",
       "22                     334773                                     7.38  \n",
       "23                     205688                                     9.91  \n",
       "24                     112285                                     4.78  \n",
       "25                     221008                                     7.07  \n",
       "26                      35594                                     7.00  \n",
       "27                      77871                                     9.00  \n",
       "28                     107698                                     4.15  \n",
       "29                      36378                                     9.64  \n",
       "30                     305120                                    10.41  \n",
       "31                      71498                                     6.56  \n",
       "32                     690258                                    10.75  \n",
       "33                     359858                                     7.49  \n",
       "34                      32756                                     8.60  \n",
       "35                     410051                                     7.53  \n",
       "36                     152606                                     4.85  \n",
       "37                     131354                                     9.49  \n",
       "38                     412827                                     9.71  \n",
       "39                      31942                                    10.24  \n",
       "40                     171040                                     6.52  \n",
       "41                      36302                                     7.37  \n",
       "42                     242574                                     6.86  \n",
       "43                    1158721                                     6.06  \n",
       "44                     146258                                     3.92  \n",
       "45                      16843                                    11.27  \n",
       "46                     302694                                    10.33  \n",
       "47                     264152                                     8.68  \n",
       "48                      56002                                     6.33  \n",
       "49                     195688                                     7.86  \n",
       "50                      20851                                     5.52  "
      ]
     },
     "execution_count": 43,
     "metadata": {},
     "output_type": "execute_result"
    }
   ],
   "source": [
    "merged_df_filtered = merged_df[(merged_df['Year'].between(2016,2018)) & (merged_df['Education Level of Mother'] == 'Doctorate')].groupby('State').sum().reset_index()\n",
    "merged_df_filtered"
   ]
  },
  {
   "cell_type": "code",
   "execution_count": 36,
   "metadata": {},
   "outputs": [
    {
     "data": {
      "application/vnd.plotly.v1+json": {
       "config": {
        "plotlyServerURL": "https://plot.ly"
       },
       "data": [
        {
         "coloraxis": "coloraxis",
         "geo": "geo",
         "hovertemplate": "locations=%{location}<br>color=%{z}<extra></extra>",
         "locationmode": "USA-states",
         "locations": [
          "AL",
          "AK",
          "AZ",
          "AR",
          "CA",
          "CO",
          "CT",
          "DE",
          "DC",
          "FL",
          "GA",
          "HI",
          "ID",
          "IL",
          "IN",
          "IA",
          "KS",
          "KY",
          "LA",
          "ME",
          "MD",
          "MA",
          "MI",
          "MN",
          "MS",
          "MO",
          "MT",
          "NE",
          "NV",
          "NH",
          "NJ",
          "NM",
          "NY",
          "NC",
          "ND",
          "OH",
          "OK",
          "OR",
          "PA",
          "RI",
          "SC",
          "SD",
          "TN",
          "TX",
          "UT",
          "VT",
          "VA",
          "WA",
          "WV",
          "WI",
          "WY"
         ],
         "name": "",
         "type": "choropleth",
         "z": [
          1.94,
          2.43,
          2.13,
          1.69,
          3.22,
          3.5,
          4.38,
          2.58,
          11.2,
          2.41,
          1.73,
          1.55,
          1.46,
          3.29,
          2.12,
          2.82,
          2.68,
          2.15,
          2.11,
          3.17,
          4.58,
          6.04,
          2.65,
          3.79,
          1.61,
          2.55,
          2.9,
          3.31,
          1.55,
          3.44,
          3.7,
          2.26,
          3.77,
          2.73,
          2.72,
          2.68,
          1.77,
          3.4,
          3.51,
          3.57,
          2.33,
          2.64,
          2.34,
          2.05,
          1.53,
          4.46,
          3.53,
          3.12,
          2.31,
          2.86,
          1.78
         ]
        }
       ],
       "layout": {
        "coloraxis": {
         "colorbar": {
          "title": {
           "text": "color"
          }
         },
         "colorscale": [
          [
           0,
           "#0d0887"
          ],
          [
           0.1111111111111111,
           "#46039f"
          ],
          [
           0.2222222222222222,
           "#7201a8"
          ],
          [
           0.3333333333333333,
           "#9c179e"
          ],
          [
           0.4444444444444444,
           "#bd3786"
          ],
          [
           0.5555555555555556,
           "#d8576b"
          ],
          [
           0.6666666666666666,
           "#ed7953"
          ],
          [
           0.7777777777777778,
           "#fb9f3a"
          ],
          [
           0.8888888888888888,
           "#fdca26"
          ],
          [
           1,
           "#f0f921"
          ]
         ]
        },
        "geo": {
         "center": {},
         "domain": {
          "x": [
           0,
           1
          ],
          "y": [
           0,
           1
          ]
         },
         "scope": "usa"
        },
        "legend": {
         "tracegroupgap": 0
        },
        "margin": {
         "t": 60
        },
        "template": {
         "data": {
          "bar": [
           {
            "error_x": {
             "color": "#2a3f5f"
            },
            "error_y": {
             "color": "#2a3f5f"
            },
            "marker": {
             "line": {
              "color": "#E5ECF6",
              "width": 0.5
             },
             "pattern": {
              "fillmode": "overlay",
              "size": 10,
              "solidity": 0.2
             }
            },
            "type": "bar"
           }
          ],
          "barpolar": [
           {
            "marker": {
             "line": {
              "color": "#E5ECF6",
              "width": 0.5
             },
             "pattern": {
              "fillmode": "overlay",
              "size": 10,
              "solidity": 0.2
             }
            },
            "type": "barpolar"
           }
          ],
          "carpet": [
           {
            "aaxis": {
             "endlinecolor": "#2a3f5f",
             "gridcolor": "white",
             "linecolor": "white",
             "minorgridcolor": "white",
             "startlinecolor": "#2a3f5f"
            },
            "baxis": {
             "endlinecolor": "#2a3f5f",
             "gridcolor": "white",
             "linecolor": "white",
             "minorgridcolor": "white",
             "startlinecolor": "#2a3f5f"
            },
            "type": "carpet"
           }
          ],
          "choropleth": [
           {
            "colorbar": {
             "outlinewidth": 0,
             "ticks": ""
            },
            "type": "choropleth"
           }
          ],
          "contour": [
           {
            "colorbar": {
             "outlinewidth": 0,
             "ticks": ""
            },
            "colorscale": [
             [
              0,
              "#0d0887"
             ],
             [
              0.1111111111111111,
              "#46039f"
             ],
             [
              0.2222222222222222,
              "#7201a8"
             ],
             [
              0.3333333333333333,
              "#9c179e"
             ],
             [
              0.4444444444444444,
              "#bd3786"
             ],
             [
              0.5555555555555556,
              "#d8576b"
             ],
             [
              0.6666666666666666,
              "#ed7953"
             ],
             [
              0.7777777777777778,
              "#fb9f3a"
             ],
             [
              0.8888888888888888,
              "#fdca26"
             ],
             [
              1,
              "#f0f921"
             ]
            ],
            "type": "contour"
           }
          ],
          "contourcarpet": [
           {
            "colorbar": {
             "outlinewidth": 0,
             "ticks": ""
            },
            "type": "contourcarpet"
           }
          ],
          "heatmap": [
           {
            "colorbar": {
             "outlinewidth": 0,
             "ticks": ""
            },
            "colorscale": [
             [
              0,
              "#0d0887"
             ],
             [
              0.1111111111111111,
              "#46039f"
             ],
             [
              0.2222222222222222,
              "#7201a8"
             ],
             [
              0.3333333333333333,
              "#9c179e"
             ],
             [
              0.4444444444444444,
              "#bd3786"
             ],
             [
              0.5555555555555556,
              "#d8576b"
             ],
             [
              0.6666666666666666,
              "#ed7953"
             ],
             [
              0.7777777777777778,
              "#fb9f3a"
             ],
             [
              0.8888888888888888,
              "#fdca26"
             ],
             [
              1,
              "#f0f921"
             ]
            ],
            "type": "heatmap"
           }
          ],
          "heatmapgl": [
           {
            "colorbar": {
             "outlinewidth": 0,
             "ticks": ""
            },
            "colorscale": [
             [
              0,
              "#0d0887"
             ],
             [
              0.1111111111111111,
              "#46039f"
             ],
             [
              0.2222222222222222,
              "#7201a8"
             ],
             [
              0.3333333333333333,
              "#9c179e"
             ],
             [
              0.4444444444444444,
              "#bd3786"
             ],
             [
              0.5555555555555556,
              "#d8576b"
             ],
             [
              0.6666666666666666,
              "#ed7953"
             ],
             [
              0.7777777777777778,
              "#fb9f3a"
             ],
             [
              0.8888888888888888,
              "#fdca26"
             ],
             [
              1,
              "#f0f921"
             ]
            ],
            "type": "heatmapgl"
           }
          ],
          "histogram": [
           {
            "marker": {
             "pattern": {
              "fillmode": "overlay",
              "size": 10,
              "solidity": 0.2
             }
            },
            "type": "histogram"
           }
          ],
          "histogram2d": [
           {
            "colorbar": {
             "outlinewidth": 0,
             "ticks": ""
            },
            "colorscale": [
             [
              0,
              "#0d0887"
             ],
             [
              0.1111111111111111,
              "#46039f"
             ],
             [
              0.2222222222222222,
              "#7201a8"
             ],
             [
              0.3333333333333333,
              "#9c179e"
             ],
             [
              0.4444444444444444,
              "#bd3786"
             ],
             [
              0.5555555555555556,
              "#d8576b"
             ],
             [
              0.6666666666666666,
              "#ed7953"
             ],
             [
              0.7777777777777778,
              "#fb9f3a"
             ],
             [
              0.8888888888888888,
              "#fdca26"
             ],
             [
              1,
              "#f0f921"
             ]
            ],
            "type": "histogram2d"
           }
          ],
          "histogram2dcontour": [
           {
            "colorbar": {
             "outlinewidth": 0,
             "ticks": ""
            },
            "colorscale": [
             [
              0,
              "#0d0887"
             ],
             [
              0.1111111111111111,
              "#46039f"
             ],
             [
              0.2222222222222222,
              "#7201a8"
             ],
             [
              0.3333333333333333,
              "#9c179e"
             ],
             [
              0.4444444444444444,
              "#bd3786"
             ],
             [
              0.5555555555555556,
              "#d8576b"
             ],
             [
              0.6666666666666666,
              "#ed7953"
             ],
             [
              0.7777777777777778,
              "#fb9f3a"
             ],
             [
              0.8888888888888888,
              "#fdca26"
             ],
             [
              1,
              "#f0f921"
             ]
            ],
            "type": "histogram2dcontour"
           }
          ],
          "mesh3d": [
           {
            "colorbar": {
             "outlinewidth": 0,
             "ticks": ""
            },
            "type": "mesh3d"
           }
          ],
          "parcoords": [
           {
            "line": {
             "colorbar": {
              "outlinewidth": 0,
              "ticks": ""
             }
            },
            "type": "parcoords"
           }
          ],
          "pie": [
           {
            "automargin": true,
            "type": "pie"
           }
          ],
          "scatter": [
           {
            "fillpattern": {
             "fillmode": "overlay",
             "size": 10,
             "solidity": 0.2
            },
            "type": "scatter"
           }
          ],
          "scatter3d": [
           {
            "line": {
             "colorbar": {
              "outlinewidth": 0,
              "ticks": ""
             }
            },
            "marker": {
             "colorbar": {
              "outlinewidth": 0,
              "ticks": ""
             }
            },
            "type": "scatter3d"
           }
          ],
          "scattercarpet": [
           {
            "marker": {
             "colorbar": {
              "outlinewidth": 0,
              "ticks": ""
             }
            },
            "type": "scattercarpet"
           }
          ],
          "scattergeo": [
           {
            "marker": {
             "colorbar": {
              "outlinewidth": 0,
              "ticks": ""
             }
            },
            "type": "scattergeo"
           }
          ],
          "scattergl": [
           {
            "marker": {
             "colorbar": {
              "outlinewidth": 0,
              "ticks": ""
             }
            },
            "type": "scattergl"
           }
          ],
          "scattermapbox": [
           {
            "marker": {
             "colorbar": {
              "outlinewidth": 0,
              "ticks": ""
             }
            },
            "type": "scattermapbox"
           }
          ],
          "scatterpolar": [
           {
            "marker": {
             "colorbar": {
              "outlinewidth": 0,
              "ticks": ""
             }
            },
            "type": "scatterpolar"
           }
          ],
          "scatterpolargl": [
           {
            "marker": {
             "colorbar": {
              "outlinewidth": 0,
              "ticks": ""
             }
            },
            "type": "scatterpolargl"
           }
          ],
          "scatterternary": [
           {
            "marker": {
             "colorbar": {
              "outlinewidth": 0,
              "ticks": ""
             }
            },
            "type": "scatterternary"
           }
          ],
          "surface": [
           {
            "colorbar": {
             "outlinewidth": 0,
             "ticks": ""
            },
            "colorscale": [
             [
              0,
              "#0d0887"
             ],
             [
              0.1111111111111111,
              "#46039f"
             ],
             [
              0.2222222222222222,
              "#7201a8"
             ],
             [
              0.3333333333333333,
              "#9c179e"
             ],
             [
              0.4444444444444444,
              "#bd3786"
             ],
             [
              0.5555555555555556,
              "#d8576b"
             ],
             [
              0.6666666666666666,
              "#ed7953"
             ],
             [
              0.7777777777777778,
              "#fb9f3a"
             ],
             [
              0.8888888888888888,
              "#fdca26"
             ],
             [
              1,
              "#f0f921"
             ]
            ],
            "type": "surface"
           }
          ],
          "table": [
           {
            "cells": {
             "fill": {
              "color": "#EBF0F8"
             },
             "line": {
              "color": "white"
             }
            },
            "header": {
             "fill": {
              "color": "#C8D4E3"
             },
             "line": {
              "color": "white"
             }
            },
            "type": "table"
           }
          ]
         },
         "layout": {
          "annotationdefaults": {
           "arrowcolor": "#2a3f5f",
           "arrowhead": 0,
           "arrowwidth": 1
          },
          "autotypenumbers": "strict",
          "coloraxis": {
           "colorbar": {
            "outlinewidth": 0,
            "ticks": ""
           }
          },
          "colorscale": {
           "diverging": [
            [
             0,
             "#8e0152"
            ],
            [
             0.1,
             "#c51b7d"
            ],
            [
             0.2,
             "#de77ae"
            ],
            [
             0.3,
             "#f1b6da"
            ],
            [
             0.4,
             "#fde0ef"
            ],
            [
             0.5,
             "#f7f7f7"
            ],
            [
             0.6,
             "#e6f5d0"
            ],
            [
             0.7,
             "#b8e186"
            ],
            [
             0.8,
             "#7fbc41"
            ],
            [
             0.9,
             "#4d9221"
            ],
            [
             1,
             "#276419"
            ]
           ],
           "sequential": [
            [
             0,
             "#0d0887"
            ],
            [
             0.1111111111111111,
             "#46039f"
            ],
            [
             0.2222222222222222,
             "#7201a8"
            ],
            [
             0.3333333333333333,
             "#9c179e"
            ],
            [
             0.4444444444444444,
             "#bd3786"
            ],
            [
             0.5555555555555556,
             "#d8576b"
            ],
            [
             0.6666666666666666,
             "#ed7953"
            ],
            [
             0.7777777777777778,
             "#fb9f3a"
            ],
            [
             0.8888888888888888,
             "#fdca26"
            ],
            [
             1,
             "#f0f921"
            ]
           ],
           "sequentialminus": [
            [
             0,
             "#0d0887"
            ],
            [
             0.1111111111111111,
             "#46039f"
            ],
            [
             0.2222222222222222,
             "#7201a8"
            ],
            [
             0.3333333333333333,
             "#9c179e"
            ],
            [
             0.4444444444444444,
             "#bd3786"
            ],
            [
             0.5555555555555556,
             "#d8576b"
            ],
            [
             0.6666666666666666,
             "#ed7953"
            ],
            [
             0.7777777777777778,
             "#fb9f3a"
            ],
            [
             0.8888888888888888,
             "#fdca26"
            ],
            [
             1,
             "#f0f921"
            ]
           ]
          },
          "colorway": [
           "#636efa",
           "#EF553B",
           "#00cc96",
           "#ab63fa",
           "#FFA15A",
           "#19d3f3",
           "#FF6692",
           "#B6E880",
           "#FF97FF",
           "#FECB52"
          ],
          "font": {
           "color": "#2a3f5f"
          },
          "geo": {
           "bgcolor": "white",
           "lakecolor": "white",
           "landcolor": "#E5ECF6",
           "showlakes": true,
           "showland": true,
           "subunitcolor": "white"
          },
          "hoverlabel": {
           "align": "left"
          },
          "hovermode": "closest",
          "mapbox": {
           "style": "light"
          },
          "paper_bgcolor": "white",
          "plot_bgcolor": "#E5ECF6",
          "polar": {
           "angularaxis": {
            "gridcolor": "white",
            "linecolor": "white",
            "ticks": ""
           },
           "bgcolor": "#E5ECF6",
           "radialaxis": {
            "gridcolor": "white",
            "linecolor": "white",
            "ticks": ""
           }
          },
          "scene": {
           "xaxis": {
            "backgroundcolor": "#E5ECF6",
            "gridcolor": "white",
            "gridwidth": 2,
            "linecolor": "white",
            "showbackground": true,
            "ticks": "",
            "zerolinecolor": "white"
           },
           "yaxis": {
            "backgroundcolor": "#E5ECF6",
            "gridcolor": "white",
            "gridwidth": 2,
            "linecolor": "white",
            "showbackground": true,
            "ticks": "",
            "zerolinecolor": "white"
           },
           "zaxis": {
            "backgroundcolor": "#E5ECF6",
            "gridcolor": "white",
            "gridwidth": 2,
            "linecolor": "white",
            "showbackground": true,
            "ticks": "",
            "zerolinecolor": "white"
           }
          },
          "shapedefaults": {
           "line": {
            "color": "#2a3f5f"
           }
          },
          "ternary": {
           "aaxis": {
            "gridcolor": "white",
            "linecolor": "white",
            "ticks": ""
           },
           "baxis": {
            "gridcolor": "white",
            "linecolor": "white",
            "ticks": ""
           },
           "bgcolor": "#E5ECF6",
           "caxis": {
            "gridcolor": "white",
            "linecolor": "white",
            "ticks": ""
           }
          },
          "title": {
           "x": 0.05
          },
          "xaxis": {
           "automargin": true,
           "gridcolor": "white",
           "linecolor": "white",
           "ticks": "",
           "title": {
            "standoff": 15
           },
           "zerolinecolor": "white",
           "zerolinewidth": 2
          },
          "yaxis": {
           "automargin": true,
           "gridcolor": "white",
           "linecolor": "white",
           "ticks": "",
           "title": {
            "standoff": 15
           },
           "zerolinecolor": "white",
           "zerolinewidth": 2
          }
         }
        }
       }
      }
     },
     "metadata": {},
     "output_type": "display_data"
    }
   ],
   "source": [
    "fig = px.choropleth(locations = (merged_df_filtered['State Abbreviation']), locationmode = \"USA-states\",\n",
    "                    color = (merged_df_filtered['Percentage of Births by Education Level']), scope = \"usa\")\n",
    "fig.show()"
   ]
  },
  {
   "cell_type": "code",
   "execution_count": 38,
   "metadata": {},
   "outputs": [
    {
     "data": {
      "application/vnd.plotly.v1+json": {
       "config": {
        "plotlyServerURL": "https://plot.ly"
       },
       "data": [
        {
         "colorscale": [
          [
           0,
           "rgb(255,245,240)"
          ],
          [
           0.125,
           "rgb(254,224,210)"
          ],
          [
           0.25,
           "rgb(252,187,161)"
          ],
          [
           0.375,
           "rgb(252,146,114)"
          ],
          [
           0.5,
           "rgb(251,106,74)"
          ],
          [
           0.625,
           "rgb(239,59,44)"
          ],
          [
           0.75,
           "rgb(203,24,29)"
          ],
          [
           0.875,
           "rgb(165,15,21)"
          ],
          [
           1,
           "rgb(103,0,13)"
          ]
         ],
         "locationmode": "USA-states",
         "locations": [
          "AL",
          "AK",
          "AZ",
          "AR",
          "CA",
          "CO",
          "CT",
          "DE",
          "DC",
          "FL",
          "GA",
          "HI",
          "ID",
          "IL",
          "IN",
          "IA",
          "KS",
          "KY",
          "LA",
          "ME",
          "MD",
          "MA",
          "MI",
          "MN",
          "MS",
          "MO",
          "MT",
          "NE",
          "NV",
          "NH",
          "NJ",
          "NM",
          "NY",
          "NC",
          "ND",
          "OH",
          "OK",
          "OR",
          "PA",
          "RI",
          "SC",
          "SD",
          "TN",
          "TX",
          "UT",
          "VT",
          "VA",
          "WA",
          "WV",
          "WI",
          "WY"
         ],
         "type": "choropleth",
         "z": [
          1.94,
          2.43,
          2.13,
          1.69,
          3.22,
          3.5,
          4.38,
          2.58,
          11.2,
          2.41,
          1.73,
          1.55,
          1.46,
          3.29,
          2.12,
          2.82,
          2.68,
          2.15,
          2.11,
          3.17,
          4.58,
          6.04,
          2.65,
          3.79,
          1.61,
          2.55,
          2.9,
          3.31,
          1.55,
          3.44,
          3.7,
          2.26,
          3.77,
          2.73,
          2.72,
          2.68,
          1.77,
          3.4,
          3.51,
          3.57,
          2.33,
          2.64,
          2.34,
          2.05,
          1.53,
          4.46,
          3.53,
          3.12,
          2.31,
          2.86,
          1.78
         ]
        }
       ],
       "layout": {
        "geo": {
         "scope": "usa"
        },
        "template": {
         "data": {
          "bar": [
           {
            "error_x": {
             "color": "#2a3f5f"
            },
            "error_y": {
             "color": "#2a3f5f"
            },
            "marker": {
             "line": {
              "color": "#E5ECF6",
              "width": 0.5
             },
             "pattern": {
              "fillmode": "overlay",
              "size": 10,
              "solidity": 0.2
             }
            },
            "type": "bar"
           }
          ],
          "barpolar": [
           {
            "marker": {
             "line": {
              "color": "#E5ECF6",
              "width": 0.5
             },
             "pattern": {
              "fillmode": "overlay",
              "size": 10,
              "solidity": 0.2
             }
            },
            "type": "barpolar"
           }
          ],
          "carpet": [
           {
            "aaxis": {
             "endlinecolor": "#2a3f5f",
             "gridcolor": "white",
             "linecolor": "white",
             "minorgridcolor": "white",
             "startlinecolor": "#2a3f5f"
            },
            "baxis": {
             "endlinecolor": "#2a3f5f",
             "gridcolor": "white",
             "linecolor": "white",
             "minorgridcolor": "white",
             "startlinecolor": "#2a3f5f"
            },
            "type": "carpet"
           }
          ],
          "choropleth": [
           {
            "colorbar": {
             "outlinewidth": 0,
             "ticks": ""
            },
            "type": "choropleth"
           }
          ],
          "contour": [
           {
            "colorbar": {
             "outlinewidth": 0,
             "ticks": ""
            },
            "colorscale": [
             [
              0,
              "#0d0887"
             ],
             [
              0.1111111111111111,
              "#46039f"
             ],
             [
              0.2222222222222222,
              "#7201a8"
             ],
             [
              0.3333333333333333,
              "#9c179e"
             ],
             [
              0.4444444444444444,
              "#bd3786"
             ],
             [
              0.5555555555555556,
              "#d8576b"
             ],
             [
              0.6666666666666666,
              "#ed7953"
             ],
             [
              0.7777777777777778,
              "#fb9f3a"
             ],
             [
              0.8888888888888888,
              "#fdca26"
             ],
             [
              1,
              "#f0f921"
             ]
            ],
            "type": "contour"
           }
          ],
          "contourcarpet": [
           {
            "colorbar": {
             "outlinewidth": 0,
             "ticks": ""
            },
            "type": "contourcarpet"
           }
          ],
          "heatmap": [
           {
            "colorbar": {
             "outlinewidth": 0,
             "ticks": ""
            },
            "colorscale": [
             [
              0,
              "#0d0887"
             ],
             [
              0.1111111111111111,
              "#46039f"
             ],
             [
              0.2222222222222222,
              "#7201a8"
             ],
             [
              0.3333333333333333,
              "#9c179e"
             ],
             [
              0.4444444444444444,
              "#bd3786"
             ],
             [
              0.5555555555555556,
              "#d8576b"
             ],
             [
              0.6666666666666666,
              "#ed7953"
             ],
             [
              0.7777777777777778,
              "#fb9f3a"
             ],
             [
              0.8888888888888888,
              "#fdca26"
             ],
             [
              1,
              "#f0f921"
             ]
            ],
            "type": "heatmap"
           }
          ],
          "heatmapgl": [
           {
            "colorbar": {
             "outlinewidth": 0,
             "ticks": ""
            },
            "colorscale": [
             [
              0,
              "#0d0887"
             ],
             [
              0.1111111111111111,
              "#46039f"
             ],
             [
              0.2222222222222222,
              "#7201a8"
             ],
             [
              0.3333333333333333,
              "#9c179e"
             ],
             [
              0.4444444444444444,
              "#bd3786"
             ],
             [
              0.5555555555555556,
              "#d8576b"
             ],
             [
              0.6666666666666666,
              "#ed7953"
             ],
             [
              0.7777777777777778,
              "#fb9f3a"
             ],
             [
              0.8888888888888888,
              "#fdca26"
             ],
             [
              1,
              "#f0f921"
             ]
            ],
            "type": "heatmapgl"
           }
          ],
          "histogram": [
           {
            "marker": {
             "pattern": {
              "fillmode": "overlay",
              "size": 10,
              "solidity": 0.2
             }
            },
            "type": "histogram"
           }
          ],
          "histogram2d": [
           {
            "colorbar": {
             "outlinewidth": 0,
             "ticks": ""
            },
            "colorscale": [
             [
              0,
              "#0d0887"
             ],
             [
              0.1111111111111111,
              "#46039f"
             ],
             [
              0.2222222222222222,
              "#7201a8"
             ],
             [
              0.3333333333333333,
              "#9c179e"
             ],
             [
              0.4444444444444444,
              "#bd3786"
             ],
             [
              0.5555555555555556,
              "#d8576b"
             ],
             [
              0.6666666666666666,
              "#ed7953"
             ],
             [
              0.7777777777777778,
              "#fb9f3a"
             ],
             [
              0.8888888888888888,
              "#fdca26"
             ],
             [
              1,
              "#f0f921"
             ]
            ],
            "type": "histogram2d"
           }
          ],
          "histogram2dcontour": [
           {
            "colorbar": {
             "outlinewidth": 0,
             "ticks": ""
            },
            "colorscale": [
             [
              0,
              "#0d0887"
             ],
             [
              0.1111111111111111,
              "#46039f"
             ],
             [
              0.2222222222222222,
              "#7201a8"
             ],
             [
              0.3333333333333333,
              "#9c179e"
             ],
             [
              0.4444444444444444,
              "#bd3786"
             ],
             [
              0.5555555555555556,
              "#d8576b"
             ],
             [
              0.6666666666666666,
              "#ed7953"
             ],
             [
              0.7777777777777778,
              "#fb9f3a"
             ],
             [
              0.8888888888888888,
              "#fdca26"
             ],
             [
              1,
              "#f0f921"
             ]
            ],
            "type": "histogram2dcontour"
           }
          ],
          "mesh3d": [
           {
            "colorbar": {
             "outlinewidth": 0,
             "ticks": ""
            },
            "type": "mesh3d"
           }
          ],
          "parcoords": [
           {
            "line": {
             "colorbar": {
              "outlinewidth": 0,
              "ticks": ""
             }
            },
            "type": "parcoords"
           }
          ],
          "pie": [
           {
            "automargin": true,
            "type": "pie"
           }
          ],
          "scatter": [
           {
            "fillpattern": {
             "fillmode": "overlay",
             "size": 10,
             "solidity": 0.2
            },
            "type": "scatter"
           }
          ],
          "scatter3d": [
           {
            "line": {
             "colorbar": {
              "outlinewidth": 0,
              "ticks": ""
             }
            },
            "marker": {
             "colorbar": {
              "outlinewidth": 0,
              "ticks": ""
             }
            },
            "type": "scatter3d"
           }
          ],
          "scattercarpet": [
           {
            "marker": {
             "colorbar": {
              "outlinewidth": 0,
              "ticks": ""
             }
            },
            "type": "scattercarpet"
           }
          ],
          "scattergeo": [
           {
            "marker": {
             "colorbar": {
              "outlinewidth": 0,
              "ticks": ""
             }
            },
            "type": "scattergeo"
           }
          ],
          "scattergl": [
           {
            "marker": {
             "colorbar": {
              "outlinewidth": 0,
              "ticks": ""
             }
            },
            "type": "scattergl"
           }
          ],
          "scattermapbox": [
           {
            "marker": {
             "colorbar": {
              "outlinewidth": 0,
              "ticks": ""
             }
            },
            "type": "scattermapbox"
           }
          ],
          "scatterpolar": [
           {
            "marker": {
             "colorbar": {
              "outlinewidth": 0,
              "ticks": ""
             }
            },
            "type": "scatterpolar"
           }
          ],
          "scatterpolargl": [
           {
            "marker": {
             "colorbar": {
              "outlinewidth": 0,
              "ticks": ""
             }
            },
            "type": "scatterpolargl"
           }
          ],
          "scatterternary": [
           {
            "marker": {
             "colorbar": {
              "outlinewidth": 0,
              "ticks": ""
             }
            },
            "type": "scatterternary"
           }
          ],
          "surface": [
           {
            "colorbar": {
             "outlinewidth": 0,
             "ticks": ""
            },
            "colorscale": [
             [
              0,
              "#0d0887"
             ],
             [
              0.1111111111111111,
              "#46039f"
             ],
             [
              0.2222222222222222,
              "#7201a8"
             ],
             [
              0.3333333333333333,
              "#9c179e"
             ],
             [
              0.4444444444444444,
              "#bd3786"
             ],
             [
              0.5555555555555556,
              "#d8576b"
             ],
             [
              0.6666666666666666,
              "#ed7953"
             ],
             [
              0.7777777777777778,
              "#fb9f3a"
             ],
             [
              0.8888888888888888,
              "#fdca26"
             ],
             [
              1,
              "#f0f921"
             ]
            ],
            "type": "surface"
           }
          ],
          "table": [
           {
            "cells": {
             "fill": {
              "color": "#EBF0F8"
             },
             "line": {
              "color": "white"
             }
            },
            "header": {
             "fill": {
              "color": "#C8D4E3"
             },
             "line": {
              "color": "white"
             }
            },
            "type": "table"
           }
          ]
         },
         "layout": {
          "annotationdefaults": {
           "arrowcolor": "#2a3f5f",
           "arrowhead": 0,
           "arrowwidth": 1
          },
          "autotypenumbers": "strict",
          "coloraxis": {
           "colorbar": {
            "outlinewidth": 0,
            "ticks": ""
           }
          },
          "colorscale": {
           "diverging": [
            [
             0,
             "#8e0152"
            ],
            [
             0.1,
             "#c51b7d"
            ],
            [
             0.2,
             "#de77ae"
            ],
            [
             0.3,
             "#f1b6da"
            ],
            [
             0.4,
             "#fde0ef"
            ],
            [
             0.5,
             "#f7f7f7"
            ],
            [
             0.6,
             "#e6f5d0"
            ],
            [
             0.7,
             "#b8e186"
            ],
            [
             0.8,
             "#7fbc41"
            ],
            [
             0.9,
             "#4d9221"
            ],
            [
             1,
             "#276419"
            ]
           ],
           "sequential": [
            [
             0,
             "#0d0887"
            ],
            [
             0.1111111111111111,
             "#46039f"
            ],
            [
             0.2222222222222222,
             "#7201a8"
            ],
            [
             0.3333333333333333,
             "#9c179e"
            ],
            [
             0.4444444444444444,
             "#bd3786"
            ],
            [
             0.5555555555555556,
             "#d8576b"
            ],
            [
             0.6666666666666666,
             "#ed7953"
            ],
            [
             0.7777777777777778,
             "#fb9f3a"
            ],
            [
             0.8888888888888888,
             "#fdca26"
            ],
            [
             1,
             "#f0f921"
            ]
           ],
           "sequentialminus": [
            [
             0,
             "#0d0887"
            ],
            [
             0.1111111111111111,
             "#46039f"
            ],
            [
             0.2222222222222222,
             "#7201a8"
            ],
            [
             0.3333333333333333,
             "#9c179e"
            ],
            [
             0.4444444444444444,
             "#bd3786"
            ],
            [
             0.5555555555555556,
             "#d8576b"
            ],
            [
             0.6666666666666666,
             "#ed7953"
            ],
            [
             0.7777777777777778,
             "#fb9f3a"
            ],
            [
             0.8888888888888888,
             "#fdca26"
            ],
            [
             1,
             "#f0f921"
            ]
           ]
          },
          "colorway": [
           "#636efa",
           "#EF553B",
           "#00cc96",
           "#ab63fa",
           "#FFA15A",
           "#19d3f3",
           "#FF6692",
           "#B6E880",
           "#FF97FF",
           "#FECB52"
          ],
          "font": {
           "color": "#2a3f5f"
          },
          "geo": {
           "bgcolor": "white",
           "lakecolor": "white",
           "landcolor": "#E5ECF6",
           "showlakes": true,
           "showland": true,
           "subunitcolor": "white"
          },
          "hoverlabel": {
           "align": "left"
          },
          "hovermode": "closest",
          "mapbox": {
           "style": "light"
          },
          "paper_bgcolor": "white",
          "plot_bgcolor": "#E5ECF6",
          "polar": {
           "angularaxis": {
            "gridcolor": "white",
            "linecolor": "white",
            "ticks": ""
           },
           "bgcolor": "#E5ECF6",
           "radialaxis": {
            "gridcolor": "white",
            "linecolor": "white",
            "ticks": ""
           }
          },
          "scene": {
           "xaxis": {
            "backgroundcolor": "#E5ECF6",
            "gridcolor": "white",
            "gridwidth": 2,
            "linecolor": "white",
            "showbackground": true,
            "ticks": "",
            "zerolinecolor": "white"
           },
           "yaxis": {
            "backgroundcolor": "#E5ECF6",
            "gridcolor": "white",
            "gridwidth": 2,
            "linecolor": "white",
            "showbackground": true,
            "ticks": "",
            "zerolinecolor": "white"
           },
           "zaxis": {
            "backgroundcolor": "#E5ECF6",
            "gridcolor": "white",
            "gridwidth": 2,
            "linecolor": "white",
            "showbackground": true,
            "ticks": "",
            "zerolinecolor": "white"
           }
          },
          "shapedefaults": {
           "line": {
            "color": "#2a3f5f"
           }
          },
          "ternary": {
           "aaxis": {
            "gridcolor": "white",
            "linecolor": "white",
            "ticks": ""
           },
           "baxis": {
            "gridcolor": "white",
            "linecolor": "white",
            "ticks": ""
           },
           "bgcolor": "#E5ECF6",
           "caxis": {
            "gridcolor": "white",
            "linecolor": "white",
            "ticks": ""
           }
          },
          "title": {
           "x": 0.05
          },
          "xaxis": {
           "automargin": true,
           "gridcolor": "white",
           "linecolor": "white",
           "ticks": "",
           "title": {
            "standoff": 15
           },
           "zerolinecolor": "white",
           "zerolinewidth": 2
          },
          "yaxis": {
           "automargin": true,
           "gridcolor": "white",
           "linecolor": "white",
           "ticks": "",
           "title": {
            "standoff": 15
           },
           "zerolinecolor": "white",
           "zerolinewidth": 2
          }
         }
        },
        "title": {
         "text": "2011 US Agriculture Exports by State"
        }
       }
      }
     },
     "metadata": {},
     "output_type": "display_data"
    }
   ],
   "source": [
    "fig = go.Figure(data = go.Choropleth(\n",
    "    locations = merged_df_filtered['State Abbreviation'], # Spatial coordinates\n",
    "    z = merged_df_filtered['Percentage of Births by Education Level'].astype(float), # Data to be color-coded\n",
    "    locationmode = 'USA-states', # set of locations match entries in `locations`\n",
    "    colorscale = 'Reds',\n",
    "    colorbar_title = \"Percentage\",\n",
    "))\n",
    "\n",
    "fig.update_layout(\n",
    "    title_text = 'Percentage of Births by Education Level - ',\n",
    "    geo_scope='usa', # limite map scope to USA\n",
    ")\n",
    "\n",
    "fig.show()"
   ]
  },
  {
   "cell_type": "code",
   "execution_count": 39,
   "metadata": {},
   "outputs": [
    {
     "data": {
      "text/plain": [
       "State                                       object\n",
       "State Abbreviation                          object\n",
       "Education Level of Mother                   object\n",
       "Year                                         int64\n",
       "Number of Births_by ed level                 int64\n",
       "Number of Births_by state                    int64\n",
       "Percentage of Births by Education Level    float64\n",
       "dtype: object"
      ]
     },
     "execution_count": 39,
     "metadata": {},
     "output_type": "execute_result"
    }
   ],
   "source": [
    " filtered_map_df = map_df[(map_df['Year'] == year_selected) & (map_df['Education Level of Mother'] == ed_level_selected)].reset_index()"
   ]
  },
  {
   "cell_type": "code",
   "execution_count": 41,
   "metadata": {},
   "outputs": [
    {
     "data": {
      "text/plain": [
       "(2750, 7)"
      ]
     },
     "execution_count": 41,
     "metadata": {},
     "output_type": "execute_result"
    }
   ],
   "source": [
    "\n",
    "df_by_ed_level_usa = us_births.groupby(['State', 'State Abbreviation', 'Education Level of Mother', 'Year'])['Number of Births'].sum().reset_index()\n",
    "merged_df = df_by_ed_level_usa.merge(total_births_by_state_and_year, on = ['State', \"State Abbreviation\", 'Year'], suffixes = ('_by ed level', '_by state'))\n"
   ]
  },
  {
   "cell_type": "code",
   "execution_count": 52,
   "metadata": {},
   "outputs": [
    {
     "data": {
      "text/html": [
       "<div>\n",
       "<style scoped>\n",
       "    .dataframe tbody tr th:only-of-type {\n",
       "        vertical-align: middle;\n",
       "    }\n",
       "\n",
       "    .dataframe tbody tr th {\n",
       "        vertical-align: top;\n",
       "    }\n",
       "\n",
       "    .dataframe thead th {\n",
       "        text-align: right;\n",
       "    }\n",
       "</style>\n",
       "<table border=\"1\" class=\"dataframe\">\n",
       "  <thead>\n",
       "    <tr style=\"text-align: right;\">\n",
       "      <th></th>\n",
       "      <th>State</th>\n",
       "      <th>State Abbreviation</th>\n",
       "      <th>Year</th>\n",
       "      <th>Total Births in State</th>\n",
       "    </tr>\n",
       "  </thead>\n",
       "  <tbody>\n",
       "    <tr>\n",
       "      <th>0</th>\n",
       "      <td>Alabama</td>\n",
       "      <td>AL</td>\n",
       "      <td>2017</td>\n",
       "      <td>58941</td>\n",
       "    </tr>\n",
       "    <tr>\n",
       "      <th>1</th>\n",
       "      <td>Alaska</td>\n",
       "      <td>AK</td>\n",
       "      <td>2017</td>\n",
       "      <td>10445</td>\n",
       "    </tr>\n",
       "    <tr>\n",
       "      <th>2</th>\n",
       "      <td>Arizona</td>\n",
       "      <td>AZ</td>\n",
       "      <td>2017</td>\n",
       "      <td>81872</td>\n",
       "    </tr>\n",
       "    <tr>\n",
       "      <th>3</th>\n",
       "      <td>Arkansas</td>\n",
       "      <td>AR</td>\n",
       "      <td>2017</td>\n",
       "      <td>37520</td>\n",
       "    </tr>\n",
       "    <tr>\n",
       "      <th>4</th>\n",
       "      <td>California</td>\n",
       "      <td>CA</td>\n",
       "      <td>2017</td>\n",
       "      <td>471658</td>\n",
       "    </tr>\n",
       "    <tr>\n",
       "      <th>5</th>\n",
       "      <td>Colorado</td>\n",
       "      <td>CO</td>\n",
       "      <td>2017</td>\n",
       "      <td>64382</td>\n",
       "    </tr>\n",
       "    <tr>\n",
       "      <th>6</th>\n",
       "      <td>Connecticut</td>\n",
       "      <td>CT</td>\n",
       "      <td>2017</td>\n",
       "      <td>35221</td>\n",
       "    </tr>\n",
       "    <tr>\n",
       "      <th>7</th>\n",
       "      <td>Delaware</td>\n",
       "      <td>DE</td>\n",
       "      <td>2017</td>\n",
       "      <td>10855</td>\n",
       "    </tr>\n",
       "    <tr>\n",
       "      <th>8</th>\n",
       "      <td>District of Columbia</td>\n",
       "      <td>DC</td>\n",
       "      <td>2017</td>\n",
       "      <td>9560</td>\n",
       "    </tr>\n",
       "    <tr>\n",
       "      <th>9</th>\n",
       "      <td>Florida</td>\n",
       "      <td>FL</td>\n",
       "      <td>2017</td>\n",
       "      <td>223630</td>\n",
       "    </tr>\n",
       "    <tr>\n",
       "      <th>10</th>\n",
       "      <td>Georgia</td>\n",
       "      <td>GA</td>\n",
       "      <td>2017</td>\n",
       "      <td>129243</td>\n",
       "    </tr>\n",
       "    <tr>\n",
       "      <th>11</th>\n",
       "      <td>Hawaii</td>\n",
       "      <td>HI</td>\n",
       "      <td>2017</td>\n",
       "      <td>17517</td>\n",
       "    </tr>\n",
       "    <tr>\n",
       "      <th>12</th>\n",
       "      <td>Idaho</td>\n",
       "      <td>ID</td>\n",
       "      <td>2017</td>\n",
       "      <td>22181</td>\n",
       "    </tr>\n",
       "    <tr>\n",
       "      <th>13</th>\n",
       "      <td>Illinois</td>\n",
       "      <td>IL</td>\n",
       "      <td>2017</td>\n",
       "      <td>149390</td>\n",
       "    </tr>\n",
       "    <tr>\n",
       "      <th>14</th>\n",
       "      <td>Indiana</td>\n",
       "      <td>IN</td>\n",
       "      <td>2017</td>\n",
       "      <td>82170</td>\n",
       "    </tr>\n",
       "    <tr>\n",
       "      <th>15</th>\n",
       "      <td>Iowa</td>\n",
       "      <td>IA</td>\n",
       "      <td>2017</td>\n",
       "      <td>38430</td>\n",
       "    </tr>\n",
       "    <tr>\n",
       "      <th>16</th>\n",
       "      <td>Kansas</td>\n",
       "      <td>KS</td>\n",
       "      <td>2017</td>\n",
       "      <td>36519</td>\n",
       "    </tr>\n",
       "    <tr>\n",
       "      <th>17</th>\n",
       "      <td>Kentucky</td>\n",
       "      <td>KY</td>\n",
       "      <td>2017</td>\n",
       "      <td>54752</td>\n",
       "    </tr>\n",
       "    <tr>\n",
       "      <th>18</th>\n",
       "      <td>Louisiana</td>\n",
       "      <td>LA</td>\n",
       "      <td>2017</td>\n",
       "      <td>61018</td>\n",
       "    </tr>\n",
       "    <tr>\n",
       "      <th>19</th>\n",
       "      <td>Maine</td>\n",
       "      <td>ME</td>\n",
       "      <td>2017</td>\n",
       "      <td>12289</td>\n",
       "    </tr>\n",
       "    <tr>\n",
       "      <th>20</th>\n",
       "      <td>Maryland</td>\n",
       "      <td>MD</td>\n",
       "      <td>2017</td>\n",
       "      <td>71641</td>\n",
       "    </tr>\n",
       "    <tr>\n",
       "      <th>21</th>\n",
       "      <td>Massachusetts</td>\n",
       "      <td>MA</td>\n",
       "      <td>2017</td>\n",
       "      <td>70702</td>\n",
       "    </tr>\n",
       "    <tr>\n",
       "      <th>22</th>\n",
       "      <td>Michigan</td>\n",
       "      <td>MI</td>\n",
       "      <td>2017</td>\n",
       "      <td>111426</td>\n",
       "    </tr>\n",
       "    <tr>\n",
       "      <th>23</th>\n",
       "      <td>Minnesota</td>\n",
       "      <td>MN</td>\n",
       "      <td>2017</td>\n",
       "      <td>68595</td>\n",
       "    </tr>\n",
       "    <tr>\n",
       "      <th>24</th>\n",
       "      <td>Mississippi</td>\n",
       "      <td>MS</td>\n",
       "      <td>2017</td>\n",
       "      <td>37357</td>\n",
       "    </tr>\n",
       "    <tr>\n",
       "      <th>25</th>\n",
       "      <td>Missouri</td>\n",
       "      <td>MO</td>\n",
       "      <td>2017</td>\n",
       "      <td>73034</td>\n",
       "    </tr>\n",
       "    <tr>\n",
       "      <th>26</th>\n",
       "      <td>Montana</td>\n",
       "      <td>MT</td>\n",
       "      <td>2017</td>\n",
       "      <td>11799</td>\n",
       "    </tr>\n",
       "    <tr>\n",
       "      <th>27</th>\n",
       "      <td>Nebraska</td>\n",
       "      <td>NE</td>\n",
       "      <td>2017</td>\n",
       "      <td>25809</td>\n",
       "    </tr>\n",
       "    <tr>\n",
       "      <th>28</th>\n",
       "      <td>Nevada</td>\n",
       "      <td>NV</td>\n",
       "      <td>2017</td>\n",
       "      <td>35756</td>\n",
       "    </tr>\n",
       "    <tr>\n",
       "      <th>29</th>\n",
       "      <td>New Hampshire</td>\n",
       "      <td>NH</td>\n",
       "      <td>2017</td>\n",
       "      <td>12116</td>\n",
       "    </tr>\n",
       "    <tr>\n",
       "      <th>30</th>\n",
       "      <td>New Jersey</td>\n",
       "      <td>NJ</td>\n",
       "      <td>2017</td>\n",
       "      <td>101250</td>\n",
       "    </tr>\n",
       "    <tr>\n",
       "      <th>31</th>\n",
       "      <td>New Mexico</td>\n",
       "      <td>NM</td>\n",
       "      <td>2017</td>\n",
       "      <td>23767</td>\n",
       "    </tr>\n",
       "    <tr>\n",
       "      <th>32</th>\n",
       "      <td>New York</td>\n",
       "      <td>NY</td>\n",
       "      <td>2017</td>\n",
       "      <td>229737</td>\n",
       "    </tr>\n",
       "    <tr>\n",
       "      <th>33</th>\n",
       "      <td>North Carolina</td>\n",
       "      <td>NC</td>\n",
       "      <td>2017</td>\n",
       "      <td>120125</td>\n",
       "    </tr>\n",
       "    <tr>\n",
       "      <th>34</th>\n",
       "      <td>North Dakota</td>\n",
       "      <td>ND</td>\n",
       "      <td>2017</td>\n",
       "      <td>10737</td>\n",
       "    </tr>\n",
       "    <tr>\n",
       "      <th>35</th>\n",
       "      <td>Ohio</td>\n",
       "      <td>OH</td>\n",
       "      <td>2017</td>\n",
       "      <td>136832</td>\n",
       "    </tr>\n",
       "    <tr>\n",
       "      <th>36</th>\n",
       "      <td>Oklahoma</td>\n",
       "      <td>OK</td>\n",
       "      <td>2017</td>\n",
       "      <td>50214</td>\n",
       "    </tr>\n",
       "    <tr>\n",
       "      <th>37</th>\n",
       "      <td>Oregon</td>\n",
       "      <td>OR</td>\n",
       "      <td>2017</td>\n",
       "      <td>43631</td>\n",
       "    </tr>\n",
       "    <tr>\n",
       "      <th>38</th>\n",
       "      <td>Pennsylvania</td>\n",
       "      <td>PA</td>\n",
       "      <td>2017</td>\n",
       "      <td>137745</td>\n",
       "    </tr>\n",
       "    <tr>\n",
       "      <th>39</th>\n",
       "      <td>Rhode Island</td>\n",
       "      <td>RI</td>\n",
       "      <td>2017</td>\n",
       "      <td>10638</td>\n",
       "    </tr>\n",
       "    <tr>\n",
       "      <th>40</th>\n",
       "      <td>South Carolina</td>\n",
       "      <td>SC</td>\n",
       "      <td>2017</td>\n",
       "      <td>57029</td>\n",
       "    </tr>\n",
       "    <tr>\n",
       "      <th>41</th>\n",
       "      <td>South Dakota</td>\n",
       "      <td>SD</td>\n",
       "      <td>2017</td>\n",
       "      <td>12134</td>\n",
       "    </tr>\n",
       "    <tr>\n",
       "      <th>42</th>\n",
       "      <td>Tennessee</td>\n",
       "      <td>TN</td>\n",
       "      <td>2017</td>\n",
       "      <td>81016</td>\n",
       "    </tr>\n",
       "    <tr>\n",
       "      <th>43</th>\n",
       "      <td>Texas</td>\n",
       "      <td>TX</td>\n",
       "      <td>2017</td>\n",
       "      <td>382050</td>\n",
       "    </tr>\n",
       "    <tr>\n",
       "      <th>44</th>\n",
       "      <td>Utah</td>\n",
       "      <td>UT</td>\n",
       "      <td>2017</td>\n",
       "      <td>48585</td>\n",
       "    </tr>\n",
       "    <tr>\n",
       "      <th>45</th>\n",
       "      <td>Vermont</td>\n",
       "      <td>VT</td>\n",
       "      <td>2017</td>\n",
       "      <td>5655</td>\n",
       "    </tr>\n",
       "    <tr>\n",
       "      <th>46</th>\n",
       "      <td>Virginia</td>\n",
       "      <td>VA</td>\n",
       "      <td>2017</td>\n",
       "      <td>100391</td>\n",
       "    </tr>\n",
       "    <tr>\n",
       "      <th>47</th>\n",
       "      <td>Washington</td>\n",
       "      <td>WA</td>\n",
       "      <td>2017</td>\n",
       "      <td>87562</td>\n",
       "    </tr>\n",
       "    <tr>\n",
       "      <th>48</th>\n",
       "      <td>West Virginia</td>\n",
       "      <td>WV</td>\n",
       "      <td>2017</td>\n",
       "      <td>18675</td>\n",
       "    </tr>\n",
       "    <tr>\n",
       "      <th>49</th>\n",
       "      <td>Wisconsin</td>\n",
       "      <td>WI</td>\n",
       "      <td>2017</td>\n",
       "      <td>64975</td>\n",
       "    </tr>\n",
       "    <tr>\n",
       "      <th>50</th>\n",
       "      <td>Wyoming</td>\n",
       "      <td>WY</td>\n",
       "      <td>2017</td>\n",
       "      <td>6903</td>\n",
       "    </tr>\n",
       "  </tbody>\n",
       "</table>\n",
       "</div>"
      ],
      "text/plain": [
       "                   State State Abbreviation  Year  Total Births in State\n",
       "0                Alabama                 AL  2017                  58941\n",
       "1                 Alaska                 AK  2017                  10445\n",
       "2                Arizona                 AZ  2017                  81872\n",
       "3               Arkansas                 AR  2017                  37520\n",
       "4             California                 CA  2017                 471658\n",
       "5               Colorado                 CO  2017                  64382\n",
       "6            Connecticut                 CT  2017                  35221\n",
       "7               Delaware                 DE  2017                  10855\n",
       "8   District of Columbia                 DC  2017                   9560\n",
       "9                Florida                 FL  2017                 223630\n",
       "10               Georgia                 GA  2017                 129243\n",
       "11                Hawaii                 HI  2017                  17517\n",
       "12                 Idaho                 ID  2017                  22181\n",
       "13              Illinois                 IL  2017                 149390\n",
       "14               Indiana                 IN  2017                  82170\n",
       "15                  Iowa                 IA  2017                  38430\n",
       "16                Kansas                 KS  2017                  36519\n",
       "17              Kentucky                 KY  2017                  54752\n",
       "18             Louisiana                 LA  2017                  61018\n",
       "19                 Maine                 ME  2017                  12289\n",
       "20              Maryland                 MD  2017                  71641\n",
       "21         Massachusetts                 MA  2017                  70702\n",
       "22              Michigan                 MI  2017                 111426\n",
       "23             Minnesota                 MN  2017                  68595\n",
       "24           Mississippi                 MS  2017                  37357\n",
       "25              Missouri                 MO  2017                  73034\n",
       "26               Montana                 MT  2017                  11799\n",
       "27              Nebraska                 NE  2017                  25809\n",
       "28                Nevada                 NV  2017                  35756\n",
       "29         New Hampshire                 NH  2017                  12116\n",
       "30            New Jersey                 NJ  2017                 101250\n",
       "31            New Mexico                 NM  2017                  23767\n",
       "32              New York                 NY  2017                 229737\n",
       "33        North Carolina                 NC  2017                 120125\n",
       "34          North Dakota                 ND  2017                  10737\n",
       "35                  Ohio                 OH  2017                 136832\n",
       "36              Oklahoma                 OK  2017                  50214\n",
       "37                Oregon                 OR  2017                  43631\n",
       "38          Pennsylvania                 PA  2017                 137745\n",
       "39          Rhode Island                 RI  2017                  10638\n",
       "40        South Carolina                 SC  2017                  57029\n",
       "41          South Dakota                 SD  2017                  12134\n",
       "42             Tennessee                 TN  2017                  81016\n",
       "43                 Texas                 TX  2017                 382050\n",
       "44                  Utah                 UT  2017                  48585\n",
       "45               Vermont                 VT  2017                   5655\n",
       "46              Virginia                 VA  2017                 100391\n",
       "47            Washington                 WA  2017                  87562\n",
       "48         West Virginia                 WV  2017                  18675\n",
       "49             Wisconsin                 WI  2017                  64975\n",
       "50               Wyoming                 WY  2017                   6903"
      ]
     },
     "execution_count": 52,
     "metadata": {},
     "output_type": "execute_result"
    }
   ],
   "source": [
    "total_births_by_state_and_year = us_births[(us_births['Year'] == 2017)].groupby(['State', 'State Abbreviation', 'Year'])['Number of Births'].sum().reset_index(name = 'Total Births in State')\n",
    "\n",
    "total_births_by_state_and_year"
   ]
  },
  {
   "cell_type": "code",
   "execution_count": 80,
   "metadata": {},
   "outputs": [
    {
     "data": {
      "text/html": [
       "<div>\n",
       "<style scoped>\n",
       "    .dataframe tbody tr th:only-of-type {\n",
       "        vertical-align: middle;\n",
       "    }\n",
       "\n",
       "    .dataframe tbody tr th {\n",
       "        vertical-align: top;\n",
       "    }\n",
       "\n",
       "    .dataframe thead th {\n",
       "        text-align: right;\n",
       "    }\n",
       "</style>\n",
       "<table border=\"1\" class=\"dataframe\">\n",
       "  <thead>\n",
       "    <tr style=\"text-align: right;\">\n",
       "      <th></th>\n",
       "      <th>State</th>\n",
       "      <th>State Abbreviation</th>\n",
       "      <th>Year</th>\n",
       "      <th>Education Level of Mother</th>\n",
       "      <th>Number of Births</th>\n",
       "    </tr>\n",
       "  </thead>\n",
       "  <tbody>\n",
       "    <tr>\n",
       "      <th>0</th>\n",
       "      <td>Alabama</td>\n",
       "      <td>AL</td>\n",
       "      <td>2017</td>\n",
       "      <td>Doctorate</td>\n",
       "      <td>1139</td>\n",
       "    </tr>\n",
       "    <tr>\n",
       "      <th>1</th>\n",
       "      <td>Alaska</td>\n",
       "      <td>AK</td>\n",
       "      <td>2017</td>\n",
       "      <td>Doctorate</td>\n",
       "      <td>185</td>\n",
       "    </tr>\n",
       "    <tr>\n",
       "      <th>2</th>\n",
       "      <td>Arizona</td>\n",
       "      <td>AZ</td>\n",
       "      <td>2017</td>\n",
       "      <td>Doctorate</td>\n",
       "      <td>1594</td>\n",
       "    </tr>\n",
       "    <tr>\n",
       "      <th>3</th>\n",
       "      <td>Arkansas</td>\n",
       "      <td>AR</td>\n",
       "      <td>2017</td>\n",
       "      <td>Doctorate</td>\n",
       "      <td>495</td>\n",
       "    </tr>\n",
       "    <tr>\n",
       "      <th>4</th>\n",
       "      <td>California</td>\n",
       "      <td>CA</td>\n",
       "      <td>2017</td>\n",
       "      <td>Doctorate</td>\n",
       "      <td>13703</td>\n",
       "    </tr>\n",
       "    <tr>\n",
       "      <th>5</th>\n",
       "      <td>Colorado</td>\n",
       "      <td>CO</td>\n",
       "      <td>2017</td>\n",
       "      <td>Doctorate</td>\n",
       "      <td>2022</td>\n",
       "    </tr>\n",
       "    <tr>\n",
       "      <th>6</th>\n",
       "      <td>Connecticut</td>\n",
       "      <td>CT</td>\n",
       "      <td>2017</td>\n",
       "      <td>Doctorate</td>\n",
       "      <td>1444</td>\n",
       "    </tr>\n",
       "    <tr>\n",
       "      <th>7</th>\n",
       "      <td>Delaware</td>\n",
       "      <td>DE</td>\n",
       "      <td>2017</td>\n",
       "      <td>Doctorate</td>\n",
       "      <td>238</td>\n",
       "    </tr>\n",
       "    <tr>\n",
       "      <th>8</th>\n",
       "      <td>District of Columbia</td>\n",
       "      <td>DC</td>\n",
       "      <td>2017</td>\n",
       "      <td>Doctorate</td>\n",
       "      <td>1014</td>\n",
       "    </tr>\n",
       "    <tr>\n",
       "      <th>9</th>\n",
       "      <td>Florida</td>\n",
       "      <td>FL</td>\n",
       "      <td>2017</td>\n",
       "      <td>Doctorate</td>\n",
       "      <td>4656</td>\n",
       "    </tr>\n",
       "    <tr>\n",
       "      <th>10</th>\n",
       "      <td>Georgia</td>\n",
       "      <td>GA</td>\n",
       "      <td>2017</td>\n",
       "      <td>Doctorate</td>\n",
       "      <td>2145</td>\n",
       "    </tr>\n",
       "    <tr>\n",
       "      <th>11</th>\n",
       "      <td>Hawaii</td>\n",
       "      <td>HI</td>\n",
       "      <td>2017</td>\n",
       "      <td>Doctorate</td>\n",
       "      <td>249</td>\n",
       "    </tr>\n",
       "    <tr>\n",
       "      <th>12</th>\n",
       "      <td>Idaho</td>\n",
       "      <td>ID</td>\n",
       "      <td>2017</td>\n",
       "      <td>Doctorate</td>\n",
       "      <td>318</td>\n",
       "    </tr>\n",
       "    <tr>\n",
       "      <th>13</th>\n",
       "      <td>Illinois</td>\n",
       "      <td>IL</td>\n",
       "      <td>2017</td>\n",
       "      <td>Doctorate</td>\n",
       "      <td>4539</td>\n",
       "    </tr>\n",
       "    <tr>\n",
       "      <th>14</th>\n",
       "      <td>Indiana</td>\n",
       "      <td>IN</td>\n",
       "      <td>2017</td>\n",
       "      <td>Doctorate</td>\n",
       "      <td>1504</td>\n",
       "    </tr>\n",
       "    <tr>\n",
       "      <th>15</th>\n",
       "      <td>Iowa</td>\n",
       "      <td>IA</td>\n",
       "      <td>2017</td>\n",
       "      <td>Doctorate</td>\n",
       "      <td>1075</td>\n",
       "    </tr>\n",
       "    <tr>\n",
       "      <th>16</th>\n",
       "      <td>Kansas</td>\n",
       "      <td>KS</td>\n",
       "      <td>2017</td>\n",
       "      <td>Doctorate</td>\n",
       "      <td>874</td>\n",
       "    </tr>\n",
       "    <tr>\n",
       "      <th>17</th>\n",
       "      <td>Kentucky</td>\n",
       "      <td>KY</td>\n",
       "      <td>2017</td>\n",
       "      <td>Doctorate</td>\n",
       "      <td>1120</td>\n",
       "    </tr>\n",
       "    <tr>\n",
       "      <th>18</th>\n",
       "      <td>Louisiana</td>\n",
       "      <td>LA</td>\n",
       "      <td>2017</td>\n",
       "      <td>Doctorate</td>\n",
       "      <td>1172</td>\n",
       "    </tr>\n",
       "    <tr>\n",
       "      <th>19</th>\n",
       "      <td>Maine</td>\n",
       "      <td>ME</td>\n",
       "      <td>2017</td>\n",
       "      <td>Doctorate</td>\n",
       "      <td>359</td>\n",
       "    </tr>\n",
       "    <tr>\n",
       "      <th>20</th>\n",
       "      <td>Maryland</td>\n",
       "      <td>MD</td>\n",
       "      <td>2017</td>\n",
       "      <td>Doctorate</td>\n",
       "      <td>3243</td>\n",
       "    </tr>\n",
       "    <tr>\n",
       "      <th>21</th>\n",
       "      <td>Massachusetts</td>\n",
       "      <td>MA</td>\n",
       "      <td>2017</td>\n",
       "      <td>Doctorate</td>\n",
       "      <td>3890</td>\n",
       "    </tr>\n",
       "    <tr>\n",
       "      <th>22</th>\n",
       "      <td>Michigan</td>\n",
       "      <td>MI</td>\n",
       "      <td>2017</td>\n",
       "      <td>Doctorate</td>\n",
       "      <td>2681</td>\n",
       "    </tr>\n",
       "    <tr>\n",
       "      <th>23</th>\n",
       "      <td>Minnesota</td>\n",
       "      <td>MN</td>\n",
       "      <td>2017</td>\n",
       "      <td>Doctorate</td>\n",
       "      <td>2332</td>\n",
       "    </tr>\n",
       "    <tr>\n",
       "      <th>24</th>\n",
       "      <td>Mississippi</td>\n",
       "      <td>MS</td>\n",
       "      <td>2017</td>\n",
       "      <td>Doctorate</td>\n",
       "      <td>631</td>\n",
       "    </tr>\n",
       "    <tr>\n",
       "      <th>25</th>\n",
       "      <td>Missouri</td>\n",
       "      <td>MO</td>\n",
       "      <td>2017</td>\n",
       "      <td>Doctorate</td>\n",
       "      <td>1701</td>\n",
       "    </tr>\n",
       "    <tr>\n",
       "      <th>26</th>\n",
       "      <td>Montana</td>\n",
       "      <td>MT</td>\n",
       "      <td>2017</td>\n",
       "      <td>Doctorate</td>\n",
       "      <td>313</td>\n",
       "    </tr>\n",
       "    <tr>\n",
       "      <th>27</th>\n",
       "      <td>Nebraska</td>\n",
       "      <td>NE</td>\n",
       "      <td>2017</td>\n",
       "      <td>Doctorate</td>\n",
       "      <td>749</td>\n",
       "    </tr>\n",
       "    <tr>\n",
       "      <th>28</th>\n",
       "      <td>Nevada</td>\n",
       "      <td>NV</td>\n",
       "      <td>2017</td>\n",
       "      <td>Doctorate</td>\n",
       "      <td>479</td>\n",
       "    </tr>\n",
       "    <tr>\n",
       "      <th>29</th>\n",
       "      <td>New Hampshire</td>\n",
       "      <td>NH</td>\n",
       "      <td>2017</td>\n",
       "      <td>Doctorate</td>\n",
       "      <td>392</td>\n",
       "    </tr>\n",
       "    <tr>\n",
       "      <th>30</th>\n",
       "      <td>New Jersey</td>\n",
       "      <td>NJ</td>\n",
       "      <td>2017</td>\n",
       "      <td>Doctorate</td>\n",
       "      <td>3464</td>\n",
       "    </tr>\n",
       "    <tr>\n",
       "      <th>31</th>\n",
       "      <td>New Mexico</td>\n",
       "      <td>NM</td>\n",
       "      <td>2017</td>\n",
       "      <td>Doctorate</td>\n",
       "      <td>513</td>\n",
       "    </tr>\n",
       "    <tr>\n",
       "      <th>32</th>\n",
       "      <td>New York</td>\n",
       "      <td>NY</td>\n",
       "      <td>2017</td>\n",
       "      <td>Doctorate</td>\n",
       "      <td>8113</td>\n",
       "    </tr>\n",
       "    <tr>\n",
       "      <th>33</th>\n",
       "      <td>North Carolina</td>\n",
       "      <td>NC</td>\n",
       "      <td>2017</td>\n",
       "      <td>Doctorate</td>\n",
       "      <td>3017</td>\n",
       "    </tr>\n",
       "    <tr>\n",
       "      <th>34</th>\n",
       "      <td>North Dakota</td>\n",
       "      <td>ND</td>\n",
       "      <td>2017</td>\n",
       "      <td>Doctorate</td>\n",
       "      <td>303</td>\n",
       "    </tr>\n",
       "    <tr>\n",
       "      <th>35</th>\n",
       "      <td>Ohio</td>\n",
       "      <td>OH</td>\n",
       "      <td>2017</td>\n",
       "      <td>Doctorate</td>\n",
       "      <td>3387</td>\n",
       "    </tr>\n",
       "    <tr>\n",
       "      <th>36</th>\n",
       "      <td>Oklahoma</td>\n",
       "      <td>OK</td>\n",
       "      <td>2017</td>\n",
       "      <td>Doctorate</td>\n",
       "      <td>810</td>\n",
       "    </tr>\n",
       "    <tr>\n",
       "      <th>37</th>\n",
       "      <td>Oregon</td>\n",
       "      <td>OR</td>\n",
       "      <td>2017</td>\n",
       "      <td>Doctorate</td>\n",
       "      <td>1367</td>\n",
       "    </tr>\n",
       "    <tr>\n",
       "      <th>38</th>\n",
       "      <td>Pennsylvania</td>\n",
       "      <td>PA</td>\n",
       "      <td>2017</td>\n",
       "      <td>Doctorate</td>\n",
       "      <td>4521</td>\n",
       "    </tr>\n",
       "    <tr>\n",
       "      <th>39</th>\n",
       "      <td>Rhode Island</td>\n",
       "      <td>RI</td>\n",
       "      <td>2017</td>\n",
       "      <td>Doctorate</td>\n",
       "      <td>407</td>\n",
       "    </tr>\n",
       "    <tr>\n",
       "      <th>40</th>\n",
       "      <td>South Carolina</td>\n",
       "      <td>SC</td>\n",
       "      <td>2017</td>\n",
       "      <td>Doctorate</td>\n",
       "      <td>1228</td>\n",
       "    </tr>\n",
       "    <tr>\n",
       "      <th>41</th>\n",
       "      <td>South Dakota</td>\n",
       "      <td>SD</td>\n",
       "      <td>2017</td>\n",
       "      <td>Doctorate</td>\n",
       "      <td>277</td>\n",
       "    </tr>\n",
       "    <tr>\n",
       "      <th>42</th>\n",
       "      <td>Tennessee</td>\n",
       "      <td>TN</td>\n",
       "      <td>2017</td>\n",
       "      <td>Doctorate</td>\n",
       "      <td>1856</td>\n",
       "    </tr>\n",
       "    <tr>\n",
       "      <th>43</th>\n",
       "      <td>Texas</td>\n",
       "      <td>TX</td>\n",
       "      <td>2017</td>\n",
       "      <td>Doctorate</td>\n",
       "      <td>7731</td>\n",
       "    </tr>\n",
       "    <tr>\n",
       "      <th>44</th>\n",
       "      <td>Utah</td>\n",
       "      <td>UT</td>\n",
       "      <td>2017</td>\n",
       "      <td>Doctorate</td>\n",
       "      <td>648</td>\n",
       "    </tr>\n",
       "    <tr>\n",
       "      <th>45</th>\n",
       "      <td>Vermont</td>\n",
       "      <td>VT</td>\n",
       "      <td>2017</td>\n",
       "      <td>Doctorate</td>\n",
       "      <td>211</td>\n",
       "    </tr>\n",
       "    <tr>\n",
       "      <th>46</th>\n",
       "      <td>Virginia</td>\n",
       "      <td>VA</td>\n",
       "      <td>2017</td>\n",
       "      <td>Doctorate</td>\n",
       "      <td>3469</td>\n",
       "    </tr>\n",
       "    <tr>\n",
       "      <th>47</th>\n",
       "      <td>Washington</td>\n",
       "      <td>WA</td>\n",
       "      <td>2017</td>\n",
       "      <td>Doctorate</td>\n",
       "      <td>2627</td>\n",
       "    </tr>\n",
       "    <tr>\n",
       "      <th>48</th>\n",
       "      <td>West Virginia</td>\n",
       "      <td>WV</td>\n",
       "      <td>2017</td>\n",
       "      <td>Doctorate</td>\n",
       "      <td>407</td>\n",
       "    </tr>\n",
       "    <tr>\n",
       "      <th>49</th>\n",
       "      <td>Wisconsin</td>\n",
       "      <td>WI</td>\n",
       "      <td>2017</td>\n",
       "      <td>Doctorate</td>\n",
       "      <td>1673</td>\n",
       "    </tr>\n",
       "    <tr>\n",
       "      <th>50</th>\n",
       "      <td>Wyoming</td>\n",
       "      <td>WY</td>\n",
       "      <td>2017</td>\n",
       "      <td>Doctorate</td>\n",
       "      <td>111</td>\n",
       "    </tr>\n",
       "  </tbody>\n",
       "</table>\n",
       "</div>"
      ],
      "text/plain": [
       "                   State State Abbreviation  Year Education Level of Mother  \\\n",
       "0                Alabama                 AL  2017                 Doctorate   \n",
       "1                 Alaska                 AK  2017                 Doctorate   \n",
       "2                Arizona                 AZ  2017                 Doctorate   \n",
       "3               Arkansas                 AR  2017                 Doctorate   \n",
       "4             California                 CA  2017                 Doctorate   \n",
       "5               Colorado                 CO  2017                 Doctorate   \n",
       "6            Connecticut                 CT  2017                 Doctorate   \n",
       "7               Delaware                 DE  2017                 Doctorate   \n",
       "8   District of Columbia                 DC  2017                 Doctorate   \n",
       "9                Florida                 FL  2017                 Doctorate   \n",
       "10               Georgia                 GA  2017                 Doctorate   \n",
       "11                Hawaii                 HI  2017                 Doctorate   \n",
       "12                 Idaho                 ID  2017                 Doctorate   \n",
       "13              Illinois                 IL  2017                 Doctorate   \n",
       "14               Indiana                 IN  2017                 Doctorate   \n",
       "15                  Iowa                 IA  2017                 Doctorate   \n",
       "16                Kansas                 KS  2017                 Doctorate   \n",
       "17              Kentucky                 KY  2017                 Doctorate   \n",
       "18             Louisiana                 LA  2017                 Doctorate   \n",
       "19                 Maine                 ME  2017                 Doctorate   \n",
       "20              Maryland                 MD  2017                 Doctorate   \n",
       "21         Massachusetts                 MA  2017                 Doctorate   \n",
       "22              Michigan                 MI  2017                 Doctorate   \n",
       "23             Minnesota                 MN  2017                 Doctorate   \n",
       "24           Mississippi                 MS  2017                 Doctorate   \n",
       "25              Missouri                 MO  2017                 Doctorate   \n",
       "26               Montana                 MT  2017                 Doctorate   \n",
       "27              Nebraska                 NE  2017                 Doctorate   \n",
       "28                Nevada                 NV  2017                 Doctorate   \n",
       "29         New Hampshire                 NH  2017                 Doctorate   \n",
       "30            New Jersey                 NJ  2017                 Doctorate   \n",
       "31            New Mexico                 NM  2017                 Doctorate   \n",
       "32              New York                 NY  2017                 Doctorate   \n",
       "33        North Carolina                 NC  2017                 Doctorate   \n",
       "34          North Dakota                 ND  2017                 Doctorate   \n",
       "35                  Ohio                 OH  2017                 Doctorate   \n",
       "36              Oklahoma                 OK  2017                 Doctorate   \n",
       "37                Oregon                 OR  2017                 Doctorate   \n",
       "38          Pennsylvania                 PA  2017                 Doctorate   \n",
       "39          Rhode Island                 RI  2017                 Doctorate   \n",
       "40        South Carolina                 SC  2017                 Doctorate   \n",
       "41          South Dakota                 SD  2017                 Doctorate   \n",
       "42             Tennessee                 TN  2017                 Doctorate   \n",
       "43                 Texas                 TX  2017                 Doctorate   \n",
       "44                  Utah                 UT  2017                 Doctorate   \n",
       "45               Vermont                 VT  2017                 Doctorate   \n",
       "46              Virginia                 VA  2017                 Doctorate   \n",
       "47            Washington                 WA  2017                 Doctorate   \n",
       "48         West Virginia                 WV  2017                 Doctorate   \n",
       "49             Wisconsin                 WI  2017                 Doctorate   \n",
       "50               Wyoming                 WY  2017                 Doctorate   \n",
       "\n",
       "    Number of Births  \n",
       "0               1139  \n",
       "1                185  \n",
       "2               1594  \n",
       "3                495  \n",
       "4              13703  \n",
       "5               2022  \n",
       "6               1444  \n",
       "7                238  \n",
       "8               1014  \n",
       "9               4656  \n",
       "10              2145  \n",
       "11               249  \n",
       "12               318  \n",
       "13              4539  \n",
       "14              1504  \n",
       "15              1075  \n",
       "16               874  \n",
       "17              1120  \n",
       "18              1172  \n",
       "19               359  \n",
       "20              3243  \n",
       "21              3890  \n",
       "22              2681  \n",
       "23              2332  \n",
       "24               631  \n",
       "25              1701  \n",
       "26               313  \n",
       "27               749  \n",
       "28               479  \n",
       "29               392  \n",
       "30              3464  \n",
       "31               513  \n",
       "32              8113  \n",
       "33              3017  \n",
       "34               303  \n",
       "35              3387  \n",
       "36               810  \n",
       "37              1367  \n",
       "38              4521  \n",
       "39               407  \n",
       "40              1228  \n",
       "41               277  \n",
       "42              1856  \n",
       "43              7731  \n",
       "44               648  \n",
       "45               211  \n",
       "46              3469  \n",
       "47              2627  \n",
       "48               407  \n",
       "49              1673  \n",
       "50               111  "
      ]
     },
     "execution_count": 80,
     "metadata": {},
     "output_type": "execute_result"
    }
   ],
   "source": [
    "df_by_ed_level_usa = us_births[(us_births['Year'] == 2017) & (us_births['Education Level of Mother'] == 'Doctorate')].groupby(['State', 'State Abbreviation', 'Year', 'Education Level of Mother'])['Number of Births'].sum().reset_index()\n",
    "df_by_ed_level_usa"
   ]
  },
  {
   "cell_type": "code",
   "execution_count": 56,
   "metadata": {},
   "outputs": [
    {
     "data": {
      "text/html": [
       "<div>\n",
       "<style scoped>\n",
       "    .dataframe tbody tr th:only-of-type {\n",
       "        vertical-align: middle;\n",
       "    }\n",
       "\n",
       "    .dataframe tbody tr th {\n",
       "        vertical-align: top;\n",
       "    }\n",
       "\n",
       "    .dataframe thead th {\n",
       "        text-align: right;\n",
       "    }\n",
       "</style>\n",
       "<table border=\"1\" class=\"dataframe\">\n",
       "  <thead>\n",
       "    <tr style=\"text-align: right;\">\n",
       "      <th></th>\n",
       "      <th>State</th>\n",
       "      <th>State Abbreviation</th>\n",
       "      <th>Year</th>\n",
       "      <th>Education Level of Mother</th>\n",
       "      <th>Number of Births</th>\n",
       "      <th>Total Births in State</th>\n",
       "    </tr>\n",
       "  </thead>\n",
       "  <tbody>\n",
       "    <tr>\n",
       "      <th>0</th>\n",
       "      <td>Alabama</td>\n",
       "      <td>AL</td>\n",
       "      <td>2017</td>\n",
       "      <td>Doctorate</td>\n",
       "      <td>1139</td>\n",
       "      <td>58941</td>\n",
       "    </tr>\n",
       "    <tr>\n",
       "      <th>1</th>\n",
       "      <td>Alaska</td>\n",
       "      <td>AK</td>\n",
       "      <td>2017</td>\n",
       "      <td>Doctorate</td>\n",
       "      <td>185</td>\n",
       "      <td>10445</td>\n",
       "    </tr>\n",
       "    <tr>\n",
       "      <th>2</th>\n",
       "      <td>Arizona</td>\n",
       "      <td>AZ</td>\n",
       "      <td>2017</td>\n",
       "      <td>Doctorate</td>\n",
       "      <td>1594</td>\n",
       "      <td>81872</td>\n",
       "    </tr>\n",
       "    <tr>\n",
       "      <th>3</th>\n",
       "      <td>Arkansas</td>\n",
       "      <td>AR</td>\n",
       "      <td>2017</td>\n",
       "      <td>Doctorate</td>\n",
       "      <td>495</td>\n",
       "      <td>37520</td>\n",
       "    </tr>\n",
       "    <tr>\n",
       "      <th>4</th>\n",
       "      <td>California</td>\n",
       "      <td>CA</td>\n",
       "      <td>2017</td>\n",
       "      <td>Doctorate</td>\n",
       "      <td>13703</td>\n",
       "      <td>471658</td>\n",
       "    </tr>\n",
       "    <tr>\n",
       "      <th>5</th>\n",
       "      <td>Colorado</td>\n",
       "      <td>CO</td>\n",
       "      <td>2017</td>\n",
       "      <td>Doctorate</td>\n",
       "      <td>2022</td>\n",
       "      <td>64382</td>\n",
       "    </tr>\n",
       "    <tr>\n",
       "      <th>6</th>\n",
       "      <td>Connecticut</td>\n",
       "      <td>CT</td>\n",
       "      <td>2017</td>\n",
       "      <td>Doctorate</td>\n",
       "      <td>1444</td>\n",
       "      <td>35221</td>\n",
       "    </tr>\n",
       "    <tr>\n",
       "      <th>7</th>\n",
       "      <td>Delaware</td>\n",
       "      <td>DE</td>\n",
       "      <td>2017</td>\n",
       "      <td>Doctorate</td>\n",
       "      <td>238</td>\n",
       "      <td>10855</td>\n",
       "    </tr>\n",
       "    <tr>\n",
       "      <th>8</th>\n",
       "      <td>District of Columbia</td>\n",
       "      <td>DC</td>\n",
       "      <td>2017</td>\n",
       "      <td>Doctorate</td>\n",
       "      <td>1014</td>\n",
       "      <td>9560</td>\n",
       "    </tr>\n",
       "    <tr>\n",
       "      <th>9</th>\n",
       "      <td>Florida</td>\n",
       "      <td>FL</td>\n",
       "      <td>2017</td>\n",
       "      <td>Doctorate</td>\n",
       "      <td>4656</td>\n",
       "      <td>223630</td>\n",
       "    </tr>\n",
       "    <tr>\n",
       "      <th>10</th>\n",
       "      <td>Georgia</td>\n",
       "      <td>GA</td>\n",
       "      <td>2017</td>\n",
       "      <td>Doctorate</td>\n",
       "      <td>2145</td>\n",
       "      <td>129243</td>\n",
       "    </tr>\n",
       "    <tr>\n",
       "      <th>11</th>\n",
       "      <td>Hawaii</td>\n",
       "      <td>HI</td>\n",
       "      <td>2017</td>\n",
       "      <td>Doctorate</td>\n",
       "      <td>249</td>\n",
       "      <td>17517</td>\n",
       "    </tr>\n",
       "    <tr>\n",
       "      <th>12</th>\n",
       "      <td>Idaho</td>\n",
       "      <td>ID</td>\n",
       "      <td>2017</td>\n",
       "      <td>Doctorate</td>\n",
       "      <td>318</td>\n",
       "      <td>22181</td>\n",
       "    </tr>\n",
       "    <tr>\n",
       "      <th>13</th>\n",
       "      <td>Illinois</td>\n",
       "      <td>IL</td>\n",
       "      <td>2017</td>\n",
       "      <td>Doctorate</td>\n",
       "      <td>4539</td>\n",
       "      <td>149390</td>\n",
       "    </tr>\n",
       "    <tr>\n",
       "      <th>14</th>\n",
       "      <td>Indiana</td>\n",
       "      <td>IN</td>\n",
       "      <td>2017</td>\n",
       "      <td>Doctorate</td>\n",
       "      <td>1504</td>\n",
       "      <td>82170</td>\n",
       "    </tr>\n",
       "    <tr>\n",
       "      <th>15</th>\n",
       "      <td>Iowa</td>\n",
       "      <td>IA</td>\n",
       "      <td>2017</td>\n",
       "      <td>Doctorate</td>\n",
       "      <td>1075</td>\n",
       "      <td>38430</td>\n",
       "    </tr>\n",
       "    <tr>\n",
       "      <th>16</th>\n",
       "      <td>Kansas</td>\n",
       "      <td>KS</td>\n",
       "      <td>2017</td>\n",
       "      <td>Doctorate</td>\n",
       "      <td>874</td>\n",
       "      <td>36519</td>\n",
       "    </tr>\n",
       "    <tr>\n",
       "      <th>17</th>\n",
       "      <td>Kentucky</td>\n",
       "      <td>KY</td>\n",
       "      <td>2017</td>\n",
       "      <td>Doctorate</td>\n",
       "      <td>1120</td>\n",
       "      <td>54752</td>\n",
       "    </tr>\n",
       "    <tr>\n",
       "      <th>18</th>\n",
       "      <td>Louisiana</td>\n",
       "      <td>LA</td>\n",
       "      <td>2017</td>\n",
       "      <td>Doctorate</td>\n",
       "      <td>1172</td>\n",
       "      <td>61018</td>\n",
       "    </tr>\n",
       "    <tr>\n",
       "      <th>19</th>\n",
       "      <td>Maine</td>\n",
       "      <td>ME</td>\n",
       "      <td>2017</td>\n",
       "      <td>Doctorate</td>\n",
       "      <td>359</td>\n",
       "      <td>12289</td>\n",
       "    </tr>\n",
       "    <tr>\n",
       "      <th>20</th>\n",
       "      <td>Maryland</td>\n",
       "      <td>MD</td>\n",
       "      <td>2017</td>\n",
       "      <td>Doctorate</td>\n",
       "      <td>3243</td>\n",
       "      <td>71641</td>\n",
       "    </tr>\n",
       "    <tr>\n",
       "      <th>21</th>\n",
       "      <td>Massachusetts</td>\n",
       "      <td>MA</td>\n",
       "      <td>2017</td>\n",
       "      <td>Doctorate</td>\n",
       "      <td>3890</td>\n",
       "      <td>70702</td>\n",
       "    </tr>\n",
       "    <tr>\n",
       "      <th>22</th>\n",
       "      <td>Michigan</td>\n",
       "      <td>MI</td>\n",
       "      <td>2017</td>\n",
       "      <td>Doctorate</td>\n",
       "      <td>2681</td>\n",
       "      <td>111426</td>\n",
       "    </tr>\n",
       "    <tr>\n",
       "      <th>23</th>\n",
       "      <td>Minnesota</td>\n",
       "      <td>MN</td>\n",
       "      <td>2017</td>\n",
       "      <td>Doctorate</td>\n",
       "      <td>2332</td>\n",
       "      <td>68595</td>\n",
       "    </tr>\n",
       "    <tr>\n",
       "      <th>24</th>\n",
       "      <td>Mississippi</td>\n",
       "      <td>MS</td>\n",
       "      <td>2017</td>\n",
       "      <td>Doctorate</td>\n",
       "      <td>631</td>\n",
       "      <td>37357</td>\n",
       "    </tr>\n",
       "    <tr>\n",
       "      <th>25</th>\n",
       "      <td>Missouri</td>\n",
       "      <td>MO</td>\n",
       "      <td>2017</td>\n",
       "      <td>Doctorate</td>\n",
       "      <td>1701</td>\n",
       "      <td>73034</td>\n",
       "    </tr>\n",
       "    <tr>\n",
       "      <th>26</th>\n",
       "      <td>Montana</td>\n",
       "      <td>MT</td>\n",
       "      <td>2017</td>\n",
       "      <td>Doctorate</td>\n",
       "      <td>313</td>\n",
       "      <td>11799</td>\n",
       "    </tr>\n",
       "    <tr>\n",
       "      <th>27</th>\n",
       "      <td>Nebraska</td>\n",
       "      <td>NE</td>\n",
       "      <td>2017</td>\n",
       "      <td>Doctorate</td>\n",
       "      <td>749</td>\n",
       "      <td>25809</td>\n",
       "    </tr>\n",
       "    <tr>\n",
       "      <th>28</th>\n",
       "      <td>Nevada</td>\n",
       "      <td>NV</td>\n",
       "      <td>2017</td>\n",
       "      <td>Doctorate</td>\n",
       "      <td>479</td>\n",
       "      <td>35756</td>\n",
       "    </tr>\n",
       "    <tr>\n",
       "      <th>29</th>\n",
       "      <td>New Hampshire</td>\n",
       "      <td>NH</td>\n",
       "      <td>2017</td>\n",
       "      <td>Doctorate</td>\n",
       "      <td>392</td>\n",
       "      <td>12116</td>\n",
       "    </tr>\n",
       "    <tr>\n",
       "      <th>30</th>\n",
       "      <td>New Jersey</td>\n",
       "      <td>NJ</td>\n",
       "      <td>2017</td>\n",
       "      <td>Doctorate</td>\n",
       "      <td>3464</td>\n",
       "      <td>101250</td>\n",
       "    </tr>\n",
       "    <tr>\n",
       "      <th>31</th>\n",
       "      <td>New Mexico</td>\n",
       "      <td>NM</td>\n",
       "      <td>2017</td>\n",
       "      <td>Doctorate</td>\n",
       "      <td>513</td>\n",
       "      <td>23767</td>\n",
       "    </tr>\n",
       "    <tr>\n",
       "      <th>32</th>\n",
       "      <td>New York</td>\n",
       "      <td>NY</td>\n",
       "      <td>2017</td>\n",
       "      <td>Doctorate</td>\n",
       "      <td>8113</td>\n",
       "      <td>229737</td>\n",
       "    </tr>\n",
       "    <tr>\n",
       "      <th>33</th>\n",
       "      <td>North Carolina</td>\n",
       "      <td>NC</td>\n",
       "      <td>2017</td>\n",
       "      <td>Doctorate</td>\n",
       "      <td>3017</td>\n",
       "      <td>120125</td>\n",
       "    </tr>\n",
       "    <tr>\n",
       "      <th>34</th>\n",
       "      <td>North Dakota</td>\n",
       "      <td>ND</td>\n",
       "      <td>2017</td>\n",
       "      <td>Doctorate</td>\n",
       "      <td>303</td>\n",
       "      <td>10737</td>\n",
       "    </tr>\n",
       "    <tr>\n",
       "      <th>35</th>\n",
       "      <td>Ohio</td>\n",
       "      <td>OH</td>\n",
       "      <td>2017</td>\n",
       "      <td>Doctorate</td>\n",
       "      <td>3387</td>\n",
       "      <td>136832</td>\n",
       "    </tr>\n",
       "    <tr>\n",
       "      <th>36</th>\n",
       "      <td>Oklahoma</td>\n",
       "      <td>OK</td>\n",
       "      <td>2017</td>\n",
       "      <td>Doctorate</td>\n",
       "      <td>810</td>\n",
       "      <td>50214</td>\n",
       "    </tr>\n",
       "    <tr>\n",
       "      <th>37</th>\n",
       "      <td>Oregon</td>\n",
       "      <td>OR</td>\n",
       "      <td>2017</td>\n",
       "      <td>Doctorate</td>\n",
       "      <td>1367</td>\n",
       "      <td>43631</td>\n",
       "    </tr>\n",
       "    <tr>\n",
       "      <th>38</th>\n",
       "      <td>Pennsylvania</td>\n",
       "      <td>PA</td>\n",
       "      <td>2017</td>\n",
       "      <td>Doctorate</td>\n",
       "      <td>4521</td>\n",
       "      <td>137745</td>\n",
       "    </tr>\n",
       "    <tr>\n",
       "      <th>39</th>\n",
       "      <td>Rhode Island</td>\n",
       "      <td>RI</td>\n",
       "      <td>2017</td>\n",
       "      <td>Doctorate</td>\n",
       "      <td>407</td>\n",
       "      <td>10638</td>\n",
       "    </tr>\n",
       "    <tr>\n",
       "      <th>40</th>\n",
       "      <td>South Carolina</td>\n",
       "      <td>SC</td>\n",
       "      <td>2017</td>\n",
       "      <td>Doctorate</td>\n",
       "      <td>1228</td>\n",
       "      <td>57029</td>\n",
       "    </tr>\n",
       "    <tr>\n",
       "      <th>41</th>\n",
       "      <td>South Dakota</td>\n",
       "      <td>SD</td>\n",
       "      <td>2017</td>\n",
       "      <td>Doctorate</td>\n",
       "      <td>277</td>\n",
       "      <td>12134</td>\n",
       "    </tr>\n",
       "    <tr>\n",
       "      <th>42</th>\n",
       "      <td>Tennessee</td>\n",
       "      <td>TN</td>\n",
       "      <td>2017</td>\n",
       "      <td>Doctorate</td>\n",
       "      <td>1856</td>\n",
       "      <td>81016</td>\n",
       "    </tr>\n",
       "    <tr>\n",
       "      <th>43</th>\n",
       "      <td>Texas</td>\n",
       "      <td>TX</td>\n",
       "      <td>2017</td>\n",
       "      <td>Doctorate</td>\n",
       "      <td>7731</td>\n",
       "      <td>382050</td>\n",
       "    </tr>\n",
       "    <tr>\n",
       "      <th>44</th>\n",
       "      <td>Utah</td>\n",
       "      <td>UT</td>\n",
       "      <td>2017</td>\n",
       "      <td>Doctorate</td>\n",
       "      <td>648</td>\n",
       "      <td>48585</td>\n",
       "    </tr>\n",
       "    <tr>\n",
       "      <th>45</th>\n",
       "      <td>Vermont</td>\n",
       "      <td>VT</td>\n",
       "      <td>2017</td>\n",
       "      <td>Doctorate</td>\n",
       "      <td>211</td>\n",
       "      <td>5655</td>\n",
       "    </tr>\n",
       "    <tr>\n",
       "      <th>46</th>\n",
       "      <td>Virginia</td>\n",
       "      <td>VA</td>\n",
       "      <td>2017</td>\n",
       "      <td>Doctorate</td>\n",
       "      <td>3469</td>\n",
       "      <td>100391</td>\n",
       "    </tr>\n",
       "    <tr>\n",
       "      <th>47</th>\n",
       "      <td>Washington</td>\n",
       "      <td>WA</td>\n",
       "      <td>2017</td>\n",
       "      <td>Doctorate</td>\n",
       "      <td>2627</td>\n",
       "      <td>87562</td>\n",
       "    </tr>\n",
       "    <tr>\n",
       "      <th>48</th>\n",
       "      <td>West Virginia</td>\n",
       "      <td>WV</td>\n",
       "      <td>2017</td>\n",
       "      <td>Doctorate</td>\n",
       "      <td>407</td>\n",
       "      <td>18675</td>\n",
       "    </tr>\n",
       "    <tr>\n",
       "      <th>49</th>\n",
       "      <td>Wisconsin</td>\n",
       "      <td>WI</td>\n",
       "      <td>2017</td>\n",
       "      <td>Doctorate</td>\n",
       "      <td>1673</td>\n",
       "      <td>64975</td>\n",
       "    </tr>\n",
       "    <tr>\n",
       "      <th>50</th>\n",
       "      <td>Wyoming</td>\n",
       "      <td>WY</td>\n",
       "      <td>2017</td>\n",
       "      <td>Doctorate</td>\n",
       "      <td>111</td>\n",
       "      <td>6903</td>\n",
       "    </tr>\n",
       "  </tbody>\n",
       "</table>\n",
       "</div>"
      ],
      "text/plain": [
       "                   State State Abbreviation  Year Education Level of Mother  \\\n",
       "0                Alabama                 AL  2017                 Doctorate   \n",
       "1                 Alaska                 AK  2017                 Doctorate   \n",
       "2                Arizona                 AZ  2017                 Doctorate   \n",
       "3               Arkansas                 AR  2017                 Doctorate   \n",
       "4             California                 CA  2017                 Doctorate   \n",
       "5               Colorado                 CO  2017                 Doctorate   \n",
       "6            Connecticut                 CT  2017                 Doctorate   \n",
       "7               Delaware                 DE  2017                 Doctorate   \n",
       "8   District of Columbia                 DC  2017                 Doctorate   \n",
       "9                Florida                 FL  2017                 Doctorate   \n",
       "10               Georgia                 GA  2017                 Doctorate   \n",
       "11                Hawaii                 HI  2017                 Doctorate   \n",
       "12                 Idaho                 ID  2017                 Doctorate   \n",
       "13              Illinois                 IL  2017                 Doctorate   \n",
       "14               Indiana                 IN  2017                 Doctorate   \n",
       "15                  Iowa                 IA  2017                 Doctorate   \n",
       "16                Kansas                 KS  2017                 Doctorate   \n",
       "17              Kentucky                 KY  2017                 Doctorate   \n",
       "18             Louisiana                 LA  2017                 Doctorate   \n",
       "19                 Maine                 ME  2017                 Doctorate   \n",
       "20              Maryland                 MD  2017                 Doctorate   \n",
       "21         Massachusetts                 MA  2017                 Doctorate   \n",
       "22              Michigan                 MI  2017                 Doctorate   \n",
       "23             Minnesota                 MN  2017                 Doctorate   \n",
       "24           Mississippi                 MS  2017                 Doctorate   \n",
       "25              Missouri                 MO  2017                 Doctorate   \n",
       "26               Montana                 MT  2017                 Doctorate   \n",
       "27              Nebraska                 NE  2017                 Doctorate   \n",
       "28                Nevada                 NV  2017                 Doctorate   \n",
       "29         New Hampshire                 NH  2017                 Doctorate   \n",
       "30            New Jersey                 NJ  2017                 Doctorate   \n",
       "31            New Mexico                 NM  2017                 Doctorate   \n",
       "32              New York                 NY  2017                 Doctorate   \n",
       "33        North Carolina                 NC  2017                 Doctorate   \n",
       "34          North Dakota                 ND  2017                 Doctorate   \n",
       "35                  Ohio                 OH  2017                 Doctorate   \n",
       "36              Oklahoma                 OK  2017                 Doctorate   \n",
       "37                Oregon                 OR  2017                 Doctorate   \n",
       "38          Pennsylvania                 PA  2017                 Doctorate   \n",
       "39          Rhode Island                 RI  2017                 Doctorate   \n",
       "40        South Carolina                 SC  2017                 Doctorate   \n",
       "41          South Dakota                 SD  2017                 Doctorate   \n",
       "42             Tennessee                 TN  2017                 Doctorate   \n",
       "43                 Texas                 TX  2017                 Doctorate   \n",
       "44                  Utah                 UT  2017                 Doctorate   \n",
       "45               Vermont                 VT  2017                 Doctorate   \n",
       "46              Virginia                 VA  2017                 Doctorate   \n",
       "47            Washington                 WA  2017                 Doctorate   \n",
       "48         West Virginia                 WV  2017                 Doctorate   \n",
       "49             Wisconsin                 WI  2017                 Doctorate   \n",
       "50               Wyoming                 WY  2017                 Doctorate   \n",
       "\n",
       "    Number of Births  Total Births in State  \n",
       "0               1139                  58941  \n",
       "1                185                  10445  \n",
       "2               1594                  81872  \n",
       "3                495                  37520  \n",
       "4              13703                 471658  \n",
       "5               2022                  64382  \n",
       "6               1444                  35221  \n",
       "7                238                  10855  \n",
       "8               1014                   9560  \n",
       "9               4656                 223630  \n",
       "10              2145                 129243  \n",
       "11               249                  17517  \n",
       "12               318                  22181  \n",
       "13              4539                 149390  \n",
       "14              1504                  82170  \n",
       "15              1075                  38430  \n",
       "16               874                  36519  \n",
       "17              1120                  54752  \n",
       "18              1172                  61018  \n",
       "19               359                  12289  \n",
       "20              3243                  71641  \n",
       "21              3890                  70702  \n",
       "22              2681                 111426  \n",
       "23              2332                  68595  \n",
       "24               631                  37357  \n",
       "25              1701                  73034  \n",
       "26               313                  11799  \n",
       "27               749                  25809  \n",
       "28               479                  35756  \n",
       "29               392                  12116  \n",
       "30              3464                 101250  \n",
       "31               513                  23767  \n",
       "32              8113                 229737  \n",
       "33              3017                 120125  \n",
       "34               303                  10737  \n",
       "35              3387                 136832  \n",
       "36               810                  50214  \n",
       "37              1367                  43631  \n",
       "38              4521                 137745  \n",
       "39               407                  10638  \n",
       "40              1228                  57029  \n",
       "41               277                  12134  \n",
       "42              1856                  81016  \n",
       "43              7731                 382050  \n",
       "44               648                  48585  \n",
       "45               211                   5655  \n",
       "46              3469                 100391  \n",
       "47              2627                  87562  \n",
       "48               407                  18675  \n",
       "49              1673                  64975  \n",
       "50               111                   6903  "
      ]
     },
     "execution_count": 56,
     "metadata": {},
     "output_type": "execute_result"
    }
   ],
   "source": [
    "merged_df = df_by_ed_level_usa.merge(total_births_by_state_and_year, on = ['State', 'State Abbreviation', 'Year'], suffixes = ('_by ed level', '_by state'))\n",
    "merged_df"
   ]
  },
  {
   "cell_type": "code",
   "execution_count": 43,
   "metadata": {},
   "outputs": [
    {
     "name": "stderr",
     "output_type": "stream",
     "text": [
      "/var/folders/0p/ymgcc2_s2fz5y2m7s2hb1dzw0000gn/T/ipykernel_974/2814813678.py:1: FutureWarning: Indexing with multiple keys (implicitly converted to a tuple of keys) will be deprecated, use a list instead.\n",
      "  merged_df = merged_df.groupby(['State', 'State Abbreviation'])['Number of Births', 'Total Births in State'].sum().reset_index()\n"
     ]
    },
    {
     "data": {
      "text/html": [
       "<div>\n",
       "<style scoped>\n",
       "    .dataframe tbody tr th:only-of-type {\n",
       "        vertical-align: middle;\n",
       "    }\n",
       "\n",
       "    .dataframe tbody tr th {\n",
       "        vertical-align: top;\n",
       "    }\n",
       "\n",
       "    .dataframe thead th {\n",
       "        text-align: right;\n",
       "    }\n",
       "</style>\n",
       "<table border=\"1\" class=\"dataframe\">\n",
       "  <thead>\n",
       "    <tr style=\"text-align: right;\">\n",
       "      <th></th>\n",
       "      <th>State</th>\n",
       "      <th>State Abbreviation</th>\n",
       "      <th>Number of Births</th>\n",
       "      <th>Total Births in State</th>\n",
       "    </tr>\n",
       "  </thead>\n",
       "  <tbody>\n",
       "    <tr>\n",
       "      <th>0</th>\n",
       "      <td>Alabama</td>\n",
       "      <td>AL</td>\n",
       "      <td>3238</td>\n",
       "      <td>175853</td>\n",
       "    </tr>\n",
       "    <tr>\n",
       "      <th>1</th>\n",
       "      <td>Alaska</td>\n",
       "      <td>AK</td>\n",
       "      <td>581</td>\n",
       "      <td>31740</td>\n",
       "    </tr>\n",
       "    <tr>\n",
       "      <th>2</th>\n",
       "      <td>Arizona</td>\n",
       "      <td>AZ</td>\n",
       "      <td>4703</td>\n",
       "      <td>247115</td>\n",
       "    </tr>\n",
       "    <tr>\n",
       "      <th>3</th>\n",
       "      <td>Arkansas</td>\n",
       "      <td>AR</td>\n",
       "      <td>1608</td>\n",
       "      <td>112812</td>\n",
       "    </tr>\n",
       "    <tr>\n",
       "      <th>4</th>\n",
       "      <td>California</td>\n",
       "      <td>CA</td>\n",
       "      <td>41398</td>\n",
       "      <td>1415405</td>\n",
       "    </tr>\n",
       "    <tr>\n",
       "      <th>5</th>\n",
       "      <td>Colorado</td>\n",
       "      <td>CO</td>\n",
       "      <td>6083</td>\n",
       "      <td>193880</td>\n",
       "    </tr>\n",
       "    <tr>\n",
       "      <th>6</th>\n",
       "      <td>Connecticut</td>\n",
       "      <td>CT</td>\n",
       "      <td>4314</td>\n",
       "      <td>105961</td>\n",
       "    </tr>\n",
       "    <tr>\n",
       "      <th>7</th>\n",
       "      <td>Delaware</td>\n",
       "      <td>DE</td>\n",
       "      <td>787</td>\n",
       "      <td>32468</td>\n",
       "    </tr>\n",
       "    <tr>\n",
       "      <th>8</th>\n",
       "      <td>District of Columbia</td>\n",
       "      <td>DC</td>\n",
       "      <td>3149</td>\n",
       "      <td>28630</td>\n",
       "    </tr>\n",
       "    <tr>\n",
       "      <th>9</th>\n",
       "      <td>Florida</td>\n",
       "      <td>FL</td>\n",
       "      <td>14080</td>\n",
       "      <td>670194</td>\n",
       "    </tr>\n",
       "    <tr>\n",
       "      <th>10</th>\n",
       "      <td>Georgia</td>\n",
       "      <td>GA</td>\n",
       "      <td>6392</td>\n",
       "      <td>385457</td>\n",
       "    </tr>\n",
       "    <tr>\n",
       "      <th>11</th>\n",
       "      <td>Hawaii</td>\n",
       "      <td>HI</td>\n",
       "      <td>713</td>\n",
       "      <td>52548</td>\n",
       "    </tr>\n",
       "    <tr>\n",
       "      <th>12</th>\n",
       "      <td>Idaho</td>\n",
       "      <td>ID</td>\n",
       "      <td>911</td>\n",
       "      <td>66066</td>\n",
       "    </tr>\n",
       "    <tr>\n",
       "      <th>13</th>\n",
       "      <td>Illinois</td>\n",
       "      <td>IL</td>\n",
       "      <td>13772</td>\n",
       "      <td>448650</td>\n",
       "    </tr>\n",
       "    <tr>\n",
       "      <th>14</th>\n",
       "      <td>Indiana</td>\n",
       "      <td>IN</td>\n",
       "      <td>4637</td>\n",
       "      <td>246907</td>\n",
       "    </tr>\n",
       "    <tr>\n",
       "      <th>15</th>\n",
       "      <td>Iowa</td>\n",
       "      <td>IA</td>\n",
       "      <td>3167</td>\n",
       "      <td>115618</td>\n",
       "    </tr>\n",
       "    <tr>\n",
       "      <th>16</th>\n",
       "      <td>Kansas</td>\n",
       "      <td>KS</td>\n",
       "      <td>2680</td>\n",
       "      <td>110833</td>\n",
       "    </tr>\n",
       "    <tr>\n",
       "      <th>17</th>\n",
       "      <td>Kentucky</td>\n",
       "      <td>KY</td>\n",
       "      <td>3478</td>\n",
       "      <td>164123</td>\n",
       "    </tr>\n",
       "    <tr>\n",
       "      <th>18</th>\n",
       "      <td>Louisiana</td>\n",
       "      <td>LA</td>\n",
       "      <td>3540</td>\n",
       "      <td>183811</td>\n",
       "    </tr>\n",
       "    <tr>\n",
       "      <th>19</th>\n",
       "      <td>Maine</td>\n",
       "      <td>ME</td>\n",
       "      <td>1106</td>\n",
       "      <td>37293</td>\n",
       "    </tr>\n",
       "    <tr>\n",
       "      <th>20</th>\n",
       "      <td>Maryland</td>\n",
       "      <td>MD</td>\n",
       "      <td>9723</td>\n",
       "      <td>215857</td>\n",
       "    </tr>\n",
       "    <tr>\n",
       "      <th>21</th>\n",
       "      <td>Massachusetts</td>\n",
       "      <td>MA</td>\n",
       "      <td>11946</td>\n",
       "      <td>211128</td>\n",
       "    </tr>\n",
       "    <tr>\n",
       "      <th>22</th>\n",
       "      <td>Michigan</td>\n",
       "      <td>MI</td>\n",
       "      <td>8222</td>\n",
       "      <td>334773</td>\n",
       "    </tr>\n",
       "    <tr>\n",
       "      <th>23</th>\n",
       "      <td>Minnesota</td>\n",
       "      <td>MN</td>\n",
       "      <td>6793</td>\n",
       "      <td>205688</td>\n",
       "    </tr>\n",
       "    <tr>\n",
       "      <th>24</th>\n",
       "      <td>Mississippi</td>\n",
       "      <td>MS</td>\n",
       "      <td>1787</td>\n",
       "      <td>112285</td>\n",
       "    </tr>\n",
       "    <tr>\n",
       "      <th>25</th>\n",
       "      <td>Missouri</td>\n",
       "      <td>MO</td>\n",
       "      <td>5206</td>\n",
       "      <td>221008</td>\n",
       "    </tr>\n",
       "    <tr>\n",
       "      <th>26</th>\n",
       "      <td>Montana</td>\n",
       "      <td>MT</td>\n",
       "      <td>830</td>\n",
       "      <td>35594</td>\n",
       "    </tr>\n",
       "    <tr>\n",
       "      <th>27</th>\n",
       "      <td>Nebraska</td>\n",
       "      <td>NE</td>\n",
       "      <td>2337</td>\n",
       "      <td>77871</td>\n",
       "    </tr>\n",
       "    <tr>\n",
       "      <th>28</th>\n",
       "      <td>Nevada</td>\n",
       "      <td>NV</td>\n",
       "      <td>1489</td>\n",
       "      <td>107698</td>\n",
       "    </tr>\n",
       "    <tr>\n",
       "      <th>29</th>\n",
       "      <td>New Hampshire</td>\n",
       "      <td>NH</td>\n",
       "      <td>1167</td>\n",
       "      <td>36378</td>\n",
       "    </tr>\n",
       "    <tr>\n",
       "      <th>30</th>\n",
       "      <td>New Jersey</td>\n",
       "      <td>NJ</td>\n",
       "      <td>10580</td>\n",
       "      <td>305120</td>\n",
       "    </tr>\n",
       "    <tr>\n",
       "      <th>31</th>\n",
       "      <td>New Mexico</td>\n",
       "      <td>NM</td>\n",
       "      <td>1560</td>\n",
       "      <td>71498</td>\n",
       "    </tr>\n",
       "    <tr>\n",
       "      <th>32</th>\n",
       "      <td>New York</td>\n",
       "      <td>NY</td>\n",
       "      <td>24728</td>\n",
       "      <td>690258</td>\n",
       "    </tr>\n",
       "    <tr>\n",
       "      <th>33</th>\n",
       "      <td>North Carolina</td>\n",
       "      <td>NC</td>\n",
       "      <td>8977</td>\n",
       "      <td>359858</td>\n",
       "    </tr>\n",
       "    <tr>\n",
       "      <th>34</th>\n",
       "      <td>North Dakota</td>\n",
       "      <td>ND</td>\n",
       "      <td>937</td>\n",
       "      <td>32756</td>\n",
       "    </tr>\n",
       "    <tr>\n",
       "      <th>35</th>\n",
       "      <td>Ohio</td>\n",
       "      <td>OH</td>\n",
       "      <td>10285</td>\n",
       "      <td>410051</td>\n",
       "    </tr>\n",
       "    <tr>\n",
       "      <th>36</th>\n",
       "      <td>Oklahoma</td>\n",
       "      <td>OK</td>\n",
       "      <td>2470</td>\n",
       "      <td>152606</td>\n",
       "    </tr>\n",
       "    <tr>\n",
       "      <th>37</th>\n",
       "      <td>Oregon</td>\n",
       "      <td>OR</td>\n",
       "      <td>4154</td>\n",
       "      <td>131354</td>\n",
       "    </tr>\n",
       "    <tr>\n",
       "      <th>38</th>\n",
       "      <td>Pennsylvania</td>\n",
       "      <td>PA</td>\n",
       "      <td>13370</td>\n",
       "      <td>412827</td>\n",
       "    </tr>\n",
       "    <tr>\n",
       "      <th>39</th>\n",
       "      <td>Rhode Island</td>\n",
       "      <td>RI</td>\n",
       "      <td>1090</td>\n",
       "      <td>31942</td>\n",
       "    </tr>\n",
       "    <tr>\n",
       "      <th>40</th>\n",
       "      <td>South Carolina</td>\n",
       "      <td>SC</td>\n",
       "      <td>3719</td>\n",
       "      <td>171040</td>\n",
       "    </tr>\n",
       "    <tr>\n",
       "      <th>41</th>\n",
       "      <td>South Dakota</td>\n",
       "      <td>SD</td>\n",
       "      <td>891</td>\n",
       "      <td>36302</td>\n",
       "    </tr>\n",
       "    <tr>\n",
       "      <th>42</th>\n",
       "      <td>Tennessee</td>\n",
       "      <td>TN</td>\n",
       "      <td>5541</td>\n",
       "      <td>242574</td>\n",
       "    </tr>\n",
       "    <tr>\n",
       "      <th>43</th>\n",
       "      <td>Texas</td>\n",
       "      <td>TX</td>\n",
       "      <td>23409</td>\n",
       "      <td>1158721</td>\n",
       "    </tr>\n",
       "    <tr>\n",
       "      <th>44</th>\n",
       "      <td>Utah</td>\n",
       "      <td>UT</td>\n",
       "      <td>1917</td>\n",
       "      <td>146258</td>\n",
       "    </tr>\n",
       "    <tr>\n",
       "      <th>45</th>\n",
       "      <td>Vermont</td>\n",
       "      <td>VT</td>\n",
       "      <td>632</td>\n",
       "      <td>16843</td>\n",
       "    </tr>\n",
       "    <tr>\n",
       "      <th>46</th>\n",
       "      <td>Virginia</td>\n",
       "      <td>VA</td>\n",
       "      <td>10417</td>\n",
       "      <td>302694</td>\n",
       "    </tr>\n",
       "    <tr>\n",
       "      <th>47</th>\n",
       "      <td>Washington</td>\n",
       "      <td>WA</td>\n",
       "      <td>7634</td>\n",
       "      <td>264152</td>\n",
       "    </tr>\n",
       "    <tr>\n",
       "      <th>48</th>\n",
       "      <td>West Virginia</td>\n",
       "      <td>WV</td>\n",
       "      <td>1181</td>\n",
       "      <td>56002</td>\n",
       "    </tr>\n",
       "    <tr>\n",
       "      <th>49</th>\n",
       "      <td>Wisconsin</td>\n",
       "      <td>WI</td>\n",
       "      <td>5127</td>\n",
       "      <td>195688</td>\n",
       "    </tr>\n",
       "    <tr>\n",
       "      <th>50</th>\n",
       "      <td>Wyoming</td>\n",
       "      <td>WY</td>\n",
       "      <td>383</td>\n",
       "      <td>20851</td>\n",
       "    </tr>\n",
       "  </tbody>\n",
       "</table>\n",
       "</div>"
      ],
      "text/plain": [
       "                   State State Abbreviation  Number of Births  \\\n",
       "0                Alabama                 AL              3238   \n",
       "1                 Alaska                 AK               581   \n",
       "2                Arizona                 AZ              4703   \n",
       "3               Arkansas                 AR              1608   \n",
       "4             California                 CA             41398   \n",
       "5               Colorado                 CO              6083   \n",
       "6            Connecticut                 CT              4314   \n",
       "7               Delaware                 DE               787   \n",
       "8   District of Columbia                 DC              3149   \n",
       "9                Florida                 FL             14080   \n",
       "10               Georgia                 GA              6392   \n",
       "11                Hawaii                 HI               713   \n",
       "12                 Idaho                 ID               911   \n",
       "13              Illinois                 IL             13772   \n",
       "14               Indiana                 IN              4637   \n",
       "15                  Iowa                 IA              3167   \n",
       "16                Kansas                 KS              2680   \n",
       "17              Kentucky                 KY              3478   \n",
       "18             Louisiana                 LA              3540   \n",
       "19                 Maine                 ME              1106   \n",
       "20              Maryland                 MD              9723   \n",
       "21         Massachusetts                 MA             11946   \n",
       "22              Michigan                 MI              8222   \n",
       "23             Minnesota                 MN              6793   \n",
       "24           Mississippi                 MS              1787   \n",
       "25              Missouri                 MO              5206   \n",
       "26               Montana                 MT               830   \n",
       "27              Nebraska                 NE              2337   \n",
       "28                Nevada                 NV              1489   \n",
       "29         New Hampshire                 NH              1167   \n",
       "30            New Jersey                 NJ             10580   \n",
       "31            New Mexico                 NM              1560   \n",
       "32              New York                 NY             24728   \n",
       "33        North Carolina                 NC              8977   \n",
       "34          North Dakota                 ND               937   \n",
       "35                  Ohio                 OH             10285   \n",
       "36              Oklahoma                 OK              2470   \n",
       "37                Oregon                 OR              4154   \n",
       "38          Pennsylvania                 PA             13370   \n",
       "39          Rhode Island                 RI              1090   \n",
       "40        South Carolina                 SC              3719   \n",
       "41          South Dakota                 SD               891   \n",
       "42             Tennessee                 TN              5541   \n",
       "43                 Texas                 TX             23409   \n",
       "44                  Utah                 UT              1917   \n",
       "45               Vermont                 VT               632   \n",
       "46              Virginia                 VA             10417   \n",
       "47            Washington                 WA              7634   \n",
       "48         West Virginia                 WV              1181   \n",
       "49             Wisconsin                 WI              5127   \n",
       "50               Wyoming                 WY               383   \n",
       "\n",
       "    Total Births in State  \n",
       "0                  175853  \n",
       "1                   31740  \n",
       "2                  247115  \n",
       "3                  112812  \n",
       "4                 1415405  \n",
       "5                  193880  \n",
       "6                  105961  \n",
       "7                   32468  \n",
       "8                   28630  \n",
       "9                  670194  \n",
       "10                 385457  \n",
       "11                  52548  \n",
       "12                  66066  \n",
       "13                 448650  \n",
       "14                 246907  \n",
       "15                 115618  \n",
       "16                 110833  \n",
       "17                 164123  \n",
       "18                 183811  \n",
       "19                  37293  \n",
       "20                 215857  \n",
       "21                 211128  \n",
       "22                 334773  \n",
       "23                 205688  \n",
       "24                 112285  \n",
       "25                 221008  \n",
       "26                  35594  \n",
       "27                  77871  \n",
       "28                 107698  \n",
       "29                  36378  \n",
       "30                 305120  \n",
       "31                  71498  \n",
       "32                 690258  \n",
       "33                 359858  \n",
       "34                  32756  \n",
       "35                 410051  \n",
       "36                 152606  \n",
       "37                 131354  \n",
       "38                 412827  \n",
       "39                  31942  \n",
       "40                 171040  \n",
       "41                  36302  \n",
       "42                 242574  \n",
       "43                1158721  \n",
       "44                 146258  \n",
       "45                  16843  \n",
       "46                 302694  \n",
       "47                 264152  \n",
       "48                  56002  \n",
       "49                 195688  \n",
       "50                  20851  "
      ]
     },
     "execution_count": 43,
     "metadata": {},
     "output_type": "execute_result"
    }
   ],
   "source": [
    "merged_df = merged_df.groupby(['State', 'State Abbreviation'])['Number of Births', 'Total Births in State'].sum().reset_index()\n",
    "merged_df"
   ]
  },
  {
   "cell_type": "code",
   "execution_count": 57,
   "metadata": {},
   "outputs": [
    {
     "data": {
      "text/html": [
       "<div>\n",
       "<style scoped>\n",
       "    .dataframe tbody tr th:only-of-type {\n",
       "        vertical-align: middle;\n",
       "    }\n",
       "\n",
       "    .dataframe tbody tr th {\n",
       "        vertical-align: top;\n",
       "    }\n",
       "\n",
       "    .dataframe thead th {\n",
       "        text-align: right;\n",
       "    }\n",
       "</style>\n",
       "<table border=\"1\" class=\"dataframe\">\n",
       "  <thead>\n",
       "    <tr style=\"text-align: right;\">\n",
       "      <th></th>\n",
       "      <th>State</th>\n",
       "      <th>State Abbreviation</th>\n",
       "      <th>Year</th>\n",
       "      <th>Education Level of Mother</th>\n",
       "      <th>Number of Births</th>\n",
       "      <th>Total Births in State</th>\n",
       "      <th>Percentage of Births by State</th>\n",
       "    </tr>\n",
       "  </thead>\n",
       "  <tbody>\n",
       "    <tr>\n",
       "      <th>0</th>\n",
       "      <td>Alabama</td>\n",
       "      <td>AL</td>\n",
       "      <td>2017</td>\n",
       "      <td>Doctorate</td>\n",
       "      <td>1139</td>\n",
       "      <td>58941</td>\n",
       "      <td>1.93</td>\n",
       "    </tr>\n",
       "    <tr>\n",
       "      <th>1</th>\n",
       "      <td>Alaska</td>\n",
       "      <td>AK</td>\n",
       "      <td>2017</td>\n",
       "      <td>Doctorate</td>\n",
       "      <td>185</td>\n",
       "      <td>10445</td>\n",
       "      <td>1.77</td>\n",
       "    </tr>\n",
       "    <tr>\n",
       "      <th>2</th>\n",
       "      <td>Arizona</td>\n",
       "      <td>AZ</td>\n",
       "      <td>2017</td>\n",
       "      <td>Doctorate</td>\n",
       "      <td>1594</td>\n",
       "      <td>81872</td>\n",
       "      <td>1.95</td>\n",
       "    </tr>\n",
       "    <tr>\n",
       "      <th>3</th>\n",
       "      <td>Arkansas</td>\n",
       "      <td>AR</td>\n",
       "      <td>2017</td>\n",
       "      <td>Doctorate</td>\n",
       "      <td>495</td>\n",
       "      <td>37520</td>\n",
       "      <td>1.32</td>\n",
       "    </tr>\n",
       "    <tr>\n",
       "      <th>4</th>\n",
       "      <td>California</td>\n",
       "      <td>CA</td>\n",
       "      <td>2017</td>\n",
       "      <td>Doctorate</td>\n",
       "      <td>13703</td>\n",
       "      <td>471658</td>\n",
       "      <td>2.91</td>\n",
       "    </tr>\n",
       "    <tr>\n",
       "      <th>5</th>\n",
       "      <td>Colorado</td>\n",
       "      <td>CO</td>\n",
       "      <td>2017</td>\n",
       "      <td>Doctorate</td>\n",
       "      <td>2022</td>\n",
       "      <td>64382</td>\n",
       "      <td>3.14</td>\n",
       "    </tr>\n",
       "    <tr>\n",
       "      <th>6</th>\n",
       "      <td>Connecticut</td>\n",
       "      <td>CT</td>\n",
       "      <td>2017</td>\n",
       "      <td>Doctorate</td>\n",
       "      <td>1444</td>\n",
       "      <td>35221</td>\n",
       "      <td>4.10</td>\n",
       "    </tr>\n",
       "    <tr>\n",
       "      <th>7</th>\n",
       "      <td>Delaware</td>\n",
       "      <td>DE</td>\n",
       "      <td>2017</td>\n",
       "      <td>Doctorate</td>\n",
       "      <td>238</td>\n",
       "      <td>10855</td>\n",
       "      <td>2.19</td>\n",
       "    </tr>\n",
       "    <tr>\n",
       "      <th>8</th>\n",
       "      <td>District of Columbia</td>\n",
       "      <td>DC</td>\n",
       "      <td>2017</td>\n",
       "      <td>Doctorate</td>\n",
       "      <td>1014</td>\n",
       "      <td>9560</td>\n",
       "      <td>10.61</td>\n",
       "    </tr>\n",
       "    <tr>\n",
       "      <th>9</th>\n",
       "      <td>Florida</td>\n",
       "      <td>FL</td>\n",
       "      <td>2017</td>\n",
       "      <td>Doctorate</td>\n",
       "      <td>4656</td>\n",
       "      <td>223630</td>\n",
       "      <td>2.08</td>\n",
       "    </tr>\n",
       "    <tr>\n",
       "      <th>10</th>\n",
       "      <td>Georgia</td>\n",
       "      <td>GA</td>\n",
       "      <td>2017</td>\n",
       "      <td>Doctorate</td>\n",
       "      <td>2145</td>\n",
       "      <td>129243</td>\n",
       "      <td>1.66</td>\n",
       "    </tr>\n",
       "    <tr>\n",
       "      <th>11</th>\n",
       "      <td>Hawaii</td>\n",
       "      <td>HI</td>\n",
       "      <td>2017</td>\n",
       "      <td>Doctorate</td>\n",
       "      <td>249</td>\n",
       "      <td>17517</td>\n",
       "      <td>1.42</td>\n",
       "    </tr>\n",
       "    <tr>\n",
       "      <th>12</th>\n",
       "      <td>Idaho</td>\n",
       "      <td>ID</td>\n",
       "      <td>2017</td>\n",
       "      <td>Doctorate</td>\n",
       "      <td>318</td>\n",
       "      <td>22181</td>\n",
       "      <td>1.43</td>\n",
       "    </tr>\n",
       "    <tr>\n",
       "      <th>13</th>\n",
       "      <td>Illinois</td>\n",
       "      <td>IL</td>\n",
       "      <td>2017</td>\n",
       "      <td>Doctorate</td>\n",
       "      <td>4539</td>\n",
       "      <td>149390</td>\n",
       "      <td>3.04</td>\n",
       "    </tr>\n",
       "    <tr>\n",
       "      <th>14</th>\n",
       "      <td>Indiana</td>\n",
       "      <td>IN</td>\n",
       "      <td>2017</td>\n",
       "      <td>Doctorate</td>\n",
       "      <td>1504</td>\n",
       "      <td>82170</td>\n",
       "      <td>1.83</td>\n",
       "    </tr>\n",
       "    <tr>\n",
       "      <th>15</th>\n",
       "      <td>Iowa</td>\n",
       "      <td>IA</td>\n",
       "      <td>2017</td>\n",
       "      <td>Doctorate</td>\n",
       "      <td>1075</td>\n",
       "      <td>38430</td>\n",
       "      <td>2.80</td>\n",
       "    </tr>\n",
       "    <tr>\n",
       "      <th>16</th>\n",
       "      <td>Kansas</td>\n",
       "      <td>KS</td>\n",
       "      <td>2017</td>\n",
       "      <td>Doctorate</td>\n",
       "      <td>874</td>\n",
       "      <td>36519</td>\n",
       "      <td>2.39</td>\n",
       "    </tr>\n",
       "    <tr>\n",
       "      <th>17</th>\n",
       "      <td>Kentucky</td>\n",
       "      <td>KY</td>\n",
       "      <td>2017</td>\n",
       "      <td>Doctorate</td>\n",
       "      <td>1120</td>\n",
       "      <td>54752</td>\n",
       "      <td>2.05</td>\n",
       "    </tr>\n",
       "    <tr>\n",
       "      <th>18</th>\n",
       "      <td>Louisiana</td>\n",
       "      <td>LA</td>\n",
       "      <td>2017</td>\n",
       "      <td>Doctorate</td>\n",
       "      <td>1172</td>\n",
       "      <td>61018</td>\n",
       "      <td>1.92</td>\n",
       "    </tr>\n",
       "    <tr>\n",
       "      <th>19</th>\n",
       "      <td>Maine</td>\n",
       "      <td>ME</td>\n",
       "      <td>2017</td>\n",
       "      <td>Doctorate</td>\n",
       "      <td>359</td>\n",
       "      <td>12289</td>\n",
       "      <td>2.92</td>\n",
       "    </tr>\n",
       "    <tr>\n",
       "      <th>20</th>\n",
       "      <td>Maryland</td>\n",
       "      <td>MD</td>\n",
       "      <td>2017</td>\n",
       "      <td>Doctorate</td>\n",
       "      <td>3243</td>\n",
       "      <td>71641</td>\n",
       "      <td>4.53</td>\n",
       "    </tr>\n",
       "    <tr>\n",
       "      <th>21</th>\n",
       "      <td>Massachusetts</td>\n",
       "      <td>MA</td>\n",
       "      <td>2017</td>\n",
       "      <td>Doctorate</td>\n",
       "      <td>3890</td>\n",
       "      <td>70702</td>\n",
       "      <td>5.50</td>\n",
       "    </tr>\n",
       "    <tr>\n",
       "      <th>22</th>\n",
       "      <td>Michigan</td>\n",
       "      <td>MI</td>\n",
       "      <td>2017</td>\n",
       "      <td>Doctorate</td>\n",
       "      <td>2681</td>\n",
       "      <td>111426</td>\n",
       "      <td>2.41</td>\n",
       "    </tr>\n",
       "    <tr>\n",
       "      <th>23</th>\n",
       "      <td>Minnesota</td>\n",
       "      <td>MN</td>\n",
       "      <td>2017</td>\n",
       "      <td>Doctorate</td>\n",
       "      <td>2332</td>\n",
       "      <td>68595</td>\n",
       "      <td>3.40</td>\n",
       "    </tr>\n",
       "    <tr>\n",
       "      <th>24</th>\n",
       "      <td>Mississippi</td>\n",
       "      <td>MS</td>\n",
       "      <td>2017</td>\n",
       "      <td>Doctorate</td>\n",
       "      <td>631</td>\n",
       "      <td>37357</td>\n",
       "      <td>1.69</td>\n",
       "    </tr>\n",
       "    <tr>\n",
       "      <th>25</th>\n",
       "      <td>Missouri</td>\n",
       "      <td>MO</td>\n",
       "      <td>2017</td>\n",
       "      <td>Doctorate</td>\n",
       "      <td>1701</td>\n",
       "      <td>73034</td>\n",
       "      <td>2.33</td>\n",
       "    </tr>\n",
       "    <tr>\n",
       "      <th>26</th>\n",
       "      <td>Montana</td>\n",
       "      <td>MT</td>\n",
       "      <td>2017</td>\n",
       "      <td>Doctorate</td>\n",
       "      <td>313</td>\n",
       "      <td>11799</td>\n",
       "      <td>2.65</td>\n",
       "    </tr>\n",
       "    <tr>\n",
       "      <th>27</th>\n",
       "      <td>Nebraska</td>\n",
       "      <td>NE</td>\n",
       "      <td>2017</td>\n",
       "      <td>Doctorate</td>\n",
       "      <td>749</td>\n",
       "      <td>25809</td>\n",
       "      <td>2.90</td>\n",
       "    </tr>\n",
       "    <tr>\n",
       "      <th>28</th>\n",
       "      <td>Nevada</td>\n",
       "      <td>NV</td>\n",
       "      <td>2017</td>\n",
       "      <td>Doctorate</td>\n",
       "      <td>479</td>\n",
       "      <td>35756</td>\n",
       "      <td>1.34</td>\n",
       "    </tr>\n",
       "    <tr>\n",
       "      <th>29</th>\n",
       "      <td>New Hampshire</td>\n",
       "      <td>NH</td>\n",
       "      <td>2017</td>\n",
       "      <td>Doctorate</td>\n",
       "      <td>392</td>\n",
       "      <td>12116</td>\n",
       "      <td>3.24</td>\n",
       "    </tr>\n",
       "    <tr>\n",
       "      <th>30</th>\n",
       "      <td>New Jersey</td>\n",
       "      <td>NJ</td>\n",
       "      <td>2017</td>\n",
       "      <td>Doctorate</td>\n",
       "      <td>3464</td>\n",
       "      <td>101250</td>\n",
       "      <td>3.42</td>\n",
       "    </tr>\n",
       "    <tr>\n",
       "      <th>31</th>\n",
       "      <td>New Mexico</td>\n",
       "      <td>NM</td>\n",
       "      <td>2017</td>\n",
       "      <td>Doctorate</td>\n",
       "      <td>513</td>\n",
       "      <td>23767</td>\n",
       "      <td>2.16</td>\n",
       "    </tr>\n",
       "    <tr>\n",
       "      <th>32</th>\n",
       "      <td>New York</td>\n",
       "      <td>NY</td>\n",
       "      <td>2017</td>\n",
       "      <td>Doctorate</td>\n",
       "      <td>8113</td>\n",
       "      <td>229737</td>\n",
       "      <td>3.53</td>\n",
       "    </tr>\n",
       "    <tr>\n",
       "      <th>33</th>\n",
       "      <td>North Carolina</td>\n",
       "      <td>NC</td>\n",
       "      <td>2017</td>\n",
       "      <td>Doctorate</td>\n",
       "      <td>3017</td>\n",
       "      <td>120125</td>\n",
       "      <td>2.51</td>\n",
       "    </tr>\n",
       "    <tr>\n",
       "      <th>34</th>\n",
       "      <td>North Dakota</td>\n",
       "      <td>ND</td>\n",
       "      <td>2017</td>\n",
       "      <td>Doctorate</td>\n",
       "      <td>303</td>\n",
       "      <td>10737</td>\n",
       "      <td>2.82</td>\n",
       "    </tr>\n",
       "    <tr>\n",
       "      <th>35</th>\n",
       "      <td>Ohio</td>\n",
       "      <td>OH</td>\n",
       "      <td>2017</td>\n",
       "      <td>Doctorate</td>\n",
       "      <td>3387</td>\n",
       "      <td>136832</td>\n",
       "      <td>2.48</td>\n",
       "    </tr>\n",
       "    <tr>\n",
       "      <th>36</th>\n",
       "      <td>Oklahoma</td>\n",
       "      <td>OK</td>\n",
       "      <td>2017</td>\n",
       "      <td>Doctorate</td>\n",
       "      <td>810</td>\n",
       "      <td>50214</td>\n",
       "      <td>1.61</td>\n",
       "    </tr>\n",
       "    <tr>\n",
       "      <th>37</th>\n",
       "      <td>Oregon</td>\n",
       "      <td>OR</td>\n",
       "      <td>2017</td>\n",
       "      <td>Doctorate</td>\n",
       "      <td>1367</td>\n",
       "      <td>43631</td>\n",
       "      <td>3.13</td>\n",
       "    </tr>\n",
       "    <tr>\n",
       "      <th>38</th>\n",
       "      <td>Pennsylvania</td>\n",
       "      <td>PA</td>\n",
       "      <td>2017</td>\n",
       "      <td>Doctorate</td>\n",
       "      <td>4521</td>\n",
       "      <td>137745</td>\n",
       "      <td>3.28</td>\n",
       "    </tr>\n",
       "    <tr>\n",
       "      <th>39</th>\n",
       "      <td>Rhode Island</td>\n",
       "      <td>RI</td>\n",
       "      <td>2017</td>\n",
       "      <td>Doctorate</td>\n",
       "      <td>407</td>\n",
       "      <td>10638</td>\n",
       "      <td>3.83</td>\n",
       "    </tr>\n",
       "    <tr>\n",
       "      <th>40</th>\n",
       "      <td>South Carolina</td>\n",
       "      <td>SC</td>\n",
       "      <td>2017</td>\n",
       "      <td>Doctorate</td>\n",
       "      <td>1228</td>\n",
       "      <td>57029</td>\n",
       "      <td>2.15</td>\n",
       "    </tr>\n",
       "    <tr>\n",
       "      <th>41</th>\n",
       "      <td>South Dakota</td>\n",
       "      <td>SD</td>\n",
       "      <td>2017</td>\n",
       "      <td>Doctorate</td>\n",
       "      <td>277</td>\n",
       "      <td>12134</td>\n",
       "      <td>2.28</td>\n",
       "    </tr>\n",
       "    <tr>\n",
       "      <th>42</th>\n",
       "      <td>Tennessee</td>\n",
       "      <td>TN</td>\n",
       "      <td>2017</td>\n",
       "      <td>Doctorate</td>\n",
       "      <td>1856</td>\n",
       "      <td>81016</td>\n",
       "      <td>2.29</td>\n",
       "    </tr>\n",
       "    <tr>\n",
       "      <th>43</th>\n",
       "      <td>Texas</td>\n",
       "      <td>TX</td>\n",
       "      <td>2017</td>\n",
       "      <td>Doctorate</td>\n",
       "      <td>7731</td>\n",
       "      <td>382050</td>\n",
       "      <td>2.02</td>\n",
       "    </tr>\n",
       "    <tr>\n",
       "      <th>44</th>\n",
       "      <td>Utah</td>\n",
       "      <td>UT</td>\n",
       "      <td>2017</td>\n",
       "      <td>Doctorate</td>\n",
       "      <td>648</td>\n",
       "      <td>48585</td>\n",
       "      <td>1.33</td>\n",
       "    </tr>\n",
       "    <tr>\n",
       "      <th>45</th>\n",
       "      <td>Vermont</td>\n",
       "      <td>VT</td>\n",
       "      <td>2017</td>\n",
       "      <td>Doctorate</td>\n",
       "      <td>211</td>\n",
       "      <td>5655</td>\n",
       "      <td>3.73</td>\n",
       "    </tr>\n",
       "    <tr>\n",
       "      <th>46</th>\n",
       "      <td>Virginia</td>\n",
       "      <td>VA</td>\n",
       "      <td>2017</td>\n",
       "      <td>Doctorate</td>\n",
       "      <td>3469</td>\n",
       "      <td>100391</td>\n",
       "      <td>3.46</td>\n",
       "    </tr>\n",
       "    <tr>\n",
       "      <th>47</th>\n",
       "      <td>Washington</td>\n",
       "      <td>WA</td>\n",
       "      <td>2017</td>\n",
       "      <td>Doctorate</td>\n",
       "      <td>2627</td>\n",
       "      <td>87562</td>\n",
       "      <td>3.00</td>\n",
       "    </tr>\n",
       "    <tr>\n",
       "      <th>48</th>\n",
       "      <td>West Virginia</td>\n",
       "      <td>WV</td>\n",
       "      <td>2017</td>\n",
       "      <td>Doctorate</td>\n",
       "      <td>407</td>\n",
       "      <td>18675</td>\n",
       "      <td>2.18</td>\n",
       "    </tr>\n",
       "    <tr>\n",
       "      <th>49</th>\n",
       "      <td>Wisconsin</td>\n",
       "      <td>WI</td>\n",
       "      <td>2017</td>\n",
       "      <td>Doctorate</td>\n",
       "      <td>1673</td>\n",
       "      <td>64975</td>\n",
       "      <td>2.57</td>\n",
       "    </tr>\n",
       "    <tr>\n",
       "      <th>50</th>\n",
       "      <td>Wyoming</td>\n",
       "      <td>WY</td>\n",
       "      <td>2017</td>\n",
       "      <td>Doctorate</td>\n",
       "      <td>111</td>\n",
       "      <td>6903</td>\n",
       "      <td>1.61</td>\n",
       "    </tr>\n",
       "  </tbody>\n",
       "</table>\n",
       "</div>"
      ],
      "text/plain": [
       "                   State State Abbreviation  Year Education Level of Mother  \\\n",
       "0                Alabama                 AL  2017                 Doctorate   \n",
       "1                 Alaska                 AK  2017                 Doctorate   \n",
       "2                Arizona                 AZ  2017                 Doctorate   \n",
       "3               Arkansas                 AR  2017                 Doctorate   \n",
       "4             California                 CA  2017                 Doctorate   \n",
       "5               Colorado                 CO  2017                 Doctorate   \n",
       "6            Connecticut                 CT  2017                 Doctorate   \n",
       "7               Delaware                 DE  2017                 Doctorate   \n",
       "8   District of Columbia                 DC  2017                 Doctorate   \n",
       "9                Florida                 FL  2017                 Doctorate   \n",
       "10               Georgia                 GA  2017                 Doctorate   \n",
       "11                Hawaii                 HI  2017                 Doctorate   \n",
       "12                 Idaho                 ID  2017                 Doctorate   \n",
       "13              Illinois                 IL  2017                 Doctorate   \n",
       "14               Indiana                 IN  2017                 Doctorate   \n",
       "15                  Iowa                 IA  2017                 Doctorate   \n",
       "16                Kansas                 KS  2017                 Doctorate   \n",
       "17              Kentucky                 KY  2017                 Doctorate   \n",
       "18             Louisiana                 LA  2017                 Doctorate   \n",
       "19                 Maine                 ME  2017                 Doctorate   \n",
       "20              Maryland                 MD  2017                 Doctorate   \n",
       "21         Massachusetts                 MA  2017                 Doctorate   \n",
       "22              Michigan                 MI  2017                 Doctorate   \n",
       "23             Minnesota                 MN  2017                 Doctorate   \n",
       "24           Mississippi                 MS  2017                 Doctorate   \n",
       "25              Missouri                 MO  2017                 Doctorate   \n",
       "26               Montana                 MT  2017                 Doctorate   \n",
       "27              Nebraska                 NE  2017                 Doctorate   \n",
       "28                Nevada                 NV  2017                 Doctorate   \n",
       "29         New Hampshire                 NH  2017                 Doctorate   \n",
       "30            New Jersey                 NJ  2017                 Doctorate   \n",
       "31            New Mexico                 NM  2017                 Doctorate   \n",
       "32              New York                 NY  2017                 Doctorate   \n",
       "33        North Carolina                 NC  2017                 Doctorate   \n",
       "34          North Dakota                 ND  2017                 Doctorate   \n",
       "35                  Ohio                 OH  2017                 Doctorate   \n",
       "36              Oklahoma                 OK  2017                 Doctorate   \n",
       "37                Oregon                 OR  2017                 Doctorate   \n",
       "38          Pennsylvania                 PA  2017                 Doctorate   \n",
       "39          Rhode Island                 RI  2017                 Doctorate   \n",
       "40        South Carolina                 SC  2017                 Doctorate   \n",
       "41          South Dakota                 SD  2017                 Doctorate   \n",
       "42             Tennessee                 TN  2017                 Doctorate   \n",
       "43                 Texas                 TX  2017                 Doctorate   \n",
       "44                  Utah                 UT  2017                 Doctorate   \n",
       "45               Vermont                 VT  2017                 Doctorate   \n",
       "46              Virginia                 VA  2017                 Doctorate   \n",
       "47            Washington                 WA  2017                 Doctorate   \n",
       "48         West Virginia                 WV  2017                 Doctorate   \n",
       "49             Wisconsin                 WI  2017                 Doctorate   \n",
       "50               Wyoming                 WY  2017                 Doctorate   \n",
       "\n",
       "    Number of Births  Total Births in State  Percentage of Births by State  \n",
       "0               1139                  58941                           1.93  \n",
       "1                185                  10445                           1.77  \n",
       "2               1594                  81872                           1.95  \n",
       "3                495                  37520                           1.32  \n",
       "4              13703                 471658                           2.91  \n",
       "5               2022                  64382                           3.14  \n",
       "6               1444                  35221                           4.10  \n",
       "7                238                  10855                           2.19  \n",
       "8               1014                   9560                          10.61  \n",
       "9               4656                 223630                           2.08  \n",
       "10              2145                 129243                           1.66  \n",
       "11               249                  17517                           1.42  \n",
       "12               318                  22181                           1.43  \n",
       "13              4539                 149390                           3.04  \n",
       "14              1504                  82170                           1.83  \n",
       "15              1075                  38430                           2.80  \n",
       "16               874                  36519                           2.39  \n",
       "17              1120                  54752                           2.05  \n",
       "18              1172                  61018                           1.92  \n",
       "19               359                  12289                           2.92  \n",
       "20              3243                  71641                           4.53  \n",
       "21              3890                  70702                           5.50  \n",
       "22              2681                 111426                           2.41  \n",
       "23              2332                  68595                           3.40  \n",
       "24               631                  37357                           1.69  \n",
       "25              1701                  73034                           2.33  \n",
       "26               313                  11799                           2.65  \n",
       "27               749                  25809                           2.90  \n",
       "28               479                  35756                           1.34  \n",
       "29               392                  12116                           3.24  \n",
       "30              3464                 101250                           3.42  \n",
       "31               513                  23767                           2.16  \n",
       "32              8113                 229737                           3.53  \n",
       "33              3017                 120125                           2.51  \n",
       "34               303                  10737                           2.82  \n",
       "35              3387                 136832                           2.48  \n",
       "36               810                  50214                           1.61  \n",
       "37              1367                  43631                           3.13  \n",
       "38              4521                 137745                           3.28  \n",
       "39               407                  10638                           3.83  \n",
       "40              1228                  57029                           2.15  \n",
       "41               277                  12134                           2.28  \n",
       "42              1856                  81016                           2.29  \n",
       "43              7731                 382050                           2.02  \n",
       "44               648                  48585                           1.33  \n",
       "45               211                   5655                           3.73  \n",
       "46              3469                 100391                           3.46  \n",
       "47              2627                  87562                           3.00  \n",
       "48               407                  18675                           2.18  \n",
       "49              1673                  64975                           2.57  \n",
       "50               111                   6903                           1.61  "
      ]
     },
     "execution_count": 57,
     "metadata": {},
     "output_type": "execute_result"
    }
   ],
   "source": [
    "merged_df['Percentage of Births by State'] = ((merged_df['Number of Births'] / merged_df['Total Births in State']) * 100).round(2)\n",
    "merged_df"
   ]
  },
  {
   "cell_type": "code",
   "execution_count": 142,
   "metadata": {},
   "outputs": [
    {
     "data": {
      "text/html": [
       "<div>\n",
       "<style scoped>\n",
       "    .dataframe tbody tr th:only-of-type {\n",
       "        vertical-align: middle;\n",
       "    }\n",
       "\n",
       "    .dataframe tbody tr th {\n",
       "        vertical-align: top;\n",
       "    }\n",
       "\n",
       "    .dataframe thead th {\n",
       "        text-align: right;\n",
       "    }\n",
       "</style>\n",
       "<table border=\"1\" class=\"dataframe\">\n",
       "  <thead>\n",
       "    <tr style=\"text-align: right;\">\n",
       "      <th></th>\n",
       "      <th>State</th>\n",
       "      <th>Year</th>\n",
       "      <th>Political Party Governing</th>\n",
       "    </tr>\n",
       "  </thead>\n",
       "  <tbody>\n",
       "    <tr>\n",
       "      <th>0</th>\n",
       "      <td>Alabama</td>\n",
       "      <td>2016</td>\n",
       "      <td>R</td>\n",
       "    </tr>\n",
       "    <tr>\n",
       "      <th>1</th>\n",
       "      <td>Alabama</td>\n",
       "      <td>2018</td>\n",
       "      <td>R</td>\n",
       "    </tr>\n",
       "    <tr>\n",
       "      <th>2</th>\n",
       "      <td>Alabama</td>\n",
       "      <td>2019</td>\n",
       "      <td>R</td>\n",
       "    </tr>\n",
       "    <tr>\n",
       "      <th>3</th>\n",
       "      <td>Alabama</td>\n",
       "      <td>2020</td>\n",
       "      <td>R</td>\n",
       "    </tr>\n",
       "    <tr>\n",
       "      <th>4</th>\n",
       "      <td>Alabama</td>\n",
       "      <td>2021</td>\n",
       "      <td>R</td>\n",
       "    </tr>\n",
       "    <tr>\n",
       "      <th>...</th>\n",
       "      <td>...</td>\n",
       "      <td>...</td>\n",
       "      <td>...</td>\n",
       "    </tr>\n",
       "    <tr>\n",
       "      <th>295</th>\n",
       "      <td>Wyoming</td>\n",
       "      <td>2019</td>\n",
       "      <td>R</td>\n",
       "    </tr>\n",
       "    <tr>\n",
       "      <th>296</th>\n",
       "      <td>Wyoming</td>\n",
       "      <td>2017</td>\n",
       "      <td>R</td>\n",
       "    </tr>\n",
       "    <tr>\n",
       "      <th>297</th>\n",
       "      <td>Wyoming</td>\n",
       "      <td>2016</td>\n",
       "      <td>R</td>\n",
       "    </tr>\n",
       "    <tr>\n",
       "      <th>298</th>\n",
       "      <td>Wyoming</td>\n",
       "      <td>2020</td>\n",
       "      <td>R</td>\n",
       "    </tr>\n",
       "    <tr>\n",
       "      <th>299</th>\n",
       "      <td>Wyoming</td>\n",
       "      <td>2021</td>\n",
       "      <td>R</td>\n",
       "    </tr>\n",
       "  </tbody>\n",
       "</table>\n",
       "<p>300 rows × 3 columns</p>\n",
       "</div>"
      ],
      "text/plain": [
       "       State  Year Political Party Governing\n",
       "0    Alabama  2016                         R\n",
       "1    Alabama  2018                         R\n",
       "2    Alabama  2019                         R\n",
       "3    Alabama  2020                         R\n",
       "4    Alabama  2021                         R\n",
       "..       ...   ...                       ...\n",
       "295  Wyoming  2019                         R\n",
       "296  Wyoming  2017                         R\n",
       "297  Wyoming  2016                         R\n",
       "298  Wyoming  2020                         R\n",
       "299  Wyoming  2021                         R\n",
       "\n",
       "[300 rows x 3 columns]"
      ]
     },
     "execution_count": 142,
     "metadata": {},
     "output_type": "execute_result"
    }
   ],
   "source": [
    "df = pd.read_csv('state_by_party.csv')\n",
    "complete_df = pd.read_csv('us_births_2016_2021_updated.csv')\n",
    "df"
   ]
  },
  {
   "cell_type": "code",
   "execution_count": 143,
   "metadata": {},
   "outputs": [
    {
     "data": {
      "text/html": [
       "<div>\n",
       "<style scoped>\n",
       "    .dataframe tbody tr th:only-of-type {\n",
       "        vertical-align: middle;\n",
       "    }\n",
       "\n",
       "    .dataframe tbody tr th {\n",
       "        vertical-align: top;\n",
       "    }\n",
       "\n",
       "    .dataframe thead th {\n",
       "        text-align: right;\n",
       "    }\n",
       "</style>\n",
       "<table border=\"1\" class=\"dataframe\">\n",
       "  <thead>\n",
       "    <tr style=\"text-align: right;\">\n",
       "      <th></th>\n",
       "      <th>State</th>\n",
       "      <th>State Abbreviation</th>\n",
       "      <th>Education Level of Mother</th>\n",
       "      <th>Year</th>\n",
       "      <th>Number of Births</th>\n",
       "      <th>Total Births in State</th>\n",
       "      <th>Average Age of Mother (years)</th>\n",
       "    </tr>\n",
       "  </thead>\n",
       "  <tbody>\n",
       "    <tr>\n",
       "      <th>0</th>\n",
       "      <td>Alabama</td>\n",
       "      <td>AL</td>\n",
       "      <td>9th &gt; 12th Grade</td>\n",
       "      <td>2016</td>\n",
       "      <td>7093</td>\n",
       "      <td>59151</td>\n",
       "      <td>24.00</td>\n",
       "    </tr>\n",
       "    <tr>\n",
       "      <th>1</th>\n",
       "      <td>Alabama</td>\n",
       "      <td>AL</td>\n",
       "      <td>&gt; 8th Grade</td>\n",
       "      <td>2016</td>\n",
       "      <td>2240</td>\n",
       "      <td>59151</td>\n",
       "      <td>27.70</td>\n",
       "    </tr>\n",
       "    <tr>\n",
       "      <th>2</th>\n",
       "      <td>Alabama</td>\n",
       "      <td>AL</td>\n",
       "      <td>Associate Degree</td>\n",
       "      <td>2016</td>\n",
       "      <td>4687</td>\n",
       "      <td>59151</td>\n",
       "      <td>28.95</td>\n",
       "    </tr>\n",
       "    <tr>\n",
       "      <th>3</th>\n",
       "      <td>Alabama</td>\n",
       "      <td>AL</td>\n",
       "      <td>Bahcelor's Degree</td>\n",
       "      <td>2016</td>\n",
       "      <td>9098</td>\n",
       "      <td>59151</td>\n",
       "      <td>30.30</td>\n",
       "    </tr>\n",
       "    <tr>\n",
       "      <th>4</th>\n",
       "      <td>Alabama</td>\n",
       "      <td>AL</td>\n",
       "      <td>Doctorate</td>\n",
       "      <td>2016</td>\n",
       "      <td>998</td>\n",
       "      <td>59151</td>\n",
       "      <td>32.95</td>\n",
       "    </tr>\n",
       "    <tr>\n",
       "      <th>...</th>\n",
       "      <td>...</td>\n",
       "      <td>...</td>\n",
       "      <td>...</td>\n",
       "      <td>...</td>\n",
       "      <td>...</td>\n",
       "      <td>...</td>\n",
       "      <td>...</td>\n",
       "    </tr>\n",
       "    <tr>\n",
       "      <th>2745</th>\n",
       "      <td>Wyoming</td>\n",
       "      <td>WY</td>\n",
       "      <td>Doctorate</td>\n",
       "      <td>2021</td>\n",
       "      <td>137</td>\n",
       "      <td>6237</td>\n",
       "      <td>33.45</td>\n",
       "    </tr>\n",
       "    <tr>\n",
       "      <th>2746</th>\n",
       "      <td>Wyoming</td>\n",
       "      <td>WY</td>\n",
       "      <td>High School Grad</td>\n",
       "      <td>2021</td>\n",
       "      <td>1483</td>\n",
       "      <td>6237</td>\n",
       "      <td>25.95</td>\n",
       "    </tr>\n",
       "    <tr>\n",
       "      <th>2747</th>\n",
       "      <td>Wyoming</td>\n",
       "      <td>WY</td>\n",
       "      <td>Master's Degree</td>\n",
       "      <td>2021</td>\n",
       "      <td>471</td>\n",
       "      <td>6237</td>\n",
       "      <td>32.75</td>\n",
       "    </tr>\n",
       "    <tr>\n",
       "      <th>2748</th>\n",
       "      <td>Wyoming</td>\n",
       "      <td>WY</td>\n",
       "      <td>Some College Credit</td>\n",
       "      <td>2021</td>\n",
       "      <td>1491</td>\n",
       "      <td>6237</td>\n",
       "      <td>27.45</td>\n",
       "    </tr>\n",
       "    <tr>\n",
       "      <th>2749</th>\n",
       "      <td>Wyoming</td>\n",
       "      <td>WY</td>\n",
       "      <td>Unknown</td>\n",
       "      <td>2021</td>\n",
       "      <td>81</td>\n",
       "      <td>6237</td>\n",
       "      <td>29.60</td>\n",
       "    </tr>\n",
       "  </tbody>\n",
       "</table>\n",
       "<p>2750 rows × 7 columns</p>\n",
       "</div>"
      ],
      "text/plain": [
       "        State State Abbreviation Education Level of Mother  Year  \\\n",
       "0     Alabama                 AL          9th > 12th Grade  2016   \n",
       "1     Alabama                 AL               > 8th Grade  2016   \n",
       "2     Alabama                 AL          Associate Degree  2016   \n",
       "3     Alabama                 AL         Bahcelor's Degree  2016   \n",
       "4     Alabama                 AL                 Doctorate  2016   \n",
       "...       ...                ...                       ...   ...   \n",
       "2745  Wyoming                 WY                 Doctorate  2021   \n",
       "2746  Wyoming                 WY          High School Grad  2021   \n",
       "2747  Wyoming                 WY           Master's Degree  2021   \n",
       "2748  Wyoming                 WY       Some College Credit  2021   \n",
       "2749  Wyoming                 WY                   Unknown  2021   \n",
       "\n",
       "      Number of Births  Total Births in State  Average Age of Mother (years)  \n",
       "0                 7093                  59151                          24.00  \n",
       "1                 2240                  59151                          27.70  \n",
       "2                 4687                  59151                          28.95  \n",
       "3                 9098                  59151                          30.30  \n",
       "4                  998                  59151                          32.95  \n",
       "...                ...                    ...                            ...  \n",
       "2745               137                   6237                          33.45  \n",
       "2746              1483                   6237                          25.95  \n",
       "2747               471                   6237                          32.75  \n",
       "2748              1491                   6237                          27.45  \n",
       "2749                81                   6237                          29.60  \n",
       "\n",
       "[2750 rows x 7 columns]"
      ]
     },
     "execution_count": 143,
     "metadata": {},
     "output_type": "execute_result"
    }
   ],
   "source": [
    "complete_df"
   ]
  },
  {
   "cell_type": "code",
   "execution_count": 146,
   "metadata": {},
   "outputs": [],
   "source": [
    "merged_df = complete_df.merge(df, on = ['State', 'Year'], suffixes = ('_by ed level', '_by state'))\n",
    "merged_df.to_csv('us_births_data.csv')"
   ]
  },
  {
   "cell_type": "code",
   "execution_count": 154,
   "metadata": {},
   "outputs": [
    {
     "data": {
      "text/html": [
       "<div>\n",
       "<style scoped>\n",
       "    .dataframe tbody tr th:only-of-type {\n",
       "        vertical-align: middle;\n",
       "    }\n",
       "\n",
       "    .dataframe tbody tr th {\n",
       "        vertical-align: top;\n",
       "    }\n",
       "\n",
       "    .dataframe thead th {\n",
       "        text-align: right;\n",
       "    }\n",
       "</style>\n",
       "<table border=\"1\" class=\"dataframe\">\n",
       "  <thead>\n",
       "    <tr style=\"text-align: right;\">\n",
       "      <th></th>\n",
       "      <th>State</th>\n",
       "      <th>State Abbreviation</th>\n",
       "      <th>Education Level of Mother</th>\n",
       "      <th>Year</th>\n",
       "      <th>Number of Births</th>\n",
       "      <th>Total Births in State</th>\n",
       "      <th>Average Age of Mother (years)</th>\n",
       "      <th>Political Party Governing</th>\n",
       "    </tr>\n",
       "  </thead>\n",
       "  <tbody>\n",
       "    <tr>\n",
       "      <th>0</th>\n",
       "      <td>Alabama</td>\n",
       "      <td>AL</td>\n",
       "      <td>9th &gt; 12th Grade</td>\n",
       "      <td>2016</td>\n",
       "      <td>7093</td>\n",
       "      <td>59151</td>\n",
       "      <td>24.00</td>\n",
       "      <td>R</td>\n",
       "    </tr>\n",
       "    <tr>\n",
       "      <th>1</th>\n",
       "      <td>Alabama</td>\n",
       "      <td>AL</td>\n",
       "      <td>&gt; 8th Grade</td>\n",
       "      <td>2016</td>\n",
       "      <td>2240</td>\n",
       "      <td>59151</td>\n",
       "      <td>27.70</td>\n",
       "      <td>R</td>\n",
       "    </tr>\n",
       "    <tr>\n",
       "      <th>2</th>\n",
       "      <td>Alabama</td>\n",
       "      <td>AL</td>\n",
       "      <td>Associate Degree</td>\n",
       "      <td>2016</td>\n",
       "      <td>4687</td>\n",
       "      <td>59151</td>\n",
       "      <td>28.95</td>\n",
       "      <td>R</td>\n",
       "    </tr>\n",
       "    <tr>\n",
       "      <th>3</th>\n",
       "      <td>Alabama</td>\n",
       "      <td>AL</td>\n",
       "      <td>Bahcelor's Degree</td>\n",
       "      <td>2016</td>\n",
       "      <td>9098</td>\n",
       "      <td>59151</td>\n",
       "      <td>30.30</td>\n",
       "      <td>R</td>\n",
       "    </tr>\n",
       "    <tr>\n",
       "      <th>4</th>\n",
       "      <td>Alabama</td>\n",
       "      <td>AL</td>\n",
       "      <td>Doctorate</td>\n",
       "      <td>2016</td>\n",
       "      <td>998</td>\n",
       "      <td>59151</td>\n",
       "      <td>32.95</td>\n",
       "      <td>R</td>\n",
       "    </tr>\n",
       "    <tr>\n",
       "      <th>...</th>\n",
       "      <td>...</td>\n",
       "      <td>...</td>\n",
       "      <td>...</td>\n",
       "      <td>...</td>\n",
       "      <td>...</td>\n",
       "      <td>...</td>\n",
       "      <td>...</td>\n",
       "      <td>...</td>\n",
       "    </tr>\n",
       "    <tr>\n",
       "      <th>2646</th>\n",
       "      <td>Wyoming</td>\n",
       "      <td>WY</td>\n",
       "      <td>Doctorate</td>\n",
       "      <td>2016</td>\n",
       "      <td>139</td>\n",
       "      <td>7386</td>\n",
       "      <td>33.10</td>\n",
       "      <td>R</td>\n",
       "    </tr>\n",
       "    <tr>\n",
       "      <th>2647</th>\n",
       "      <td>Wyoming</td>\n",
       "      <td>WY</td>\n",
       "      <td>High School Grad</td>\n",
       "      <td>2016</td>\n",
       "      <td>1767</td>\n",
       "      <td>7386</td>\n",
       "      <td>25.55</td>\n",
       "      <td>R</td>\n",
       "    </tr>\n",
       "    <tr>\n",
       "      <th>2648</th>\n",
       "      <td>Wyoming</td>\n",
       "      <td>WY</td>\n",
       "      <td>Master's Degree</td>\n",
       "      <td>2016</td>\n",
       "      <td>499</td>\n",
       "      <td>7386</td>\n",
       "      <td>32.40</td>\n",
       "      <td>R</td>\n",
       "    </tr>\n",
       "    <tr>\n",
       "      <th>2649</th>\n",
       "      <td>Wyoming</td>\n",
       "      <td>WY</td>\n",
       "      <td>Some College Credit</td>\n",
       "      <td>2016</td>\n",
       "      <td>1902</td>\n",
       "      <td>7386</td>\n",
       "      <td>27.10</td>\n",
       "      <td>R</td>\n",
       "    </tr>\n",
       "    <tr>\n",
       "      <th>2650</th>\n",
       "      <td>Wyoming</td>\n",
       "      <td>WY</td>\n",
       "      <td>Unknown</td>\n",
       "      <td>2016</td>\n",
       "      <td>80</td>\n",
       "      <td>7386</td>\n",
       "      <td>29.85</td>\n",
       "      <td>R</td>\n",
       "    </tr>\n",
       "  </tbody>\n",
       "</table>\n",
       "<p>449 rows × 8 columns</p>\n",
       "</div>"
      ],
      "text/plain": [
       "        State State Abbreviation Education Level of Mother  Year  \\\n",
       "0     Alabama                 AL          9th > 12th Grade  2016   \n",
       "1     Alabama                 AL               > 8th Grade  2016   \n",
       "2     Alabama                 AL          Associate Degree  2016   \n",
       "3     Alabama                 AL         Bahcelor's Degree  2016   \n",
       "4     Alabama                 AL                 Doctorate  2016   \n",
       "...       ...                ...                       ...   ...   \n",
       "2646  Wyoming                 WY                 Doctorate  2016   \n",
       "2647  Wyoming                 WY          High School Grad  2016   \n",
       "2648  Wyoming                 WY           Master's Degree  2016   \n",
       "2649  Wyoming                 WY       Some College Credit  2016   \n",
       "2650  Wyoming                 WY                   Unknown  2016   \n",
       "\n",
       "      Number of Births  Total Births in State  Average Age of Mother (years)  \\\n",
       "0                 7093                  59151                          24.00   \n",
       "1                 2240                  59151                          27.70   \n",
       "2                 4687                  59151                          28.95   \n",
       "3                 9098                  59151                          30.30   \n",
       "4                  998                  59151                          32.95   \n",
       "...                ...                    ...                            ...   \n",
       "2646               139                   7386                          33.10   \n",
       "2647              1767                   7386                          25.55   \n",
       "2648               499                   7386                          32.40   \n",
       "2649              1902                   7386                          27.10   \n",
       "2650                80                   7386                          29.85   \n",
       "\n",
       "     Political Party Governing  \n",
       "0                            R  \n",
       "1                            R  \n",
       "2                            R  \n",
       "3                            R  \n",
       "4                            R  \n",
       "...                        ...  \n",
       "2646                         R  \n",
       "2647                         R  \n",
       "2648                         R  \n",
       "2649                         R  \n",
       "2650                         R  \n",
       "\n",
       "[449 rows x 8 columns]"
      ]
     },
     "execution_count": 154,
     "metadata": {},
     "output_type": "execute_result"
    }
   ],
   "source": [
    "party_by_state_and_year = merged_df[(merged_df['Year'] == 2016)]\n",
    "party_by_state_and_year\n"
   ]
  },
  {
   "cell_type": "code",
   "execution_count": 8,
   "metadata": {},
   "outputs": [
    {
     "data": {
      "text/html": [
       "<div>\n",
       "<style scoped>\n",
       "    .dataframe tbody tr th:only-of-type {\n",
       "        vertical-align: middle;\n",
       "    }\n",
       "\n",
       "    .dataframe tbody tr th {\n",
       "        vertical-align: top;\n",
       "    }\n",
       "\n",
       "    .dataframe thead th {\n",
       "        text-align: right;\n",
       "    }\n",
       "</style>\n",
       "<table border=\"1\" class=\"dataframe\">\n",
       "  <thead>\n",
       "    <tr style=\"text-align: right;\">\n",
       "      <th></th>\n",
       "      <th>State</th>\n",
       "      <th>State Abbreviation</th>\n",
       "      <th>Average Age of Mother (years)</th>\n",
       "    </tr>\n",
       "  </thead>\n",
       "  <tbody>\n",
       "    <tr>\n",
       "      <th>0</th>\n",
       "      <td>Alabama</td>\n",
       "      <td>AL</td>\n",
       "      <td>33.083333</td>\n",
       "    </tr>\n",
       "    <tr>\n",
       "      <th>1</th>\n",
       "      <td>Alaska</td>\n",
       "      <td>AK</td>\n",
       "      <td>34.100000</td>\n",
       "    </tr>\n",
       "    <tr>\n",
       "      <th>2</th>\n",
       "      <td>Arizona</td>\n",
       "      <td>AZ</td>\n",
       "      <td>33.683333</td>\n",
       "    </tr>\n",
       "    <tr>\n",
       "      <th>3</th>\n",
       "      <td>Arkansas</td>\n",
       "      <td>AR</td>\n",
       "      <td>32.483333</td>\n",
       "    </tr>\n",
       "    <tr>\n",
       "      <th>4</th>\n",
       "      <td>California</td>\n",
       "      <td>CA</td>\n",
       "      <td>34.733333</td>\n",
       "    </tr>\n",
       "    <tr>\n",
       "      <th>5</th>\n",
       "      <td>Colorado</td>\n",
       "      <td>CO</td>\n",
       "      <td>34.283333</td>\n",
       "    </tr>\n",
       "    <tr>\n",
       "      <th>6</th>\n",
       "      <td>Connecticut</td>\n",
       "      <td>CT</td>\n",
       "      <td>34.266667</td>\n",
       "    </tr>\n",
       "    <tr>\n",
       "      <th>7</th>\n",
       "      <td>Delaware</td>\n",
       "      <td>DE</td>\n",
       "      <td>33.683333</td>\n",
       "    </tr>\n",
       "    <tr>\n",
       "      <th>8</th>\n",
       "      <td>District of Columbia</td>\n",
       "      <td>DC</td>\n",
       "      <td>35.116667</td>\n",
       "    </tr>\n",
       "    <tr>\n",
       "      <th>9</th>\n",
       "      <td>Florida</td>\n",
       "      <td>FL</td>\n",
       "      <td>33.683333</td>\n",
       "    </tr>\n",
       "    <tr>\n",
       "      <th>10</th>\n",
       "      <td>Georgia</td>\n",
       "      <td>GA</td>\n",
       "      <td>33.850000</td>\n",
       "    </tr>\n",
       "    <tr>\n",
       "      <th>11</th>\n",
       "      <td>Hawaii</td>\n",
       "      <td>HI</td>\n",
       "      <td>34.533333</td>\n",
       "    </tr>\n",
       "    <tr>\n",
       "      <th>12</th>\n",
       "      <td>Idaho</td>\n",
       "      <td>ID</td>\n",
       "      <td>33.400000</td>\n",
       "    </tr>\n",
       "    <tr>\n",
       "      <th>13</th>\n",
       "      <td>Illinois</td>\n",
       "      <td>IL</td>\n",
       "      <td>33.816667</td>\n",
       "    </tr>\n",
       "    <tr>\n",
       "      <th>14</th>\n",
       "      <td>Indiana</td>\n",
       "      <td>IN</td>\n",
       "      <td>33.233333</td>\n",
       "    </tr>\n",
       "    <tr>\n",
       "      <th>15</th>\n",
       "      <td>Iowa</td>\n",
       "      <td>IA</td>\n",
       "      <td>32.633333</td>\n",
       "    </tr>\n",
       "    <tr>\n",
       "      <th>16</th>\n",
       "      <td>Kansas</td>\n",
       "      <td>KS</td>\n",
       "      <td>32.966667</td>\n",
       "    </tr>\n",
       "    <tr>\n",
       "      <th>17</th>\n",
       "      <td>Kentucky</td>\n",
       "      <td>KY</td>\n",
       "      <td>32.833333</td>\n",
       "    </tr>\n",
       "    <tr>\n",
       "      <th>18</th>\n",
       "      <td>Louisiana</td>\n",
       "      <td>LA</td>\n",
       "      <td>33.133333</td>\n",
       "    </tr>\n",
       "    <tr>\n",
       "      <th>19</th>\n",
       "      <td>Maine</td>\n",
       "      <td>ME</td>\n",
       "      <td>33.466667</td>\n",
       "    </tr>\n",
       "    <tr>\n",
       "      <th>20</th>\n",
       "      <td>Maryland</td>\n",
       "      <td>MD</td>\n",
       "      <td>34.500000</td>\n",
       "    </tr>\n",
       "    <tr>\n",
       "      <th>21</th>\n",
       "      <td>Massachusetts</td>\n",
       "      <td>MA</td>\n",
       "      <td>34.400000</td>\n",
       "    </tr>\n",
       "    <tr>\n",
       "      <th>22</th>\n",
       "      <td>Michigan</td>\n",
       "      <td>MI</td>\n",
       "      <td>33.166667</td>\n",
       "    </tr>\n",
       "    <tr>\n",
       "      <th>23</th>\n",
       "      <td>Minnesota</td>\n",
       "      <td>MN</td>\n",
       "      <td>33.383333</td>\n",
       "    </tr>\n",
       "    <tr>\n",
       "      <th>24</th>\n",
       "      <td>Mississippi</td>\n",
       "      <td>MS</td>\n",
       "      <td>32.800000</td>\n",
       "    </tr>\n",
       "    <tr>\n",
       "      <th>25</th>\n",
       "      <td>Missouri</td>\n",
       "      <td>MO</td>\n",
       "      <td>33.116667</td>\n",
       "    </tr>\n",
       "    <tr>\n",
       "      <th>26</th>\n",
       "      <td>Montana</td>\n",
       "      <td>MT</td>\n",
       "      <td>33.500000</td>\n",
       "    </tr>\n",
       "    <tr>\n",
       "      <th>27</th>\n",
       "      <td>Nebraska</td>\n",
       "      <td>NE</td>\n",
       "      <td>32.783333</td>\n",
       "    </tr>\n",
       "    <tr>\n",
       "      <th>28</th>\n",
       "      <td>Nevada</td>\n",
       "      <td>NV</td>\n",
       "      <td>34.233333</td>\n",
       "    </tr>\n",
       "    <tr>\n",
       "      <th>29</th>\n",
       "      <td>New Hampshire</td>\n",
       "      <td>NH</td>\n",
       "      <td>34.016667</td>\n",
       "    </tr>\n",
       "    <tr>\n",
       "      <th>30</th>\n",
       "      <td>New Jersey</td>\n",
       "      <td>NJ</td>\n",
       "      <td>34.216667</td>\n",
       "    </tr>\n",
       "    <tr>\n",
       "      <th>31</th>\n",
       "      <td>New Mexico</td>\n",
       "      <td>NM</td>\n",
       "      <td>33.866667</td>\n",
       "    </tr>\n",
       "    <tr>\n",
       "      <th>32</th>\n",
       "      <td>New York</td>\n",
       "      <td>NY</td>\n",
       "      <td>34.316667</td>\n",
       "    </tr>\n",
       "    <tr>\n",
       "      <th>33</th>\n",
       "      <td>North Carolina</td>\n",
       "      <td>NC</td>\n",
       "      <td>33.683333</td>\n",
       "    </tr>\n",
       "    <tr>\n",
       "      <th>34</th>\n",
       "      <td>North Dakota</td>\n",
       "      <td>ND</td>\n",
       "      <td>32.383333</td>\n",
       "    </tr>\n",
       "    <tr>\n",
       "      <th>35</th>\n",
       "      <td>Ohio</td>\n",
       "      <td>OH</td>\n",
       "      <td>33.066667</td>\n",
       "    </tr>\n",
       "    <tr>\n",
       "      <th>36</th>\n",
       "      <td>Oklahoma</td>\n",
       "      <td>OK</td>\n",
       "      <td>32.833333</td>\n",
       "    </tr>\n",
       "    <tr>\n",
       "      <th>37</th>\n",
       "      <td>Oregon</td>\n",
       "      <td>OR</td>\n",
       "      <td>34.200000</td>\n",
       "    </tr>\n",
       "    <tr>\n",
       "      <th>38</th>\n",
       "      <td>Pennsylvania</td>\n",
       "      <td>PA</td>\n",
       "      <td>33.650000</td>\n",
       "    </tr>\n",
       "    <tr>\n",
       "      <th>39</th>\n",
       "      <td>Rhode Island</td>\n",
       "      <td>RI</td>\n",
       "      <td>34.016667</td>\n",
       "    </tr>\n",
       "    <tr>\n",
       "      <th>40</th>\n",
       "      <td>South Carolina</td>\n",
       "      <td>SC</td>\n",
       "      <td>33.216667</td>\n",
       "    </tr>\n",
       "    <tr>\n",
       "      <th>41</th>\n",
       "      <td>South Dakota</td>\n",
       "      <td>SD</td>\n",
       "      <td>32.283333</td>\n",
       "    </tr>\n",
       "    <tr>\n",
       "      <th>42</th>\n",
       "      <td>Tennessee</td>\n",
       "      <td>TN</td>\n",
       "      <td>33.283333</td>\n",
       "    </tr>\n",
       "    <tr>\n",
       "      <th>43</th>\n",
       "      <td>Texas</td>\n",
       "      <td>TX</td>\n",
       "      <td>33.600000</td>\n",
       "    </tr>\n",
       "    <tr>\n",
       "      <th>44</th>\n",
       "      <td>Utah</td>\n",
       "      <td>UT</td>\n",
       "      <td>33.500000</td>\n",
       "    </tr>\n",
       "    <tr>\n",
       "      <th>45</th>\n",
       "      <td>Vermont</td>\n",
       "      <td>VT</td>\n",
       "      <td>34.116667</td>\n",
       "    </tr>\n",
       "    <tr>\n",
       "      <th>46</th>\n",
       "      <td>Virginia</td>\n",
       "      <td>VA</td>\n",
       "      <td>34.183333</td>\n",
       "    </tr>\n",
       "    <tr>\n",
       "      <th>47</th>\n",
       "      <td>Washington</td>\n",
       "      <td>WA</td>\n",
       "      <td>34.366667</td>\n",
       "    </tr>\n",
       "    <tr>\n",
       "      <th>48</th>\n",
       "      <td>West Virginia</td>\n",
       "      <td>WV</td>\n",
       "      <td>32.866667</td>\n",
       "    </tr>\n",
       "    <tr>\n",
       "      <th>49</th>\n",
       "      <td>Wisconsin</td>\n",
       "      <td>WI</td>\n",
       "      <td>33.233333</td>\n",
       "    </tr>\n",
       "    <tr>\n",
       "      <th>50</th>\n",
       "      <td>Wyoming</td>\n",
       "      <td>WY</td>\n",
       "      <td>33.283333</td>\n",
       "    </tr>\n",
       "  </tbody>\n",
       "</table>\n",
       "</div>"
      ],
      "text/plain": [
       "                   State State Abbreviation  Average Age of Mother (years)\n",
       "0                Alabama                 AL                      33.083333\n",
       "1                 Alaska                 AK                      34.100000\n",
       "2                Arizona                 AZ                      33.683333\n",
       "3               Arkansas                 AR                      32.483333\n",
       "4             California                 CA                      34.733333\n",
       "5               Colorado                 CO                      34.283333\n",
       "6            Connecticut                 CT                      34.266667\n",
       "7               Delaware                 DE                      33.683333\n",
       "8   District of Columbia                 DC                      35.116667\n",
       "9                Florida                 FL                      33.683333\n",
       "10               Georgia                 GA                      33.850000\n",
       "11                Hawaii                 HI                      34.533333\n",
       "12                 Idaho                 ID                      33.400000\n",
       "13              Illinois                 IL                      33.816667\n",
       "14               Indiana                 IN                      33.233333\n",
       "15                  Iowa                 IA                      32.633333\n",
       "16                Kansas                 KS                      32.966667\n",
       "17              Kentucky                 KY                      32.833333\n",
       "18             Louisiana                 LA                      33.133333\n",
       "19                 Maine                 ME                      33.466667\n",
       "20              Maryland                 MD                      34.500000\n",
       "21         Massachusetts                 MA                      34.400000\n",
       "22              Michigan                 MI                      33.166667\n",
       "23             Minnesota                 MN                      33.383333\n",
       "24           Mississippi                 MS                      32.800000\n",
       "25              Missouri                 MO                      33.116667\n",
       "26               Montana                 MT                      33.500000\n",
       "27              Nebraska                 NE                      32.783333\n",
       "28                Nevada                 NV                      34.233333\n",
       "29         New Hampshire                 NH                      34.016667\n",
       "30            New Jersey                 NJ                      34.216667\n",
       "31            New Mexico                 NM                      33.866667\n",
       "32              New York                 NY                      34.316667\n",
       "33        North Carolina                 NC                      33.683333\n",
       "34          North Dakota                 ND                      32.383333\n",
       "35                  Ohio                 OH                      33.066667\n",
       "36              Oklahoma                 OK                      32.833333\n",
       "37                Oregon                 OR                      34.200000\n",
       "38          Pennsylvania                 PA                      33.650000\n",
       "39          Rhode Island                 RI                      34.016667\n",
       "40        South Carolina                 SC                      33.216667\n",
       "41          South Dakota                 SD                      32.283333\n",
       "42             Tennessee                 TN                      33.283333\n",
       "43                 Texas                 TX                      33.600000\n",
       "44                  Utah                 UT                      33.500000\n",
       "45               Vermont                 VT                      34.116667\n",
       "46              Virginia                 VA                      34.183333\n",
       "47            Washington                 WA                      34.366667\n",
       "48         West Virginia                 WV                      32.866667\n",
       "49             Wisconsin                 WI                      33.233333\n",
       "50               Wyoming                 WY                      33.283333"
      ]
     },
     "execution_count": 8,
     "metadata": {},
     "output_type": "execute_result"
    }
   ],
   "source": [
    "df_avg_age = pd.read_csv(\"us_births_2016_2021_updated.csv\")\n",
    "df_avg_age = df_avg_age[df_avg_age['Year'].between(2016, 2018) & (df_avg_age['Education Level of Mother'] == 'Doctorate')].groupby(['State', 'State Abbreviation'])['Average Age of Mother (years)'].mean().reset_index()\n",
    "df_avg_age"
   ]
  },
  {
   "cell_type": "code",
   "execution_count": 3,
   "metadata": {},
   "outputs": [
    {
     "data": {
      "text/html": [
       "<div>\n",
       "<style scoped>\n",
       "    .dataframe tbody tr th:only-of-type {\n",
       "        vertical-align: middle;\n",
       "    }\n",
       "\n",
       "    .dataframe tbody tr th {\n",
       "        vertical-align: top;\n",
       "    }\n",
       "\n",
       "    .dataframe thead th {\n",
       "        text-align: right;\n",
       "    }\n",
       "</style>\n",
       "<table border=\"1\" class=\"dataframe\">\n",
       "  <thead>\n",
       "    <tr style=\"text-align: right;\">\n",
       "      <th></th>\n",
       "      <th>State</th>\n",
       "      <th>State Abbreviation</th>\n",
       "      <th>Education Level of Mother</th>\n",
       "      <th>Year</th>\n",
       "      <th>Number of Births</th>\n",
       "      <th>Total Births in State</th>\n",
       "      <th>Average Age of Mother (years)</th>\n",
       "    </tr>\n",
       "  </thead>\n",
       "  <tbody>\n",
       "    <tr>\n",
       "      <th>0</th>\n",
       "      <td>Alabama</td>\n",
       "      <td>AL</td>\n",
       "      <td>9th &gt; 12th Grade</td>\n",
       "      <td>2016</td>\n",
       "      <td>7093</td>\n",
       "      <td>59151</td>\n",
       "      <td>24.00</td>\n",
       "    </tr>\n",
       "    <tr>\n",
       "      <th>1</th>\n",
       "      <td>Alabama</td>\n",
       "      <td>AL</td>\n",
       "      <td>&gt; 8th Grade</td>\n",
       "      <td>2016</td>\n",
       "      <td>2240</td>\n",
       "      <td>59151</td>\n",
       "      <td>27.70</td>\n",
       "    </tr>\n",
       "    <tr>\n",
       "      <th>2</th>\n",
       "      <td>Alabama</td>\n",
       "      <td>AL</td>\n",
       "      <td>Associate Degree</td>\n",
       "      <td>2016</td>\n",
       "      <td>4687</td>\n",
       "      <td>59151</td>\n",
       "      <td>28.95</td>\n",
       "    </tr>\n",
       "    <tr>\n",
       "      <th>3</th>\n",
       "      <td>Alabama</td>\n",
       "      <td>AL</td>\n",
       "      <td>Bahcelor's Degree</td>\n",
       "      <td>2016</td>\n",
       "      <td>9098</td>\n",
       "      <td>59151</td>\n",
       "      <td>30.30</td>\n",
       "    </tr>\n",
       "    <tr>\n",
       "      <th>4</th>\n",
       "      <td>Alabama</td>\n",
       "      <td>AL</td>\n",
       "      <td>Doctorate</td>\n",
       "      <td>2016</td>\n",
       "      <td>998</td>\n",
       "      <td>59151</td>\n",
       "      <td>32.95</td>\n",
       "    </tr>\n",
       "    <tr>\n",
       "      <th>...</th>\n",
       "      <td>...</td>\n",
       "      <td>...</td>\n",
       "      <td>...</td>\n",
       "      <td>...</td>\n",
       "      <td>...</td>\n",
       "      <td>...</td>\n",
       "      <td>...</td>\n",
       "    </tr>\n",
       "    <tr>\n",
       "      <th>2745</th>\n",
       "      <td>Wyoming</td>\n",
       "      <td>WY</td>\n",
       "      <td>Doctorate</td>\n",
       "      <td>2021</td>\n",
       "      <td>137</td>\n",
       "      <td>6237</td>\n",
       "      <td>33.45</td>\n",
       "    </tr>\n",
       "    <tr>\n",
       "      <th>2746</th>\n",
       "      <td>Wyoming</td>\n",
       "      <td>WY</td>\n",
       "      <td>High School Grad</td>\n",
       "      <td>2021</td>\n",
       "      <td>1483</td>\n",
       "      <td>6237</td>\n",
       "      <td>25.95</td>\n",
       "    </tr>\n",
       "    <tr>\n",
       "      <th>2747</th>\n",
       "      <td>Wyoming</td>\n",
       "      <td>WY</td>\n",
       "      <td>Master's Degree</td>\n",
       "      <td>2021</td>\n",
       "      <td>471</td>\n",
       "      <td>6237</td>\n",
       "      <td>32.75</td>\n",
       "    </tr>\n",
       "    <tr>\n",
       "      <th>2748</th>\n",
       "      <td>Wyoming</td>\n",
       "      <td>WY</td>\n",
       "      <td>Some College Credit</td>\n",
       "      <td>2021</td>\n",
       "      <td>1491</td>\n",
       "      <td>6237</td>\n",
       "      <td>27.45</td>\n",
       "    </tr>\n",
       "    <tr>\n",
       "      <th>2749</th>\n",
       "      <td>Wyoming</td>\n",
       "      <td>WY</td>\n",
       "      <td>Unknown</td>\n",
       "      <td>2021</td>\n",
       "      <td>81</td>\n",
       "      <td>6237</td>\n",
       "      <td>29.60</td>\n",
       "    </tr>\n",
       "  </tbody>\n",
       "</table>\n",
       "<p>2750 rows × 7 columns</p>\n",
       "</div>"
      ],
      "text/plain": [
       "        State State Abbreviation Education Level of Mother  Year  \\\n",
       "0     Alabama                 AL          9th > 12th Grade  2016   \n",
       "1     Alabama                 AL               > 8th Grade  2016   \n",
       "2     Alabama                 AL          Associate Degree  2016   \n",
       "3     Alabama                 AL         Bahcelor's Degree  2016   \n",
       "4     Alabama                 AL                 Doctorate  2016   \n",
       "...       ...                ...                       ...   ...   \n",
       "2745  Wyoming                 WY                 Doctorate  2021   \n",
       "2746  Wyoming                 WY          High School Grad  2021   \n",
       "2747  Wyoming                 WY           Master's Degree  2021   \n",
       "2748  Wyoming                 WY       Some College Credit  2021   \n",
       "2749  Wyoming                 WY                   Unknown  2021   \n",
       "\n",
       "      Number of Births  Total Births in State  Average Age of Mother (years)  \n",
       "0                 7093                  59151                          24.00  \n",
       "1                 2240                  59151                          27.70  \n",
       "2                 4687                  59151                          28.95  \n",
       "3                 9098                  59151                          30.30  \n",
       "4                  998                  59151                          32.95  \n",
       "...                ...                    ...                            ...  \n",
       "2745               137                   6237                          33.45  \n",
       "2746              1483                   6237                          25.95  \n",
       "2747               471                   6237                          32.75  \n",
       "2748              1491                   6237                          27.45  \n",
       "2749                81                   6237                          29.60  \n",
       "\n",
       "[2750 rows x 7 columns]"
      ]
     },
     "execution_count": 3,
     "metadata": {},
     "output_type": "execute_result"
    }
   ],
   "source": [
    "single_state = pd.read_csv(\"us_births_2016_2021_updated.csv\")\n",
    "single_state"
   ]
  },
  {
   "cell_type": "code",
   "execution_count": null,
   "metadata": {},
   "outputs": [],
   "source": []
  }
 ],
 "metadata": {
  "kernelspec": {
   "display_name": "base",
   "language": "python",
   "name": "python3"
  },
  "language_info": {
   "codemirror_mode": {
    "name": "ipython",
    "version": 3
   },
   "file_extension": ".py",
   "mimetype": "text/x-python",
   "name": "python",
   "nbconvert_exporter": "python",
   "pygments_lexer": "ipython3",
   "version": "3.9.13"
  },
  "orig_nbformat": 4
 },
 "nbformat": 4,
 "nbformat_minor": 2
}
