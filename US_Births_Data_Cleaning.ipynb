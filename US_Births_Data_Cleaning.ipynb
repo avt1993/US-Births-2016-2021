{
 "cells": [
  {
   "cell_type": "code",
   "execution_count": 2,
   "metadata": {},
   "outputs": [],
   "source": [
    "import pandas as pd\n",
    "import plotly.express as px\n",
    "import json\n",
    "import plotly.graph_objects as go"
   ]
  },
  {
   "cell_type": "code",
   "execution_count": 45,
   "metadata": {},
   "outputs": [
    {
     "data": {
      "text/html": [
       "<div>\n",
       "<style scoped>\n",
       "    .dataframe tbody tr th:only-of-type {\n",
       "        vertical-align: middle;\n",
       "    }\n",
       "\n",
       "    .dataframe tbody tr th {\n",
       "        vertical-align: top;\n",
       "    }\n",
       "\n",
       "    .dataframe thead th {\n",
       "        text-align: right;\n",
       "    }\n",
       "</style>\n",
       "<table border=\"1\" class=\"dataframe\">\n",
       "  <thead>\n",
       "    <tr style=\"text-align: right;\">\n",
       "      <th></th>\n",
       "      <th>State</th>\n",
       "      <th>State Abbreviation</th>\n",
       "      <th>Year</th>\n",
       "      <th>Gender</th>\n",
       "      <th>Education Level of Mother</th>\n",
       "      <th>Education Level Code</th>\n",
       "      <th>Number of Births</th>\n",
       "      <th>Average Age of Mother (years)</th>\n",
       "      <th>Average Birth Weight (g)</th>\n",
       "    </tr>\n",
       "  </thead>\n",
       "  <tbody>\n",
       "    <tr>\n",
       "      <th>0</th>\n",
       "      <td>Alabama</td>\n",
       "      <td>AL</td>\n",
       "      <td>2016</td>\n",
       "      <td>F</td>\n",
       "      <td>&gt; 8th Grade</td>\n",
       "      <td>1</td>\n",
       "      <td>1052</td>\n",
       "      <td>27.8</td>\n",
       "      <td>3116.9</td>\n",
       "    </tr>\n",
       "    <tr>\n",
       "      <th>1</th>\n",
       "      <td>Alabama</td>\n",
       "      <td>AL</td>\n",
       "      <td>2016</td>\n",
       "      <td>F</td>\n",
       "      <td>9th &gt; 12th Grade</td>\n",
       "      <td>2</td>\n",
       "      <td>3436</td>\n",
       "      <td>24.1</td>\n",
       "      <td>3040.0</td>\n",
       "    </tr>\n",
       "    <tr>\n",
       "      <th>2</th>\n",
       "      <td>Alabama</td>\n",
       "      <td>AL</td>\n",
       "      <td>2016</td>\n",
       "      <td>F</td>\n",
       "      <td>High School Grad</td>\n",
       "      <td>3</td>\n",
       "      <td>8777</td>\n",
       "      <td>25.4</td>\n",
       "      <td>3080.0</td>\n",
       "    </tr>\n",
       "    <tr>\n",
       "      <th>3</th>\n",
       "      <td>Alabama</td>\n",
       "      <td>AL</td>\n",
       "      <td>2016</td>\n",
       "      <td>F</td>\n",
       "      <td>Some College Credit</td>\n",
       "      <td>4</td>\n",
       "      <td>6453</td>\n",
       "      <td>26.7</td>\n",
       "      <td>3121.9</td>\n",
       "    </tr>\n",
       "    <tr>\n",
       "      <th>4</th>\n",
       "      <td>Alabama</td>\n",
       "      <td>AL</td>\n",
       "      <td>2016</td>\n",
       "      <td>F</td>\n",
       "      <td>Associate Degree</td>\n",
       "      <td>5</td>\n",
       "      <td>2227</td>\n",
       "      <td>28.9</td>\n",
       "      <td>3174.3</td>\n",
       "    </tr>\n",
       "  </tbody>\n",
       "</table>\n",
       "</div>"
      ],
      "text/plain": [
       "     State State Abbreviation  Year Gender Education Level of Mother  \\\n",
       "0  Alabama                 AL  2016      F               > 8th Grade   \n",
       "1  Alabama                 AL  2016      F          9th > 12th Grade   \n",
       "2  Alabama                 AL  2016      F          High School Grad   \n",
       "3  Alabama                 AL  2016      F       Some College Credit   \n",
       "4  Alabama                 AL  2016      F          Associate Degree   \n",
       "\n",
       "   Education Level Code  Number of Births  Average Age of Mother (years)  \\\n",
       "0                     1              1052                           27.8   \n",
       "1                     2              3436                           24.1   \n",
       "2                     3              8777                           25.4   \n",
       "3                     4              6453                           26.7   \n",
       "4                     5              2227                           28.9   \n",
       "\n",
       "   Average Birth Weight (g)  \n",
       "0                    3116.9  \n",
       "1                    3040.0  \n",
       "2                    3080.0  \n",
       "3                    3121.9  \n",
       "4                    3174.3  "
      ]
     },
     "execution_count": 45,
     "metadata": {},
     "output_type": "execute_result"
    }
   ],
   "source": [
    "us_births = pd.read_csv('https://raw.githubusercontent.com/avt1993/US-Births-2016-2021/main/us_births_2016_2021.csv')\n",
    "us_births.head()\n",
    "#us_births.dtypes"
   ]
  },
  {
   "cell_type": "code",
   "execution_count": 47,
   "metadata": {},
   "outputs": [
    {
     "data": {
      "text/html": [
       "<div>\n",
       "<style scoped>\n",
       "    .dataframe tbody tr th:only-of-type {\n",
       "        vertical-align: middle;\n",
       "    }\n",
       "\n",
       "    .dataframe tbody tr th {\n",
       "        vertical-align: top;\n",
       "    }\n",
       "\n",
       "    .dataframe thead th {\n",
       "        text-align: right;\n",
       "    }\n",
       "</style>\n",
       "<table border=\"1\" class=\"dataframe\">\n",
       "  <thead>\n",
       "    <tr style=\"text-align: right;\">\n",
       "      <th></th>\n",
       "      <th>State</th>\n",
       "      <th>State Abbreviation</th>\n",
       "      <th>Education Level of Mother</th>\n",
       "      <th>Year</th>\n",
       "      <th>Number of Births_by ed level</th>\n",
       "      <th>Number of Births_by state</th>\n",
       "      <th>Percentage of Births by State</th>\n",
       "    </tr>\n",
       "  </thead>\n",
       "  <tbody>\n",
       "    <tr>\n",
       "      <th>0</th>\n",
       "      <td>Alabama</td>\n",
       "      <td>AL</td>\n",
       "      <td>9th &gt; 12th Grade</td>\n",
       "      <td>2016</td>\n",
       "      <td>7093</td>\n",
       "      <td>59151</td>\n",
       "      <td>11.99</td>\n",
       "    </tr>\n",
       "    <tr>\n",
       "      <th>1</th>\n",
       "      <td>Alabama</td>\n",
       "      <td>AL</td>\n",
       "      <td>&gt; 8th Grade</td>\n",
       "      <td>2016</td>\n",
       "      <td>2240</td>\n",
       "      <td>59151</td>\n",
       "      <td>3.79</td>\n",
       "    </tr>\n",
       "    <tr>\n",
       "      <th>2</th>\n",
       "      <td>Alabama</td>\n",
       "      <td>AL</td>\n",
       "      <td>Associate Degree</td>\n",
       "      <td>2016</td>\n",
       "      <td>4687</td>\n",
       "      <td>59151</td>\n",
       "      <td>7.92</td>\n",
       "    </tr>\n",
       "    <tr>\n",
       "      <th>3</th>\n",
       "      <td>Alabama</td>\n",
       "      <td>AL</td>\n",
       "      <td>Bahcelor's Degree</td>\n",
       "      <td>2016</td>\n",
       "      <td>9098</td>\n",
       "      <td>59151</td>\n",
       "      <td>15.38</td>\n",
       "    </tr>\n",
       "    <tr>\n",
       "      <th>4</th>\n",
       "      <td>Alabama</td>\n",
       "      <td>AL</td>\n",
       "      <td>Doctorate</td>\n",
       "      <td>2016</td>\n",
       "      <td>998</td>\n",
       "      <td>59151</td>\n",
       "      <td>1.69</td>\n",
       "    </tr>\n",
       "  </tbody>\n",
       "</table>\n",
       "</div>"
      ],
      "text/plain": [
       "     State State Abbreviation Education Level of Mother  Year  \\\n",
       "0  Alabama                 AL          9th > 12th Grade  2016   \n",
       "1  Alabama                 AL               > 8th Grade  2016   \n",
       "2  Alabama                 AL          Associate Degree  2016   \n",
       "3  Alabama                 AL         Bahcelor's Degree  2016   \n",
       "4  Alabama                 AL                 Doctorate  2016   \n",
       "\n",
       "   Number of Births_by ed level  Number of Births_by state  \\\n",
       "0                          7093                      59151   \n",
       "1                          2240                      59151   \n",
       "2                          4687                      59151   \n",
       "3                          9098                      59151   \n",
       "4                           998                      59151   \n",
       "\n",
       "   Percentage of Births by State  \n",
       "0                          11.99  \n",
       "1                           3.79  \n",
       "2                           7.92  \n",
       "3                          15.38  \n",
       "4                           1.69  "
      ]
     },
     "execution_count": 47,
     "metadata": {},
     "output_type": "execute_result"
    }
   ],
   "source": [
    "df = pd.read_csv('us_births_2016_2021_updated.csv')\n",
    "df = df.rename(columns={'Percentage of Births by Education Level': 'Percentage of Births by State'})\n",
    "df.head()"
   ]
  },
  {
   "cell_type": "code",
   "execution_count": 48,
   "metadata": {},
   "outputs": [],
   "source": [
    "df.to_csv('us_births_2016_2021_updated.csv', index = False)"
   ]
  },
  {
   "cell_type": "code",
   "execution_count": 17,
   "metadata": {},
   "outputs": [],
   "source": [
    "us_births['Education Level of Mother'] = us_births['Education Level of Mother'].replace('8th grade or less', '> 8th Grade')\n",
    "us_births['Education Level of Mother'] = us_births['Education Level of Mother'].replace('9th through 12th grade with no diploma', '9th > 12th Grade')\n",
    "us_births['Education Level of Mother'] = us_births['Education Level of Mother'].replace('High school graduate or GED completed', 'High School Grad')\n",
    "us_births['Education Level of Mother'] = us_births['Education Level of Mother'].replace('Some college credit, but not a degree', 'Some College Credit')\n",
    "us_births['Education Level of Mother'] = us_births['Education Level of Mother'].replace('Associate degree (AA, AS)', 'Associate Degree')\n",
    "us_births['Education Level of Mother'] = us_births['Education Level of Mother'].replace(\"Bachelor's degree (BA, AB, BS)\", \"Bahcelor's Degree\")\n",
    "us_births['Education Level of Mother'] = us_births['Education Level of Mother'].replace(\"Master's degree (MA, MS, MEng, MEd, MSW, MBA)\", \"Master's Degree\")\n",
    "us_births['Education Level of Mother'] = us_births['Education Level of Mother'].replace('Doctorate (PhD, EdD) or Professional Degree (MD, DDS, DVM, LLB, JD)', 'Doctorate')\n",
    "us_births['Education Level of Mother'] = us_births['Education Level of Mother'].replace('Unknown or Not Stated', 'Unknown')\n",
    "\n",
    "\n",
    "\n",
    "\n",
    "\n",
    "\n"
   ]
  },
  {
   "cell_type": "code",
   "execution_count": 13,
   "metadata": {},
   "outputs": [],
   "source": [
    "us_births.to_csv('us_births_2016_2021.csv', index = False)"
   ]
  },
  {
   "cell_type": "code",
   "execution_count": 5,
   "metadata": {},
   "outputs": [
    {
     "data": {
      "text/html": [
       "<div>\n",
       "<style scoped>\n",
       "    .dataframe tbody tr th:only-of-type {\n",
       "        vertical-align: middle;\n",
       "    }\n",
       "\n",
       "    .dataframe tbody tr th {\n",
       "        vertical-align: top;\n",
       "    }\n",
       "\n",
       "    .dataframe thead th {\n",
       "        text-align: right;\n",
       "    }\n",
       "</style>\n",
       "<table border=\"1\" class=\"dataframe\">\n",
       "  <thead>\n",
       "    <tr style=\"text-align: right;\">\n",
       "      <th></th>\n",
       "      <th>State</th>\n",
       "      <th>Year</th>\n",
       "      <th>Total Births</th>\n",
       "    </tr>\n",
       "  </thead>\n",
       "  <tbody>\n",
       "    <tr>\n",
       "      <th>0</th>\n",
       "      <td>Alabama</td>\n",
       "      <td>2016</td>\n",
       "      <td>2240</td>\n",
       "    </tr>\n",
       "    <tr>\n",
       "      <th>1</th>\n",
       "      <td>Alabama</td>\n",
       "      <td>2017</td>\n",
       "      <td>1990</td>\n",
       "    </tr>\n",
       "    <tr>\n",
       "      <th>2</th>\n",
       "      <td>Alabama</td>\n",
       "      <td>2018</td>\n",
       "      <td>1856</td>\n",
       "    </tr>\n",
       "    <tr>\n",
       "      <th>3</th>\n",
       "      <td>Alabama</td>\n",
       "      <td>2019</td>\n",
       "      <td>2350</td>\n",
       "    </tr>\n",
       "    <tr>\n",
       "      <th>4</th>\n",
       "      <td>Alabama</td>\n",
       "      <td>2020</td>\n",
       "      <td>2294</td>\n",
       "    </tr>\n",
       "    <tr>\n",
       "      <th>...</th>\n",
       "      <td>...</td>\n",
       "      <td>...</td>\n",
       "      <td>...</td>\n",
       "    </tr>\n",
       "    <tr>\n",
       "      <th>301</th>\n",
       "      <td>Wyoming</td>\n",
       "      <td>2017</td>\n",
       "      <td>80</td>\n",
       "    </tr>\n",
       "    <tr>\n",
       "      <th>302</th>\n",
       "      <td>Wyoming</td>\n",
       "      <td>2018</td>\n",
       "      <td>80</td>\n",
       "    </tr>\n",
       "    <tr>\n",
       "      <th>303</th>\n",
       "      <td>Wyoming</td>\n",
       "      <td>2019</td>\n",
       "      <td>59</td>\n",
       "    </tr>\n",
       "    <tr>\n",
       "      <th>304</th>\n",
       "      <td>Wyoming</td>\n",
       "      <td>2020</td>\n",
       "      <td>63</td>\n",
       "    </tr>\n",
       "    <tr>\n",
       "      <th>305</th>\n",
       "      <td>Wyoming</td>\n",
       "      <td>2021</td>\n",
       "      <td>69</td>\n",
       "    </tr>\n",
       "  </tbody>\n",
       "</table>\n",
       "<p>306 rows × 3 columns</p>\n",
       "</div>"
      ],
      "text/plain": [
       "       State  Year  Total Births\n",
       "0    Alabama  2016          2240\n",
       "1    Alabama  2017          1990\n",
       "2    Alabama  2018          1856\n",
       "3    Alabama  2019          2350\n",
       "4    Alabama  2020          2294\n",
       "..       ...   ...           ...\n",
       "301  Wyoming  2017            80\n",
       "302  Wyoming  2018            80\n",
       "303  Wyoming  2019            59\n",
       "304  Wyoming  2020            63\n",
       "305  Wyoming  2021            69\n",
       "\n",
       "[306 rows x 3 columns]"
      ]
     },
     "execution_count": 5,
     "metadata": {},
     "output_type": "execute_result"
    }
   ],
   "source": [
    "year_selected = 2020\n",
    "state_selected = \"California\"\n",
    "ed_level_code_selected = 1\n",
    "grouped_df = us_births[us_births['Education Level Code'] == 1]\n",
    "filtered_df = us_births[(us_births['State'] == state_selected) & (us_births['Year'] == year_selected) & (us_births['Education Level Code'] == ed_level_code_selected)]\n",
    "\n",
    "new_df = us_births[us_births['Education Level Code'] == 1].groupby(['State', 'Year'])['Number of Births'].sum().reset_index(name = 'Total Births')\n",
    "new_df\n"
   ]
  },
  {
   "cell_type": "code",
   "execution_count": 8,
   "metadata": {},
   "outputs": [
    {
     "data": {
      "text/plain": [
       "420259"
      ]
     },
     "execution_count": 8,
     "metadata": {},
     "output_type": "execute_result"
    }
   ],
   "source": [
    "year_selected = 2020\n",
    "state_selected = \"California\"\n",
    "\n",
    "education_level_list = us_births['Education Level of Mother'].unique().tolist()\n",
    "education_level_list\n",
    "\n",
    "total_births = us_births[(us_births['State'] == state_selected) & (us_births['Year'] == year_selected)]['Number of Births'].sum()\n",
    "total_births\n",
    "\n",
    "\n",
    "\n",
    "\n",
    "\n"
   ]
  },
  {
   "cell_type": "code",
   "execution_count": 13,
   "metadata": {},
   "outputs": [
    {
     "data": {
      "text/html": [
       "<div>\n",
       "<style scoped>\n",
       "    .dataframe tbody tr th:only-of-type {\n",
       "        vertical-align: middle;\n",
       "    }\n",
       "\n",
       "    .dataframe tbody tr th {\n",
       "        vertical-align: top;\n",
       "    }\n",
       "\n",
       "    .dataframe thead th {\n",
       "        text-align: right;\n",
       "    }\n",
       "</style>\n",
       "<table border=\"1\" class=\"dataframe\">\n",
       "  <thead>\n",
       "    <tr style=\"text-align: right;\">\n",
       "      <th></th>\n",
       "      <th>Education Level of Mother</th>\n",
       "      <th>Number of Births</th>\n",
       "      <th>Birth Percentage</th>\n",
       "    </tr>\n",
       "  </thead>\n",
       "  <tbody>\n",
       "    <tr>\n",
       "      <th>0</th>\n",
       "      <td>9th &gt; 12th Grade</td>\n",
       "      <td>31227</td>\n",
       "      <td>7.430418</td>\n",
       "    </tr>\n",
       "    <tr>\n",
       "      <th>1</th>\n",
       "      <td>&gt; 8th Grade</td>\n",
       "      <td>13407</td>\n",
       "      <td>3.190176</td>\n",
       "    </tr>\n",
       "    <tr>\n",
       "      <th>2</th>\n",
       "      <td>Associate Degree</td>\n",
       "      <td>28365</td>\n",
       "      <td>6.749409</td>\n",
       "    </tr>\n",
       "    <tr>\n",
       "      <th>3</th>\n",
       "      <td>Bahcelor's Degree</td>\n",
       "      <td>86356</td>\n",
       "      <td>20.548281</td>\n",
       "    </tr>\n",
       "    <tr>\n",
       "      <th>4</th>\n",
       "      <td>Doctorate</td>\n",
       "      <td>13535</td>\n",
       "      <td>3.220633</td>\n",
       "    </tr>\n",
       "    <tr>\n",
       "      <th>5</th>\n",
       "      <td>High School Grad</td>\n",
       "      <td>99814</td>\n",
       "      <td>23.750592</td>\n",
       "    </tr>\n",
       "    <tr>\n",
       "      <th>6</th>\n",
       "      <td>Master's Degree</td>\n",
       "      <td>40136</td>\n",
       "      <td>9.550301</td>\n",
       "    </tr>\n",
       "    <tr>\n",
       "      <th>7</th>\n",
       "      <td>Some College Credit</td>\n",
       "      <td>78868</td>\n",
       "      <td>18.766523</td>\n",
       "    </tr>\n",
       "    <tr>\n",
       "      <th>8</th>\n",
       "      <td>Unknown</td>\n",
       "      <td>28551</td>\n",
       "      <td>6.793668</td>\n",
       "    </tr>\n",
       "  </tbody>\n",
       "</table>\n",
       "</div>"
      ],
      "text/plain": [
       "  Education Level of Mother  Number of Births  Birth Percentage\n",
       "0          9th > 12th Grade             31227          7.430418\n",
       "1               > 8th Grade             13407          3.190176\n",
       "2          Associate Degree             28365          6.749409\n",
       "3         Bahcelor's Degree             86356         20.548281\n",
       "4                 Doctorate             13535          3.220633\n",
       "5          High School Grad             99814         23.750592\n",
       "6           Master's Degree             40136          9.550301\n",
       "7       Some College Credit             78868         18.766523\n",
       "8                   Unknown             28551          6.793668"
      ]
     },
     "execution_count": 13,
     "metadata": {},
     "output_type": "execute_result"
    }
   ],
   "source": [
    "df_by_ed_level = us_births[(us_births['State'] == state_selected) & (us_births['Year'] == year_selected)].groupby('Education Level of Mother')['Number of Births'].sum().reset_index()\n",
    "df_by_ed_level['Birth Percentage'] = (df_by_ed_level['Number of Births'] / total_births) * 100\n",
    "df_by_ed_level\n"
   ]
  },
  {
   "cell_type": "code",
   "execution_count": 28,
   "metadata": {},
   "outputs": [
    {
     "ename": "NameError",
     "evalue": "name 'year_selected' is not defined",
     "output_type": "error",
     "traceback": [
      "\u001b[0;31m---------------------------------------------------------------------------\u001b[0m",
      "\u001b[0;31mNameError\u001b[0m                                 Traceback (most recent call last)",
      "\u001b[0;32m/var/folders/0p/ymgcc2_s2fz5y2m7s2hb1dzw0000gn/T/ipykernel_2922/960284135.py\u001b[0m in \u001b[0;36m<module>\u001b[0;34m\u001b[0m\n\u001b[0;32m----> 1\u001b[0;31m \u001b[0mdf_state_totals\u001b[0m \u001b[0;34m=\u001b[0m \u001b[0mus_births\u001b[0m\u001b[0;34m[\u001b[0m\u001b[0;34m(\u001b[0m\u001b[0mus_births\u001b[0m\u001b[0;34m[\u001b[0m\u001b[0;34m'Year'\u001b[0m\u001b[0;34m]\u001b[0m \u001b[0;34m==\u001b[0m \u001b[0myear_selected\u001b[0m\u001b[0;34m)\u001b[0m\u001b[0;34m]\u001b[0m\u001b[0;34m.\u001b[0m\u001b[0mgroupby\u001b[0m\u001b[0;34m(\u001b[0m\u001b[0;34m'State Abbreviation'\u001b[0m\u001b[0;34m)\u001b[0m\u001b[0;34m[\u001b[0m\u001b[0;34m'Number of Births'\u001b[0m\u001b[0;34m]\u001b[0m\u001b[0;34m.\u001b[0m\u001b[0msum\u001b[0m\u001b[0;34m(\u001b[0m\u001b[0;34m)\u001b[0m\u001b[0;34m.\u001b[0m\u001b[0mreset_index\u001b[0m\u001b[0;34m(\u001b[0m\u001b[0;34m)\u001b[0m\u001b[0;34m\u001b[0m\u001b[0;34m\u001b[0m\u001b[0m\n\u001b[0m\u001b[1;32m      2\u001b[0m \u001b[0mdf_state_totals\u001b[0m\u001b[0;34m\u001b[0m\u001b[0;34m\u001b[0m\u001b[0m\n",
      "\u001b[0;31mNameError\u001b[0m: name 'year_selected' is not defined"
     ]
    }
   ],
   "source": [
    "df_state_totals = us_births[(us_births['Year'] == year_selected)].groupby('State Abbreviation')['Number of Births'].sum().reset_index()\n",
    "df_state_totals"
   ]
  },
  {
   "cell_type": "code",
   "execution_count": 19,
   "metadata": {},
   "outputs": [
    {
     "data": {
      "text/html": [
       "<div>\n",
       "<style scoped>\n",
       "    .dataframe tbody tr th:only-of-type {\n",
       "        vertical-align: middle;\n",
       "    }\n",
       "\n",
       "    .dataframe tbody tr th {\n",
       "        vertical-align: top;\n",
       "    }\n",
       "\n",
       "    .dataframe thead th {\n",
       "        text-align: right;\n",
       "    }\n",
       "</style>\n",
       "<table border=\"1\" class=\"dataframe\">\n",
       "  <thead>\n",
       "    <tr style=\"text-align: right;\">\n",
       "      <th></th>\n",
       "      <th>State</th>\n",
       "      <th>Education Level of Mother</th>\n",
       "      <th>Number of Births</th>\n",
       "    </tr>\n",
       "  </thead>\n",
       "  <tbody>\n",
       "    <tr>\n",
       "      <th>0</th>\n",
       "      <td>Alabama</td>\n",
       "      <td>9th &gt; 12th Grade</td>\n",
       "      <td>5612</td>\n",
       "    </tr>\n",
       "    <tr>\n",
       "      <th>1</th>\n",
       "      <td>Alabama</td>\n",
       "      <td>&gt; 8th Grade</td>\n",
       "      <td>2294</td>\n",
       "    </tr>\n",
       "    <tr>\n",
       "      <th>2</th>\n",
       "      <td>Alabama</td>\n",
       "      <td>Associate Degree</td>\n",
       "      <td>5096</td>\n",
       "    </tr>\n",
       "    <tr>\n",
       "      <th>3</th>\n",
       "      <td>Alabama</td>\n",
       "      <td>Bahcelor's Degree</td>\n",
       "      <td>8850</td>\n",
       "    </tr>\n",
       "    <tr>\n",
       "      <th>4</th>\n",
       "      <td>Alabama</td>\n",
       "      <td>Doctorate</td>\n",
       "      <td>1121</td>\n",
       "    </tr>\n",
       "    <tr>\n",
       "      <th>5</th>\n",
       "      <td>Alabama</td>\n",
       "      <td>High School Grad</td>\n",
       "      <td>19011</td>\n",
       "    </tr>\n",
       "    <tr>\n",
       "      <th>6</th>\n",
       "      <td>Alabama</td>\n",
       "      <td>Master's Degree</td>\n",
       "      <td>4076</td>\n",
       "    </tr>\n",
       "    <tr>\n",
       "      <th>7</th>\n",
       "      <td>Alabama</td>\n",
       "      <td>Some College Credit</td>\n",
       "      <td>11508</td>\n",
       "    </tr>\n",
       "    <tr>\n",
       "      <th>8</th>\n",
       "      <td>Alabama</td>\n",
       "      <td>Unknown</td>\n",
       "      <td>79</td>\n",
       "    </tr>\n",
       "    <tr>\n",
       "      <th>9</th>\n",
       "      <td>Alaska</td>\n",
       "      <td>9th &gt; 12th Grade</td>\n",
       "      <td>735</td>\n",
       "    </tr>\n",
       "    <tr>\n",
       "      <th>10</th>\n",
       "      <td>Alaska</td>\n",
       "      <td>&gt; 8th Grade</td>\n",
       "      <td>53</td>\n",
       "    </tr>\n",
       "    <tr>\n",
       "      <th>11</th>\n",
       "      <td>Alaska</td>\n",
       "      <td>Associate Degree</td>\n",
       "      <td>813</td>\n",
       "    </tr>\n",
       "    <tr>\n",
       "      <th>12</th>\n",
       "      <td>Alaska</td>\n",
       "      <td>Bahcelor's Degree</td>\n",
       "      <td>1579</td>\n",
       "    </tr>\n",
       "    <tr>\n",
       "      <th>13</th>\n",
       "      <td>Alaska</td>\n",
       "      <td>Doctorate</td>\n",
       "      <td>230</td>\n",
       "    </tr>\n",
       "    <tr>\n",
       "      <th>14</th>\n",
       "      <td>Alaska</td>\n",
       "      <td>High School Grad</td>\n",
       "      <td>2994</td>\n",
       "    </tr>\n",
       "    <tr>\n",
       "      <th>15</th>\n",
       "      <td>Alaska</td>\n",
       "      <td>Master's Degree</td>\n",
       "      <td>612</td>\n",
       "    </tr>\n",
       "    <tr>\n",
       "      <th>16</th>\n",
       "      <td>Alaska</td>\n",
       "      <td>Some College Credit</td>\n",
       "      <td>2300</td>\n",
       "    </tr>\n",
       "    <tr>\n",
       "      <th>17</th>\n",
       "      <td>Alaska</td>\n",
       "      <td>Unknown</td>\n",
       "      <td>153</td>\n",
       "    </tr>\n",
       "    <tr>\n",
       "      <th>18</th>\n",
       "      <td>Arizona</td>\n",
       "      <td>9th &gt; 12th Grade</td>\n",
       "      <td>9553</td>\n",
       "    </tr>\n",
       "    <tr>\n",
       "      <th>19</th>\n",
       "      <td>Arizona</td>\n",
       "      <td>&gt; 8th Grade</td>\n",
       "      <td>1958</td>\n",
       "    </tr>\n",
       "  </tbody>\n",
       "</table>\n",
       "</div>"
      ],
      "text/plain": [
       "      State Education Level of Mother  Number of Births\n",
       "0   Alabama          9th > 12th Grade              5612\n",
       "1   Alabama               > 8th Grade              2294\n",
       "2   Alabama          Associate Degree              5096\n",
       "3   Alabama         Bahcelor's Degree              8850\n",
       "4   Alabama                 Doctorate              1121\n",
       "5   Alabama          High School Grad             19011\n",
       "6   Alabama           Master's Degree              4076\n",
       "7   Alabama       Some College Credit             11508\n",
       "8   Alabama                   Unknown                79\n",
       "9    Alaska          9th > 12th Grade               735\n",
       "10   Alaska               > 8th Grade                53\n",
       "11   Alaska          Associate Degree               813\n",
       "12   Alaska         Bahcelor's Degree              1579\n",
       "13   Alaska                 Doctorate               230\n",
       "14   Alaska          High School Grad              2994\n",
       "15   Alaska           Master's Degree               612\n",
       "16   Alaska       Some College Credit              2300\n",
       "17   Alaska                   Unknown               153\n",
       "18  Arizona          9th > 12th Grade              9553\n",
       "19  Arizona               > 8th Grade              1958"
      ]
     },
     "execution_count": 19,
     "metadata": {},
     "output_type": "execute_result"
    }
   ],
   "source": [
    "df_by_ed_level_usa = us_births[(us_births['Year'] == year_selected)].groupby(['State', 'Education Level of Mother'])['Number of Births'].sum().reset_index()\n",
    "df_by_ed_level_usa.head(20)"
   ]
  },
  {
   "cell_type": "code",
   "execution_count": 23,
   "metadata": {},
   "outputs": [
    {
     "data": {
      "text/html": [
       "<div>\n",
       "<style scoped>\n",
       "    .dataframe tbody tr th:only-of-type {\n",
       "        vertical-align: middle;\n",
       "    }\n",
       "\n",
       "    .dataframe tbody tr th {\n",
       "        vertical-align: top;\n",
       "    }\n",
       "\n",
       "    .dataframe thead th {\n",
       "        text-align: right;\n",
       "    }\n",
       "</style>\n",
       "<table border=\"1\" class=\"dataframe\">\n",
       "  <thead>\n",
       "    <tr style=\"text-align: right;\">\n",
       "      <th></th>\n",
       "      <th>State</th>\n",
       "      <th>Education Level of Mother</th>\n",
       "      <th>Number of Births_by ed level</th>\n",
       "      <th>Number of Births_by state</th>\n",
       "    </tr>\n",
       "  </thead>\n",
       "  <tbody>\n",
       "    <tr>\n",
       "      <th>0</th>\n",
       "      <td>Alabama</td>\n",
       "      <td>9th &gt; 12th Grade</td>\n",
       "      <td>5612</td>\n",
       "      <td>57647</td>\n",
       "    </tr>\n",
       "    <tr>\n",
       "      <th>1</th>\n",
       "      <td>Alabama</td>\n",
       "      <td>&gt; 8th Grade</td>\n",
       "      <td>2294</td>\n",
       "      <td>57647</td>\n",
       "    </tr>\n",
       "    <tr>\n",
       "      <th>2</th>\n",
       "      <td>Alabama</td>\n",
       "      <td>Associate Degree</td>\n",
       "      <td>5096</td>\n",
       "      <td>57647</td>\n",
       "    </tr>\n",
       "    <tr>\n",
       "      <th>3</th>\n",
       "      <td>Alabama</td>\n",
       "      <td>Bahcelor's Degree</td>\n",
       "      <td>8850</td>\n",
       "      <td>57647</td>\n",
       "    </tr>\n",
       "    <tr>\n",
       "      <th>4</th>\n",
       "      <td>Alabama</td>\n",
       "      <td>Doctorate</td>\n",
       "      <td>1121</td>\n",
       "      <td>57647</td>\n",
       "    </tr>\n",
       "    <tr>\n",
       "      <th>...</th>\n",
       "      <td>...</td>\n",
       "      <td>...</td>\n",
       "      <td>...</td>\n",
       "      <td>...</td>\n",
       "    </tr>\n",
       "    <tr>\n",
       "      <th>453</th>\n",
       "      <td>Wyoming</td>\n",
       "      <td>Doctorate</td>\n",
       "      <td>109</td>\n",
       "      <td>6128</td>\n",
       "    </tr>\n",
       "    <tr>\n",
       "      <th>454</th>\n",
       "      <td>Wyoming</td>\n",
       "      <td>High School Grad</td>\n",
       "      <td>1542</td>\n",
       "      <td>6128</td>\n",
       "    </tr>\n",
       "    <tr>\n",
       "      <th>455</th>\n",
       "      <td>Wyoming</td>\n",
       "      <td>Master's Degree</td>\n",
       "      <td>445</td>\n",
       "      <td>6128</td>\n",
       "    </tr>\n",
       "    <tr>\n",
       "      <th>456</th>\n",
       "      <td>Wyoming</td>\n",
       "      <td>Some College Credit</td>\n",
       "      <td>1514</td>\n",
       "      <td>6128</td>\n",
       "    </tr>\n",
       "    <tr>\n",
       "      <th>457</th>\n",
       "      <td>Wyoming</td>\n",
       "      <td>Unknown</td>\n",
       "      <td>58</td>\n",
       "      <td>6128</td>\n",
       "    </tr>\n",
       "  </tbody>\n",
       "</table>\n",
       "<p>458 rows × 4 columns</p>\n",
       "</div>"
      ],
      "text/plain": [
       "       State Education Level of Mother  Number of Births_by ed level  \\\n",
       "0    Alabama          9th > 12th Grade                          5612   \n",
       "1    Alabama               > 8th Grade                          2294   \n",
       "2    Alabama          Associate Degree                          5096   \n",
       "3    Alabama         Bahcelor's Degree                          8850   \n",
       "4    Alabama                 Doctorate                          1121   \n",
       "..       ...                       ...                           ...   \n",
       "453  Wyoming                 Doctorate                           109   \n",
       "454  Wyoming          High School Grad                          1542   \n",
       "455  Wyoming           Master's Degree                           445   \n",
       "456  Wyoming       Some College Credit                          1514   \n",
       "457  Wyoming                   Unknown                            58   \n",
       "\n",
       "     Number of Births_by state  \n",
       "0                        57647  \n",
       "1                        57647  \n",
       "2                        57647  \n",
       "3                        57647  \n",
       "4                        57647  \n",
       "..                         ...  \n",
       "453                       6128  \n",
       "454                       6128  \n",
       "455                       6128  \n",
       "456                       6128  \n",
       "457                       6128  \n",
       "\n",
       "[458 rows x 4 columns]"
      ]
     },
     "execution_count": 23,
     "metadata": {},
     "output_type": "execute_result"
    }
   ],
   "source": [
    "merged_df = df_by_ed_level_usa.merge(df_state_totals, on = 'State', suffixes = ('_by ed level', '_by state'))\n",
    "merged_df"
   ]
  },
  {
   "cell_type": "code",
   "execution_count": 25,
   "metadata": {},
   "outputs": [
    {
     "data": {
      "text/html": [
       "<div>\n",
       "<style scoped>\n",
       "    .dataframe tbody tr th:only-of-type {\n",
       "        vertical-align: middle;\n",
       "    }\n",
       "\n",
       "    .dataframe tbody tr th {\n",
       "        vertical-align: top;\n",
       "    }\n",
       "\n",
       "    .dataframe thead th {\n",
       "        text-align: right;\n",
       "    }\n",
       "</style>\n",
       "<table border=\"1\" class=\"dataframe\">\n",
       "  <thead>\n",
       "    <tr style=\"text-align: right;\">\n",
       "      <th></th>\n",
       "      <th>State</th>\n",
       "      <th>Education Level of Mother</th>\n",
       "      <th>Number of Births_by ed level</th>\n",
       "      <th>Number of Births_by state</th>\n",
       "      <th>Percentage of Births by Education Level</th>\n",
       "    </tr>\n",
       "  </thead>\n",
       "  <tbody>\n",
       "    <tr>\n",
       "      <th>0</th>\n",
       "      <td>Alabama</td>\n",
       "      <td>9th &gt; 12th Grade</td>\n",
       "      <td>5612</td>\n",
       "      <td>57647</td>\n",
       "      <td>9.74</td>\n",
       "    </tr>\n",
       "    <tr>\n",
       "      <th>1</th>\n",
       "      <td>Alabama</td>\n",
       "      <td>&gt; 8th Grade</td>\n",
       "      <td>2294</td>\n",
       "      <td>57647</td>\n",
       "      <td>3.98</td>\n",
       "    </tr>\n",
       "    <tr>\n",
       "      <th>2</th>\n",
       "      <td>Alabama</td>\n",
       "      <td>Associate Degree</td>\n",
       "      <td>5096</td>\n",
       "      <td>57647</td>\n",
       "      <td>8.84</td>\n",
       "    </tr>\n",
       "    <tr>\n",
       "      <th>3</th>\n",
       "      <td>Alabama</td>\n",
       "      <td>Bahcelor's Degree</td>\n",
       "      <td>8850</td>\n",
       "      <td>57647</td>\n",
       "      <td>15.35</td>\n",
       "    </tr>\n",
       "    <tr>\n",
       "      <th>4</th>\n",
       "      <td>Alabama</td>\n",
       "      <td>Doctorate</td>\n",
       "      <td>1121</td>\n",
       "      <td>57647</td>\n",
       "      <td>1.94</td>\n",
       "    </tr>\n",
       "    <tr>\n",
       "      <th>5</th>\n",
       "      <td>Alabama</td>\n",
       "      <td>High School Grad</td>\n",
       "      <td>19011</td>\n",
       "      <td>57647</td>\n",
       "      <td>32.98</td>\n",
       "    </tr>\n",
       "    <tr>\n",
       "      <th>6</th>\n",
       "      <td>Alabama</td>\n",
       "      <td>Master's Degree</td>\n",
       "      <td>4076</td>\n",
       "      <td>57647</td>\n",
       "      <td>7.07</td>\n",
       "    </tr>\n",
       "    <tr>\n",
       "      <th>7</th>\n",
       "      <td>Alabama</td>\n",
       "      <td>Some College Credit</td>\n",
       "      <td>11508</td>\n",
       "      <td>57647</td>\n",
       "      <td>19.96</td>\n",
       "    </tr>\n",
       "    <tr>\n",
       "      <th>8</th>\n",
       "      <td>Alabama</td>\n",
       "      <td>Unknown</td>\n",
       "      <td>79</td>\n",
       "      <td>57647</td>\n",
       "      <td>0.14</td>\n",
       "    </tr>\n",
       "    <tr>\n",
       "      <th>9</th>\n",
       "      <td>Alaska</td>\n",
       "      <td>9th &gt; 12th Grade</td>\n",
       "      <td>735</td>\n",
       "      <td>9469</td>\n",
       "      <td>7.76</td>\n",
       "    </tr>\n",
       "    <tr>\n",
       "      <th>10</th>\n",
       "      <td>Alaska</td>\n",
       "      <td>&gt; 8th Grade</td>\n",
       "      <td>53</td>\n",
       "      <td>9469</td>\n",
       "      <td>0.56</td>\n",
       "    </tr>\n",
       "    <tr>\n",
       "      <th>11</th>\n",
       "      <td>Alaska</td>\n",
       "      <td>Associate Degree</td>\n",
       "      <td>813</td>\n",
       "      <td>9469</td>\n",
       "      <td>8.59</td>\n",
       "    </tr>\n",
       "    <tr>\n",
       "      <th>12</th>\n",
       "      <td>Alaska</td>\n",
       "      <td>Bahcelor's Degree</td>\n",
       "      <td>1579</td>\n",
       "      <td>9469</td>\n",
       "      <td>16.68</td>\n",
       "    </tr>\n",
       "    <tr>\n",
       "      <th>13</th>\n",
       "      <td>Alaska</td>\n",
       "      <td>Doctorate</td>\n",
       "      <td>230</td>\n",
       "      <td>9469</td>\n",
       "      <td>2.43</td>\n",
       "    </tr>\n",
       "    <tr>\n",
       "      <th>14</th>\n",
       "      <td>Alaska</td>\n",
       "      <td>High School Grad</td>\n",
       "      <td>2994</td>\n",
       "      <td>9469</td>\n",
       "      <td>31.62</td>\n",
       "    </tr>\n",
       "    <tr>\n",
       "      <th>15</th>\n",
       "      <td>Alaska</td>\n",
       "      <td>Master's Degree</td>\n",
       "      <td>612</td>\n",
       "      <td>9469</td>\n",
       "      <td>6.46</td>\n",
       "    </tr>\n",
       "    <tr>\n",
       "      <th>16</th>\n",
       "      <td>Alaska</td>\n",
       "      <td>Some College Credit</td>\n",
       "      <td>2300</td>\n",
       "      <td>9469</td>\n",
       "      <td>24.29</td>\n",
       "    </tr>\n",
       "    <tr>\n",
       "      <th>17</th>\n",
       "      <td>Alaska</td>\n",
       "      <td>Unknown</td>\n",
       "      <td>153</td>\n",
       "      <td>9469</td>\n",
       "      <td>1.62</td>\n",
       "    </tr>\n",
       "    <tr>\n",
       "      <th>18</th>\n",
       "      <td>Arizona</td>\n",
       "      <td>9th &gt; 12th Grade</td>\n",
       "      <td>9553</td>\n",
       "      <td>76947</td>\n",
       "      <td>12.42</td>\n",
       "    </tr>\n",
       "    <tr>\n",
       "      <th>19</th>\n",
       "      <td>Arizona</td>\n",
       "      <td>&gt; 8th Grade</td>\n",
       "      <td>1958</td>\n",
       "      <td>76947</td>\n",
       "      <td>2.54</td>\n",
       "    </tr>\n",
       "    <tr>\n",
       "      <th>20</th>\n",
       "      <td>Arizona</td>\n",
       "      <td>Associate Degree</td>\n",
       "      <td>6703</td>\n",
       "      <td>76947</td>\n",
       "      <td>8.71</td>\n",
       "    </tr>\n",
       "    <tr>\n",
       "      <th>21</th>\n",
       "      <td>Arizona</td>\n",
       "      <td>Bahcelor's Degree</td>\n",
       "      <td>13262</td>\n",
       "      <td>76947</td>\n",
       "      <td>17.24</td>\n",
       "    </tr>\n",
       "    <tr>\n",
       "      <th>22</th>\n",
       "      <td>Arizona</td>\n",
       "      <td>Doctorate</td>\n",
       "      <td>1641</td>\n",
       "      <td>76947</td>\n",
       "      <td>2.13</td>\n",
       "    </tr>\n",
       "    <tr>\n",
       "      <th>23</th>\n",
       "      <td>Arizona</td>\n",
       "      <td>High School Grad</td>\n",
       "      <td>20860</td>\n",
       "      <td>76947</td>\n",
       "      <td>27.11</td>\n",
       "    </tr>\n",
       "    <tr>\n",
       "      <th>24</th>\n",
       "      <td>Arizona</td>\n",
       "      <td>Master's Degree</td>\n",
       "      <td>5026</td>\n",
       "      <td>76947</td>\n",
       "      <td>6.53</td>\n",
       "    </tr>\n",
       "    <tr>\n",
       "      <th>25</th>\n",
       "      <td>Arizona</td>\n",
       "      <td>Some College Credit</td>\n",
       "      <td>17562</td>\n",
       "      <td>76947</td>\n",
       "      <td>22.82</td>\n",
       "    </tr>\n",
       "    <tr>\n",
       "      <th>26</th>\n",
       "      <td>Arizona</td>\n",
       "      <td>Unknown</td>\n",
       "      <td>382</td>\n",
       "      <td>76947</td>\n",
       "      <td>0.50</td>\n",
       "    </tr>\n",
       "    <tr>\n",
       "      <th>27</th>\n",
       "      <td>Arkansas</td>\n",
       "      <td>9th &gt; 12th Grade</td>\n",
       "      <td>3672</td>\n",
       "      <td>35251</td>\n",
       "      <td>10.42</td>\n",
       "    </tr>\n",
       "    <tr>\n",
       "      <th>28</th>\n",
       "      <td>Arkansas</td>\n",
       "      <td>&gt; 8th Grade</td>\n",
       "      <td>823</td>\n",
       "      <td>35251</td>\n",
       "      <td>2.33</td>\n",
       "    </tr>\n",
       "    <tr>\n",
       "      <th>29</th>\n",
       "      <td>Arkansas</td>\n",
       "      <td>Associate Degree</td>\n",
       "      <td>2940</td>\n",
       "      <td>35251</td>\n",
       "      <td>8.34</td>\n",
       "    </tr>\n",
       "  </tbody>\n",
       "</table>\n",
       "</div>"
      ],
      "text/plain": [
       "       State Education Level of Mother  Number of Births_by ed level  \\\n",
       "0    Alabama          9th > 12th Grade                          5612   \n",
       "1    Alabama               > 8th Grade                          2294   \n",
       "2    Alabama          Associate Degree                          5096   \n",
       "3    Alabama         Bahcelor's Degree                          8850   \n",
       "4    Alabama                 Doctorate                          1121   \n",
       "5    Alabama          High School Grad                         19011   \n",
       "6    Alabama           Master's Degree                          4076   \n",
       "7    Alabama       Some College Credit                         11508   \n",
       "8    Alabama                   Unknown                            79   \n",
       "9     Alaska          9th > 12th Grade                           735   \n",
       "10    Alaska               > 8th Grade                            53   \n",
       "11    Alaska          Associate Degree                           813   \n",
       "12    Alaska         Bahcelor's Degree                          1579   \n",
       "13    Alaska                 Doctorate                           230   \n",
       "14    Alaska          High School Grad                          2994   \n",
       "15    Alaska           Master's Degree                           612   \n",
       "16    Alaska       Some College Credit                          2300   \n",
       "17    Alaska                   Unknown                           153   \n",
       "18   Arizona          9th > 12th Grade                          9553   \n",
       "19   Arizona               > 8th Grade                          1958   \n",
       "20   Arizona          Associate Degree                          6703   \n",
       "21   Arizona         Bahcelor's Degree                         13262   \n",
       "22   Arizona                 Doctorate                          1641   \n",
       "23   Arizona          High School Grad                         20860   \n",
       "24   Arizona           Master's Degree                          5026   \n",
       "25   Arizona       Some College Credit                         17562   \n",
       "26   Arizona                   Unknown                           382   \n",
       "27  Arkansas          9th > 12th Grade                          3672   \n",
       "28  Arkansas               > 8th Grade                           823   \n",
       "29  Arkansas          Associate Degree                          2940   \n",
       "\n",
       "    Number of Births_by state  Percentage of Births by Education Level  \n",
       "0                       57647                                     9.74  \n",
       "1                       57647                                     3.98  \n",
       "2                       57647                                     8.84  \n",
       "3                       57647                                    15.35  \n",
       "4                       57647                                     1.94  \n",
       "5                       57647                                    32.98  \n",
       "6                       57647                                     7.07  \n",
       "7                       57647                                    19.96  \n",
       "8                       57647                                     0.14  \n",
       "9                        9469                                     7.76  \n",
       "10                       9469                                     0.56  \n",
       "11                       9469                                     8.59  \n",
       "12                       9469                                    16.68  \n",
       "13                       9469                                     2.43  \n",
       "14                       9469                                    31.62  \n",
       "15                       9469                                     6.46  \n",
       "16                       9469                                    24.29  \n",
       "17                       9469                                     1.62  \n",
       "18                      76947                                    12.42  \n",
       "19                      76947                                     2.54  \n",
       "20                      76947                                     8.71  \n",
       "21                      76947                                    17.24  \n",
       "22                      76947                                     2.13  \n",
       "23                      76947                                    27.11  \n",
       "24                      76947                                     6.53  \n",
       "25                      76947                                    22.82  \n",
       "26                      76947                                     0.50  \n",
       "27                      35251                                    10.42  \n",
       "28                      35251                                     2.33  \n",
       "29                      35251                                     8.34  "
      ]
     },
     "execution_count": 25,
     "metadata": {},
     "output_type": "execute_result"
    }
   ],
   "source": [
    "merged_df['Percentage of Births by Education Level'] = ((merged_df['Number of Births_by ed level'] / merged_df['Number of Births_by state']) * 100).round(2)\n",
    "merged_df.head(30)"
   ]
  },
  {
   "cell_type": "code",
   "execution_count": 29,
   "metadata": {},
   "outputs": [
    {
     "data": {
      "text/html": [
       "<div>\n",
       "<style scoped>\n",
       "    .dataframe tbody tr th:only-of-type {\n",
       "        vertical-align: middle;\n",
       "    }\n",
       "\n",
       "    .dataframe tbody tr th {\n",
       "        vertical-align: top;\n",
       "    }\n",
       "\n",
       "    .dataframe thead th {\n",
       "        text-align: right;\n",
       "    }\n",
       "</style>\n",
       "<table border=\"1\" class=\"dataframe\">\n",
       "  <thead>\n",
       "    <tr style=\"text-align: right;\">\n",
       "      <th></th>\n",
       "      <th>index</th>\n",
       "      <th>State</th>\n",
       "      <th>Education Level of Mother</th>\n",
       "      <th>Number of Births_by ed level</th>\n",
       "      <th>Number of Births_by state</th>\n",
       "      <th>Percentage of Births by Education Level</th>\n",
       "    </tr>\n",
       "  </thead>\n",
       "  <tbody>\n",
       "    <tr>\n",
       "      <th>0</th>\n",
       "      <td>5</td>\n",
       "      <td>Alabama</td>\n",
       "      <td>High School Grad</td>\n",
       "      <td>19011</td>\n",
       "      <td>57647</td>\n",
       "      <td>32.98</td>\n",
       "    </tr>\n",
       "    <tr>\n",
       "      <th>1</th>\n",
       "      <td>14</td>\n",
       "      <td>Alaska</td>\n",
       "      <td>High School Grad</td>\n",
       "      <td>2994</td>\n",
       "      <td>9469</td>\n",
       "      <td>31.62</td>\n",
       "    </tr>\n",
       "    <tr>\n",
       "      <th>2</th>\n",
       "      <td>23</td>\n",
       "      <td>Arizona</td>\n",
       "      <td>High School Grad</td>\n",
       "      <td>20860</td>\n",
       "      <td>76947</td>\n",
       "      <td>27.11</td>\n",
       "    </tr>\n",
       "    <tr>\n",
       "      <th>3</th>\n",
       "      <td>32</td>\n",
       "      <td>Arkansas</td>\n",
       "      <td>High School Grad</td>\n",
       "      <td>11853</td>\n",
       "      <td>35251</td>\n",
       "      <td>33.62</td>\n",
       "    </tr>\n",
       "    <tr>\n",
       "      <th>4</th>\n",
       "      <td>41</td>\n",
       "      <td>California</td>\n",
       "      <td>High School Grad</td>\n",
       "      <td>99814</td>\n",
       "      <td>420259</td>\n",
       "      <td>23.75</td>\n",
       "    </tr>\n",
       "    <tr>\n",
       "      <th>5</th>\n",
       "      <td>50</td>\n",
       "      <td>Colorado</td>\n",
       "      <td>High School Grad</td>\n",
       "      <td>12544</td>\n",
       "      <td>61494</td>\n",
       "      <td>20.40</td>\n",
       "    </tr>\n",
       "    <tr>\n",
       "      <th>6</th>\n",
       "      <td>59</td>\n",
       "      <td>Connecticut</td>\n",
       "      <td>High School Grad</td>\n",
       "      <td>6570</td>\n",
       "      <td>33460</td>\n",
       "      <td>19.64</td>\n",
       "    </tr>\n",
       "    <tr>\n",
       "      <th>7</th>\n",
       "      <td>68</td>\n",
       "      <td>Delaware</td>\n",
       "      <td>High School Grad</td>\n",
       "      <td>2802</td>\n",
       "      <td>10392</td>\n",
       "      <td>26.96</td>\n",
       "    </tr>\n",
       "    <tr>\n",
       "      <th>8</th>\n",
       "      <td>77</td>\n",
       "      <td>District of Columbia</td>\n",
       "      <td>High School Grad</td>\n",
       "      <td>1797</td>\n",
       "      <td>8874</td>\n",
       "      <td>20.25</td>\n",
       "    </tr>\n",
       "    <tr>\n",
       "      <th>9</th>\n",
       "      <td>86</td>\n",
       "      <td>Florida</td>\n",
       "      <td>High School Grad</td>\n",
       "      <td>65185</td>\n",
       "      <td>209671</td>\n",
       "      <td>31.09</td>\n",
       "    </tr>\n",
       "    <tr>\n",
       "      <th>10</th>\n",
       "      <td>95</td>\n",
       "      <td>Georgia</td>\n",
       "      <td>High School Grad</td>\n",
       "      <td>39675</td>\n",
       "      <td>122473</td>\n",
       "      <td>32.39</td>\n",
       "    </tr>\n",
       "    <tr>\n",
       "      <th>11</th>\n",
       "      <td>104</td>\n",
       "      <td>Hawaii</td>\n",
       "      <td>High School Grad</td>\n",
       "      <td>2797</td>\n",
       "      <td>15785</td>\n",
       "      <td>17.72</td>\n",
       "    </tr>\n",
       "    <tr>\n",
       "      <th>12</th>\n",
       "      <td>113</td>\n",
       "      <td>Idaho</td>\n",
       "      <td>High School Grad</td>\n",
       "      <td>5395</td>\n",
       "      <td>21533</td>\n",
       "      <td>25.05</td>\n",
       "    </tr>\n",
       "    <tr>\n",
       "      <th>13</th>\n",
       "      <td>122</td>\n",
       "      <td>Illinois</td>\n",
       "      <td>High School Grad</td>\n",
       "      <td>30949</td>\n",
       "      <td>133298</td>\n",
       "      <td>23.22</td>\n",
       "    </tr>\n",
       "    <tr>\n",
       "      <th>14</th>\n",
       "      <td>131</td>\n",
       "      <td>Indiana</td>\n",
       "      <td>High School Grad</td>\n",
       "      <td>23434</td>\n",
       "      <td>78616</td>\n",
       "      <td>29.81</td>\n",
       "    </tr>\n",
       "    <tr>\n",
       "      <th>15</th>\n",
       "      <td>140</td>\n",
       "      <td>Iowa</td>\n",
       "      <td>High School Grad</td>\n",
       "      <td>9088</td>\n",
       "      <td>36114</td>\n",
       "      <td>25.16</td>\n",
       "    </tr>\n",
       "    <tr>\n",
       "      <th>16</th>\n",
       "      <td>149</td>\n",
       "      <td>Kansas</td>\n",
       "      <td>High School Grad</td>\n",
       "      <td>8766</td>\n",
       "      <td>34376</td>\n",
       "      <td>25.50</td>\n",
       "    </tr>\n",
       "    <tr>\n",
       "      <th>17</th>\n",
       "      <td>158</td>\n",
       "      <td>Kentucky</td>\n",
       "      <td>High School Grad</td>\n",
       "      <td>16102</td>\n",
       "      <td>51668</td>\n",
       "      <td>31.16</td>\n",
       "    </tr>\n",
       "    <tr>\n",
       "      <th>18</th>\n",
       "      <td>167</td>\n",
       "      <td>Louisiana</td>\n",
       "      <td>High School Grad</td>\n",
       "      <td>19770</td>\n",
       "      <td>57328</td>\n",
       "      <td>34.49</td>\n",
       "    </tr>\n",
       "    <tr>\n",
       "      <th>19</th>\n",
       "      <td>176</td>\n",
       "      <td>Maine</td>\n",
       "      <td>High School Grad</td>\n",
       "      <td>2892</td>\n",
       "      <td>11539</td>\n",
       "      <td>25.06</td>\n",
       "    </tr>\n",
       "    <tr>\n",
       "      <th>20</th>\n",
       "      <td>185</td>\n",
       "      <td>Maryland</td>\n",
       "      <td>High School Grad</td>\n",
       "      <td>14194</td>\n",
       "      <td>68554</td>\n",
       "      <td>20.70</td>\n",
       "    </tr>\n",
       "    <tr>\n",
       "      <th>21</th>\n",
       "      <td>194</td>\n",
       "      <td>Massachusetts</td>\n",
       "      <td>High School Grad</td>\n",
       "      <td>10978</td>\n",
       "      <td>66428</td>\n",
       "      <td>16.53</td>\n",
       "    </tr>\n",
       "    <tr>\n",
       "      <th>22</th>\n",
       "      <td>203</td>\n",
       "      <td>Michigan</td>\n",
       "      <td>High School Grad</td>\n",
       "      <td>27691</td>\n",
       "      <td>104074</td>\n",
       "      <td>26.61</td>\n",
       "    </tr>\n",
       "    <tr>\n",
       "      <th>23</th>\n",
       "      <td>212</td>\n",
       "      <td>Minnesota</td>\n",
       "      <td>High School Grad</td>\n",
       "      <td>10793</td>\n",
       "      <td>63443</td>\n",
       "      <td>17.01</td>\n",
       "    </tr>\n",
       "    <tr>\n",
       "      <th>24</th>\n",
       "      <td>221</td>\n",
       "      <td>Mississippi</td>\n",
       "      <td>High School Grad</td>\n",
       "      <td>10971</td>\n",
       "      <td>35473</td>\n",
       "      <td>30.93</td>\n",
       "    </tr>\n",
       "    <tr>\n",
       "      <th>25</th>\n",
       "      <td>230</td>\n",
       "      <td>Missouri</td>\n",
       "      <td>High School Grad</td>\n",
       "      <td>18065</td>\n",
       "      <td>69285</td>\n",
       "      <td>26.07</td>\n",
       "    </tr>\n",
       "    <tr>\n",
       "      <th>26</th>\n",
       "      <td>239</td>\n",
       "      <td>Montana</td>\n",
       "      <td>High School Grad</td>\n",
       "      <td>2803</td>\n",
       "      <td>10777</td>\n",
       "      <td>26.01</td>\n",
       "    </tr>\n",
       "    <tr>\n",
       "      <th>27</th>\n",
       "      <td>247</td>\n",
       "      <td>Nebraska</td>\n",
       "      <td>High School Grad</td>\n",
       "      <td>4807</td>\n",
       "      <td>24291</td>\n",
       "      <td>19.79</td>\n",
       "    </tr>\n",
       "    <tr>\n",
       "      <th>28</th>\n",
       "      <td>256</td>\n",
       "      <td>Nevada</td>\n",
       "      <td>High School Grad</td>\n",
       "      <td>10951</td>\n",
       "      <td>33653</td>\n",
       "      <td>32.54</td>\n",
       "    </tr>\n",
       "    <tr>\n",
       "      <th>29</th>\n",
       "      <td>265</td>\n",
       "      <td>New Hampshire</td>\n",
       "      <td>High School Grad</td>\n",
       "      <td>2463</td>\n",
       "      <td>11791</td>\n",
       "      <td>20.89</td>\n",
       "    </tr>\n",
       "    <tr>\n",
       "      <th>30</th>\n",
       "      <td>274</td>\n",
       "      <td>New Jersey</td>\n",
       "      <td>High School Grad</td>\n",
       "      <td>23010</td>\n",
       "      <td>97954</td>\n",
       "      <td>23.49</td>\n",
       "    </tr>\n",
       "    <tr>\n",
       "      <th>31</th>\n",
       "      <td>283</td>\n",
       "      <td>New Mexico</td>\n",
       "      <td>High School Grad</td>\n",
       "      <td>5645</td>\n",
       "      <td>21903</td>\n",
       "      <td>25.77</td>\n",
       "    </tr>\n",
       "    <tr>\n",
       "      <th>32</th>\n",
       "      <td>292</td>\n",
       "      <td>New York</td>\n",
       "      <td>High School Grad</td>\n",
       "      <td>48608</td>\n",
       "      <td>209338</td>\n",
       "      <td>23.22</td>\n",
       "    </tr>\n",
       "    <tr>\n",
       "      <th>33</th>\n",
       "      <td>301</td>\n",
       "      <td>North Carolina</td>\n",
       "      <td>High School Grad</td>\n",
       "      <td>29290</td>\n",
       "      <td>116730</td>\n",
       "      <td>25.09</td>\n",
       "    </tr>\n",
       "    <tr>\n",
       "      <th>34</th>\n",
       "      <td>310</td>\n",
       "      <td>North Dakota</td>\n",
       "      <td>High School Grad</td>\n",
       "      <td>2144</td>\n",
       "      <td>10059</td>\n",
       "      <td>21.31</td>\n",
       "    </tr>\n",
       "    <tr>\n",
       "      <th>35</th>\n",
       "      <td>319</td>\n",
       "      <td>Ohio</td>\n",
       "      <td>High School Grad</td>\n",
       "      <td>37407</td>\n",
       "      <td>129191</td>\n",
       "      <td>28.95</td>\n",
       "    </tr>\n",
       "    <tr>\n",
       "      <th>36</th>\n",
       "      <td>328</td>\n",
       "      <td>Oklahoma</td>\n",
       "      <td>High School Grad</td>\n",
       "      <td>14735</td>\n",
       "      <td>47623</td>\n",
       "      <td>30.94</td>\n",
       "    </tr>\n",
       "    <tr>\n",
       "      <th>37</th>\n",
       "      <td>337</td>\n",
       "      <td>Oregon</td>\n",
       "      <td>High School Grad</td>\n",
       "      <td>9376</td>\n",
       "      <td>39820</td>\n",
       "      <td>23.55</td>\n",
       "    </tr>\n",
       "    <tr>\n",
       "      <th>38</th>\n",
       "      <td>346</td>\n",
       "      <td>Pennsylvania</td>\n",
       "      <td>High School Grad</td>\n",
       "      <td>33519</td>\n",
       "      <td>130693</td>\n",
       "      <td>25.65</td>\n",
       "    </tr>\n",
       "    <tr>\n",
       "      <th>39</th>\n",
       "      <td>355</td>\n",
       "      <td>Rhode Island</td>\n",
       "      <td>High School Grad</td>\n",
       "      <td>2097</td>\n",
       "      <td>10101</td>\n",
       "      <td>20.76</td>\n",
       "    </tr>\n",
       "    <tr>\n",
       "      <th>40</th>\n",
       "      <td>364</td>\n",
       "      <td>South Carolina</td>\n",
       "      <td>High School Grad</td>\n",
       "      <td>14594</td>\n",
       "      <td>55704</td>\n",
       "      <td>26.20</td>\n",
       "    </tr>\n",
       "    <tr>\n",
       "      <th>41</th>\n",
       "      <td>373</td>\n",
       "      <td>South Dakota</td>\n",
       "      <td>High School Grad</td>\n",
       "      <td>2747</td>\n",
       "      <td>10960</td>\n",
       "      <td>25.06</td>\n",
       "    </tr>\n",
       "    <tr>\n",
       "      <th>42</th>\n",
       "      <td>382</td>\n",
       "      <td>Tennessee</td>\n",
       "      <td>High School Grad</td>\n",
       "      <td>22506</td>\n",
       "      <td>78689</td>\n",
       "      <td>28.60</td>\n",
       "    </tr>\n",
       "    <tr>\n",
       "      <th>43</th>\n",
       "      <td>391</td>\n",
       "      <td>Texas</td>\n",
       "      <td>High School Grad</td>\n",
       "      <td>107422</td>\n",
       "      <td>368190</td>\n",
       "      <td>29.18</td>\n",
       "    </tr>\n",
       "    <tr>\n",
       "      <th>44</th>\n",
       "      <td>400</td>\n",
       "      <td>Utah</td>\n",
       "      <td>High School Grad</td>\n",
       "      <td>8971</td>\n",
       "      <td>45702</td>\n",
       "      <td>19.63</td>\n",
       "    </tr>\n",
       "    <tr>\n",
       "      <th>45</th>\n",
       "      <td>409</td>\n",
       "      <td>Vermont</td>\n",
       "      <td>High School Grad</td>\n",
       "      <td>1201</td>\n",
       "      <td>5133</td>\n",
       "      <td>23.40</td>\n",
       "    </tr>\n",
       "    <tr>\n",
       "      <th>46</th>\n",
       "      <td>418</td>\n",
       "      <td>Virginia</td>\n",
       "      <td>High School Grad</td>\n",
       "      <td>25144</td>\n",
       "      <td>94749</td>\n",
       "      <td>26.54</td>\n",
       "    </tr>\n",
       "    <tr>\n",
       "      <th>47</th>\n",
       "      <td>427</td>\n",
       "      <td>Washington</td>\n",
       "      <td>High School Grad</td>\n",
       "      <td>17930</td>\n",
       "      <td>83086</td>\n",
       "      <td>21.58</td>\n",
       "    </tr>\n",
       "    <tr>\n",
       "      <th>48</th>\n",
       "      <td>436</td>\n",
       "      <td>West Virginia</td>\n",
       "      <td>High School Grad</td>\n",
       "      <td>5752</td>\n",
       "      <td>17323</td>\n",
       "      <td>33.20</td>\n",
       "    </tr>\n",
       "    <tr>\n",
       "      <th>49</th>\n",
       "      <td>445</td>\n",
       "      <td>Wisconsin</td>\n",
       "      <td>High School Grad</td>\n",
       "      <td>15101</td>\n",
       "      <td>60594</td>\n",
       "      <td>24.92</td>\n",
       "    </tr>\n",
       "    <tr>\n",
       "      <th>50</th>\n",
       "      <td>454</td>\n",
       "      <td>Wyoming</td>\n",
       "      <td>High School Grad</td>\n",
       "      <td>1542</td>\n",
       "      <td>6128</td>\n",
       "      <td>25.16</td>\n",
       "    </tr>\n",
       "  </tbody>\n",
       "</table>\n",
       "</div>"
      ],
      "text/plain": [
       "    index                 State Education Level of Mother  \\\n",
       "0       5               Alabama          High School Grad   \n",
       "1      14                Alaska          High School Grad   \n",
       "2      23               Arizona          High School Grad   \n",
       "3      32              Arkansas          High School Grad   \n",
       "4      41            California          High School Grad   \n",
       "5      50              Colorado          High School Grad   \n",
       "6      59           Connecticut          High School Grad   \n",
       "7      68              Delaware          High School Grad   \n",
       "8      77  District of Columbia          High School Grad   \n",
       "9      86               Florida          High School Grad   \n",
       "10     95               Georgia          High School Grad   \n",
       "11    104                Hawaii          High School Grad   \n",
       "12    113                 Idaho          High School Grad   \n",
       "13    122              Illinois          High School Grad   \n",
       "14    131               Indiana          High School Grad   \n",
       "15    140                  Iowa          High School Grad   \n",
       "16    149                Kansas          High School Grad   \n",
       "17    158              Kentucky          High School Grad   \n",
       "18    167             Louisiana          High School Grad   \n",
       "19    176                 Maine          High School Grad   \n",
       "20    185              Maryland          High School Grad   \n",
       "21    194         Massachusetts          High School Grad   \n",
       "22    203              Michigan          High School Grad   \n",
       "23    212             Minnesota          High School Grad   \n",
       "24    221           Mississippi          High School Grad   \n",
       "25    230              Missouri          High School Grad   \n",
       "26    239               Montana          High School Grad   \n",
       "27    247              Nebraska          High School Grad   \n",
       "28    256                Nevada          High School Grad   \n",
       "29    265         New Hampshire          High School Grad   \n",
       "30    274            New Jersey          High School Grad   \n",
       "31    283            New Mexico          High School Grad   \n",
       "32    292              New York          High School Grad   \n",
       "33    301        North Carolina          High School Grad   \n",
       "34    310          North Dakota          High School Grad   \n",
       "35    319                  Ohio          High School Grad   \n",
       "36    328              Oklahoma          High School Grad   \n",
       "37    337                Oregon          High School Grad   \n",
       "38    346          Pennsylvania          High School Grad   \n",
       "39    355          Rhode Island          High School Grad   \n",
       "40    364        South Carolina          High School Grad   \n",
       "41    373          South Dakota          High School Grad   \n",
       "42    382             Tennessee          High School Grad   \n",
       "43    391                 Texas          High School Grad   \n",
       "44    400                  Utah          High School Grad   \n",
       "45    409               Vermont          High School Grad   \n",
       "46    418              Virginia          High School Grad   \n",
       "47    427            Washington          High School Grad   \n",
       "48    436         West Virginia          High School Grad   \n",
       "49    445             Wisconsin          High School Grad   \n",
       "50    454               Wyoming          High School Grad   \n",
       "\n",
       "    Number of Births_by ed level  Number of Births_by state  \\\n",
       "0                          19011                      57647   \n",
       "1                           2994                       9469   \n",
       "2                          20860                      76947   \n",
       "3                          11853                      35251   \n",
       "4                          99814                     420259   \n",
       "5                          12544                      61494   \n",
       "6                           6570                      33460   \n",
       "7                           2802                      10392   \n",
       "8                           1797                       8874   \n",
       "9                          65185                     209671   \n",
       "10                         39675                     122473   \n",
       "11                          2797                      15785   \n",
       "12                          5395                      21533   \n",
       "13                         30949                     133298   \n",
       "14                         23434                      78616   \n",
       "15                          9088                      36114   \n",
       "16                          8766                      34376   \n",
       "17                         16102                      51668   \n",
       "18                         19770                      57328   \n",
       "19                          2892                      11539   \n",
       "20                         14194                      68554   \n",
       "21                         10978                      66428   \n",
       "22                         27691                     104074   \n",
       "23                         10793                      63443   \n",
       "24                         10971                      35473   \n",
       "25                         18065                      69285   \n",
       "26                          2803                      10777   \n",
       "27                          4807                      24291   \n",
       "28                         10951                      33653   \n",
       "29                          2463                      11791   \n",
       "30                         23010                      97954   \n",
       "31                          5645                      21903   \n",
       "32                         48608                     209338   \n",
       "33                         29290                     116730   \n",
       "34                          2144                      10059   \n",
       "35                         37407                     129191   \n",
       "36                         14735                      47623   \n",
       "37                          9376                      39820   \n",
       "38                         33519                     130693   \n",
       "39                          2097                      10101   \n",
       "40                         14594                      55704   \n",
       "41                          2747                      10960   \n",
       "42                         22506                      78689   \n",
       "43                        107422                     368190   \n",
       "44                          8971                      45702   \n",
       "45                          1201                       5133   \n",
       "46                         25144                      94749   \n",
       "47                         17930                      83086   \n",
       "48                          5752                      17323   \n",
       "49                         15101                      60594   \n",
       "50                          1542                       6128   \n",
       "\n",
       "    Percentage of Births by Education Level  \n",
       "0                                     32.98  \n",
       "1                                     31.62  \n",
       "2                                     27.11  \n",
       "3                                     33.62  \n",
       "4                                     23.75  \n",
       "5                                     20.40  \n",
       "6                                     19.64  \n",
       "7                                     26.96  \n",
       "8                                     20.25  \n",
       "9                                     31.09  \n",
       "10                                    32.39  \n",
       "11                                    17.72  \n",
       "12                                    25.05  \n",
       "13                                    23.22  \n",
       "14                                    29.81  \n",
       "15                                    25.16  \n",
       "16                                    25.50  \n",
       "17                                    31.16  \n",
       "18                                    34.49  \n",
       "19                                    25.06  \n",
       "20                                    20.70  \n",
       "21                                    16.53  \n",
       "22                                    26.61  \n",
       "23                                    17.01  \n",
       "24                                    30.93  \n",
       "25                                    26.07  \n",
       "26                                    26.01  \n",
       "27                                    19.79  \n",
       "28                                    32.54  \n",
       "29                                    20.89  \n",
       "30                                    23.49  \n",
       "31                                    25.77  \n",
       "32                                    23.22  \n",
       "33                                    25.09  \n",
       "34                                    21.31  \n",
       "35                                    28.95  \n",
       "36                                    30.94  \n",
       "37                                    23.55  \n",
       "38                                    25.65  \n",
       "39                                    20.76  \n",
       "40                                    26.20  \n",
       "41                                    25.06  \n",
       "42                                    28.60  \n",
       "43                                    29.18  \n",
       "44                                    19.63  \n",
       "45                                    23.40  \n",
       "46                                    26.54  \n",
       "47                                    21.58  \n",
       "48                                    33.20  \n",
       "49                                    24.92  \n",
       "50                                    25.16  "
      ]
     },
     "execution_count": 29,
     "metadata": {},
     "output_type": "execute_result"
    }
   ],
   "source": [
    "test = merged_df[(merged_df['Education Level of Mother'] == 'High School Grad')].reset_index()\n",
    "test"
   ]
  },
  {
   "cell_type": "code",
   "execution_count": 16,
   "metadata": {},
   "outputs": [
    {
     "data": {
      "application/vnd.plotly.v1+json": {
       "config": {
        "plotlyServerURL": "https://plot.ly"
       },
       "data": [
        {
         "alignmentgroup": "True",
         "hovertemplate": "Year=%{x}<br>Number of Births=%{y}<extra></extra>",
         "legendgroup": "",
         "marker": {
          "color": "#636efa",
          "pattern": {
           "shape": ""
          }
         },
         "name": "",
         "offsetgroup": "",
         "orientation": "v",
         "showlegend": false,
         "textposition": "auto",
         "type": "bar",
         "x": [
          2017,
          2018,
          2019,
          2020
         ],
         "xaxis": "x",
         "y": [
          1990,
          1856,
          2350,
          2294
         ],
         "yaxis": "y"
        }
       ],
       "layout": {
        "barmode": "relative",
        "legend": {
         "tracegroupgap": 0
        },
        "margin": {
         "t": 60
        },
        "template": {
         "data": {
          "bar": [
           {
            "error_x": {
             "color": "#2a3f5f"
            },
            "error_y": {
             "color": "#2a3f5f"
            },
            "marker": {
             "line": {
              "color": "#E5ECF6",
              "width": 0.5
             },
             "pattern": {
              "fillmode": "overlay",
              "size": 10,
              "solidity": 0.2
             }
            },
            "type": "bar"
           }
          ],
          "barpolar": [
           {
            "marker": {
             "line": {
              "color": "#E5ECF6",
              "width": 0.5
             },
             "pattern": {
              "fillmode": "overlay",
              "size": 10,
              "solidity": 0.2
             }
            },
            "type": "barpolar"
           }
          ],
          "carpet": [
           {
            "aaxis": {
             "endlinecolor": "#2a3f5f",
             "gridcolor": "white",
             "linecolor": "white",
             "minorgridcolor": "white",
             "startlinecolor": "#2a3f5f"
            },
            "baxis": {
             "endlinecolor": "#2a3f5f",
             "gridcolor": "white",
             "linecolor": "white",
             "minorgridcolor": "white",
             "startlinecolor": "#2a3f5f"
            },
            "type": "carpet"
           }
          ],
          "choropleth": [
           {
            "colorbar": {
             "outlinewidth": 0,
             "ticks": ""
            },
            "type": "choropleth"
           }
          ],
          "contour": [
           {
            "colorbar": {
             "outlinewidth": 0,
             "ticks": ""
            },
            "colorscale": [
             [
              0,
              "#0d0887"
             ],
             [
              0.1111111111111111,
              "#46039f"
             ],
             [
              0.2222222222222222,
              "#7201a8"
             ],
             [
              0.3333333333333333,
              "#9c179e"
             ],
             [
              0.4444444444444444,
              "#bd3786"
             ],
             [
              0.5555555555555556,
              "#d8576b"
             ],
             [
              0.6666666666666666,
              "#ed7953"
             ],
             [
              0.7777777777777778,
              "#fb9f3a"
             ],
             [
              0.8888888888888888,
              "#fdca26"
             ],
             [
              1,
              "#f0f921"
             ]
            ],
            "type": "contour"
           }
          ],
          "contourcarpet": [
           {
            "colorbar": {
             "outlinewidth": 0,
             "ticks": ""
            },
            "type": "contourcarpet"
           }
          ],
          "heatmap": [
           {
            "colorbar": {
             "outlinewidth": 0,
             "ticks": ""
            },
            "colorscale": [
             [
              0,
              "#0d0887"
             ],
             [
              0.1111111111111111,
              "#46039f"
             ],
             [
              0.2222222222222222,
              "#7201a8"
             ],
             [
              0.3333333333333333,
              "#9c179e"
             ],
             [
              0.4444444444444444,
              "#bd3786"
             ],
             [
              0.5555555555555556,
              "#d8576b"
             ],
             [
              0.6666666666666666,
              "#ed7953"
             ],
             [
              0.7777777777777778,
              "#fb9f3a"
             ],
             [
              0.8888888888888888,
              "#fdca26"
             ],
             [
              1,
              "#f0f921"
             ]
            ],
            "type": "heatmap"
           }
          ],
          "heatmapgl": [
           {
            "colorbar": {
             "outlinewidth": 0,
             "ticks": ""
            },
            "colorscale": [
             [
              0,
              "#0d0887"
             ],
             [
              0.1111111111111111,
              "#46039f"
             ],
             [
              0.2222222222222222,
              "#7201a8"
             ],
             [
              0.3333333333333333,
              "#9c179e"
             ],
             [
              0.4444444444444444,
              "#bd3786"
             ],
             [
              0.5555555555555556,
              "#d8576b"
             ],
             [
              0.6666666666666666,
              "#ed7953"
             ],
             [
              0.7777777777777778,
              "#fb9f3a"
             ],
             [
              0.8888888888888888,
              "#fdca26"
             ],
             [
              1,
              "#f0f921"
             ]
            ],
            "type": "heatmapgl"
           }
          ],
          "histogram": [
           {
            "marker": {
             "pattern": {
              "fillmode": "overlay",
              "size": 10,
              "solidity": 0.2
             }
            },
            "type": "histogram"
           }
          ],
          "histogram2d": [
           {
            "colorbar": {
             "outlinewidth": 0,
             "ticks": ""
            },
            "colorscale": [
             [
              0,
              "#0d0887"
             ],
             [
              0.1111111111111111,
              "#46039f"
             ],
             [
              0.2222222222222222,
              "#7201a8"
             ],
             [
              0.3333333333333333,
              "#9c179e"
             ],
             [
              0.4444444444444444,
              "#bd3786"
             ],
             [
              0.5555555555555556,
              "#d8576b"
             ],
             [
              0.6666666666666666,
              "#ed7953"
             ],
             [
              0.7777777777777778,
              "#fb9f3a"
             ],
             [
              0.8888888888888888,
              "#fdca26"
             ],
             [
              1,
              "#f0f921"
             ]
            ],
            "type": "histogram2d"
           }
          ],
          "histogram2dcontour": [
           {
            "colorbar": {
             "outlinewidth": 0,
             "ticks": ""
            },
            "colorscale": [
             [
              0,
              "#0d0887"
             ],
             [
              0.1111111111111111,
              "#46039f"
             ],
             [
              0.2222222222222222,
              "#7201a8"
             ],
             [
              0.3333333333333333,
              "#9c179e"
             ],
             [
              0.4444444444444444,
              "#bd3786"
             ],
             [
              0.5555555555555556,
              "#d8576b"
             ],
             [
              0.6666666666666666,
              "#ed7953"
             ],
             [
              0.7777777777777778,
              "#fb9f3a"
             ],
             [
              0.8888888888888888,
              "#fdca26"
             ],
             [
              1,
              "#f0f921"
             ]
            ],
            "type": "histogram2dcontour"
           }
          ],
          "mesh3d": [
           {
            "colorbar": {
             "outlinewidth": 0,
             "ticks": ""
            },
            "type": "mesh3d"
           }
          ],
          "parcoords": [
           {
            "line": {
             "colorbar": {
              "outlinewidth": 0,
              "ticks": ""
             }
            },
            "type": "parcoords"
           }
          ],
          "pie": [
           {
            "automargin": true,
            "type": "pie"
           }
          ],
          "scatter": [
           {
            "fillpattern": {
             "fillmode": "overlay",
             "size": 10,
             "solidity": 0.2
            },
            "type": "scatter"
           }
          ],
          "scatter3d": [
           {
            "line": {
             "colorbar": {
              "outlinewidth": 0,
              "ticks": ""
             }
            },
            "marker": {
             "colorbar": {
              "outlinewidth": 0,
              "ticks": ""
             }
            },
            "type": "scatter3d"
           }
          ],
          "scattercarpet": [
           {
            "marker": {
             "colorbar": {
              "outlinewidth": 0,
              "ticks": ""
             }
            },
            "type": "scattercarpet"
           }
          ],
          "scattergeo": [
           {
            "marker": {
             "colorbar": {
              "outlinewidth": 0,
              "ticks": ""
             }
            },
            "type": "scattergeo"
           }
          ],
          "scattergl": [
           {
            "marker": {
             "colorbar": {
              "outlinewidth": 0,
              "ticks": ""
             }
            },
            "type": "scattergl"
           }
          ],
          "scattermapbox": [
           {
            "marker": {
             "colorbar": {
              "outlinewidth": 0,
              "ticks": ""
             }
            },
            "type": "scattermapbox"
           }
          ],
          "scatterpolar": [
           {
            "marker": {
             "colorbar": {
              "outlinewidth": 0,
              "ticks": ""
             }
            },
            "type": "scatterpolar"
           }
          ],
          "scatterpolargl": [
           {
            "marker": {
             "colorbar": {
              "outlinewidth": 0,
              "ticks": ""
             }
            },
            "type": "scatterpolargl"
           }
          ],
          "scatterternary": [
           {
            "marker": {
             "colorbar": {
              "outlinewidth": 0,
              "ticks": ""
             }
            },
            "type": "scatterternary"
           }
          ],
          "surface": [
           {
            "colorbar": {
             "outlinewidth": 0,
             "ticks": ""
            },
            "colorscale": [
             [
              0,
              "#0d0887"
             ],
             [
              0.1111111111111111,
              "#46039f"
             ],
             [
              0.2222222222222222,
              "#7201a8"
             ],
             [
              0.3333333333333333,
              "#9c179e"
             ],
             [
              0.4444444444444444,
              "#bd3786"
             ],
             [
              0.5555555555555556,
              "#d8576b"
             ],
             [
              0.6666666666666666,
              "#ed7953"
             ],
             [
              0.7777777777777778,
              "#fb9f3a"
             ],
             [
              0.8888888888888888,
              "#fdca26"
             ],
             [
              1,
              "#f0f921"
             ]
            ],
            "type": "surface"
           }
          ],
          "table": [
           {
            "cells": {
             "fill": {
              "color": "#EBF0F8"
             },
             "line": {
              "color": "white"
             }
            },
            "header": {
             "fill": {
              "color": "#C8D4E3"
             },
             "line": {
              "color": "white"
             }
            },
            "type": "table"
           }
          ]
         },
         "layout": {
          "annotationdefaults": {
           "arrowcolor": "#2a3f5f",
           "arrowhead": 0,
           "arrowwidth": 1
          },
          "autotypenumbers": "strict",
          "coloraxis": {
           "colorbar": {
            "outlinewidth": 0,
            "ticks": ""
           }
          },
          "colorscale": {
           "diverging": [
            [
             0,
             "#8e0152"
            ],
            [
             0.1,
             "#c51b7d"
            ],
            [
             0.2,
             "#de77ae"
            ],
            [
             0.3,
             "#f1b6da"
            ],
            [
             0.4,
             "#fde0ef"
            ],
            [
             0.5,
             "#f7f7f7"
            ],
            [
             0.6,
             "#e6f5d0"
            ],
            [
             0.7,
             "#b8e186"
            ],
            [
             0.8,
             "#7fbc41"
            ],
            [
             0.9,
             "#4d9221"
            ],
            [
             1,
             "#276419"
            ]
           ],
           "sequential": [
            [
             0,
             "#0d0887"
            ],
            [
             0.1111111111111111,
             "#46039f"
            ],
            [
             0.2222222222222222,
             "#7201a8"
            ],
            [
             0.3333333333333333,
             "#9c179e"
            ],
            [
             0.4444444444444444,
             "#bd3786"
            ],
            [
             0.5555555555555556,
             "#d8576b"
            ],
            [
             0.6666666666666666,
             "#ed7953"
            ],
            [
             0.7777777777777778,
             "#fb9f3a"
            ],
            [
             0.8888888888888888,
             "#fdca26"
            ],
            [
             1,
             "#f0f921"
            ]
           ],
           "sequentialminus": [
            [
             0,
             "#0d0887"
            ],
            [
             0.1111111111111111,
             "#46039f"
            ],
            [
             0.2222222222222222,
             "#7201a8"
            ],
            [
             0.3333333333333333,
             "#9c179e"
            ],
            [
             0.4444444444444444,
             "#bd3786"
            ],
            [
             0.5555555555555556,
             "#d8576b"
            ],
            [
             0.6666666666666666,
             "#ed7953"
            ],
            [
             0.7777777777777778,
             "#fb9f3a"
            ],
            [
             0.8888888888888888,
             "#fdca26"
            ],
            [
             1,
             "#f0f921"
            ]
           ]
          },
          "colorway": [
           "#636efa",
           "#EF553B",
           "#00cc96",
           "#ab63fa",
           "#FFA15A",
           "#19d3f3",
           "#FF6692",
           "#B6E880",
           "#FF97FF",
           "#FECB52"
          ],
          "font": {
           "color": "#2a3f5f"
          },
          "geo": {
           "bgcolor": "white",
           "lakecolor": "white",
           "landcolor": "#E5ECF6",
           "showlakes": true,
           "showland": true,
           "subunitcolor": "white"
          },
          "hoverlabel": {
           "align": "left"
          },
          "hovermode": "closest",
          "mapbox": {
           "style": "light"
          },
          "paper_bgcolor": "white",
          "plot_bgcolor": "#E5ECF6",
          "polar": {
           "angularaxis": {
            "gridcolor": "white",
            "linecolor": "white",
            "ticks": ""
           },
           "bgcolor": "#E5ECF6",
           "radialaxis": {
            "gridcolor": "white",
            "linecolor": "white",
            "ticks": ""
           }
          },
          "scene": {
           "xaxis": {
            "backgroundcolor": "#E5ECF6",
            "gridcolor": "white",
            "gridwidth": 2,
            "linecolor": "white",
            "showbackground": true,
            "ticks": "",
            "zerolinecolor": "white"
           },
           "yaxis": {
            "backgroundcolor": "#E5ECF6",
            "gridcolor": "white",
            "gridwidth": 2,
            "linecolor": "white",
            "showbackground": true,
            "ticks": "",
            "zerolinecolor": "white"
           },
           "zaxis": {
            "backgroundcolor": "#E5ECF6",
            "gridcolor": "white",
            "gridwidth": 2,
            "linecolor": "white",
            "showbackground": true,
            "ticks": "",
            "zerolinecolor": "white"
           }
          },
          "shapedefaults": {
           "line": {
            "color": "#2a3f5f"
           }
          },
          "ternary": {
           "aaxis": {
            "gridcolor": "white",
            "linecolor": "white",
            "ticks": ""
           },
           "baxis": {
            "gridcolor": "white",
            "linecolor": "white",
            "ticks": ""
           },
           "bgcolor": "#E5ECF6",
           "caxis": {
            "gridcolor": "white",
            "linecolor": "white",
            "ticks": ""
           }
          },
          "title": {
           "x": 0.05
          },
          "xaxis": {
           "automargin": true,
           "gridcolor": "white",
           "linecolor": "white",
           "ticks": "",
           "title": {
            "standoff": 15
           },
           "zerolinecolor": "white",
           "zerolinewidth": 2
          },
          "yaxis": {
           "automargin": true,
           "gridcolor": "white",
           "linecolor": "white",
           "ticks": "",
           "title": {
            "standoff": 15
           },
           "zerolinecolor": "white",
           "zerolinewidth": 2
          }
         }
        },
        "title": {
         "text": "Number of Births by Year"
        },
        "xaxis": {
         "anchor": "y",
         "domain": [
          0,
          1
         ],
         "title": {
          "text": "Year"
         }
        },
        "yaxis": {
         "anchor": "x",
         "domain": [
          0,
          1
         ],
         "title": {
          "text": "Number of Births"
         }
        }
       }
      }
     },
     "metadata": {},
     "output_type": "display_data"
    }
   ],
   "source": [
    "fig = px.bar(filter_df, x = 'Year', y = 'Number of Births')\n",
    "\n",
    "fig.update_layout(\n",
    "    title='Number of Births by Year'\n",
    ")\n",
    "fig.show()"
   ]
  },
  {
   "cell_type": "code",
   "execution_count": 26,
   "metadata": {},
   "outputs": [
    {
     "data": {
      "text/html": [
       "<div>\n",
       "<style scoped>\n",
       "    .dataframe tbody tr th:only-of-type {\n",
       "        vertical-align: middle;\n",
       "    }\n",
       "\n",
       "    .dataframe tbody tr th {\n",
       "        vertical-align: top;\n",
       "    }\n",
       "\n",
       "    .dataframe thead th {\n",
       "        text-align: right;\n",
       "    }\n",
       "</style>\n",
       "<table border=\"1\" class=\"dataframe\">\n",
       "  <thead>\n",
       "    <tr style=\"text-align: right;\">\n",
       "      <th></th>\n",
       "      <th>State</th>\n",
       "      <th>State Abbreviation</th>\n",
       "      <th>Year</th>\n",
       "      <th>Gender</th>\n",
       "      <th>Education Level of Mother</th>\n",
       "      <th>Education Level Code</th>\n",
       "      <th>Number of Births</th>\n",
       "      <th>Avg. Age of Mother</th>\n",
       "      <th>Avg. Birth Weight in Grams</th>\n",
       "    </tr>\n",
       "  </thead>\n",
       "  <tbody>\n",
       "    <tr>\n",
       "      <th>0</th>\n",
       "      <td>Alabama</td>\n",
       "      <td>AL</td>\n",
       "      <td>2016</td>\n",
       "      <td>F</td>\n",
       "      <td>8th grade or less</td>\n",
       "      <td>1</td>\n",
       "      <td>1052</td>\n",
       "      <td>27.8</td>\n",
       "      <td>3116.9</td>\n",
       "    </tr>\n",
       "    <tr>\n",
       "      <th>1</th>\n",
       "      <td>Alabama</td>\n",
       "      <td>AL</td>\n",
       "      <td>2016</td>\n",
       "      <td>F</td>\n",
       "      <td>9th through 12th grade with no diploma</td>\n",
       "      <td>2</td>\n",
       "      <td>3436</td>\n",
       "      <td>24.1</td>\n",
       "      <td>3040.0</td>\n",
       "    </tr>\n",
       "    <tr>\n",
       "      <th>2</th>\n",
       "      <td>Alabama</td>\n",
       "      <td>AL</td>\n",
       "      <td>2016</td>\n",
       "      <td>F</td>\n",
       "      <td>High school graduate or GED completed</td>\n",
       "      <td>3</td>\n",
       "      <td>8777</td>\n",
       "      <td>25.4</td>\n",
       "      <td>3080.0</td>\n",
       "    </tr>\n",
       "    <tr>\n",
       "      <th>3</th>\n",
       "      <td>Alabama</td>\n",
       "      <td>AL</td>\n",
       "      <td>2016</td>\n",
       "      <td>F</td>\n",
       "      <td>Some college credit, but not a degree</td>\n",
       "      <td>4</td>\n",
       "      <td>6453</td>\n",
       "      <td>26.7</td>\n",
       "      <td>3121.9</td>\n",
       "    </tr>\n",
       "    <tr>\n",
       "      <th>4</th>\n",
       "      <td>Alabama</td>\n",
       "      <td>AL</td>\n",
       "      <td>2016</td>\n",
       "      <td>F</td>\n",
       "      <td>Associate degree (AA, AS)</td>\n",
       "      <td>5</td>\n",
       "      <td>2227</td>\n",
       "      <td>28.9</td>\n",
       "      <td>3174.3</td>\n",
       "    </tr>\n",
       "    <tr>\n",
       "      <th>5</th>\n",
       "      <td>Alabama</td>\n",
       "      <td>AL</td>\n",
       "      <td>2016</td>\n",
       "      <td>F</td>\n",
       "      <td>Bachelor's degree (BA, AB, BS)</td>\n",
       "      <td>6</td>\n",
       "      <td>4453</td>\n",
       "      <td>30.3</td>\n",
       "      <td>3239.0</td>\n",
       "    </tr>\n",
       "    <tr>\n",
       "      <th>6</th>\n",
       "      <td>Alabama</td>\n",
       "      <td>AL</td>\n",
       "      <td>2016</td>\n",
       "      <td>F</td>\n",
       "      <td>Master's degree (MA, MS, MEng, MEd, MSW, MBA)</td>\n",
       "      <td>7</td>\n",
       "      <td>1910</td>\n",
       "      <td>32.0</td>\n",
       "      <td>3263.5</td>\n",
       "    </tr>\n",
       "    <tr>\n",
       "      <th>7</th>\n",
       "      <td>Alabama</td>\n",
       "      <td>AL</td>\n",
       "      <td>2016</td>\n",
       "      <td>F</td>\n",
       "      <td>Doctorate (PhD, EdD) or Professional Degree (M...</td>\n",
       "      <td>8</td>\n",
       "      <td>487</td>\n",
       "      <td>33.1</td>\n",
       "      <td>3196.7</td>\n",
       "    </tr>\n",
       "    <tr>\n",
       "      <th>8</th>\n",
       "      <td>Alabama</td>\n",
       "      <td>AL</td>\n",
       "      <td>2016</td>\n",
       "      <td>F</td>\n",
       "      <td>Unknown or Not Stated</td>\n",
       "      <td>-9</td>\n",
       "      <td>65</td>\n",
       "      <td>27.7</td>\n",
       "      <td>3083.9</td>\n",
       "    </tr>\n",
       "    <tr>\n",
       "      <th>9</th>\n",
       "      <td>Alabama</td>\n",
       "      <td>AL</td>\n",
       "      <td>2016</td>\n",
       "      <td>M</td>\n",
       "      <td>8th grade or less</td>\n",
       "      <td>1</td>\n",
       "      <td>1188</td>\n",
       "      <td>27.6</td>\n",
       "      <td>3232.9</td>\n",
       "    </tr>\n",
       "    <tr>\n",
       "      <th>10</th>\n",
       "      <td>Alabama</td>\n",
       "      <td>AL</td>\n",
       "      <td>2016</td>\n",
       "      <td>M</td>\n",
       "      <td>9th through 12th grade with no diploma</td>\n",
       "      <td>2</td>\n",
       "      <td>3657</td>\n",
       "      <td>23.9</td>\n",
       "      <td>3121.2</td>\n",
       "    </tr>\n",
       "    <tr>\n",
       "      <th>11</th>\n",
       "      <td>Alabama</td>\n",
       "      <td>AL</td>\n",
       "      <td>2016</td>\n",
       "      <td>M</td>\n",
       "      <td>High school graduate or GED completed</td>\n",
       "      <td>3</td>\n",
       "      <td>9284</td>\n",
       "      <td>25.2</td>\n",
       "      <td>3197.9</td>\n",
       "    </tr>\n",
       "    <tr>\n",
       "      <th>12</th>\n",
       "      <td>Alabama</td>\n",
       "      <td>AL</td>\n",
       "      <td>2016</td>\n",
       "      <td>M</td>\n",
       "      <td>Some college credit, but not a degree</td>\n",
       "      <td>4</td>\n",
       "      <td>6516</td>\n",
       "      <td>26.7</td>\n",
       "      <td>3252.1</td>\n",
       "    </tr>\n",
       "    <tr>\n",
       "      <th>13</th>\n",
       "      <td>Alabama</td>\n",
       "      <td>AL</td>\n",
       "      <td>2016</td>\n",
       "      <td>M</td>\n",
       "      <td>Associate degree (AA, AS)</td>\n",
       "      <td>5</td>\n",
       "      <td>2460</td>\n",
       "      <td>29.0</td>\n",
       "      <td>3301.4</td>\n",
       "    </tr>\n",
       "    <tr>\n",
       "      <th>14</th>\n",
       "      <td>Alabama</td>\n",
       "      <td>AL</td>\n",
       "      <td>2016</td>\n",
       "      <td>M</td>\n",
       "      <td>Bachelor's degree (BA, AB, BS)</td>\n",
       "      <td>6</td>\n",
       "      <td>4645</td>\n",
       "      <td>30.3</td>\n",
       "      <td>3376.1</td>\n",
       "    </tr>\n",
       "    <tr>\n",
       "      <th>15</th>\n",
       "      <td>Alabama</td>\n",
       "      <td>AL</td>\n",
       "      <td>2016</td>\n",
       "      <td>M</td>\n",
       "      <td>Master's degree (MA, MS, MEng, MEd, MSW, MBA)</td>\n",
       "      <td>7</td>\n",
       "      <td>1974</td>\n",
       "      <td>32.2</td>\n",
       "      <td>3358.2</td>\n",
       "    </tr>\n",
       "    <tr>\n",
       "      <th>16</th>\n",
       "      <td>Alabama</td>\n",
       "      <td>AL</td>\n",
       "      <td>2016</td>\n",
       "      <td>M</td>\n",
       "      <td>Doctorate (PhD, EdD) or Professional Degree (M...</td>\n",
       "      <td>8</td>\n",
       "      <td>511</td>\n",
       "      <td>32.8</td>\n",
       "      <td>3368.4</td>\n",
       "    </tr>\n",
       "    <tr>\n",
       "      <th>17</th>\n",
       "      <td>Alabama</td>\n",
       "      <td>AL</td>\n",
       "      <td>2016</td>\n",
       "      <td>M</td>\n",
       "      <td>Unknown or Not Stated</td>\n",
       "      <td>-9</td>\n",
       "      <td>56</td>\n",
       "      <td>27.2</td>\n",
       "      <td>3107.7</td>\n",
       "    </tr>\n",
       "    <tr>\n",
       "      <th>18</th>\n",
       "      <td>Alabama</td>\n",
       "      <td>AL</td>\n",
       "      <td>2017</td>\n",
       "      <td>F</td>\n",
       "      <td>8th grade or less</td>\n",
       "      <td>1</td>\n",
       "      <td>1012</td>\n",
       "      <td>27.6</td>\n",
       "      <td>3139.6</td>\n",
       "    </tr>\n",
       "    <tr>\n",
       "      <th>19</th>\n",
       "      <td>Alabama</td>\n",
       "      <td>AL</td>\n",
       "      <td>2017</td>\n",
       "      <td>F</td>\n",
       "      <td>9th through 12th grade with no diploma</td>\n",
       "      <td>2</td>\n",
       "      <td>3283</td>\n",
       "      <td>24.4</td>\n",
       "      <td>3040.6</td>\n",
       "    </tr>\n",
       "    <tr>\n",
       "      <th>20</th>\n",
       "      <td>Alabama</td>\n",
       "      <td>AL</td>\n",
       "      <td>2017</td>\n",
       "      <td>F</td>\n",
       "      <td>High school graduate or GED completed</td>\n",
       "      <td>3</td>\n",
       "      <td>8962</td>\n",
       "      <td>25.4</td>\n",
       "      <td>3068.8</td>\n",
       "    </tr>\n",
       "    <tr>\n",
       "      <th>21</th>\n",
       "      <td>Alabama</td>\n",
       "      <td>AL</td>\n",
       "      <td>2017</td>\n",
       "      <td>F</td>\n",
       "      <td>Some college credit, but not a degree</td>\n",
       "      <td>4</td>\n",
       "      <td>6384</td>\n",
       "      <td>26.9</td>\n",
       "      <td>3112.3</td>\n",
       "    </tr>\n",
       "    <tr>\n",
       "      <th>22</th>\n",
       "      <td>Alabama</td>\n",
       "      <td>AL</td>\n",
       "      <td>2017</td>\n",
       "      <td>F</td>\n",
       "      <td>Associate degree (AA, AS)</td>\n",
       "      <td>5</td>\n",
       "      <td>2411</td>\n",
       "      <td>28.9</td>\n",
       "      <td>3197.2</td>\n",
       "    </tr>\n",
       "    <tr>\n",
       "      <th>23</th>\n",
       "      <td>Alabama</td>\n",
       "      <td>AL</td>\n",
       "      <td>2017</td>\n",
       "      <td>F</td>\n",
       "      <td>Bachelor's degree (BA, AB, BS)</td>\n",
       "      <td>6</td>\n",
       "      <td>4335</td>\n",
       "      <td>30.5</td>\n",
       "      <td>3259.2</td>\n",
       "    </tr>\n",
       "    <tr>\n",
       "      <th>24</th>\n",
       "      <td>Alabama</td>\n",
       "      <td>AL</td>\n",
       "      <td>2017</td>\n",
       "      <td>F</td>\n",
       "      <td>Master's degree (MA, MS, MEng, MEd, MSW, MBA)</td>\n",
       "      <td>7</td>\n",
       "      <td>1874</td>\n",
       "      <td>32.1</td>\n",
       "      <td>3251.7</td>\n",
       "    </tr>\n",
       "    <tr>\n",
       "      <th>25</th>\n",
       "      <td>Alabama</td>\n",
       "      <td>AL</td>\n",
       "      <td>2017</td>\n",
       "      <td>F</td>\n",
       "      <td>Doctorate (PhD, EdD) or Professional Degree (M...</td>\n",
       "      <td>8</td>\n",
       "      <td>551</td>\n",
       "      <td>33.1</td>\n",
       "      <td>3230.8</td>\n",
       "    </tr>\n",
       "    <tr>\n",
       "      <th>26</th>\n",
       "      <td>Alabama</td>\n",
       "      <td>AL</td>\n",
       "      <td>2017</td>\n",
       "      <td>F</td>\n",
       "      <td>Unknown or Not Stated</td>\n",
       "      <td>-9</td>\n",
       "      <td>62</td>\n",
       "      <td>28.0</td>\n",
       "      <td>3014.4</td>\n",
       "    </tr>\n",
       "    <tr>\n",
       "      <th>27</th>\n",
       "      <td>Alabama</td>\n",
       "      <td>AL</td>\n",
       "      <td>2017</td>\n",
       "      <td>M</td>\n",
       "      <td>8th grade or less</td>\n",
       "      <td>1</td>\n",
       "      <td>978</td>\n",
       "      <td>27.6</td>\n",
       "      <td>3229.8</td>\n",
       "    </tr>\n",
       "    <tr>\n",
       "      <th>28</th>\n",
       "      <td>Alabama</td>\n",
       "      <td>AL</td>\n",
       "      <td>2017</td>\n",
       "      <td>M</td>\n",
       "      <td>9th through 12th grade with no diploma</td>\n",
       "      <td>2</td>\n",
       "      <td>3345</td>\n",
       "      <td>23.9</td>\n",
       "      <td>3116.2</td>\n",
       "    </tr>\n",
       "    <tr>\n",
       "      <th>29</th>\n",
       "      <td>Alabama</td>\n",
       "      <td>AL</td>\n",
       "      <td>2017</td>\n",
       "      <td>M</td>\n",
       "      <td>High school graduate or GED completed</td>\n",
       "      <td>3</td>\n",
       "      <td>9403</td>\n",
       "      <td>25.4</td>\n",
       "      <td>3190.0</td>\n",
       "    </tr>\n",
       "  </tbody>\n",
       "</table>\n",
       "</div>"
      ],
      "text/plain": [
       "      State State Abbreviation  Year Gender  \\\n",
       "0   Alabama                 AL  2016      F   \n",
       "1   Alabama                 AL  2016      F   \n",
       "2   Alabama                 AL  2016      F   \n",
       "3   Alabama                 AL  2016      F   \n",
       "4   Alabama                 AL  2016      F   \n",
       "5   Alabama                 AL  2016      F   \n",
       "6   Alabama                 AL  2016      F   \n",
       "7   Alabama                 AL  2016      F   \n",
       "8   Alabama                 AL  2016      F   \n",
       "9   Alabama                 AL  2016      M   \n",
       "10  Alabama                 AL  2016      M   \n",
       "11  Alabama                 AL  2016      M   \n",
       "12  Alabama                 AL  2016      M   \n",
       "13  Alabama                 AL  2016      M   \n",
       "14  Alabama                 AL  2016      M   \n",
       "15  Alabama                 AL  2016      M   \n",
       "16  Alabama                 AL  2016      M   \n",
       "17  Alabama                 AL  2016      M   \n",
       "18  Alabama                 AL  2017      F   \n",
       "19  Alabama                 AL  2017      F   \n",
       "20  Alabama                 AL  2017      F   \n",
       "21  Alabama                 AL  2017      F   \n",
       "22  Alabama                 AL  2017      F   \n",
       "23  Alabama                 AL  2017      F   \n",
       "24  Alabama                 AL  2017      F   \n",
       "25  Alabama                 AL  2017      F   \n",
       "26  Alabama                 AL  2017      F   \n",
       "27  Alabama                 AL  2017      M   \n",
       "28  Alabama                 AL  2017      M   \n",
       "29  Alabama                 AL  2017      M   \n",
       "\n",
       "                            Education Level of Mother  Education Level Code  \\\n",
       "0                                   8th grade or less                     1   \n",
       "1              9th through 12th grade with no diploma                     2   \n",
       "2               High school graduate or GED completed                     3   \n",
       "3               Some college credit, but not a degree                     4   \n",
       "4                           Associate degree (AA, AS)                     5   \n",
       "5                      Bachelor's degree (BA, AB, BS)                     6   \n",
       "6       Master's degree (MA, MS, MEng, MEd, MSW, MBA)                     7   \n",
       "7   Doctorate (PhD, EdD) or Professional Degree (M...                     8   \n",
       "8                               Unknown or Not Stated                    -9   \n",
       "9                                   8th grade or less                     1   \n",
       "10             9th through 12th grade with no diploma                     2   \n",
       "11              High school graduate or GED completed                     3   \n",
       "12              Some college credit, but not a degree                     4   \n",
       "13                          Associate degree (AA, AS)                     5   \n",
       "14                     Bachelor's degree (BA, AB, BS)                     6   \n",
       "15      Master's degree (MA, MS, MEng, MEd, MSW, MBA)                     7   \n",
       "16  Doctorate (PhD, EdD) or Professional Degree (M...                     8   \n",
       "17                              Unknown or Not Stated                    -9   \n",
       "18                                  8th grade or less                     1   \n",
       "19             9th through 12th grade with no diploma                     2   \n",
       "20              High school graduate or GED completed                     3   \n",
       "21              Some college credit, but not a degree                     4   \n",
       "22                          Associate degree (AA, AS)                     5   \n",
       "23                     Bachelor's degree (BA, AB, BS)                     6   \n",
       "24      Master's degree (MA, MS, MEng, MEd, MSW, MBA)                     7   \n",
       "25  Doctorate (PhD, EdD) or Professional Degree (M...                     8   \n",
       "26                              Unknown or Not Stated                    -9   \n",
       "27                                  8th grade or less                     1   \n",
       "28             9th through 12th grade with no diploma                     2   \n",
       "29              High school graduate or GED completed                     3   \n",
       "\n",
       "    Number of Births  Avg. Age of Mother  Avg. Birth Weight in Grams  \n",
       "0               1052                27.8                      3116.9  \n",
       "1               3436                24.1                      3040.0  \n",
       "2               8777                25.4                      3080.0  \n",
       "3               6453                26.7                      3121.9  \n",
       "4               2227                28.9                      3174.3  \n",
       "5               4453                30.3                      3239.0  \n",
       "6               1910                32.0                      3263.5  \n",
       "7                487                33.1                      3196.7  \n",
       "8                 65                27.7                      3083.9  \n",
       "9               1188                27.6                      3232.9  \n",
       "10              3657                23.9                      3121.2  \n",
       "11              9284                25.2                      3197.9  \n",
       "12              6516                26.7                      3252.1  \n",
       "13              2460                29.0                      3301.4  \n",
       "14              4645                30.3                      3376.1  \n",
       "15              1974                32.2                      3358.2  \n",
       "16               511                32.8                      3368.4  \n",
       "17                56                27.2                      3107.7  \n",
       "18              1012                27.6                      3139.6  \n",
       "19              3283                24.4                      3040.6  \n",
       "20              8962                25.4                      3068.8  \n",
       "21              6384                26.9                      3112.3  \n",
       "22              2411                28.9                      3197.2  \n",
       "23              4335                30.5                      3259.2  \n",
       "24              1874                32.1                      3251.7  \n",
       "25               551                33.1                      3230.8  \n",
       "26                62                28.0                      3014.4  \n",
       "27               978                27.6                      3229.8  \n",
       "28              3345                23.9                      3116.2  \n",
       "29              9403                25.4                      3190.0  "
      ]
     },
     "execution_count": 26,
     "metadata": {},
     "output_type": "execute_result"
    }
   ],
   "source": [
    "us_births = us_births.rename(columns = {'State Abbreviation ': 'State_Code', 'Average Age of Mother (years)': 'Avg. Age of Mother', 'Average Birth Weight (g)' : 'Avg. Birth Weight in Grams'})\n",
    "us_births.head(30)"
   ]
  },
  {
   "cell_type": "code",
   "execution_count": 19,
   "metadata": {},
   "outputs": [
    {
     "data": {
      "text/html": [
       "<div>\n",
       "<style scoped>\n",
       "    .dataframe tbody tr th:only-of-type {\n",
       "        vertical-align: middle;\n",
       "    }\n",
       "\n",
       "    .dataframe tbody tr th {\n",
       "        vertical-align: top;\n",
       "    }\n",
       "\n",
       "    .dataframe thead th {\n",
       "        text-align: right;\n",
       "    }\n",
       "</style>\n",
       "<table border=\"1\" class=\"dataframe\">\n",
       "  <thead>\n",
       "    <tr style=\"text-align: right;\">\n",
       "      <th></th>\n",
       "      <th>type</th>\n",
       "      <th>features</th>\n",
       "    </tr>\n",
       "  </thead>\n",
       "  <tbody>\n",
       "    <tr>\n",
       "      <th>0</th>\n",
       "      <td>FeatureCollection</td>\n",
       "      <td>{'type': 'Feature', 'id': 'AL', 'properties': ...</td>\n",
       "    </tr>\n",
       "    <tr>\n",
       "      <th>1</th>\n",
       "      <td>FeatureCollection</td>\n",
       "      <td>{'type': 'Feature', 'id': 'AK', 'properties': ...</td>\n",
       "    </tr>\n",
       "    <tr>\n",
       "      <th>2</th>\n",
       "      <td>FeatureCollection</td>\n",
       "      <td>{'type': 'Feature', 'id': 'AZ', 'properties': ...</td>\n",
       "    </tr>\n",
       "    <tr>\n",
       "      <th>3</th>\n",
       "      <td>FeatureCollection</td>\n",
       "      <td>{'type': 'Feature', 'id': 'AR', 'properties': ...</td>\n",
       "    </tr>\n",
       "    <tr>\n",
       "      <th>4</th>\n",
       "      <td>FeatureCollection</td>\n",
       "      <td>{'type': 'Feature', 'id': 'CA', 'properties': ...</td>\n",
       "    </tr>\n",
       "    <tr>\n",
       "      <th>5</th>\n",
       "      <td>FeatureCollection</td>\n",
       "      <td>{'type': 'Feature', 'id': 'CO', 'properties': ...</td>\n",
       "    </tr>\n",
       "    <tr>\n",
       "      <th>6</th>\n",
       "      <td>FeatureCollection</td>\n",
       "      <td>{'type': 'Feature', 'id': 'CT', 'properties': ...</td>\n",
       "    </tr>\n",
       "    <tr>\n",
       "      <th>7</th>\n",
       "      <td>FeatureCollection</td>\n",
       "      <td>{'type': 'Feature', 'id': 'DE', 'properties': ...</td>\n",
       "    </tr>\n",
       "    <tr>\n",
       "      <th>8</th>\n",
       "      <td>FeatureCollection</td>\n",
       "      <td>{'type': 'Feature', 'id': 'FL', 'properties': ...</td>\n",
       "    </tr>\n",
       "    <tr>\n",
       "      <th>9</th>\n",
       "      <td>FeatureCollection</td>\n",
       "      <td>{'type': 'Feature', 'id': 'GA', 'properties': ...</td>\n",
       "    </tr>\n",
       "    <tr>\n",
       "      <th>10</th>\n",
       "      <td>FeatureCollection</td>\n",
       "      <td>{'type': 'Feature', 'id': 'HI', 'properties': ...</td>\n",
       "    </tr>\n",
       "    <tr>\n",
       "      <th>11</th>\n",
       "      <td>FeatureCollection</td>\n",
       "      <td>{'type': 'Feature', 'id': 'ID', 'properties': ...</td>\n",
       "    </tr>\n",
       "    <tr>\n",
       "      <th>12</th>\n",
       "      <td>FeatureCollection</td>\n",
       "      <td>{'type': 'Feature', 'id': 'IL', 'properties': ...</td>\n",
       "    </tr>\n",
       "    <tr>\n",
       "      <th>13</th>\n",
       "      <td>FeatureCollection</td>\n",
       "      <td>{'type': 'Feature', 'id': 'IN', 'properties': ...</td>\n",
       "    </tr>\n",
       "    <tr>\n",
       "      <th>14</th>\n",
       "      <td>FeatureCollection</td>\n",
       "      <td>{'type': 'Feature', 'id': 'IA', 'properties': ...</td>\n",
       "    </tr>\n",
       "    <tr>\n",
       "      <th>15</th>\n",
       "      <td>FeatureCollection</td>\n",
       "      <td>{'type': 'Feature', 'id': 'KS', 'properties': ...</td>\n",
       "    </tr>\n",
       "    <tr>\n",
       "      <th>16</th>\n",
       "      <td>FeatureCollection</td>\n",
       "      <td>{'type': 'Feature', 'id': 'KY', 'properties': ...</td>\n",
       "    </tr>\n",
       "    <tr>\n",
       "      <th>17</th>\n",
       "      <td>FeatureCollection</td>\n",
       "      <td>{'type': 'Feature', 'id': 'LA', 'properties': ...</td>\n",
       "    </tr>\n",
       "    <tr>\n",
       "      <th>18</th>\n",
       "      <td>FeatureCollection</td>\n",
       "      <td>{'type': 'Feature', 'id': 'ME', 'properties': ...</td>\n",
       "    </tr>\n",
       "    <tr>\n",
       "      <th>19</th>\n",
       "      <td>FeatureCollection</td>\n",
       "      <td>{'type': 'Feature', 'id': 'MD', 'properties': ...</td>\n",
       "    </tr>\n",
       "    <tr>\n",
       "      <th>20</th>\n",
       "      <td>FeatureCollection</td>\n",
       "      <td>{'type': 'Feature', 'id': 'MA', 'properties': ...</td>\n",
       "    </tr>\n",
       "    <tr>\n",
       "      <th>21</th>\n",
       "      <td>FeatureCollection</td>\n",
       "      <td>{'type': 'Feature', 'id': 'MI', 'properties': ...</td>\n",
       "    </tr>\n",
       "    <tr>\n",
       "      <th>22</th>\n",
       "      <td>FeatureCollection</td>\n",
       "      <td>{'type': 'Feature', 'id': 'MN', 'properties': ...</td>\n",
       "    </tr>\n",
       "    <tr>\n",
       "      <th>23</th>\n",
       "      <td>FeatureCollection</td>\n",
       "      <td>{'type': 'Feature', 'id': 'MS', 'properties': ...</td>\n",
       "    </tr>\n",
       "    <tr>\n",
       "      <th>24</th>\n",
       "      <td>FeatureCollection</td>\n",
       "      <td>{'type': 'Feature', 'id': 'MO', 'properties': ...</td>\n",
       "    </tr>\n",
       "    <tr>\n",
       "      <th>25</th>\n",
       "      <td>FeatureCollection</td>\n",
       "      <td>{'type': 'Feature', 'id': 'MT', 'properties': ...</td>\n",
       "    </tr>\n",
       "    <tr>\n",
       "      <th>26</th>\n",
       "      <td>FeatureCollection</td>\n",
       "      <td>{'type': 'Feature', 'id': 'NE', 'properties': ...</td>\n",
       "    </tr>\n",
       "    <tr>\n",
       "      <th>27</th>\n",
       "      <td>FeatureCollection</td>\n",
       "      <td>{'type': 'Feature', 'id': 'NV', 'properties': ...</td>\n",
       "    </tr>\n",
       "    <tr>\n",
       "      <th>28</th>\n",
       "      <td>FeatureCollection</td>\n",
       "      <td>{'type': 'Feature', 'id': 'NH', 'properties': ...</td>\n",
       "    </tr>\n",
       "    <tr>\n",
       "      <th>29</th>\n",
       "      <td>FeatureCollection</td>\n",
       "      <td>{'type': 'Feature', 'id': 'NJ', 'properties': ...</td>\n",
       "    </tr>\n",
       "    <tr>\n",
       "      <th>30</th>\n",
       "      <td>FeatureCollection</td>\n",
       "      <td>{'type': 'Feature', 'id': 'NM', 'properties': ...</td>\n",
       "    </tr>\n",
       "    <tr>\n",
       "      <th>31</th>\n",
       "      <td>FeatureCollection</td>\n",
       "      <td>{'type': 'Feature', 'id': 'NY', 'properties': ...</td>\n",
       "    </tr>\n",
       "    <tr>\n",
       "      <th>32</th>\n",
       "      <td>FeatureCollection</td>\n",
       "      <td>{'type': 'Feature', 'id': 'NC', 'properties': ...</td>\n",
       "    </tr>\n",
       "    <tr>\n",
       "      <th>33</th>\n",
       "      <td>FeatureCollection</td>\n",
       "      <td>{'type': 'Feature', 'id': 'ND', 'properties': ...</td>\n",
       "    </tr>\n",
       "    <tr>\n",
       "      <th>34</th>\n",
       "      <td>FeatureCollection</td>\n",
       "      <td>{'type': 'Feature', 'id': 'OH', 'properties': ...</td>\n",
       "    </tr>\n",
       "    <tr>\n",
       "      <th>35</th>\n",
       "      <td>FeatureCollection</td>\n",
       "      <td>{'type': 'Feature', 'id': 'OK', 'properties': ...</td>\n",
       "    </tr>\n",
       "    <tr>\n",
       "      <th>36</th>\n",
       "      <td>FeatureCollection</td>\n",
       "      <td>{'type': 'Feature', 'id': 'OR', 'properties': ...</td>\n",
       "    </tr>\n",
       "    <tr>\n",
       "      <th>37</th>\n",
       "      <td>FeatureCollection</td>\n",
       "      <td>{'type': 'Feature', 'id': 'PA', 'properties': ...</td>\n",
       "    </tr>\n",
       "    <tr>\n",
       "      <th>38</th>\n",
       "      <td>FeatureCollection</td>\n",
       "      <td>{'type': 'Feature', 'id': 'RI', 'properties': ...</td>\n",
       "    </tr>\n",
       "    <tr>\n",
       "      <th>39</th>\n",
       "      <td>FeatureCollection</td>\n",
       "      <td>{'type': 'Feature', 'id': 'SC', 'properties': ...</td>\n",
       "    </tr>\n",
       "    <tr>\n",
       "      <th>40</th>\n",
       "      <td>FeatureCollection</td>\n",
       "      <td>{'type': 'Feature', 'id': 'SD', 'properties': ...</td>\n",
       "    </tr>\n",
       "    <tr>\n",
       "      <th>41</th>\n",
       "      <td>FeatureCollection</td>\n",
       "      <td>{'type': 'Feature', 'id': 'TN', 'properties': ...</td>\n",
       "    </tr>\n",
       "    <tr>\n",
       "      <th>42</th>\n",
       "      <td>FeatureCollection</td>\n",
       "      <td>{'type': 'Feature', 'id': 'TX', 'properties': ...</td>\n",
       "    </tr>\n",
       "    <tr>\n",
       "      <th>43</th>\n",
       "      <td>FeatureCollection</td>\n",
       "      <td>{'type': 'Feature', 'id': 'UT', 'properties': ...</td>\n",
       "    </tr>\n",
       "    <tr>\n",
       "      <th>44</th>\n",
       "      <td>FeatureCollection</td>\n",
       "      <td>{'type': 'Feature', 'id': 'VT', 'properties': ...</td>\n",
       "    </tr>\n",
       "    <tr>\n",
       "      <th>45</th>\n",
       "      <td>FeatureCollection</td>\n",
       "      <td>{'type': 'Feature', 'id': 'VA', 'properties': ...</td>\n",
       "    </tr>\n",
       "    <tr>\n",
       "      <th>46</th>\n",
       "      <td>FeatureCollection</td>\n",
       "      <td>{'type': 'Feature', 'id': 'WA', 'properties': ...</td>\n",
       "    </tr>\n",
       "    <tr>\n",
       "      <th>47</th>\n",
       "      <td>FeatureCollection</td>\n",
       "      <td>{'type': 'Feature', 'id': 'WV', 'properties': ...</td>\n",
       "    </tr>\n",
       "    <tr>\n",
       "      <th>48</th>\n",
       "      <td>FeatureCollection</td>\n",
       "      <td>{'type': 'Feature', 'id': 'WI', 'properties': ...</td>\n",
       "    </tr>\n",
       "    <tr>\n",
       "      <th>49</th>\n",
       "      <td>FeatureCollection</td>\n",
       "      <td>{'type': 'Feature', 'id': 'WY', 'properties': ...</td>\n",
       "    </tr>\n",
       "  </tbody>\n",
       "</table>\n",
       "</div>"
      ],
      "text/plain": [
       "                 type                                           features\n",
       "0   FeatureCollection  {'type': 'Feature', 'id': 'AL', 'properties': ...\n",
       "1   FeatureCollection  {'type': 'Feature', 'id': 'AK', 'properties': ...\n",
       "2   FeatureCollection  {'type': 'Feature', 'id': 'AZ', 'properties': ...\n",
       "3   FeatureCollection  {'type': 'Feature', 'id': 'AR', 'properties': ...\n",
       "4   FeatureCollection  {'type': 'Feature', 'id': 'CA', 'properties': ...\n",
       "5   FeatureCollection  {'type': 'Feature', 'id': 'CO', 'properties': ...\n",
       "6   FeatureCollection  {'type': 'Feature', 'id': 'CT', 'properties': ...\n",
       "7   FeatureCollection  {'type': 'Feature', 'id': 'DE', 'properties': ...\n",
       "8   FeatureCollection  {'type': 'Feature', 'id': 'FL', 'properties': ...\n",
       "9   FeatureCollection  {'type': 'Feature', 'id': 'GA', 'properties': ...\n",
       "10  FeatureCollection  {'type': 'Feature', 'id': 'HI', 'properties': ...\n",
       "11  FeatureCollection  {'type': 'Feature', 'id': 'ID', 'properties': ...\n",
       "12  FeatureCollection  {'type': 'Feature', 'id': 'IL', 'properties': ...\n",
       "13  FeatureCollection  {'type': 'Feature', 'id': 'IN', 'properties': ...\n",
       "14  FeatureCollection  {'type': 'Feature', 'id': 'IA', 'properties': ...\n",
       "15  FeatureCollection  {'type': 'Feature', 'id': 'KS', 'properties': ...\n",
       "16  FeatureCollection  {'type': 'Feature', 'id': 'KY', 'properties': ...\n",
       "17  FeatureCollection  {'type': 'Feature', 'id': 'LA', 'properties': ...\n",
       "18  FeatureCollection  {'type': 'Feature', 'id': 'ME', 'properties': ...\n",
       "19  FeatureCollection  {'type': 'Feature', 'id': 'MD', 'properties': ...\n",
       "20  FeatureCollection  {'type': 'Feature', 'id': 'MA', 'properties': ...\n",
       "21  FeatureCollection  {'type': 'Feature', 'id': 'MI', 'properties': ...\n",
       "22  FeatureCollection  {'type': 'Feature', 'id': 'MN', 'properties': ...\n",
       "23  FeatureCollection  {'type': 'Feature', 'id': 'MS', 'properties': ...\n",
       "24  FeatureCollection  {'type': 'Feature', 'id': 'MO', 'properties': ...\n",
       "25  FeatureCollection  {'type': 'Feature', 'id': 'MT', 'properties': ...\n",
       "26  FeatureCollection  {'type': 'Feature', 'id': 'NE', 'properties': ...\n",
       "27  FeatureCollection  {'type': 'Feature', 'id': 'NV', 'properties': ...\n",
       "28  FeatureCollection  {'type': 'Feature', 'id': 'NH', 'properties': ...\n",
       "29  FeatureCollection  {'type': 'Feature', 'id': 'NJ', 'properties': ...\n",
       "30  FeatureCollection  {'type': 'Feature', 'id': 'NM', 'properties': ...\n",
       "31  FeatureCollection  {'type': 'Feature', 'id': 'NY', 'properties': ...\n",
       "32  FeatureCollection  {'type': 'Feature', 'id': 'NC', 'properties': ...\n",
       "33  FeatureCollection  {'type': 'Feature', 'id': 'ND', 'properties': ...\n",
       "34  FeatureCollection  {'type': 'Feature', 'id': 'OH', 'properties': ...\n",
       "35  FeatureCollection  {'type': 'Feature', 'id': 'OK', 'properties': ...\n",
       "36  FeatureCollection  {'type': 'Feature', 'id': 'OR', 'properties': ...\n",
       "37  FeatureCollection  {'type': 'Feature', 'id': 'PA', 'properties': ...\n",
       "38  FeatureCollection  {'type': 'Feature', 'id': 'RI', 'properties': ...\n",
       "39  FeatureCollection  {'type': 'Feature', 'id': 'SC', 'properties': ...\n",
       "40  FeatureCollection  {'type': 'Feature', 'id': 'SD', 'properties': ...\n",
       "41  FeatureCollection  {'type': 'Feature', 'id': 'TN', 'properties': ...\n",
       "42  FeatureCollection  {'type': 'Feature', 'id': 'TX', 'properties': ...\n",
       "43  FeatureCollection  {'type': 'Feature', 'id': 'UT', 'properties': ...\n",
       "44  FeatureCollection  {'type': 'Feature', 'id': 'VT', 'properties': ...\n",
       "45  FeatureCollection  {'type': 'Feature', 'id': 'VA', 'properties': ...\n",
       "46  FeatureCollection  {'type': 'Feature', 'id': 'WA', 'properties': ...\n",
       "47  FeatureCollection  {'type': 'Feature', 'id': 'WV', 'properties': ...\n",
       "48  FeatureCollection  {'type': 'Feature', 'id': 'WI', 'properties': ...\n",
       "49  FeatureCollection  {'type': 'Feature', 'id': 'WY', 'properties': ..."
      ]
     },
     "execution_count": 19,
     "metadata": {},
     "output_type": "execute_result"
    }
   ],
   "source": [
    "with open('us-states.json') as f:\n",
    "    us_states_data = json.load(f)\n",
    "states_df = pd.DataFrame(us_states_data)\n",
    "states_df"
   ]
  },
  {
   "cell_type": "code",
   "execution_count": 30,
   "metadata": {},
   "outputs": [
    {
     "data": {
      "text/html": [
       "<div>\n",
       "<style scoped>\n",
       "    .dataframe tbody tr th:only-of-type {\n",
       "        vertical-align: middle;\n",
       "    }\n",
       "\n",
       "    .dataframe tbody tr th {\n",
       "        vertical-align: top;\n",
       "    }\n",
       "\n",
       "    .dataframe thead th {\n",
       "        text-align: right;\n",
       "    }\n",
       "</style>\n",
       "<table border=\"1\" class=\"dataframe\">\n",
       "  <thead>\n",
       "    <tr style=\"text-align: right;\">\n",
       "      <th></th>\n",
       "      <th>State</th>\n",
       "      <th>State Abbreviation</th>\n",
       "      <th>Year</th>\n",
       "      <th>Number of Births</th>\n",
       "    </tr>\n",
       "  </thead>\n",
       "  <tbody>\n",
       "    <tr>\n",
       "      <th>0</th>\n",
       "      <td>Alabama</td>\n",
       "      <td>AL</td>\n",
       "      <td>2016</td>\n",
       "      <td>59151</td>\n",
       "    </tr>\n",
       "    <tr>\n",
       "      <th>1</th>\n",
       "      <td>Alabama</td>\n",
       "      <td>AL</td>\n",
       "      <td>2017</td>\n",
       "      <td>58941</td>\n",
       "    </tr>\n",
       "    <tr>\n",
       "      <th>2</th>\n",
       "      <td>Alabama</td>\n",
       "      <td>AL</td>\n",
       "      <td>2018</td>\n",
       "      <td>57761</td>\n",
       "    </tr>\n",
       "    <tr>\n",
       "      <th>3</th>\n",
       "      <td>Alabama</td>\n",
       "      <td>AL</td>\n",
       "      <td>2019</td>\n",
       "      <td>58615</td>\n",
       "    </tr>\n",
       "    <tr>\n",
       "      <th>4</th>\n",
       "      <td>Alabama</td>\n",
       "      <td>AL</td>\n",
       "      <td>2020</td>\n",
       "      <td>57647</td>\n",
       "    </tr>\n",
       "    <tr>\n",
       "      <th>...</th>\n",
       "      <td>...</td>\n",
       "      <td>...</td>\n",
       "      <td>...</td>\n",
       "      <td>...</td>\n",
       "    </tr>\n",
       "    <tr>\n",
       "      <th>301</th>\n",
       "      <td>Wyoming</td>\n",
       "      <td>WY</td>\n",
       "      <td>2017</td>\n",
       "      <td>6903</td>\n",
       "    </tr>\n",
       "    <tr>\n",
       "      <th>302</th>\n",
       "      <td>Wyoming</td>\n",
       "      <td>WY</td>\n",
       "      <td>2018</td>\n",
       "      <td>6562</td>\n",
       "    </tr>\n",
       "    <tr>\n",
       "      <th>303</th>\n",
       "      <td>Wyoming</td>\n",
       "      <td>WY</td>\n",
       "      <td>2019</td>\n",
       "      <td>6565</td>\n",
       "    </tr>\n",
       "    <tr>\n",
       "      <th>304</th>\n",
       "      <td>Wyoming</td>\n",
       "      <td>WY</td>\n",
       "      <td>2020</td>\n",
       "      <td>6128</td>\n",
       "    </tr>\n",
       "    <tr>\n",
       "      <th>305</th>\n",
       "      <td>Wyoming</td>\n",
       "      <td>WY</td>\n",
       "      <td>2021</td>\n",
       "      <td>6237</td>\n",
       "    </tr>\n",
       "  </tbody>\n",
       "</table>\n",
       "<p>306 rows × 4 columns</p>\n",
       "</div>"
      ],
      "text/plain": [
       "       State State Abbreviation  Year  Number of Births\n",
       "0    Alabama                 AL  2016             59151\n",
       "1    Alabama                 AL  2017             58941\n",
       "2    Alabama                 AL  2018             57761\n",
       "3    Alabama                 AL  2019             58615\n",
       "4    Alabama                 AL  2020             57647\n",
       "..       ...                ...   ...               ...\n",
       "301  Wyoming                 WY  2017              6903\n",
       "302  Wyoming                 WY  2018              6562\n",
       "303  Wyoming                 WY  2019              6565\n",
       "304  Wyoming                 WY  2020              6128\n",
       "305  Wyoming                 WY  2021              6237\n",
       "\n",
       "[306 rows x 4 columns]"
      ]
     },
     "execution_count": 30,
     "metadata": {},
     "output_type": "execute_result"
    }
   ],
   "source": [
    "total_births_by_state_and_year = us_births.groupby(['State', 'State Abbreviation', 'Year'])['Number of Births'].sum().reset_index()\n",
    "total_births_by_state_and_year"
   ]
  },
  {
   "cell_type": "code",
   "execution_count": 31,
   "metadata": {},
   "outputs": [
    {
     "data": {
      "text/html": [
       "<div>\n",
       "<style scoped>\n",
       "    .dataframe tbody tr th:only-of-type {\n",
       "        vertical-align: middle;\n",
       "    }\n",
       "\n",
       "    .dataframe tbody tr th {\n",
       "        vertical-align: top;\n",
       "    }\n",
       "\n",
       "    .dataframe thead th {\n",
       "        text-align: right;\n",
       "    }\n",
       "</style>\n",
       "<table border=\"1\" class=\"dataframe\">\n",
       "  <thead>\n",
       "    <tr style=\"text-align: right;\">\n",
       "      <th></th>\n",
       "      <th>State</th>\n",
       "      <th>State Abbreviation</th>\n",
       "      <th>Education Level of Mother</th>\n",
       "      <th>Year</th>\n",
       "      <th>Number of Births</th>\n",
       "    </tr>\n",
       "  </thead>\n",
       "  <tbody>\n",
       "    <tr>\n",
       "      <th>0</th>\n",
       "      <td>Alabama</td>\n",
       "      <td>AL</td>\n",
       "      <td>9th &gt; 12th Grade</td>\n",
       "      <td>2016</td>\n",
       "      <td>7093</td>\n",
       "    </tr>\n",
       "    <tr>\n",
       "      <th>1</th>\n",
       "      <td>Alabama</td>\n",
       "      <td>AL</td>\n",
       "      <td>9th &gt; 12th Grade</td>\n",
       "      <td>2017</td>\n",
       "      <td>6628</td>\n",
       "    </tr>\n",
       "    <tr>\n",
       "      <th>2</th>\n",
       "      <td>Alabama</td>\n",
       "      <td>AL</td>\n",
       "      <td>9th &gt; 12th Grade</td>\n",
       "      <td>2018</td>\n",
       "      <td>6169</td>\n",
       "    </tr>\n",
       "    <tr>\n",
       "      <th>3</th>\n",
       "      <td>Alabama</td>\n",
       "      <td>AL</td>\n",
       "      <td>9th &gt; 12th Grade</td>\n",
       "      <td>2019</td>\n",
       "      <td>5855</td>\n",
       "    </tr>\n",
       "    <tr>\n",
       "      <th>4</th>\n",
       "      <td>Alabama</td>\n",
       "      <td>AL</td>\n",
       "      <td>9th &gt; 12th Grade</td>\n",
       "      <td>2020</td>\n",
       "      <td>5612</td>\n",
       "    </tr>\n",
       "    <tr>\n",
       "      <th>5</th>\n",
       "      <td>Alabama</td>\n",
       "      <td>AL</td>\n",
       "      <td>9th &gt; 12th Grade</td>\n",
       "      <td>2021</td>\n",
       "      <td>5240</td>\n",
       "    </tr>\n",
       "    <tr>\n",
       "      <th>6</th>\n",
       "      <td>Alabama</td>\n",
       "      <td>AL</td>\n",
       "      <td>&gt; 8th Grade</td>\n",
       "      <td>2016</td>\n",
       "      <td>2240</td>\n",
       "    </tr>\n",
       "    <tr>\n",
       "      <th>7</th>\n",
       "      <td>Alabama</td>\n",
       "      <td>AL</td>\n",
       "      <td>&gt; 8th Grade</td>\n",
       "      <td>2017</td>\n",
       "      <td>1990</td>\n",
       "    </tr>\n",
       "    <tr>\n",
       "      <th>8</th>\n",
       "      <td>Alabama</td>\n",
       "      <td>AL</td>\n",
       "      <td>&gt; 8th Grade</td>\n",
       "      <td>2018</td>\n",
       "      <td>1856</td>\n",
       "    </tr>\n",
       "    <tr>\n",
       "      <th>9</th>\n",
       "      <td>Alabama</td>\n",
       "      <td>AL</td>\n",
       "      <td>&gt; 8th Grade</td>\n",
       "      <td>2019</td>\n",
       "      <td>2350</td>\n",
       "    </tr>\n",
       "    <tr>\n",
       "      <th>10</th>\n",
       "      <td>Alabama</td>\n",
       "      <td>AL</td>\n",
       "      <td>&gt; 8th Grade</td>\n",
       "      <td>2020</td>\n",
       "      <td>2294</td>\n",
       "    </tr>\n",
       "    <tr>\n",
       "      <th>11</th>\n",
       "      <td>Alabama</td>\n",
       "      <td>AL</td>\n",
       "      <td>&gt; 8th Grade</td>\n",
       "      <td>2021</td>\n",
       "      <td>2386</td>\n",
       "    </tr>\n",
       "    <tr>\n",
       "      <th>12</th>\n",
       "      <td>Alabama</td>\n",
       "      <td>AL</td>\n",
       "      <td>Associate Degree</td>\n",
       "      <td>2016</td>\n",
       "      <td>4687</td>\n",
       "    </tr>\n",
       "    <tr>\n",
       "      <th>13</th>\n",
       "      <td>Alabama</td>\n",
       "      <td>AL</td>\n",
       "      <td>Associate Degree</td>\n",
       "      <td>2017</td>\n",
       "      <td>4857</td>\n",
       "    </tr>\n",
       "    <tr>\n",
       "      <th>14</th>\n",
       "      <td>Alabama</td>\n",
       "      <td>AL</td>\n",
       "      <td>Associate Degree</td>\n",
       "      <td>2018</td>\n",
       "      <td>5034</td>\n",
       "    </tr>\n",
       "    <tr>\n",
       "      <th>15</th>\n",
       "      <td>Alabama</td>\n",
       "      <td>AL</td>\n",
       "      <td>Associate Degree</td>\n",
       "      <td>2019</td>\n",
       "      <td>5017</td>\n",
       "    </tr>\n",
       "    <tr>\n",
       "      <th>16</th>\n",
       "      <td>Alabama</td>\n",
       "      <td>AL</td>\n",
       "      <td>Associate Degree</td>\n",
       "      <td>2020</td>\n",
       "      <td>5096</td>\n",
       "    </tr>\n",
       "    <tr>\n",
       "      <th>17</th>\n",
       "      <td>Alabama</td>\n",
       "      <td>AL</td>\n",
       "      <td>Associate Degree</td>\n",
       "      <td>2021</td>\n",
       "      <td>5039</td>\n",
       "    </tr>\n",
       "    <tr>\n",
       "      <th>18</th>\n",
       "      <td>Alabama</td>\n",
       "      <td>AL</td>\n",
       "      <td>Bahcelor's Degree</td>\n",
       "      <td>2016</td>\n",
       "      <td>9098</td>\n",
       "    </tr>\n",
       "    <tr>\n",
       "      <th>19</th>\n",
       "      <td>Alabama</td>\n",
       "      <td>AL</td>\n",
       "      <td>Bahcelor's Degree</td>\n",
       "      <td>2017</td>\n",
       "      <td>8959</td>\n",
       "    </tr>\n",
       "    <tr>\n",
       "      <th>20</th>\n",
       "      <td>Alabama</td>\n",
       "      <td>AL</td>\n",
       "      <td>Bahcelor's Degree</td>\n",
       "      <td>2018</td>\n",
       "      <td>8833</td>\n",
       "    </tr>\n",
       "    <tr>\n",
       "      <th>21</th>\n",
       "      <td>Alabama</td>\n",
       "      <td>AL</td>\n",
       "      <td>Bahcelor's Degree</td>\n",
       "      <td>2019</td>\n",
       "      <td>8892</td>\n",
       "    </tr>\n",
       "    <tr>\n",
       "      <th>22</th>\n",
       "      <td>Alabama</td>\n",
       "      <td>AL</td>\n",
       "      <td>Bahcelor's Degree</td>\n",
       "      <td>2020</td>\n",
       "      <td>8850</td>\n",
       "    </tr>\n",
       "    <tr>\n",
       "      <th>23</th>\n",
       "      <td>Alabama</td>\n",
       "      <td>AL</td>\n",
       "      <td>Bahcelor's Degree</td>\n",
       "      <td>2021</td>\n",
       "      <td>9266</td>\n",
       "    </tr>\n",
       "    <tr>\n",
       "      <th>24</th>\n",
       "      <td>Alabama</td>\n",
       "      <td>AL</td>\n",
       "      <td>Doctorate</td>\n",
       "      <td>2016</td>\n",
       "      <td>998</td>\n",
       "    </tr>\n",
       "    <tr>\n",
       "      <th>25</th>\n",
       "      <td>Alabama</td>\n",
       "      <td>AL</td>\n",
       "      <td>Doctorate</td>\n",
       "      <td>2017</td>\n",
       "      <td>1139</td>\n",
       "    </tr>\n",
       "    <tr>\n",
       "      <th>26</th>\n",
       "      <td>Alabama</td>\n",
       "      <td>AL</td>\n",
       "      <td>Doctorate</td>\n",
       "      <td>2018</td>\n",
       "      <td>1101</td>\n",
       "    </tr>\n",
       "    <tr>\n",
       "      <th>27</th>\n",
       "      <td>Alabama</td>\n",
       "      <td>AL</td>\n",
       "      <td>Doctorate</td>\n",
       "      <td>2019</td>\n",
       "      <td>1056</td>\n",
       "    </tr>\n",
       "    <tr>\n",
       "      <th>28</th>\n",
       "      <td>Alabama</td>\n",
       "      <td>AL</td>\n",
       "      <td>Doctorate</td>\n",
       "      <td>2020</td>\n",
       "      <td>1121</td>\n",
       "    </tr>\n",
       "    <tr>\n",
       "      <th>29</th>\n",
       "      <td>Alabama</td>\n",
       "      <td>AL</td>\n",
       "      <td>Doctorate</td>\n",
       "      <td>2021</td>\n",
       "      <td>1220</td>\n",
       "    </tr>\n",
       "    <tr>\n",
       "      <th>30</th>\n",
       "      <td>Alabama</td>\n",
       "      <td>AL</td>\n",
       "      <td>High School Grad</td>\n",
       "      <td>2016</td>\n",
       "      <td>18061</td>\n",
       "    </tr>\n",
       "    <tr>\n",
       "      <th>31</th>\n",
       "      <td>Alabama</td>\n",
       "      <td>AL</td>\n",
       "      <td>High School Grad</td>\n",
       "      <td>2017</td>\n",
       "      <td>18365</td>\n",
       "    </tr>\n",
       "    <tr>\n",
       "      <th>32</th>\n",
       "      <td>Alabama</td>\n",
       "      <td>AL</td>\n",
       "      <td>High School Grad</td>\n",
       "      <td>2018</td>\n",
       "      <td>18306</td>\n",
       "    </tr>\n",
       "    <tr>\n",
       "      <th>33</th>\n",
       "      <td>Alabama</td>\n",
       "      <td>AL</td>\n",
       "      <td>High School Grad</td>\n",
       "      <td>2019</td>\n",
       "      <td>18887</td>\n",
       "    </tr>\n",
       "    <tr>\n",
       "      <th>34</th>\n",
       "      <td>Alabama</td>\n",
       "      <td>AL</td>\n",
       "      <td>High School Grad</td>\n",
       "      <td>2020</td>\n",
       "      <td>19011</td>\n",
       "    </tr>\n",
       "    <tr>\n",
       "      <th>35</th>\n",
       "      <td>Alabama</td>\n",
       "      <td>AL</td>\n",
       "      <td>High School Grad</td>\n",
       "      <td>2021</td>\n",
       "      <td>19165</td>\n",
       "    </tr>\n",
       "    <tr>\n",
       "      <th>36</th>\n",
       "      <td>Alabama</td>\n",
       "      <td>AL</td>\n",
       "      <td>Master's Degree</td>\n",
       "      <td>2016</td>\n",
       "      <td>3884</td>\n",
       "    </tr>\n",
       "    <tr>\n",
       "      <th>37</th>\n",
       "      <td>Alabama</td>\n",
       "      <td>AL</td>\n",
       "      <td>Master's Degree</td>\n",
       "      <td>2017</td>\n",
       "      <td>3821</td>\n",
       "    </tr>\n",
       "    <tr>\n",
       "      <th>38</th>\n",
       "      <td>Alabama</td>\n",
       "      <td>AL</td>\n",
       "      <td>Master's Degree</td>\n",
       "      <td>2018</td>\n",
       "      <td>3857</td>\n",
       "    </tr>\n",
       "    <tr>\n",
       "      <th>39</th>\n",
       "      <td>Alabama</td>\n",
       "      <td>AL</td>\n",
       "      <td>Master's Degree</td>\n",
       "      <td>2019</td>\n",
       "      <td>3915</td>\n",
       "    </tr>\n",
       "  </tbody>\n",
       "</table>\n",
       "</div>"
      ],
      "text/plain": [
       "      State State Abbreviation Education Level of Mother  Year  \\\n",
       "0   Alabama                 AL          9th > 12th Grade  2016   \n",
       "1   Alabama                 AL          9th > 12th Grade  2017   \n",
       "2   Alabama                 AL          9th > 12th Grade  2018   \n",
       "3   Alabama                 AL          9th > 12th Grade  2019   \n",
       "4   Alabama                 AL          9th > 12th Grade  2020   \n",
       "5   Alabama                 AL          9th > 12th Grade  2021   \n",
       "6   Alabama                 AL               > 8th Grade  2016   \n",
       "7   Alabama                 AL               > 8th Grade  2017   \n",
       "8   Alabama                 AL               > 8th Grade  2018   \n",
       "9   Alabama                 AL               > 8th Grade  2019   \n",
       "10  Alabama                 AL               > 8th Grade  2020   \n",
       "11  Alabama                 AL               > 8th Grade  2021   \n",
       "12  Alabama                 AL          Associate Degree  2016   \n",
       "13  Alabama                 AL          Associate Degree  2017   \n",
       "14  Alabama                 AL          Associate Degree  2018   \n",
       "15  Alabama                 AL          Associate Degree  2019   \n",
       "16  Alabama                 AL          Associate Degree  2020   \n",
       "17  Alabama                 AL          Associate Degree  2021   \n",
       "18  Alabama                 AL         Bahcelor's Degree  2016   \n",
       "19  Alabama                 AL         Bahcelor's Degree  2017   \n",
       "20  Alabama                 AL         Bahcelor's Degree  2018   \n",
       "21  Alabama                 AL         Bahcelor's Degree  2019   \n",
       "22  Alabama                 AL         Bahcelor's Degree  2020   \n",
       "23  Alabama                 AL         Bahcelor's Degree  2021   \n",
       "24  Alabama                 AL                 Doctorate  2016   \n",
       "25  Alabama                 AL                 Doctorate  2017   \n",
       "26  Alabama                 AL                 Doctorate  2018   \n",
       "27  Alabama                 AL                 Doctorate  2019   \n",
       "28  Alabama                 AL                 Doctorate  2020   \n",
       "29  Alabama                 AL                 Doctorate  2021   \n",
       "30  Alabama                 AL          High School Grad  2016   \n",
       "31  Alabama                 AL          High School Grad  2017   \n",
       "32  Alabama                 AL          High School Grad  2018   \n",
       "33  Alabama                 AL          High School Grad  2019   \n",
       "34  Alabama                 AL          High School Grad  2020   \n",
       "35  Alabama                 AL          High School Grad  2021   \n",
       "36  Alabama                 AL           Master's Degree  2016   \n",
       "37  Alabama                 AL           Master's Degree  2017   \n",
       "38  Alabama                 AL           Master's Degree  2018   \n",
       "39  Alabama                 AL           Master's Degree  2019   \n",
       "\n",
       "    Number of Births  \n",
       "0               7093  \n",
       "1               6628  \n",
       "2               6169  \n",
       "3               5855  \n",
       "4               5612  \n",
       "5               5240  \n",
       "6               2240  \n",
       "7               1990  \n",
       "8               1856  \n",
       "9               2350  \n",
       "10              2294  \n",
       "11              2386  \n",
       "12              4687  \n",
       "13              4857  \n",
       "14              5034  \n",
       "15              5017  \n",
       "16              5096  \n",
       "17              5039  \n",
       "18              9098  \n",
       "19              8959  \n",
       "20              8833  \n",
       "21              8892  \n",
       "22              8850  \n",
       "23              9266  \n",
       "24               998  \n",
       "25              1139  \n",
       "26              1101  \n",
       "27              1056  \n",
       "28              1121  \n",
       "29              1220  \n",
       "30             18061  \n",
       "31             18365  \n",
       "32             18306  \n",
       "33             18887  \n",
       "34             19011  \n",
       "35             19165  \n",
       "36              3884  \n",
       "37              3821  \n",
       "38              3857  \n",
       "39              3915  "
      ]
     },
     "execution_count": 31,
     "metadata": {},
     "output_type": "execute_result"
    }
   ],
   "source": [
    "df_by_ed_level_usa = us_births.groupby(['State', 'State Abbreviation', 'Education Level of Mother', 'Year'])['Number of Births'].sum().reset_index()\n",
    "df_by_ed_level_usa.head(40)"
   ]
  },
  {
   "cell_type": "code",
   "execution_count": 32,
   "metadata": {},
   "outputs": [
    {
     "data": {
      "text/html": [
       "<div>\n",
       "<style scoped>\n",
       "    .dataframe tbody tr th:only-of-type {\n",
       "        vertical-align: middle;\n",
       "    }\n",
       "\n",
       "    .dataframe tbody tr th {\n",
       "        vertical-align: top;\n",
       "    }\n",
       "\n",
       "    .dataframe thead th {\n",
       "        text-align: right;\n",
       "    }\n",
       "</style>\n",
       "<table border=\"1\" class=\"dataframe\">\n",
       "  <thead>\n",
       "    <tr style=\"text-align: right;\">\n",
       "      <th></th>\n",
       "      <th>State</th>\n",
       "      <th>State Abbreviation</th>\n",
       "      <th>Education Level of Mother</th>\n",
       "      <th>Year</th>\n",
       "      <th>Number of Births_by ed level</th>\n",
       "      <th>Number of Births_by state</th>\n",
       "    </tr>\n",
       "  </thead>\n",
       "  <tbody>\n",
       "    <tr>\n",
       "      <th>0</th>\n",
       "      <td>Alabama</td>\n",
       "      <td>AL</td>\n",
       "      <td>9th &gt; 12th Grade</td>\n",
       "      <td>2016</td>\n",
       "      <td>7093</td>\n",
       "      <td>59151</td>\n",
       "    </tr>\n",
       "    <tr>\n",
       "      <th>1</th>\n",
       "      <td>Alabama</td>\n",
       "      <td>AL</td>\n",
       "      <td>&gt; 8th Grade</td>\n",
       "      <td>2016</td>\n",
       "      <td>2240</td>\n",
       "      <td>59151</td>\n",
       "    </tr>\n",
       "    <tr>\n",
       "      <th>2</th>\n",
       "      <td>Alabama</td>\n",
       "      <td>AL</td>\n",
       "      <td>Associate Degree</td>\n",
       "      <td>2016</td>\n",
       "      <td>4687</td>\n",
       "      <td>59151</td>\n",
       "    </tr>\n",
       "    <tr>\n",
       "      <th>3</th>\n",
       "      <td>Alabama</td>\n",
       "      <td>AL</td>\n",
       "      <td>Bahcelor's Degree</td>\n",
       "      <td>2016</td>\n",
       "      <td>9098</td>\n",
       "      <td>59151</td>\n",
       "    </tr>\n",
       "    <tr>\n",
       "      <th>4</th>\n",
       "      <td>Alabama</td>\n",
       "      <td>AL</td>\n",
       "      <td>Doctorate</td>\n",
       "      <td>2016</td>\n",
       "      <td>998</td>\n",
       "      <td>59151</td>\n",
       "    </tr>\n",
       "    <tr>\n",
       "      <th>5</th>\n",
       "      <td>Alabama</td>\n",
       "      <td>AL</td>\n",
       "      <td>High School Grad</td>\n",
       "      <td>2016</td>\n",
       "      <td>18061</td>\n",
       "      <td>59151</td>\n",
       "    </tr>\n",
       "    <tr>\n",
       "      <th>6</th>\n",
       "      <td>Alabama</td>\n",
       "      <td>AL</td>\n",
       "      <td>Master's Degree</td>\n",
       "      <td>2016</td>\n",
       "      <td>3884</td>\n",
       "      <td>59151</td>\n",
       "    </tr>\n",
       "    <tr>\n",
       "      <th>7</th>\n",
       "      <td>Alabama</td>\n",
       "      <td>AL</td>\n",
       "      <td>Some College Credit</td>\n",
       "      <td>2016</td>\n",
       "      <td>12969</td>\n",
       "      <td>59151</td>\n",
       "    </tr>\n",
       "    <tr>\n",
       "      <th>8</th>\n",
       "      <td>Alabama</td>\n",
       "      <td>AL</td>\n",
       "      <td>Unknown</td>\n",
       "      <td>2016</td>\n",
       "      <td>121</td>\n",
       "      <td>59151</td>\n",
       "    </tr>\n",
       "    <tr>\n",
       "      <th>9</th>\n",
       "      <td>Alabama</td>\n",
       "      <td>AL</td>\n",
       "      <td>9th &gt; 12th Grade</td>\n",
       "      <td>2017</td>\n",
       "      <td>6628</td>\n",
       "      <td>58941</td>\n",
       "    </tr>\n",
       "    <tr>\n",
       "      <th>10</th>\n",
       "      <td>Alabama</td>\n",
       "      <td>AL</td>\n",
       "      <td>&gt; 8th Grade</td>\n",
       "      <td>2017</td>\n",
       "      <td>1990</td>\n",
       "      <td>58941</td>\n",
       "    </tr>\n",
       "    <tr>\n",
       "      <th>11</th>\n",
       "      <td>Alabama</td>\n",
       "      <td>AL</td>\n",
       "      <td>Associate Degree</td>\n",
       "      <td>2017</td>\n",
       "      <td>4857</td>\n",
       "      <td>58941</td>\n",
       "    </tr>\n",
       "    <tr>\n",
       "      <th>12</th>\n",
       "      <td>Alabama</td>\n",
       "      <td>AL</td>\n",
       "      <td>Bahcelor's Degree</td>\n",
       "      <td>2017</td>\n",
       "      <td>8959</td>\n",
       "      <td>58941</td>\n",
       "    </tr>\n",
       "    <tr>\n",
       "      <th>13</th>\n",
       "      <td>Alabama</td>\n",
       "      <td>AL</td>\n",
       "      <td>Doctorate</td>\n",
       "      <td>2017</td>\n",
       "      <td>1139</td>\n",
       "      <td>58941</td>\n",
       "    </tr>\n",
       "    <tr>\n",
       "      <th>14</th>\n",
       "      <td>Alabama</td>\n",
       "      <td>AL</td>\n",
       "      <td>High School Grad</td>\n",
       "      <td>2017</td>\n",
       "      <td>18365</td>\n",
       "      <td>58941</td>\n",
       "    </tr>\n",
       "    <tr>\n",
       "      <th>15</th>\n",
       "      <td>Alabama</td>\n",
       "      <td>AL</td>\n",
       "      <td>Master's Degree</td>\n",
       "      <td>2017</td>\n",
       "      <td>3821</td>\n",
       "      <td>58941</td>\n",
       "    </tr>\n",
       "    <tr>\n",
       "      <th>16</th>\n",
       "      <td>Alabama</td>\n",
       "      <td>AL</td>\n",
       "      <td>Some College Credit</td>\n",
       "      <td>2017</td>\n",
       "      <td>13035</td>\n",
       "      <td>58941</td>\n",
       "    </tr>\n",
       "    <tr>\n",
       "      <th>17</th>\n",
       "      <td>Alabama</td>\n",
       "      <td>AL</td>\n",
       "      <td>Unknown</td>\n",
       "      <td>2017</td>\n",
       "      <td>147</td>\n",
       "      <td>58941</td>\n",
       "    </tr>\n",
       "    <tr>\n",
       "      <th>18</th>\n",
       "      <td>Alabama</td>\n",
       "      <td>AL</td>\n",
       "      <td>9th &gt; 12th Grade</td>\n",
       "      <td>2018</td>\n",
       "      <td>6169</td>\n",
       "      <td>57761</td>\n",
       "    </tr>\n",
       "    <tr>\n",
       "      <th>19</th>\n",
       "      <td>Alabama</td>\n",
       "      <td>AL</td>\n",
       "      <td>&gt; 8th Grade</td>\n",
       "      <td>2018</td>\n",
       "      <td>1856</td>\n",
       "      <td>57761</td>\n",
       "    </tr>\n",
       "    <tr>\n",
       "      <th>20</th>\n",
       "      <td>Alabama</td>\n",
       "      <td>AL</td>\n",
       "      <td>Associate Degree</td>\n",
       "      <td>2018</td>\n",
       "      <td>5034</td>\n",
       "      <td>57761</td>\n",
       "    </tr>\n",
       "    <tr>\n",
       "      <th>21</th>\n",
       "      <td>Alabama</td>\n",
       "      <td>AL</td>\n",
       "      <td>Bahcelor's Degree</td>\n",
       "      <td>2018</td>\n",
       "      <td>8833</td>\n",
       "      <td>57761</td>\n",
       "    </tr>\n",
       "    <tr>\n",
       "      <th>22</th>\n",
       "      <td>Alabama</td>\n",
       "      <td>AL</td>\n",
       "      <td>Doctorate</td>\n",
       "      <td>2018</td>\n",
       "      <td>1101</td>\n",
       "      <td>57761</td>\n",
       "    </tr>\n",
       "    <tr>\n",
       "      <th>23</th>\n",
       "      <td>Alabama</td>\n",
       "      <td>AL</td>\n",
       "      <td>High School Grad</td>\n",
       "      <td>2018</td>\n",
       "      <td>18306</td>\n",
       "      <td>57761</td>\n",
       "    </tr>\n",
       "    <tr>\n",
       "      <th>24</th>\n",
       "      <td>Alabama</td>\n",
       "      <td>AL</td>\n",
       "      <td>Master's Degree</td>\n",
       "      <td>2018</td>\n",
       "      <td>3857</td>\n",
       "      <td>57761</td>\n",
       "    </tr>\n",
       "    <tr>\n",
       "      <th>25</th>\n",
       "      <td>Alabama</td>\n",
       "      <td>AL</td>\n",
       "      <td>Some College Credit</td>\n",
       "      <td>2018</td>\n",
       "      <td>12493</td>\n",
       "      <td>57761</td>\n",
       "    </tr>\n",
       "    <tr>\n",
       "      <th>26</th>\n",
       "      <td>Alabama</td>\n",
       "      <td>AL</td>\n",
       "      <td>Unknown</td>\n",
       "      <td>2018</td>\n",
       "      <td>112</td>\n",
       "      <td>57761</td>\n",
       "    </tr>\n",
       "    <tr>\n",
       "      <th>27</th>\n",
       "      <td>Alabama</td>\n",
       "      <td>AL</td>\n",
       "      <td>9th &gt; 12th Grade</td>\n",
       "      <td>2019</td>\n",
       "      <td>5855</td>\n",
       "      <td>58615</td>\n",
       "    </tr>\n",
       "    <tr>\n",
       "      <th>28</th>\n",
       "      <td>Alabama</td>\n",
       "      <td>AL</td>\n",
       "      <td>&gt; 8th Grade</td>\n",
       "      <td>2019</td>\n",
       "      <td>2350</td>\n",
       "      <td>58615</td>\n",
       "    </tr>\n",
       "    <tr>\n",
       "      <th>29</th>\n",
       "      <td>Alabama</td>\n",
       "      <td>AL</td>\n",
       "      <td>Associate Degree</td>\n",
       "      <td>2019</td>\n",
       "      <td>5017</td>\n",
       "      <td>58615</td>\n",
       "    </tr>\n",
       "    <tr>\n",
       "      <th>30</th>\n",
       "      <td>Alabama</td>\n",
       "      <td>AL</td>\n",
       "      <td>Bahcelor's Degree</td>\n",
       "      <td>2019</td>\n",
       "      <td>8892</td>\n",
       "      <td>58615</td>\n",
       "    </tr>\n",
       "    <tr>\n",
       "      <th>31</th>\n",
       "      <td>Alabama</td>\n",
       "      <td>AL</td>\n",
       "      <td>Doctorate</td>\n",
       "      <td>2019</td>\n",
       "      <td>1056</td>\n",
       "      <td>58615</td>\n",
       "    </tr>\n",
       "    <tr>\n",
       "      <th>32</th>\n",
       "      <td>Alabama</td>\n",
       "      <td>AL</td>\n",
       "      <td>High School Grad</td>\n",
       "      <td>2019</td>\n",
       "      <td>18887</td>\n",
       "      <td>58615</td>\n",
       "    </tr>\n",
       "    <tr>\n",
       "      <th>33</th>\n",
       "      <td>Alabama</td>\n",
       "      <td>AL</td>\n",
       "      <td>Master's Degree</td>\n",
       "      <td>2019</td>\n",
       "      <td>3915</td>\n",
       "      <td>58615</td>\n",
       "    </tr>\n",
       "    <tr>\n",
       "      <th>34</th>\n",
       "      <td>Alabama</td>\n",
       "      <td>AL</td>\n",
       "      <td>Some College Credit</td>\n",
       "      <td>2019</td>\n",
       "      <td>12545</td>\n",
       "      <td>58615</td>\n",
       "    </tr>\n",
       "    <tr>\n",
       "      <th>35</th>\n",
       "      <td>Alabama</td>\n",
       "      <td>AL</td>\n",
       "      <td>Unknown</td>\n",
       "      <td>2019</td>\n",
       "      <td>98</td>\n",
       "      <td>58615</td>\n",
       "    </tr>\n",
       "    <tr>\n",
       "      <th>36</th>\n",
       "      <td>Alabama</td>\n",
       "      <td>AL</td>\n",
       "      <td>9th &gt; 12th Grade</td>\n",
       "      <td>2020</td>\n",
       "      <td>5612</td>\n",
       "      <td>57647</td>\n",
       "    </tr>\n",
       "    <tr>\n",
       "      <th>37</th>\n",
       "      <td>Alabama</td>\n",
       "      <td>AL</td>\n",
       "      <td>&gt; 8th Grade</td>\n",
       "      <td>2020</td>\n",
       "      <td>2294</td>\n",
       "      <td>57647</td>\n",
       "    </tr>\n",
       "    <tr>\n",
       "      <th>38</th>\n",
       "      <td>Alabama</td>\n",
       "      <td>AL</td>\n",
       "      <td>Associate Degree</td>\n",
       "      <td>2020</td>\n",
       "      <td>5096</td>\n",
       "      <td>57647</td>\n",
       "    </tr>\n",
       "    <tr>\n",
       "      <th>39</th>\n",
       "      <td>Alabama</td>\n",
       "      <td>AL</td>\n",
       "      <td>Bahcelor's Degree</td>\n",
       "      <td>2020</td>\n",
       "      <td>8850</td>\n",
       "      <td>57647</td>\n",
       "    </tr>\n",
       "  </tbody>\n",
       "</table>\n",
       "</div>"
      ],
      "text/plain": [
       "      State State Abbreviation Education Level of Mother  Year  \\\n",
       "0   Alabama                 AL          9th > 12th Grade  2016   \n",
       "1   Alabama                 AL               > 8th Grade  2016   \n",
       "2   Alabama                 AL          Associate Degree  2016   \n",
       "3   Alabama                 AL         Bahcelor's Degree  2016   \n",
       "4   Alabama                 AL                 Doctorate  2016   \n",
       "5   Alabama                 AL          High School Grad  2016   \n",
       "6   Alabama                 AL           Master's Degree  2016   \n",
       "7   Alabama                 AL       Some College Credit  2016   \n",
       "8   Alabama                 AL                   Unknown  2016   \n",
       "9   Alabama                 AL          9th > 12th Grade  2017   \n",
       "10  Alabama                 AL               > 8th Grade  2017   \n",
       "11  Alabama                 AL          Associate Degree  2017   \n",
       "12  Alabama                 AL         Bahcelor's Degree  2017   \n",
       "13  Alabama                 AL                 Doctorate  2017   \n",
       "14  Alabama                 AL          High School Grad  2017   \n",
       "15  Alabama                 AL           Master's Degree  2017   \n",
       "16  Alabama                 AL       Some College Credit  2017   \n",
       "17  Alabama                 AL                   Unknown  2017   \n",
       "18  Alabama                 AL          9th > 12th Grade  2018   \n",
       "19  Alabama                 AL               > 8th Grade  2018   \n",
       "20  Alabama                 AL          Associate Degree  2018   \n",
       "21  Alabama                 AL         Bahcelor's Degree  2018   \n",
       "22  Alabama                 AL                 Doctorate  2018   \n",
       "23  Alabama                 AL          High School Grad  2018   \n",
       "24  Alabama                 AL           Master's Degree  2018   \n",
       "25  Alabama                 AL       Some College Credit  2018   \n",
       "26  Alabama                 AL                   Unknown  2018   \n",
       "27  Alabama                 AL          9th > 12th Grade  2019   \n",
       "28  Alabama                 AL               > 8th Grade  2019   \n",
       "29  Alabama                 AL          Associate Degree  2019   \n",
       "30  Alabama                 AL         Bahcelor's Degree  2019   \n",
       "31  Alabama                 AL                 Doctorate  2019   \n",
       "32  Alabama                 AL          High School Grad  2019   \n",
       "33  Alabama                 AL           Master's Degree  2019   \n",
       "34  Alabama                 AL       Some College Credit  2019   \n",
       "35  Alabama                 AL                   Unknown  2019   \n",
       "36  Alabama                 AL          9th > 12th Grade  2020   \n",
       "37  Alabama                 AL               > 8th Grade  2020   \n",
       "38  Alabama                 AL          Associate Degree  2020   \n",
       "39  Alabama                 AL         Bahcelor's Degree  2020   \n",
       "\n",
       "    Number of Births_by ed level  Number of Births_by state  \n",
       "0                           7093                      59151  \n",
       "1                           2240                      59151  \n",
       "2                           4687                      59151  \n",
       "3                           9098                      59151  \n",
       "4                            998                      59151  \n",
       "5                          18061                      59151  \n",
       "6                           3884                      59151  \n",
       "7                          12969                      59151  \n",
       "8                            121                      59151  \n",
       "9                           6628                      58941  \n",
       "10                          1990                      58941  \n",
       "11                          4857                      58941  \n",
       "12                          8959                      58941  \n",
       "13                          1139                      58941  \n",
       "14                         18365                      58941  \n",
       "15                          3821                      58941  \n",
       "16                         13035                      58941  \n",
       "17                           147                      58941  \n",
       "18                          6169                      57761  \n",
       "19                          1856                      57761  \n",
       "20                          5034                      57761  \n",
       "21                          8833                      57761  \n",
       "22                          1101                      57761  \n",
       "23                         18306                      57761  \n",
       "24                          3857                      57761  \n",
       "25                         12493                      57761  \n",
       "26                           112                      57761  \n",
       "27                          5855                      58615  \n",
       "28                          2350                      58615  \n",
       "29                          5017                      58615  \n",
       "30                          8892                      58615  \n",
       "31                          1056                      58615  \n",
       "32                         18887                      58615  \n",
       "33                          3915                      58615  \n",
       "34                         12545                      58615  \n",
       "35                            98                      58615  \n",
       "36                          5612                      57647  \n",
       "37                          2294                      57647  \n",
       "38                          5096                      57647  \n",
       "39                          8850                      57647  "
      ]
     },
     "execution_count": 32,
     "metadata": {},
     "output_type": "execute_result"
    }
   ],
   "source": [
    "merged_df = df_by_ed_level_usa.merge(total_births_by_state_and_year, on = ['State', \"State Abbreviation\", 'Year'], suffixes = ('_by ed level', '_by state'))\n",
    "merged_df.head(40)\n"
   ]
  },
  {
   "cell_type": "code",
   "execution_count": 33,
   "metadata": {},
   "outputs": [
    {
     "data": {
      "text/html": [
       "<div>\n",
       "<style scoped>\n",
       "    .dataframe tbody tr th:only-of-type {\n",
       "        vertical-align: middle;\n",
       "    }\n",
       "\n",
       "    .dataframe tbody tr th {\n",
       "        vertical-align: top;\n",
       "    }\n",
       "\n",
       "    .dataframe thead th {\n",
       "        text-align: right;\n",
       "    }\n",
       "</style>\n",
       "<table border=\"1\" class=\"dataframe\">\n",
       "  <thead>\n",
       "    <tr style=\"text-align: right;\">\n",
       "      <th></th>\n",
       "      <th>State</th>\n",
       "      <th>State Abbreviation</th>\n",
       "      <th>Education Level of Mother</th>\n",
       "      <th>Year</th>\n",
       "      <th>Number of Births_by ed level</th>\n",
       "      <th>Number of Births_by state</th>\n",
       "      <th>Percentage of Births by Education Level</th>\n",
       "    </tr>\n",
       "  </thead>\n",
       "  <tbody>\n",
       "    <tr>\n",
       "      <th>0</th>\n",
       "      <td>Alabama</td>\n",
       "      <td>AL</td>\n",
       "      <td>9th &gt; 12th Grade</td>\n",
       "      <td>2016</td>\n",
       "      <td>7093</td>\n",
       "      <td>59151</td>\n",
       "      <td>11.99</td>\n",
       "    </tr>\n",
       "    <tr>\n",
       "      <th>1</th>\n",
       "      <td>Alabama</td>\n",
       "      <td>AL</td>\n",
       "      <td>&gt; 8th Grade</td>\n",
       "      <td>2016</td>\n",
       "      <td>2240</td>\n",
       "      <td>59151</td>\n",
       "      <td>3.79</td>\n",
       "    </tr>\n",
       "    <tr>\n",
       "      <th>2</th>\n",
       "      <td>Alabama</td>\n",
       "      <td>AL</td>\n",
       "      <td>Associate Degree</td>\n",
       "      <td>2016</td>\n",
       "      <td>4687</td>\n",
       "      <td>59151</td>\n",
       "      <td>7.92</td>\n",
       "    </tr>\n",
       "    <tr>\n",
       "      <th>3</th>\n",
       "      <td>Alabama</td>\n",
       "      <td>AL</td>\n",
       "      <td>Bahcelor's Degree</td>\n",
       "      <td>2016</td>\n",
       "      <td>9098</td>\n",
       "      <td>59151</td>\n",
       "      <td>15.38</td>\n",
       "    </tr>\n",
       "    <tr>\n",
       "      <th>4</th>\n",
       "      <td>Alabama</td>\n",
       "      <td>AL</td>\n",
       "      <td>Doctorate</td>\n",
       "      <td>2016</td>\n",
       "      <td>998</td>\n",
       "      <td>59151</td>\n",
       "      <td>1.69</td>\n",
       "    </tr>\n",
       "    <tr>\n",
       "      <th>...</th>\n",
       "      <td>...</td>\n",
       "      <td>...</td>\n",
       "      <td>...</td>\n",
       "      <td>...</td>\n",
       "      <td>...</td>\n",
       "      <td>...</td>\n",
       "      <td>...</td>\n",
       "    </tr>\n",
       "    <tr>\n",
       "      <th>2745</th>\n",
       "      <td>Wyoming</td>\n",
       "      <td>WY</td>\n",
       "      <td>Doctorate</td>\n",
       "      <td>2021</td>\n",
       "      <td>137</td>\n",
       "      <td>6237</td>\n",
       "      <td>2.20</td>\n",
       "    </tr>\n",
       "    <tr>\n",
       "      <th>2746</th>\n",
       "      <td>Wyoming</td>\n",
       "      <td>WY</td>\n",
       "      <td>High School Grad</td>\n",
       "      <td>2021</td>\n",
       "      <td>1483</td>\n",
       "      <td>6237</td>\n",
       "      <td>23.78</td>\n",
       "    </tr>\n",
       "    <tr>\n",
       "      <th>2747</th>\n",
       "      <td>Wyoming</td>\n",
       "      <td>WY</td>\n",
       "      <td>Master's Degree</td>\n",
       "      <td>2021</td>\n",
       "      <td>471</td>\n",
       "      <td>6237</td>\n",
       "      <td>7.55</td>\n",
       "    </tr>\n",
       "    <tr>\n",
       "      <th>2748</th>\n",
       "      <td>Wyoming</td>\n",
       "      <td>WY</td>\n",
       "      <td>Some College Credit</td>\n",
       "      <td>2021</td>\n",
       "      <td>1491</td>\n",
       "      <td>6237</td>\n",
       "      <td>23.91</td>\n",
       "    </tr>\n",
       "    <tr>\n",
       "      <th>2749</th>\n",
       "      <td>Wyoming</td>\n",
       "      <td>WY</td>\n",
       "      <td>Unknown</td>\n",
       "      <td>2021</td>\n",
       "      <td>81</td>\n",
       "      <td>6237</td>\n",
       "      <td>1.30</td>\n",
       "    </tr>\n",
       "  </tbody>\n",
       "</table>\n",
       "<p>2750 rows × 7 columns</p>\n",
       "</div>"
      ],
      "text/plain": [
       "        State State Abbreviation Education Level of Mother  Year  \\\n",
       "0     Alabama                 AL          9th > 12th Grade  2016   \n",
       "1     Alabama                 AL               > 8th Grade  2016   \n",
       "2     Alabama                 AL          Associate Degree  2016   \n",
       "3     Alabama                 AL         Bahcelor's Degree  2016   \n",
       "4     Alabama                 AL                 Doctorate  2016   \n",
       "...       ...                ...                       ...   ...   \n",
       "2745  Wyoming                 WY                 Doctorate  2021   \n",
       "2746  Wyoming                 WY          High School Grad  2021   \n",
       "2747  Wyoming                 WY           Master's Degree  2021   \n",
       "2748  Wyoming                 WY       Some College Credit  2021   \n",
       "2749  Wyoming                 WY                   Unknown  2021   \n",
       "\n",
       "      Number of Births_by ed level  Number of Births_by state  \\\n",
       "0                             7093                      59151   \n",
       "1                             2240                      59151   \n",
       "2                             4687                      59151   \n",
       "3                             9098                      59151   \n",
       "4                              998                      59151   \n",
       "...                            ...                        ...   \n",
       "2745                           137                       6237   \n",
       "2746                          1483                       6237   \n",
       "2747                           471                       6237   \n",
       "2748                          1491                       6237   \n",
       "2749                            81                       6237   \n",
       "\n",
       "      Percentage of Births by Education Level  \n",
       "0                                       11.99  \n",
       "1                                        3.79  \n",
       "2                                        7.92  \n",
       "3                                       15.38  \n",
       "4                                        1.69  \n",
       "...                                       ...  \n",
       "2745                                     2.20  \n",
       "2746                                    23.78  \n",
       "2747                                     7.55  \n",
       "2748                                    23.91  \n",
       "2749                                     1.30  \n",
       "\n",
       "[2750 rows x 7 columns]"
      ]
     },
     "execution_count": 33,
     "metadata": {},
     "output_type": "execute_result"
    }
   ],
   "source": [
    "merged_df['Percentage of Births by Education Level'] = ((merged_df['Number of Births_by ed level'] / merged_df['Number of Births_by state']) * 100).round(2)\n",
    "merged_df"
   ]
  },
  {
   "cell_type": "code",
   "execution_count": 34,
   "metadata": {},
   "outputs": [],
   "source": [
    "merged_df.to_csv('us_births_2016_2021_updated.csv', index = False)"
   ]
  },
  {
   "cell_type": "code",
   "execution_count": 43,
   "metadata": {},
   "outputs": [
    {
     "data": {
      "text/html": [
       "<div>\n",
       "<style scoped>\n",
       "    .dataframe tbody tr th:only-of-type {\n",
       "        vertical-align: middle;\n",
       "    }\n",
       "\n",
       "    .dataframe tbody tr th {\n",
       "        vertical-align: top;\n",
       "    }\n",
       "\n",
       "    .dataframe thead th {\n",
       "        text-align: right;\n",
       "    }\n",
       "</style>\n",
       "<table border=\"1\" class=\"dataframe\">\n",
       "  <thead>\n",
       "    <tr style=\"text-align: right;\">\n",
       "      <th></th>\n",
       "      <th>State</th>\n",
       "      <th>Year</th>\n",
       "      <th>Number of Births_by ed level</th>\n",
       "      <th>Number of Births_by state</th>\n",
       "      <th>Percentage of Births by Education Level</th>\n",
       "    </tr>\n",
       "  </thead>\n",
       "  <tbody>\n",
       "    <tr>\n",
       "      <th>0</th>\n",
       "      <td>Alabama</td>\n",
       "      <td>6051</td>\n",
       "      <td>3238</td>\n",
       "      <td>175853</td>\n",
       "      <td>5.53</td>\n",
       "    </tr>\n",
       "    <tr>\n",
       "      <th>1</th>\n",
       "      <td>Alaska</td>\n",
       "      <td>6051</td>\n",
       "      <td>581</td>\n",
       "      <td>31740</td>\n",
       "      <td>5.51</td>\n",
       "    </tr>\n",
       "    <tr>\n",
       "      <th>2</th>\n",
       "      <td>Arizona</td>\n",
       "      <td>6051</td>\n",
       "      <td>4703</td>\n",
       "      <td>247115</td>\n",
       "      <td>5.71</td>\n",
       "    </tr>\n",
       "    <tr>\n",
       "      <th>3</th>\n",
       "      <td>Arkansas</td>\n",
       "      <td>6051</td>\n",
       "      <td>1608</td>\n",
       "      <td>112812</td>\n",
       "      <td>4.28</td>\n",
       "    </tr>\n",
       "    <tr>\n",
       "      <th>4</th>\n",
       "      <td>California</td>\n",
       "      <td>6051</td>\n",
       "      <td>41398</td>\n",
       "      <td>1415405</td>\n",
       "      <td>8.79</td>\n",
       "    </tr>\n",
       "    <tr>\n",
       "      <th>5</th>\n",
       "      <td>Colorado</td>\n",
       "      <td>6051</td>\n",
       "      <td>6083</td>\n",
       "      <td>193880</td>\n",
       "      <td>9.42</td>\n",
       "    </tr>\n",
       "    <tr>\n",
       "      <th>6</th>\n",
       "      <td>Connecticut</td>\n",
       "      <td>6051</td>\n",
       "      <td>4314</td>\n",
       "      <td>105961</td>\n",
       "      <td>12.22</td>\n",
       "    </tr>\n",
       "    <tr>\n",
       "      <th>7</th>\n",
       "      <td>Delaware</td>\n",
       "      <td>6051</td>\n",
       "      <td>787</td>\n",
       "      <td>32468</td>\n",
       "      <td>7.26</td>\n",
       "    </tr>\n",
       "    <tr>\n",
       "      <th>8</th>\n",
       "      <td>District of Columbia</td>\n",
       "      <td>6051</td>\n",
       "      <td>3149</td>\n",
       "      <td>28630</td>\n",
       "      <td>33.03</td>\n",
       "    </tr>\n",
       "    <tr>\n",
       "      <th>9</th>\n",
       "      <td>Florida</td>\n",
       "      <td>6051</td>\n",
       "      <td>14080</td>\n",
       "      <td>670194</td>\n",
       "      <td>6.31</td>\n",
       "    </tr>\n",
       "    <tr>\n",
       "      <th>10</th>\n",
       "      <td>Georgia</td>\n",
       "      <td>6051</td>\n",
       "      <td>6392</td>\n",
       "      <td>385457</td>\n",
       "      <td>4.98</td>\n",
       "    </tr>\n",
       "    <tr>\n",
       "      <th>11</th>\n",
       "      <td>Hawaii</td>\n",
       "      <td>6051</td>\n",
       "      <td>713</td>\n",
       "      <td>52548</td>\n",
       "      <td>4.08</td>\n",
       "    </tr>\n",
       "    <tr>\n",
       "      <th>12</th>\n",
       "      <td>Idaho</td>\n",
       "      <td>6051</td>\n",
       "      <td>911</td>\n",
       "      <td>66066</td>\n",
       "      <td>4.13</td>\n",
       "    </tr>\n",
       "    <tr>\n",
       "      <th>13</th>\n",
       "      <td>Illinois</td>\n",
       "      <td>6051</td>\n",
       "      <td>13772</td>\n",
       "      <td>448650</td>\n",
       "      <td>9.22</td>\n",
       "    </tr>\n",
       "    <tr>\n",
       "      <th>14</th>\n",
       "      <td>Indiana</td>\n",
       "      <td>6051</td>\n",
       "      <td>4637</td>\n",
       "      <td>246907</td>\n",
       "      <td>5.63</td>\n",
       "    </tr>\n",
       "    <tr>\n",
       "      <th>15</th>\n",
       "      <td>Iowa</td>\n",
       "      <td>6051</td>\n",
       "      <td>3167</td>\n",
       "      <td>115618</td>\n",
       "      <td>8.22</td>\n",
       "    </tr>\n",
       "    <tr>\n",
       "      <th>16</th>\n",
       "      <td>Kansas</td>\n",
       "      <td>6051</td>\n",
       "      <td>2680</td>\n",
       "      <td>110833</td>\n",
       "      <td>7.25</td>\n",
       "    </tr>\n",
       "    <tr>\n",
       "      <th>17</th>\n",
       "      <td>Kentucky</td>\n",
       "      <td>6051</td>\n",
       "      <td>3478</td>\n",
       "      <td>164123</td>\n",
       "      <td>6.36</td>\n",
       "    </tr>\n",
       "    <tr>\n",
       "      <th>18</th>\n",
       "      <td>Louisiana</td>\n",
       "      <td>6051</td>\n",
       "      <td>3540</td>\n",
       "      <td>183811</td>\n",
       "      <td>5.79</td>\n",
       "    </tr>\n",
       "    <tr>\n",
       "      <th>19</th>\n",
       "      <td>Maine</td>\n",
       "      <td>6051</td>\n",
       "      <td>1106</td>\n",
       "      <td>37293</td>\n",
       "      <td>8.89</td>\n",
       "    </tr>\n",
       "    <tr>\n",
       "      <th>20</th>\n",
       "      <td>Maryland</td>\n",
       "      <td>6051</td>\n",
       "      <td>9723</td>\n",
       "      <td>215857</td>\n",
       "      <td>13.51</td>\n",
       "    </tr>\n",
       "    <tr>\n",
       "      <th>21</th>\n",
       "      <td>Massachusetts</td>\n",
       "      <td>6051</td>\n",
       "      <td>11946</td>\n",
       "      <td>211128</td>\n",
       "      <td>16.98</td>\n",
       "    </tr>\n",
       "    <tr>\n",
       "      <th>22</th>\n",
       "      <td>Michigan</td>\n",
       "      <td>6051</td>\n",
       "      <td>8222</td>\n",
       "      <td>334773</td>\n",
       "      <td>7.38</td>\n",
       "    </tr>\n",
       "    <tr>\n",
       "      <th>23</th>\n",
       "      <td>Minnesota</td>\n",
       "      <td>6051</td>\n",
       "      <td>6793</td>\n",
       "      <td>205688</td>\n",
       "      <td>9.91</td>\n",
       "    </tr>\n",
       "    <tr>\n",
       "      <th>24</th>\n",
       "      <td>Mississippi</td>\n",
       "      <td>6051</td>\n",
       "      <td>1787</td>\n",
       "      <td>112285</td>\n",
       "      <td>4.78</td>\n",
       "    </tr>\n",
       "    <tr>\n",
       "      <th>25</th>\n",
       "      <td>Missouri</td>\n",
       "      <td>6051</td>\n",
       "      <td>5206</td>\n",
       "      <td>221008</td>\n",
       "      <td>7.07</td>\n",
       "    </tr>\n",
       "    <tr>\n",
       "      <th>26</th>\n",
       "      <td>Montana</td>\n",
       "      <td>6051</td>\n",
       "      <td>830</td>\n",
       "      <td>35594</td>\n",
       "      <td>7.00</td>\n",
       "    </tr>\n",
       "    <tr>\n",
       "      <th>27</th>\n",
       "      <td>Nebraska</td>\n",
       "      <td>6051</td>\n",
       "      <td>2337</td>\n",
       "      <td>77871</td>\n",
       "      <td>9.00</td>\n",
       "    </tr>\n",
       "    <tr>\n",
       "      <th>28</th>\n",
       "      <td>Nevada</td>\n",
       "      <td>6051</td>\n",
       "      <td>1489</td>\n",
       "      <td>107698</td>\n",
       "      <td>4.15</td>\n",
       "    </tr>\n",
       "    <tr>\n",
       "      <th>29</th>\n",
       "      <td>New Hampshire</td>\n",
       "      <td>6051</td>\n",
       "      <td>1167</td>\n",
       "      <td>36378</td>\n",
       "      <td>9.64</td>\n",
       "    </tr>\n",
       "    <tr>\n",
       "      <th>30</th>\n",
       "      <td>New Jersey</td>\n",
       "      <td>6051</td>\n",
       "      <td>10580</td>\n",
       "      <td>305120</td>\n",
       "      <td>10.41</td>\n",
       "    </tr>\n",
       "    <tr>\n",
       "      <th>31</th>\n",
       "      <td>New Mexico</td>\n",
       "      <td>6051</td>\n",
       "      <td>1560</td>\n",
       "      <td>71498</td>\n",
       "      <td>6.56</td>\n",
       "    </tr>\n",
       "    <tr>\n",
       "      <th>32</th>\n",
       "      <td>New York</td>\n",
       "      <td>6051</td>\n",
       "      <td>24728</td>\n",
       "      <td>690258</td>\n",
       "      <td>10.75</td>\n",
       "    </tr>\n",
       "    <tr>\n",
       "      <th>33</th>\n",
       "      <td>North Carolina</td>\n",
       "      <td>6051</td>\n",
       "      <td>8977</td>\n",
       "      <td>359858</td>\n",
       "      <td>7.49</td>\n",
       "    </tr>\n",
       "    <tr>\n",
       "      <th>34</th>\n",
       "      <td>North Dakota</td>\n",
       "      <td>6051</td>\n",
       "      <td>937</td>\n",
       "      <td>32756</td>\n",
       "      <td>8.60</td>\n",
       "    </tr>\n",
       "    <tr>\n",
       "      <th>35</th>\n",
       "      <td>Ohio</td>\n",
       "      <td>6051</td>\n",
       "      <td>10285</td>\n",
       "      <td>410051</td>\n",
       "      <td>7.53</td>\n",
       "    </tr>\n",
       "    <tr>\n",
       "      <th>36</th>\n",
       "      <td>Oklahoma</td>\n",
       "      <td>6051</td>\n",
       "      <td>2470</td>\n",
       "      <td>152606</td>\n",
       "      <td>4.85</td>\n",
       "    </tr>\n",
       "    <tr>\n",
       "      <th>37</th>\n",
       "      <td>Oregon</td>\n",
       "      <td>6051</td>\n",
       "      <td>4154</td>\n",
       "      <td>131354</td>\n",
       "      <td>9.49</td>\n",
       "    </tr>\n",
       "    <tr>\n",
       "      <th>38</th>\n",
       "      <td>Pennsylvania</td>\n",
       "      <td>6051</td>\n",
       "      <td>13370</td>\n",
       "      <td>412827</td>\n",
       "      <td>9.71</td>\n",
       "    </tr>\n",
       "    <tr>\n",
       "      <th>39</th>\n",
       "      <td>Rhode Island</td>\n",
       "      <td>6051</td>\n",
       "      <td>1090</td>\n",
       "      <td>31942</td>\n",
       "      <td>10.24</td>\n",
       "    </tr>\n",
       "    <tr>\n",
       "      <th>40</th>\n",
       "      <td>South Carolina</td>\n",
       "      <td>6051</td>\n",
       "      <td>3719</td>\n",
       "      <td>171040</td>\n",
       "      <td>6.52</td>\n",
       "    </tr>\n",
       "    <tr>\n",
       "      <th>41</th>\n",
       "      <td>South Dakota</td>\n",
       "      <td>6051</td>\n",
       "      <td>891</td>\n",
       "      <td>36302</td>\n",
       "      <td>7.37</td>\n",
       "    </tr>\n",
       "    <tr>\n",
       "      <th>42</th>\n",
       "      <td>Tennessee</td>\n",
       "      <td>6051</td>\n",
       "      <td>5541</td>\n",
       "      <td>242574</td>\n",
       "      <td>6.86</td>\n",
       "    </tr>\n",
       "    <tr>\n",
       "      <th>43</th>\n",
       "      <td>Texas</td>\n",
       "      <td>6051</td>\n",
       "      <td>23409</td>\n",
       "      <td>1158721</td>\n",
       "      <td>6.06</td>\n",
       "    </tr>\n",
       "    <tr>\n",
       "      <th>44</th>\n",
       "      <td>Utah</td>\n",
       "      <td>6051</td>\n",
       "      <td>1917</td>\n",
       "      <td>146258</td>\n",
       "      <td>3.92</td>\n",
       "    </tr>\n",
       "    <tr>\n",
       "      <th>45</th>\n",
       "      <td>Vermont</td>\n",
       "      <td>6051</td>\n",
       "      <td>632</td>\n",
       "      <td>16843</td>\n",
       "      <td>11.27</td>\n",
       "    </tr>\n",
       "    <tr>\n",
       "      <th>46</th>\n",
       "      <td>Virginia</td>\n",
       "      <td>6051</td>\n",
       "      <td>10417</td>\n",
       "      <td>302694</td>\n",
       "      <td>10.33</td>\n",
       "    </tr>\n",
       "    <tr>\n",
       "      <th>47</th>\n",
       "      <td>Washington</td>\n",
       "      <td>6051</td>\n",
       "      <td>7634</td>\n",
       "      <td>264152</td>\n",
       "      <td>8.68</td>\n",
       "    </tr>\n",
       "    <tr>\n",
       "      <th>48</th>\n",
       "      <td>West Virginia</td>\n",
       "      <td>6051</td>\n",
       "      <td>1181</td>\n",
       "      <td>56002</td>\n",
       "      <td>6.33</td>\n",
       "    </tr>\n",
       "    <tr>\n",
       "      <th>49</th>\n",
       "      <td>Wisconsin</td>\n",
       "      <td>6051</td>\n",
       "      <td>5127</td>\n",
       "      <td>195688</td>\n",
       "      <td>7.86</td>\n",
       "    </tr>\n",
       "    <tr>\n",
       "      <th>50</th>\n",
       "      <td>Wyoming</td>\n",
       "      <td>6051</td>\n",
       "      <td>383</td>\n",
       "      <td>20851</td>\n",
       "      <td>5.52</td>\n",
       "    </tr>\n",
       "  </tbody>\n",
       "</table>\n",
       "</div>"
      ],
      "text/plain": [
       "                   State  Year  Number of Births_by ed level  \\\n",
       "0                Alabama  6051                          3238   \n",
       "1                 Alaska  6051                           581   \n",
       "2                Arizona  6051                          4703   \n",
       "3               Arkansas  6051                          1608   \n",
       "4             California  6051                         41398   \n",
       "5               Colorado  6051                          6083   \n",
       "6            Connecticut  6051                          4314   \n",
       "7               Delaware  6051                           787   \n",
       "8   District of Columbia  6051                          3149   \n",
       "9                Florida  6051                         14080   \n",
       "10               Georgia  6051                          6392   \n",
       "11                Hawaii  6051                           713   \n",
       "12                 Idaho  6051                           911   \n",
       "13              Illinois  6051                         13772   \n",
       "14               Indiana  6051                          4637   \n",
       "15                  Iowa  6051                          3167   \n",
       "16                Kansas  6051                          2680   \n",
       "17              Kentucky  6051                          3478   \n",
       "18             Louisiana  6051                          3540   \n",
       "19                 Maine  6051                          1106   \n",
       "20              Maryland  6051                          9723   \n",
       "21         Massachusetts  6051                         11946   \n",
       "22              Michigan  6051                          8222   \n",
       "23             Minnesota  6051                          6793   \n",
       "24           Mississippi  6051                          1787   \n",
       "25              Missouri  6051                          5206   \n",
       "26               Montana  6051                           830   \n",
       "27              Nebraska  6051                          2337   \n",
       "28                Nevada  6051                          1489   \n",
       "29         New Hampshire  6051                          1167   \n",
       "30            New Jersey  6051                         10580   \n",
       "31            New Mexico  6051                          1560   \n",
       "32              New York  6051                         24728   \n",
       "33        North Carolina  6051                          8977   \n",
       "34          North Dakota  6051                           937   \n",
       "35                  Ohio  6051                         10285   \n",
       "36              Oklahoma  6051                          2470   \n",
       "37                Oregon  6051                          4154   \n",
       "38          Pennsylvania  6051                         13370   \n",
       "39          Rhode Island  6051                          1090   \n",
       "40        South Carolina  6051                          3719   \n",
       "41          South Dakota  6051                           891   \n",
       "42             Tennessee  6051                          5541   \n",
       "43                 Texas  6051                         23409   \n",
       "44                  Utah  6051                          1917   \n",
       "45               Vermont  6051                           632   \n",
       "46              Virginia  6051                         10417   \n",
       "47            Washington  6051                          7634   \n",
       "48         West Virginia  6051                          1181   \n",
       "49             Wisconsin  6051                          5127   \n",
       "50               Wyoming  6051                           383   \n",
       "\n",
       "    Number of Births_by state  Percentage of Births by Education Level  \n",
       "0                      175853                                     5.53  \n",
       "1                       31740                                     5.51  \n",
       "2                      247115                                     5.71  \n",
       "3                      112812                                     4.28  \n",
       "4                     1415405                                     8.79  \n",
       "5                      193880                                     9.42  \n",
       "6                      105961                                    12.22  \n",
       "7                       32468                                     7.26  \n",
       "8                       28630                                    33.03  \n",
       "9                      670194                                     6.31  \n",
       "10                     385457                                     4.98  \n",
       "11                      52548                                     4.08  \n",
       "12                      66066                                     4.13  \n",
       "13                     448650                                     9.22  \n",
       "14                     246907                                     5.63  \n",
       "15                     115618                                     8.22  \n",
       "16                     110833                                     7.25  \n",
       "17                     164123                                     6.36  \n",
       "18                     183811                                     5.79  \n",
       "19                      37293                                     8.89  \n",
       "20                     215857                                    13.51  \n",
       "21                     211128                                    16.98  \n",
       "22                     334773                                     7.38  \n",
       "23                     205688                                     9.91  \n",
       "24                     112285                                     4.78  \n",
       "25                     221008                                     7.07  \n",
       "26                      35594                                     7.00  \n",
       "27                      77871                                     9.00  \n",
       "28                     107698                                     4.15  \n",
       "29                      36378                                     9.64  \n",
       "30                     305120                                    10.41  \n",
       "31                      71498                                     6.56  \n",
       "32                     690258                                    10.75  \n",
       "33                     359858                                     7.49  \n",
       "34                      32756                                     8.60  \n",
       "35                     410051                                     7.53  \n",
       "36                     152606                                     4.85  \n",
       "37                     131354                                     9.49  \n",
       "38                     412827                                     9.71  \n",
       "39                      31942                                    10.24  \n",
       "40                     171040                                     6.52  \n",
       "41                      36302                                     7.37  \n",
       "42                     242574                                     6.86  \n",
       "43                    1158721                                     6.06  \n",
       "44                     146258                                     3.92  \n",
       "45                      16843                                    11.27  \n",
       "46                     302694                                    10.33  \n",
       "47                     264152                                     8.68  \n",
       "48                      56002                                     6.33  \n",
       "49                     195688                                     7.86  \n",
       "50                      20851                                     5.52  "
      ]
     },
     "execution_count": 43,
     "metadata": {},
     "output_type": "execute_result"
    }
   ],
   "source": [
    "merged_df_filtered = merged_df[(merged_df['Year'].between(2016,2018)) & (merged_df['Education Level of Mother'] == 'Doctorate')].groupby('State').sum().reset_index()\n",
    "merged_df_filtered"
   ]
  },
  {
   "cell_type": "code",
   "execution_count": 36,
   "metadata": {},
   "outputs": [
    {
     "data": {
      "application/vnd.plotly.v1+json": {
       "config": {
        "plotlyServerURL": "https://plot.ly"
       },
       "data": [
        {
         "coloraxis": "coloraxis",
         "geo": "geo",
         "hovertemplate": "locations=%{location}<br>color=%{z}<extra></extra>",
         "locationmode": "USA-states",
         "locations": [
          "AL",
          "AK",
          "AZ",
          "AR",
          "CA",
          "CO",
          "CT",
          "DE",
          "DC",
          "FL",
          "GA",
          "HI",
          "ID",
          "IL",
          "IN",
          "IA",
          "KS",
          "KY",
          "LA",
          "ME",
          "MD",
          "MA",
          "MI",
          "MN",
          "MS",
          "MO",
          "MT",
          "NE",
          "NV",
          "NH",
          "NJ",
          "NM",
          "NY",
          "NC",
          "ND",
          "OH",
          "OK",
          "OR",
          "PA",
          "RI",
          "SC",
          "SD",
          "TN",
          "TX",
          "UT",
          "VT",
          "VA",
          "WA",
          "WV",
          "WI",
          "WY"
         ],
         "name": "",
         "type": "choropleth",
         "z": [
          1.94,
          2.43,
          2.13,
          1.69,
          3.22,
          3.5,
          4.38,
          2.58,
          11.2,
          2.41,
          1.73,
          1.55,
          1.46,
          3.29,
          2.12,
          2.82,
          2.68,
          2.15,
          2.11,
          3.17,
          4.58,
          6.04,
          2.65,
          3.79,
          1.61,
          2.55,
          2.9,
          3.31,
          1.55,
          3.44,
          3.7,
          2.26,
          3.77,
          2.73,
          2.72,
          2.68,
          1.77,
          3.4,
          3.51,
          3.57,
          2.33,
          2.64,
          2.34,
          2.05,
          1.53,
          4.46,
          3.53,
          3.12,
          2.31,
          2.86,
          1.78
         ]
        }
       ],
       "layout": {
        "coloraxis": {
         "colorbar": {
          "title": {
           "text": "color"
          }
         },
         "colorscale": [
          [
           0,
           "#0d0887"
          ],
          [
           0.1111111111111111,
           "#46039f"
          ],
          [
           0.2222222222222222,
           "#7201a8"
          ],
          [
           0.3333333333333333,
           "#9c179e"
          ],
          [
           0.4444444444444444,
           "#bd3786"
          ],
          [
           0.5555555555555556,
           "#d8576b"
          ],
          [
           0.6666666666666666,
           "#ed7953"
          ],
          [
           0.7777777777777778,
           "#fb9f3a"
          ],
          [
           0.8888888888888888,
           "#fdca26"
          ],
          [
           1,
           "#f0f921"
          ]
         ]
        },
        "geo": {
         "center": {},
         "domain": {
          "x": [
           0,
           1
          ],
          "y": [
           0,
           1
          ]
         },
         "scope": "usa"
        },
        "legend": {
         "tracegroupgap": 0
        },
        "margin": {
         "t": 60
        },
        "template": {
         "data": {
          "bar": [
           {
            "error_x": {
             "color": "#2a3f5f"
            },
            "error_y": {
             "color": "#2a3f5f"
            },
            "marker": {
             "line": {
              "color": "#E5ECF6",
              "width": 0.5
             },
             "pattern": {
              "fillmode": "overlay",
              "size": 10,
              "solidity": 0.2
             }
            },
            "type": "bar"
           }
          ],
          "barpolar": [
           {
            "marker": {
             "line": {
              "color": "#E5ECF6",
              "width": 0.5
             },
             "pattern": {
              "fillmode": "overlay",
              "size": 10,
              "solidity": 0.2
             }
            },
            "type": "barpolar"
           }
          ],
          "carpet": [
           {
            "aaxis": {
             "endlinecolor": "#2a3f5f",
             "gridcolor": "white",
             "linecolor": "white",
             "minorgridcolor": "white",
             "startlinecolor": "#2a3f5f"
            },
            "baxis": {
             "endlinecolor": "#2a3f5f",
             "gridcolor": "white",
             "linecolor": "white",
             "minorgridcolor": "white",
             "startlinecolor": "#2a3f5f"
            },
            "type": "carpet"
           }
          ],
          "choropleth": [
           {
            "colorbar": {
             "outlinewidth": 0,
             "ticks": ""
            },
            "type": "choropleth"
           }
          ],
          "contour": [
           {
            "colorbar": {
             "outlinewidth": 0,
             "ticks": ""
            },
            "colorscale": [
             [
              0,
              "#0d0887"
             ],
             [
              0.1111111111111111,
              "#46039f"
             ],
             [
              0.2222222222222222,
              "#7201a8"
             ],
             [
              0.3333333333333333,
              "#9c179e"
             ],
             [
              0.4444444444444444,
              "#bd3786"
             ],
             [
              0.5555555555555556,
              "#d8576b"
             ],
             [
              0.6666666666666666,
              "#ed7953"
             ],
             [
              0.7777777777777778,
              "#fb9f3a"
             ],
             [
              0.8888888888888888,
              "#fdca26"
             ],
             [
              1,
              "#f0f921"
             ]
            ],
            "type": "contour"
           }
          ],
          "contourcarpet": [
           {
            "colorbar": {
             "outlinewidth": 0,
             "ticks": ""
            },
            "type": "contourcarpet"
           }
          ],
          "heatmap": [
           {
            "colorbar": {
             "outlinewidth": 0,
             "ticks": ""
            },
            "colorscale": [
             [
              0,
              "#0d0887"
             ],
             [
              0.1111111111111111,
              "#46039f"
             ],
             [
              0.2222222222222222,
              "#7201a8"
             ],
             [
              0.3333333333333333,
              "#9c179e"
             ],
             [
              0.4444444444444444,
              "#bd3786"
             ],
             [
              0.5555555555555556,
              "#d8576b"
             ],
             [
              0.6666666666666666,
              "#ed7953"
             ],
             [
              0.7777777777777778,
              "#fb9f3a"
             ],
             [
              0.8888888888888888,
              "#fdca26"
             ],
             [
              1,
              "#f0f921"
             ]
            ],
            "type": "heatmap"
           }
          ],
          "heatmapgl": [
           {
            "colorbar": {
             "outlinewidth": 0,
             "ticks": ""
            },
            "colorscale": [
             [
              0,
              "#0d0887"
             ],
             [
              0.1111111111111111,
              "#46039f"
             ],
             [
              0.2222222222222222,
              "#7201a8"
             ],
             [
              0.3333333333333333,
              "#9c179e"
             ],
             [
              0.4444444444444444,
              "#bd3786"
             ],
             [
              0.5555555555555556,
              "#d8576b"
             ],
             [
              0.6666666666666666,
              "#ed7953"
             ],
             [
              0.7777777777777778,
              "#fb9f3a"
             ],
             [
              0.8888888888888888,
              "#fdca26"
             ],
             [
              1,
              "#f0f921"
             ]
            ],
            "type": "heatmapgl"
           }
          ],
          "histogram": [
           {
            "marker": {
             "pattern": {
              "fillmode": "overlay",
              "size": 10,
              "solidity": 0.2
             }
            },
            "type": "histogram"
           }
          ],
          "histogram2d": [
           {
            "colorbar": {
             "outlinewidth": 0,
             "ticks": ""
            },
            "colorscale": [
             [
              0,
              "#0d0887"
             ],
             [
              0.1111111111111111,
              "#46039f"
             ],
             [
              0.2222222222222222,
              "#7201a8"
             ],
             [
              0.3333333333333333,
              "#9c179e"
             ],
             [
              0.4444444444444444,
              "#bd3786"
             ],
             [
              0.5555555555555556,
              "#d8576b"
             ],
             [
              0.6666666666666666,
              "#ed7953"
             ],
             [
              0.7777777777777778,
              "#fb9f3a"
             ],
             [
              0.8888888888888888,
              "#fdca26"
             ],
             [
              1,
              "#f0f921"
             ]
            ],
            "type": "histogram2d"
           }
          ],
          "histogram2dcontour": [
           {
            "colorbar": {
             "outlinewidth": 0,
             "ticks": ""
            },
            "colorscale": [
             [
              0,
              "#0d0887"
             ],
             [
              0.1111111111111111,
              "#46039f"
             ],
             [
              0.2222222222222222,
              "#7201a8"
             ],
             [
              0.3333333333333333,
              "#9c179e"
             ],
             [
              0.4444444444444444,
              "#bd3786"
             ],
             [
              0.5555555555555556,
              "#d8576b"
             ],
             [
              0.6666666666666666,
              "#ed7953"
             ],
             [
              0.7777777777777778,
              "#fb9f3a"
             ],
             [
              0.8888888888888888,
              "#fdca26"
             ],
             [
              1,
              "#f0f921"
             ]
            ],
            "type": "histogram2dcontour"
           }
          ],
          "mesh3d": [
           {
            "colorbar": {
             "outlinewidth": 0,
             "ticks": ""
            },
            "type": "mesh3d"
           }
          ],
          "parcoords": [
           {
            "line": {
             "colorbar": {
              "outlinewidth": 0,
              "ticks": ""
             }
            },
            "type": "parcoords"
           }
          ],
          "pie": [
           {
            "automargin": true,
            "type": "pie"
           }
          ],
          "scatter": [
           {
            "fillpattern": {
             "fillmode": "overlay",
             "size": 10,
             "solidity": 0.2
            },
            "type": "scatter"
           }
          ],
          "scatter3d": [
           {
            "line": {
             "colorbar": {
              "outlinewidth": 0,
              "ticks": ""
             }
            },
            "marker": {
             "colorbar": {
              "outlinewidth": 0,
              "ticks": ""
             }
            },
            "type": "scatter3d"
           }
          ],
          "scattercarpet": [
           {
            "marker": {
             "colorbar": {
              "outlinewidth": 0,
              "ticks": ""
             }
            },
            "type": "scattercarpet"
           }
          ],
          "scattergeo": [
           {
            "marker": {
             "colorbar": {
              "outlinewidth": 0,
              "ticks": ""
             }
            },
            "type": "scattergeo"
           }
          ],
          "scattergl": [
           {
            "marker": {
             "colorbar": {
              "outlinewidth": 0,
              "ticks": ""
             }
            },
            "type": "scattergl"
           }
          ],
          "scattermapbox": [
           {
            "marker": {
             "colorbar": {
              "outlinewidth": 0,
              "ticks": ""
             }
            },
            "type": "scattermapbox"
           }
          ],
          "scatterpolar": [
           {
            "marker": {
             "colorbar": {
              "outlinewidth": 0,
              "ticks": ""
             }
            },
            "type": "scatterpolar"
           }
          ],
          "scatterpolargl": [
           {
            "marker": {
             "colorbar": {
              "outlinewidth": 0,
              "ticks": ""
             }
            },
            "type": "scatterpolargl"
           }
          ],
          "scatterternary": [
           {
            "marker": {
             "colorbar": {
              "outlinewidth": 0,
              "ticks": ""
             }
            },
            "type": "scatterternary"
           }
          ],
          "surface": [
           {
            "colorbar": {
             "outlinewidth": 0,
             "ticks": ""
            },
            "colorscale": [
             [
              0,
              "#0d0887"
             ],
             [
              0.1111111111111111,
              "#46039f"
             ],
             [
              0.2222222222222222,
              "#7201a8"
             ],
             [
              0.3333333333333333,
              "#9c179e"
             ],
             [
              0.4444444444444444,
              "#bd3786"
             ],
             [
              0.5555555555555556,
              "#d8576b"
             ],
             [
              0.6666666666666666,
              "#ed7953"
             ],
             [
              0.7777777777777778,
              "#fb9f3a"
             ],
             [
              0.8888888888888888,
              "#fdca26"
             ],
             [
              1,
              "#f0f921"
             ]
            ],
            "type": "surface"
           }
          ],
          "table": [
           {
            "cells": {
             "fill": {
              "color": "#EBF0F8"
             },
             "line": {
              "color": "white"
             }
            },
            "header": {
             "fill": {
              "color": "#C8D4E3"
             },
             "line": {
              "color": "white"
             }
            },
            "type": "table"
           }
          ]
         },
         "layout": {
          "annotationdefaults": {
           "arrowcolor": "#2a3f5f",
           "arrowhead": 0,
           "arrowwidth": 1
          },
          "autotypenumbers": "strict",
          "coloraxis": {
           "colorbar": {
            "outlinewidth": 0,
            "ticks": ""
           }
          },
          "colorscale": {
           "diverging": [
            [
             0,
             "#8e0152"
            ],
            [
             0.1,
             "#c51b7d"
            ],
            [
             0.2,
             "#de77ae"
            ],
            [
             0.3,
             "#f1b6da"
            ],
            [
             0.4,
             "#fde0ef"
            ],
            [
             0.5,
             "#f7f7f7"
            ],
            [
             0.6,
             "#e6f5d0"
            ],
            [
             0.7,
             "#b8e186"
            ],
            [
             0.8,
             "#7fbc41"
            ],
            [
             0.9,
             "#4d9221"
            ],
            [
             1,
             "#276419"
            ]
           ],
           "sequential": [
            [
             0,
             "#0d0887"
            ],
            [
             0.1111111111111111,
             "#46039f"
            ],
            [
             0.2222222222222222,
             "#7201a8"
            ],
            [
             0.3333333333333333,
             "#9c179e"
            ],
            [
             0.4444444444444444,
             "#bd3786"
            ],
            [
             0.5555555555555556,
             "#d8576b"
            ],
            [
             0.6666666666666666,
             "#ed7953"
            ],
            [
             0.7777777777777778,
             "#fb9f3a"
            ],
            [
             0.8888888888888888,
             "#fdca26"
            ],
            [
             1,
             "#f0f921"
            ]
           ],
           "sequentialminus": [
            [
             0,
             "#0d0887"
            ],
            [
             0.1111111111111111,
             "#46039f"
            ],
            [
             0.2222222222222222,
             "#7201a8"
            ],
            [
             0.3333333333333333,
             "#9c179e"
            ],
            [
             0.4444444444444444,
             "#bd3786"
            ],
            [
             0.5555555555555556,
             "#d8576b"
            ],
            [
             0.6666666666666666,
             "#ed7953"
            ],
            [
             0.7777777777777778,
             "#fb9f3a"
            ],
            [
             0.8888888888888888,
             "#fdca26"
            ],
            [
             1,
             "#f0f921"
            ]
           ]
          },
          "colorway": [
           "#636efa",
           "#EF553B",
           "#00cc96",
           "#ab63fa",
           "#FFA15A",
           "#19d3f3",
           "#FF6692",
           "#B6E880",
           "#FF97FF",
           "#FECB52"
          ],
          "font": {
           "color": "#2a3f5f"
          },
          "geo": {
           "bgcolor": "white",
           "lakecolor": "white",
           "landcolor": "#E5ECF6",
           "showlakes": true,
           "showland": true,
           "subunitcolor": "white"
          },
          "hoverlabel": {
           "align": "left"
          },
          "hovermode": "closest",
          "mapbox": {
           "style": "light"
          },
          "paper_bgcolor": "white",
          "plot_bgcolor": "#E5ECF6",
          "polar": {
           "angularaxis": {
            "gridcolor": "white",
            "linecolor": "white",
            "ticks": ""
           },
           "bgcolor": "#E5ECF6",
           "radialaxis": {
            "gridcolor": "white",
            "linecolor": "white",
            "ticks": ""
           }
          },
          "scene": {
           "xaxis": {
            "backgroundcolor": "#E5ECF6",
            "gridcolor": "white",
            "gridwidth": 2,
            "linecolor": "white",
            "showbackground": true,
            "ticks": "",
            "zerolinecolor": "white"
           },
           "yaxis": {
            "backgroundcolor": "#E5ECF6",
            "gridcolor": "white",
            "gridwidth": 2,
            "linecolor": "white",
            "showbackground": true,
            "ticks": "",
            "zerolinecolor": "white"
           },
           "zaxis": {
            "backgroundcolor": "#E5ECF6",
            "gridcolor": "white",
            "gridwidth": 2,
            "linecolor": "white",
            "showbackground": true,
            "ticks": "",
            "zerolinecolor": "white"
           }
          },
          "shapedefaults": {
           "line": {
            "color": "#2a3f5f"
           }
          },
          "ternary": {
           "aaxis": {
            "gridcolor": "white",
            "linecolor": "white",
            "ticks": ""
           },
           "baxis": {
            "gridcolor": "white",
            "linecolor": "white",
            "ticks": ""
           },
           "bgcolor": "#E5ECF6",
           "caxis": {
            "gridcolor": "white",
            "linecolor": "white",
            "ticks": ""
           }
          },
          "title": {
           "x": 0.05
          },
          "xaxis": {
           "automargin": true,
           "gridcolor": "white",
           "linecolor": "white",
           "ticks": "",
           "title": {
            "standoff": 15
           },
           "zerolinecolor": "white",
           "zerolinewidth": 2
          },
          "yaxis": {
           "automargin": true,
           "gridcolor": "white",
           "linecolor": "white",
           "ticks": "",
           "title": {
            "standoff": 15
           },
           "zerolinecolor": "white",
           "zerolinewidth": 2
          }
         }
        }
       }
      }
     },
     "metadata": {},
     "output_type": "display_data"
    }
   ],
   "source": [
    "fig = px.choropleth(locations = (merged_df_filtered['State Abbreviation']), locationmode = \"USA-states\",\n",
    "                    color = (merged_df_filtered['Percentage of Births by Education Level']), scope = \"usa\")\n",
    "fig.show()"
   ]
  },
  {
   "cell_type": "code",
   "execution_count": 38,
   "metadata": {},
   "outputs": [
    {
     "data": {
      "application/vnd.plotly.v1+json": {
       "config": {
        "plotlyServerURL": "https://plot.ly"
       },
       "data": [
        {
         "colorscale": [
          [
           0,
           "rgb(255,245,240)"
          ],
          [
           0.125,
           "rgb(254,224,210)"
          ],
          [
           0.25,
           "rgb(252,187,161)"
          ],
          [
           0.375,
           "rgb(252,146,114)"
          ],
          [
           0.5,
           "rgb(251,106,74)"
          ],
          [
           0.625,
           "rgb(239,59,44)"
          ],
          [
           0.75,
           "rgb(203,24,29)"
          ],
          [
           0.875,
           "rgb(165,15,21)"
          ],
          [
           1,
           "rgb(103,0,13)"
          ]
         ],
         "locationmode": "USA-states",
         "locations": [
          "AL",
          "AK",
          "AZ",
          "AR",
          "CA",
          "CO",
          "CT",
          "DE",
          "DC",
          "FL",
          "GA",
          "HI",
          "ID",
          "IL",
          "IN",
          "IA",
          "KS",
          "KY",
          "LA",
          "ME",
          "MD",
          "MA",
          "MI",
          "MN",
          "MS",
          "MO",
          "MT",
          "NE",
          "NV",
          "NH",
          "NJ",
          "NM",
          "NY",
          "NC",
          "ND",
          "OH",
          "OK",
          "OR",
          "PA",
          "RI",
          "SC",
          "SD",
          "TN",
          "TX",
          "UT",
          "VT",
          "VA",
          "WA",
          "WV",
          "WI",
          "WY"
         ],
         "type": "choropleth",
         "z": [
          1.94,
          2.43,
          2.13,
          1.69,
          3.22,
          3.5,
          4.38,
          2.58,
          11.2,
          2.41,
          1.73,
          1.55,
          1.46,
          3.29,
          2.12,
          2.82,
          2.68,
          2.15,
          2.11,
          3.17,
          4.58,
          6.04,
          2.65,
          3.79,
          1.61,
          2.55,
          2.9,
          3.31,
          1.55,
          3.44,
          3.7,
          2.26,
          3.77,
          2.73,
          2.72,
          2.68,
          1.77,
          3.4,
          3.51,
          3.57,
          2.33,
          2.64,
          2.34,
          2.05,
          1.53,
          4.46,
          3.53,
          3.12,
          2.31,
          2.86,
          1.78
         ]
        }
       ],
       "layout": {
        "geo": {
         "scope": "usa"
        },
        "template": {
         "data": {
          "bar": [
           {
            "error_x": {
             "color": "#2a3f5f"
            },
            "error_y": {
             "color": "#2a3f5f"
            },
            "marker": {
             "line": {
              "color": "#E5ECF6",
              "width": 0.5
             },
             "pattern": {
              "fillmode": "overlay",
              "size": 10,
              "solidity": 0.2
             }
            },
            "type": "bar"
           }
          ],
          "barpolar": [
           {
            "marker": {
             "line": {
              "color": "#E5ECF6",
              "width": 0.5
             },
             "pattern": {
              "fillmode": "overlay",
              "size": 10,
              "solidity": 0.2
             }
            },
            "type": "barpolar"
           }
          ],
          "carpet": [
           {
            "aaxis": {
             "endlinecolor": "#2a3f5f",
             "gridcolor": "white",
             "linecolor": "white",
             "minorgridcolor": "white",
             "startlinecolor": "#2a3f5f"
            },
            "baxis": {
             "endlinecolor": "#2a3f5f",
             "gridcolor": "white",
             "linecolor": "white",
             "minorgridcolor": "white",
             "startlinecolor": "#2a3f5f"
            },
            "type": "carpet"
           }
          ],
          "choropleth": [
           {
            "colorbar": {
             "outlinewidth": 0,
             "ticks": ""
            },
            "type": "choropleth"
           }
          ],
          "contour": [
           {
            "colorbar": {
             "outlinewidth": 0,
             "ticks": ""
            },
            "colorscale": [
             [
              0,
              "#0d0887"
             ],
             [
              0.1111111111111111,
              "#46039f"
             ],
             [
              0.2222222222222222,
              "#7201a8"
             ],
             [
              0.3333333333333333,
              "#9c179e"
             ],
             [
              0.4444444444444444,
              "#bd3786"
             ],
             [
              0.5555555555555556,
              "#d8576b"
             ],
             [
              0.6666666666666666,
              "#ed7953"
             ],
             [
              0.7777777777777778,
              "#fb9f3a"
             ],
             [
              0.8888888888888888,
              "#fdca26"
             ],
             [
              1,
              "#f0f921"
             ]
            ],
            "type": "contour"
           }
          ],
          "contourcarpet": [
           {
            "colorbar": {
             "outlinewidth": 0,
             "ticks": ""
            },
            "type": "contourcarpet"
           }
          ],
          "heatmap": [
           {
            "colorbar": {
             "outlinewidth": 0,
             "ticks": ""
            },
            "colorscale": [
             [
              0,
              "#0d0887"
             ],
             [
              0.1111111111111111,
              "#46039f"
             ],
             [
              0.2222222222222222,
              "#7201a8"
             ],
             [
              0.3333333333333333,
              "#9c179e"
             ],
             [
              0.4444444444444444,
              "#bd3786"
             ],
             [
              0.5555555555555556,
              "#d8576b"
             ],
             [
              0.6666666666666666,
              "#ed7953"
             ],
             [
              0.7777777777777778,
              "#fb9f3a"
             ],
             [
              0.8888888888888888,
              "#fdca26"
             ],
             [
              1,
              "#f0f921"
             ]
            ],
            "type": "heatmap"
           }
          ],
          "heatmapgl": [
           {
            "colorbar": {
             "outlinewidth": 0,
             "ticks": ""
            },
            "colorscale": [
             [
              0,
              "#0d0887"
             ],
             [
              0.1111111111111111,
              "#46039f"
             ],
             [
              0.2222222222222222,
              "#7201a8"
             ],
             [
              0.3333333333333333,
              "#9c179e"
             ],
             [
              0.4444444444444444,
              "#bd3786"
             ],
             [
              0.5555555555555556,
              "#d8576b"
             ],
             [
              0.6666666666666666,
              "#ed7953"
             ],
             [
              0.7777777777777778,
              "#fb9f3a"
             ],
             [
              0.8888888888888888,
              "#fdca26"
             ],
             [
              1,
              "#f0f921"
             ]
            ],
            "type": "heatmapgl"
           }
          ],
          "histogram": [
           {
            "marker": {
             "pattern": {
              "fillmode": "overlay",
              "size": 10,
              "solidity": 0.2
             }
            },
            "type": "histogram"
           }
          ],
          "histogram2d": [
           {
            "colorbar": {
             "outlinewidth": 0,
             "ticks": ""
            },
            "colorscale": [
             [
              0,
              "#0d0887"
             ],
             [
              0.1111111111111111,
              "#46039f"
             ],
             [
              0.2222222222222222,
              "#7201a8"
             ],
             [
              0.3333333333333333,
              "#9c179e"
             ],
             [
              0.4444444444444444,
              "#bd3786"
             ],
             [
              0.5555555555555556,
              "#d8576b"
             ],
             [
              0.6666666666666666,
              "#ed7953"
             ],
             [
              0.7777777777777778,
              "#fb9f3a"
             ],
             [
              0.8888888888888888,
              "#fdca26"
             ],
             [
              1,
              "#f0f921"
             ]
            ],
            "type": "histogram2d"
           }
          ],
          "histogram2dcontour": [
           {
            "colorbar": {
             "outlinewidth": 0,
             "ticks": ""
            },
            "colorscale": [
             [
              0,
              "#0d0887"
             ],
             [
              0.1111111111111111,
              "#46039f"
             ],
             [
              0.2222222222222222,
              "#7201a8"
             ],
             [
              0.3333333333333333,
              "#9c179e"
             ],
             [
              0.4444444444444444,
              "#bd3786"
             ],
             [
              0.5555555555555556,
              "#d8576b"
             ],
             [
              0.6666666666666666,
              "#ed7953"
             ],
             [
              0.7777777777777778,
              "#fb9f3a"
             ],
             [
              0.8888888888888888,
              "#fdca26"
             ],
             [
              1,
              "#f0f921"
             ]
            ],
            "type": "histogram2dcontour"
           }
          ],
          "mesh3d": [
           {
            "colorbar": {
             "outlinewidth": 0,
             "ticks": ""
            },
            "type": "mesh3d"
           }
          ],
          "parcoords": [
           {
            "line": {
             "colorbar": {
              "outlinewidth": 0,
              "ticks": ""
             }
            },
            "type": "parcoords"
           }
          ],
          "pie": [
           {
            "automargin": true,
            "type": "pie"
           }
          ],
          "scatter": [
           {
            "fillpattern": {
             "fillmode": "overlay",
             "size": 10,
             "solidity": 0.2
            },
            "type": "scatter"
           }
          ],
          "scatter3d": [
           {
            "line": {
             "colorbar": {
              "outlinewidth": 0,
              "ticks": ""
             }
            },
            "marker": {
             "colorbar": {
              "outlinewidth": 0,
              "ticks": ""
             }
            },
            "type": "scatter3d"
           }
          ],
          "scattercarpet": [
           {
            "marker": {
             "colorbar": {
              "outlinewidth": 0,
              "ticks": ""
             }
            },
            "type": "scattercarpet"
           }
          ],
          "scattergeo": [
           {
            "marker": {
             "colorbar": {
              "outlinewidth": 0,
              "ticks": ""
             }
            },
            "type": "scattergeo"
           }
          ],
          "scattergl": [
           {
            "marker": {
             "colorbar": {
              "outlinewidth": 0,
              "ticks": ""
             }
            },
            "type": "scattergl"
           }
          ],
          "scattermapbox": [
           {
            "marker": {
             "colorbar": {
              "outlinewidth": 0,
              "ticks": ""
             }
            },
            "type": "scattermapbox"
           }
          ],
          "scatterpolar": [
           {
            "marker": {
             "colorbar": {
              "outlinewidth": 0,
              "ticks": ""
             }
            },
            "type": "scatterpolar"
           }
          ],
          "scatterpolargl": [
           {
            "marker": {
             "colorbar": {
              "outlinewidth": 0,
              "ticks": ""
             }
            },
            "type": "scatterpolargl"
           }
          ],
          "scatterternary": [
           {
            "marker": {
             "colorbar": {
              "outlinewidth": 0,
              "ticks": ""
             }
            },
            "type": "scatterternary"
           }
          ],
          "surface": [
           {
            "colorbar": {
             "outlinewidth": 0,
             "ticks": ""
            },
            "colorscale": [
             [
              0,
              "#0d0887"
             ],
             [
              0.1111111111111111,
              "#46039f"
             ],
             [
              0.2222222222222222,
              "#7201a8"
             ],
             [
              0.3333333333333333,
              "#9c179e"
             ],
             [
              0.4444444444444444,
              "#bd3786"
             ],
             [
              0.5555555555555556,
              "#d8576b"
             ],
             [
              0.6666666666666666,
              "#ed7953"
             ],
             [
              0.7777777777777778,
              "#fb9f3a"
             ],
             [
              0.8888888888888888,
              "#fdca26"
             ],
             [
              1,
              "#f0f921"
             ]
            ],
            "type": "surface"
           }
          ],
          "table": [
           {
            "cells": {
             "fill": {
              "color": "#EBF0F8"
             },
             "line": {
              "color": "white"
             }
            },
            "header": {
             "fill": {
              "color": "#C8D4E3"
             },
             "line": {
              "color": "white"
             }
            },
            "type": "table"
           }
          ]
         },
         "layout": {
          "annotationdefaults": {
           "arrowcolor": "#2a3f5f",
           "arrowhead": 0,
           "arrowwidth": 1
          },
          "autotypenumbers": "strict",
          "coloraxis": {
           "colorbar": {
            "outlinewidth": 0,
            "ticks": ""
           }
          },
          "colorscale": {
           "diverging": [
            [
             0,
             "#8e0152"
            ],
            [
             0.1,
             "#c51b7d"
            ],
            [
             0.2,
             "#de77ae"
            ],
            [
             0.3,
             "#f1b6da"
            ],
            [
             0.4,
             "#fde0ef"
            ],
            [
             0.5,
             "#f7f7f7"
            ],
            [
             0.6,
             "#e6f5d0"
            ],
            [
             0.7,
             "#b8e186"
            ],
            [
             0.8,
             "#7fbc41"
            ],
            [
             0.9,
             "#4d9221"
            ],
            [
             1,
             "#276419"
            ]
           ],
           "sequential": [
            [
             0,
             "#0d0887"
            ],
            [
             0.1111111111111111,
             "#46039f"
            ],
            [
             0.2222222222222222,
             "#7201a8"
            ],
            [
             0.3333333333333333,
             "#9c179e"
            ],
            [
             0.4444444444444444,
             "#bd3786"
            ],
            [
             0.5555555555555556,
             "#d8576b"
            ],
            [
             0.6666666666666666,
             "#ed7953"
            ],
            [
             0.7777777777777778,
             "#fb9f3a"
            ],
            [
             0.8888888888888888,
             "#fdca26"
            ],
            [
             1,
             "#f0f921"
            ]
           ],
           "sequentialminus": [
            [
             0,
             "#0d0887"
            ],
            [
             0.1111111111111111,
             "#46039f"
            ],
            [
             0.2222222222222222,
             "#7201a8"
            ],
            [
             0.3333333333333333,
             "#9c179e"
            ],
            [
             0.4444444444444444,
             "#bd3786"
            ],
            [
             0.5555555555555556,
             "#d8576b"
            ],
            [
             0.6666666666666666,
             "#ed7953"
            ],
            [
             0.7777777777777778,
             "#fb9f3a"
            ],
            [
             0.8888888888888888,
             "#fdca26"
            ],
            [
             1,
             "#f0f921"
            ]
           ]
          },
          "colorway": [
           "#636efa",
           "#EF553B",
           "#00cc96",
           "#ab63fa",
           "#FFA15A",
           "#19d3f3",
           "#FF6692",
           "#B6E880",
           "#FF97FF",
           "#FECB52"
          ],
          "font": {
           "color": "#2a3f5f"
          },
          "geo": {
           "bgcolor": "white",
           "lakecolor": "white",
           "landcolor": "#E5ECF6",
           "showlakes": true,
           "showland": true,
           "subunitcolor": "white"
          },
          "hoverlabel": {
           "align": "left"
          },
          "hovermode": "closest",
          "mapbox": {
           "style": "light"
          },
          "paper_bgcolor": "white",
          "plot_bgcolor": "#E5ECF6",
          "polar": {
           "angularaxis": {
            "gridcolor": "white",
            "linecolor": "white",
            "ticks": ""
           },
           "bgcolor": "#E5ECF6",
           "radialaxis": {
            "gridcolor": "white",
            "linecolor": "white",
            "ticks": ""
           }
          },
          "scene": {
           "xaxis": {
            "backgroundcolor": "#E5ECF6",
            "gridcolor": "white",
            "gridwidth": 2,
            "linecolor": "white",
            "showbackground": true,
            "ticks": "",
            "zerolinecolor": "white"
           },
           "yaxis": {
            "backgroundcolor": "#E5ECF6",
            "gridcolor": "white",
            "gridwidth": 2,
            "linecolor": "white",
            "showbackground": true,
            "ticks": "",
            "zerolinecolor": "white"
           },
           "zaxis": {
            "backgroundcolor": "#E5ECF6",
            "gridcolor": "white",
            "gridwidth": 2,
            "linecolor": "white",
            "showbackground": true,
            "ticks": "",
            "zerolinecolor": "white"
           }
          },
          "shapedefaults": {
           "line": {
            "color": "#2a3f5f"
           }
          },
          "ternary": {
           "aaxis": {
            "gridcolor": "white",
            "linecolor": "white",
            "ticks": ""
           },
           "baxis": {
            "gridcolor": "white",
            "linecolor": "white",
            "ticks": ""
           },
           "bgcolor": "#E5ECF6",
           "caxis": {
            "gridcolor": "white",
            "linecolor": "white",
            "ticks": ""
           }
          },
          "title": {
           "x": 0.05
          },
          "xaxis": {
           "automargin": true,
           "gridcolor": "white",
           "linecolor": "white",
           "ticks": "",
           "title": {
            "standoff": 15
           },
           "zerolinecolor": "white",
           "zerolinewidth": 2
          },
          "yaxis": {
           "automargin": true,
           "gridcolor": "white",
           "linecolor": "white",
           "ticks": "",
           "title": {
            "standoff": 15
           },
           "zerolinecolor": "white",
           "zerolinewidth": 2
          }
         }
        },
        "title": {
         "text": "2011 US Agriculture Exports by State"
        }
       }
      }
     },
     "metadata": {},
     "output_type": "display_data"
    }
   ],
   "source": [
    "fig = go.Figure(data = go.Choropleth(\n",
    "    locations = merged_df_filtered['State Abbreviation'], # Spatial coordinates\n",
    "    z = merged_df_filtered['Percentage of Births by Education Level'].astype(float), # Data to be color-coded\n",
    "    locationmode = 'USA-states', # set of locations match entries in `locations`\n",
    "    colorscale = 'Reds',\n",
    "    colorbar_title = \"Percentage\",\n",
    "))\n",
    "\n",
    "fig.update_layout(\n",
    "    title_text = 'Percentage of Births by Education Level - ',\n",
    "    geo_scope='usa', # limite map scope to USA\n",
    ")\n",
    "\n",
    "fig.show()"
   ]
  },
  {
   "cell_type": "code",
   "execution_count": 39,
   "metadata": {},
   "outputs": [
    {
     "data": {
      "text/plain": [
       "State                                       object\n",
       "State Abbreviation                          object\n",
       "Education Level of Mother                   object\n",
       "Year                                         int64\n",
       "Number of Births_by ed level                 int64\n",
       "Number of Births_by state                    int64\n",
       "Percentage of Births by Education Level    float64\n",
       "dtype: object"
      ]
     },
     "execution_count": 39,
     "metadata": {},
     "output_type": "execute_result"
    }
   ],
   "source": [
    " filtered_map_df = map_df[(map_df['Year'] == year_selected) & (map_df['Education Level of Mother'] == ed_level_selected)].reset_index()"
   ]
  },
  {
   "cell_type": "code",
   "execution_count": 41,
   "metadata": {},
   "outputs": [
    {
     "data": {
      "text/plain": [
       "(2750, 7)"
      ]
     },
     "execution_count": 41,
     "metadata": {},
     "output_type": "execute_result"
    }
   ],
   "source": [
    "\n",
    "df_by_ed_level_usa = us_births.groupby(['State', 'State Abbreviation', 'Education Level of Mother', 'Year'])['Number of Births'].sum().reset_index()\n",
    "merged_df = df_by_ed_level_usa.merge(total_births_by_state_and_year, on = ['State', \"State Abbreviation\", 'Year'], suffixes = ('_by ed level', '_by state'))\n"
   ]
  },
  {
   "cell_type": "code",
   "execution_count": 24,
   "metadata": {},
   "outputs": [
    {
     "data": {
      "text/html": [
       "<div>\n",
       "<style scoped>\n",
       "    .dataframe tbody tr th:only-of-type {\n",
       "        vertical-align: middle;\n",
       "    }\n",
       "\n",
       "    .dataframe tbody tr th {\n",
       "        vertical-align: top;\n",
       "    }\n",
       "\n",
       "    .dataframe thead th {\n",
       "        text-align: right;\n",
       "    }\n",
       "</style>\n",
       "<table border=\"1\" class=\"dataframe\">\n",
       "  <thead>\n",
       "    <tr style=\"text-align: right;\">\n",
       "      <th></th>\n",
       "      <th>State</th>\n",
       "      <th>State Abbreviation</th>\n",
       "      <th>Year</th>\n",
       "      <th>Total Births in State</th>\n",
       "    </tr>\n",
       "  </thead>\n",
       "  <tbody>\n",
       "    <tr>\n",
       "      <th>0</th>\n",
       "      <td>Alabama</td>\n",
       "      <td>AL</td>\n",
       "      <td>2016</td>\n",
       "      <td>59151</td>\n",
       "    </tr>\n",
       "    <tr>\n",
       "      <th>1</th>\n",
       "      <td>Alabama</td>\n",
       "      <td>AL</td>\n",
       "      <td>2017</td>\n",
       "      <td>58941</td>\n",
       "    </tr>\n",
       "    <tr>\n",
       "      <th>2</th>\n",
       "      <td>Alabama</td>\n",
       "      <td>AL</td>\n",
       "      <td>2018</td>\n",
       "      <td>57761</td>\n",
       "    </tr>\n",
       "    <tr>\n",
       "      <th>3</th>\n",
       "      <td>Alaska</td>\n",
       "      <td>AK</td>\n",
       "      <td>2016</td>\n",
       "      <td>11209</td>\n",
       "    </tr>\n",
       "    <tr>\n",
       "      <th>4</th>\n",
       "      <td>Alaska</td>\n",
       "      <td>AK</td>\n",
       "      <td>2017</td>\n",
       "      <td>10445</td>\n",
       "    </tr>\n",
       "    <tr>\n",
       "      <th>...</th>\n",
       "      <td>...</td>\n",
       "      <td>...</td>\n",
       "      <td>...</td>\n",
       "      <td>...</td>\n",
       "    </tr>\n",
       "    <tr>\n",
       "      <th>148</th>\n",
       "      <td>Wisconsin</td>\n",
       "      <td>WI</td>\n",
       "      <td>2017</td>\n",
       "      <td>64975</td>\n",
       "    </tr>\n",
       "    <tr>\n",
       "      <th>149</th>\n",
       "      <td>Wisconsin</td>\n",
       "      <td>WI</td>\n",
       "      <td>2018</td>\n",
       "      <td>64098</td>\n",
       "    </tr>\n",
       "    <tr>\n",
       "      <th>150</th>\n",
       "      <td>Wyoming</td>\n",
       "      <td>WY</td>\n",
       "      <td>2016</td>\n",
       "      <td>7386</td>\n",
       "    </tr>\n",
       "    <tr>\n",
       "      <th>151</th>\n",
       "      <td>Wyoming</td>\n",
       "      <td>WY</td>\n",
       "      <td>2017</td>\n",
       "      <td>6903</td>\n",
       "    </tr>\n",
       "    <tr>\n",
       "      <th>152</th>\n",
       "      <td>Wyoming</td>\n",
       "      <td>WY</td>\n",
       "      <td>2018</td>\n",
       "      <td>6562</td>\n",
       "    </tr>\n",
       "  </tbody>\n",
       "</table>\n",
       "<p>153 rows × 4 columns</p>\n",
       "</div>"
      ],
      "text/plain": [
       "         State State Abbreviation  Year  Total Births in State\n",
       "0      Alabama                 AL  2016                  59151\n",
       "1      Alabama                 AL  2017                  58941\n",
       "2      Alabama                 AL  2018                  57761\n",
       "3       Alaska                 AK  2016                  11209\n",
       "4       Alaska                 AK  2017                  10445\n",
       "..         ...                ...   ...                    ...\n",
       "148  Wisconsin                 WI  2017                  64975\n",
       "149  Wisconsin                 WI  2018                  64098\n",
       "150    Wyoming                 WY  2016                   7386\n",
       "151    Wyoming                 WY  2017                   6903\n",
       "152    Wyoming                 WY  2018                   6562\n",
       "\n",
       "[153 rows x 4 columns]"
      ]
     },
     "execution_count": 24,
     "metadata": {},
     "output_type": "execute_result"
    }
   ],
   "source": [
    "total_births_by_state_and_year = us_births[(us_births['Year'].between(2016,2018))].groupby(['State', 'State Abbreviation', 'Year'])['Number of Births'].sum().reset_index(name = 'Total Births in State')\n",
    "\n",
    "total_births_by_state_and_year"
   ]
  },
  {
   "cell_type": "code",
   "execution_count": 25,
   "metadata": {},
   "outputs": [
    {
     "data": {
      "text/html": [
       "<div>\n",
       "<style scoped>\n",
       "    .dataframe tbody tr th:only-of-type {\n",
       "        vertical-align: middle;\n",
       "    }\n",
       "\n",
       "    .dataframe tbody tr th {\n",
       "        vertical-align: top;\n",
       "    }\n",
       "\n",
       "    .dataframe thead th {\n",
       "        text-align: right;\n",
       "    }\n",
       "</style>\n",
       "<table border=\"1\" class=\"dataframe\">\n",
       "  <thead>\n",
       "    <tr style=\"text-align: right;\">\n",
       "      <th></th>\n",
       "      <th>State</th>\n",
       "      <th>State Abbreviation</th>\n",
       "      <th>Year</th>\n",
       "      <th>Education Level of Mother</th>\n",
       "      <th>Number of Births</th>\n",
       "    </tr>\n",
       "  </thead>\n",
       "  <tbody>\n",
       "    <tr>\n",
       "      <th>0</th>\n",
       "      <td>Alabama</td>\n",
       "      <td>AL</td>\n",
       "      <td>2016</td>\n",
       "      <td>Doctorate</td>\n",
       "      <td>998</td>\n",
       "    </tr>\n",
       "    <tr>\n",
       "      <th>1</th>\n",
       "      <td>Alabama</td>\n",
       "      <td>AL</td>\n",
       "      <td>2017</td>\n",
       "      <td>Doctorate</td>\n",
       "      <td>1139</td>\n",
       "    </tr>\n",
       "    <tr>\n",
       "      <th>2</th>\n",
       "      <td>Alabama</td>\n",
       "      <td>AL</td>\n",
       "      <td>2018</td>\n",
       "      <td>Doctorate</td>\n",
       "      <td>1101</td>\n",
       "    </tr>\n",
       "    <tr>\n",
       "      <th>3</th>\n",
       "      <td>Alaska</td>\n",
       "      <td>AK</td>\n",
       "      <td>2016</td>\n",
       "      <td>Doctorate</td>\n",
       "      <td>187</td>\n",
       "    </tr>\n",
       "    <tr>\n",
       "      <th>4</th>\n",
       "      <td>Alaska</td>\n",
       "      <td>AK</td>\n",
       "      <td>2017</td>\n",
       "      <td>Doctorate</td>\n",
       "      <td>185</td>\n",
       "    </tr>\n",
       "    <tr>\n",
       "      <th>...</th>\n",
       "      <td>...</td>\n",
       "      <td>...</td>\n",
       "      <td>...</td>\n",
       "      <td>...</td>\n",
       "      <td>...</td>\n",
       "    </tr>\n",
       "    <tr>\n",
       "      <th>148</th>\n",
       "      <td>Wisconsin</td>\n",
       "      <td>WI</td>\n",
       "      <td>2017</td>\n",
       "      <td>Doctorate</td>\n",
       "      <td>1673</td>\n",
       "    </tr>\n",
       "    <tr>\n",
       "      <th>149</th>\n",
       "      <td>Wisconsin</td>\n",
       "      <td>WI</td>\n",
       "      <td>2018</td>\n",
       "      <td>Doctorate</td>\n",
       "      <td>1704</td>\n",
       "    </tr>\n",
       "    <tr>\n",
       "      <th>150</th>\n",
       "      <td>Wyoming</td>\n",
       "      <td>WY</td>\n",
       "      <td>2016</td>\n",
       "      <td>Doctorate</td>\n",
       "      <td>139</td>\n",
       "    </tr>\n",
       "    <tr>\n",
       "      <th>151</th>\n",
       "      <td>Wyoming</td>\n",
       "      <td>WY</td>\n",
       "      <td>2017</td>\n",
       "      <td>Doctorate</td>\n",
       "      <td>111</td>\n",
       "    </tr>\n",
       "    <tr>\n",
       "      <th>152</th>\n",
       "      <td>Wyoming</td>\n",
       "      <td>WY</td>\n",
       "      <td>2018</td>\n",
       "      <td>Doctorate</td>\n",
       "      <td>133</td>\n",
       "    </tr>\n",
       "  </tbody>\n",
       "</table>\n",
       "<p>153 rows × 5 columns</p>\n",
       "</div>"
      ],
      "text/plain": [
       "         State State Abbreviation  Year Education Level of Mother  \\\n",
       "0      Alabama                 AL  2016                 Doctorate   \n",
       "1      Alabama                 AL  2017                 Doctorate   \n",
       "2      Alabama                 AL  2018                 Doctorate   \n",
       "3       Alaska                 AK  2016                 Doctorate   \n",
       "4       Alaska                 AK  2017                 Doctorate   \n",
       "..         ...                ...   ...                       ...   \n",
       "148  Wisconsin                 WI  2017                 Doctorate   \n",
       "149  Wisconsin                 WI  2018                 Doctorate   \n",
       "150    Wyoming                 WY  2016                 Doctorate   \n",
       "151    Wyoming                 WY  2017                 Doctorate   \n",
       "152    Wyoming                 WY  2018                 Doctorate   \n",
       "\n",
       "     Number of Births  \n",
       "0                 998  \n",
       "1                1139  \n",
       "2                1101  \n",
       "3                 187  \n",
       "4                 185  \n",
       "..                ...  \n",
       "148              1673  \n",
       "149              1704  \n",
       "150               139  \n",
       "151               111  \n",
       "152               133  \n",
       "\n",
       "[153 rows x 5 columns]"
      ]
     },
     "execution_count": 25,
     "metadata": {},
     "output_type": "execute_result"
    }
   ],
   "source": [
    "df_by_ed_level_usa = us_births[(us_births['Year'].between(2016,2018)) & (us_births['Education Level of Mother'] == 'Doctorate')].groupby(['State', 'State Abbreviation', 'Year', 'Education Level of Mother'])['Number of Births'].sum().reset_index()\n",
    "df_by_ed_level_usa"
   ]
  },
  {
   "cell_type": "code",
   "execution_count": 42,
   "metadata": {},
   "outputs": [
    {
     "data": {
      "text/html": [
       "<div>\n",
       "<style scoped>\n",
       "    .dataframe tbody tr th:only-of-type {\n",
       "        vertical-align: middle;\n",
       "    }\n",
       "\n",
       "    .dataframe tbody tr th {\n",
       "        vertical-align: top;\n",
       "    }\n",
       "\n",
       "    .dataframe thead th {\n",
       "        text-align: right;\n",
       "    }\n",
       "</style>\n",
       "<table border=\"1\" class=\"dataframe\">\n",
       "  <thead>\n",
       "    <tr style=\"text-align: right;\">\n",
       "      <th></th>\n",
       "      <th>State</th>\n",
       "      <th>State Abbreviation</th>\n",
       "      <th>Year</th>\n",
       "      <th>Education Level of Mother</th>\n",
       "      <th>Number of Births</th>\n",
       "      <th>Total Births in State</th>\n",
       "    </tr>\n",
       "  </thead>\n",
       "  <tbody>\n",
       "    <tr>\n",
       "      <th>0</th>\n",
       "      <td>Alabama</td>\n",
       "      <td>AL</td>\n",
       "      <td>2016</td>\n",
       "      <td>Doctorate</td>\n",
       "      <td>998</td>\n",
       "      <td>59151</td>\n",
       "    </tr>\n",
       "    <tr>\n",
       "      <th>1</th>\n",
       "      <td>Alabama</td>\n",
       "      <td>AL</td>\n",
       "      <td>2017</td>\n",
       "      <td>Doctorate</td>\n",
       "      <td>1139</td>\n",
       "      <td>58941</td>\n",
       "    </tr>\n",
       "    <tr>\n",
       "      <th>2</th>\n",
       "      <td>Alabama</td>\n",
       "      <td>AL</td>\n",
       "      <td>2018</td>\n",
       "      <td>Doctorate</td>\n",
       "      <td>1101</td>\n",
       "      <td>57761</td>\n",
       "    </tr>\n",
       "    <tr>\n",
       "      <th>3</th>\n",
       "      <td>Alaska</td>\n",
       "      <td>AK</td>\n",
       "      <td>2016</td>\n",
       "      <td>Doctorate</td>\n",
       "      <td>187</td>\n",
       "      <td>11209</td>\n",
       "    </tr>\n",
       "    <tr>\n",
       "      <th>4</th>\n",
       "      <td>Alaska</td>\n",
       "      <td>AK</td>\n",
       "      <td>2017</td>\n",
       "      <td>Doctorate</td>\n",
       "      <td>185</td>\n",
       "      <td>10445</td>\n",
       "    </tr>\n",
       "    <tr>\n",
       "      <th>...</th>\n",
       "      <td>...</td>\n",
       "      <td>...</td>\n",
       "      <td>...</td>\n",
       "      <td>...</td>\n",
       "      <td>...</td>\n",
       "      <td>...</td>\n",
       "    </tr>\n",
       "    <tr>\n",
       "      <th>148</th>\n",
       "      <td>Wisconsin</td>\n",
       "      <td>WI</td>\n",
       "      <td>2017</td>\n",
       "      <td>Doctorate</td>\n",
       "      <td>1673</td>\n",
       "      <td>64975</td>\n",
       "    </tr>\n",
       "    <tr>\n",
       "      <th>149</th>\n",
       "      <td>Wisconsin</td>\n",
       "      <td>WI</td>\n",
       "      <td>2018</td>\n",
       "      <td>Doctorate</td>\n",
       "      <td>1704</td>\n",
       "      <td>64098</td>\n",
       "    </tr>\n",
       "    <tr>\n",
       "      <th>150</th>\n",
       "      <td>Wyoming</td>\n",
       "      <td>WY</td>\n",
       "      <td>2016</td>\n",
       "      <td>Doctorate</td>\n",
       "      <td>139</td>\n",
       "      <td>7386</td>\n",
       "    </tr>\n",
       "    <tr>\n",
       "      <th>151</th>\n",
       "      <td>Wyoming</td>\n",
       "      <td>WY</td>\n",
       "      <td>2017</td>\n",
       "      <td>Doctorate</td>\n",
       "      <td>111</td>\n",
       "      <td>6903</td>\n",
       "    </tr>\n",
       "    <tr>\n",
       "      <th>152</th>\n",
       "      <td>Wyoming</td>\n",
       "      <td>WY</td>\n",
       "      <td>2018</td>\n",
       "      <td>Doctorate</td>\n",
       "      <td>133</td>\n",
       "      <td>6562</td>\n",
       "    </tr>\n",
       "  </tbody>\n",
       "</table>\n",
       "<p>153 rows × 6 columns</p>\n",
       "</div>"
      ],
      "text/plain": [
       "         State State Abbreviation  Year Education Level of Mother  \\\n",
       "0      Alabama                 AL  2016                 Doctorate   \n",
       "1      Alabama                 AL  2017                 Doctorate   \n",
       "2      Alabama                 AL  2018                 Doctorate   \n",
       "3       Alaska                 AK  2016                 Doctorate   \n",
       "4       Alaska                 AK  2017                 Doctorate   \n",
       "..         ...                ...   ...                       ...   \n",
       "148  Wisconsin                 WI  2017                 Doctorate   \n",
       "149  Wisconsin                 WI  2018                 Doctorate   \n",
       "150    Wyoming                 WY  2016                 Doctorate   \n",
       "151    Wyoming                 WY  2017                 Doctorate   \n",
       "152    Wyoming                 WY  2018                 Doctorate   \n",
       "\n",
       "     Number of Births  Total Births in State  \n",
       "0                 998                  59151  \n",
       "1                1139                  58941  \n",
       "2                1101                  57761  \n",
       "3                 187                  11209  \n",
       "4                 185                  10445  \n",
       "..                ...                    ...  \n",
       "148              1673                  64975  \n",
       "149              1704                  64098  \n",
       "150               139                   7386  \n",
       "151               111                   6903  \n",
       "152               133                   6562  \n",
       "\n",
       "[153 rows x 6 columns]"
      ]
     },
     "execution_count": 42,
     "metadata": {},
     "output_type": "execute_result"
    }
   ],
   "source": [
    "merged_df = df_by_ed_level_usa.merge(total_births_by_state_and_year, on = ['State', 'State Abbreviation', 'Year'], suffixes = ('_by ed level', '_by state'))\n",
    "merged_df"
   ]
  },
  {
   "cell_type": "code",
   "execution_count": 43,
   "metadata": {},
   "outputs": [
    {
     "name": "stderr",
     "output_type": "stream",
     "text": [
      "/var/folders/0p/ymgcc2_s2fz5y2m7s2hb1dzw0000gn/T/ipykernel_974/2814813678.py:1: FutureWarning: Indexing with multiple keys (implicitly converted to a tuple of keys) will be deprecated, use a list instead.\n",
      "  merged_df = merged_df.groupby(['State', 'State Abbreviation'])['Number of Births', 'Total Births in State'].sum().reset_index()\n"
     ]
    },
    {
     "data": {
      "text/html": [
       "<div>\n",
       "<style scoped>\n",
       "    .dataframe tbody tr th:only-of-type {\n",
       "        vertical-align: middle;\n",
       "    }\n",
       "\n",
       "    .dataframe tbody tr th {\n",
       "        vertical-align: top;\n",
       "    }\n",
       "\n",
       "    .dataframe thead th {\n",
       "        text-align: right;\n",
       "    }\n",
       "</style>\n",
       "<table border=\"1\" class=\"dataframe\">\n",
       "  <thead>\n",
       "    <tr style=\"text-align: right;\">\n",
       "      <th></th>\n",
       "      <th>State</th>\n",
       "      <th>State Abbreviation</th>\n",
       "      <th>Number of Births</th>\n",
       "      <th>Total Births in State</th>\n",
       "    </tr>\n",
       "  </thead>\n",
       "  <tbody>\n",
       "    <tr>\n",
       "      <th>0</th>\n",
       "      <td>Alabama</td>\n",
       "      <td>AL</td>\n",
       "      <td>3238</td>\n",
       "      <td>175853</td>\n",
       "    </tr>\n",
       "    <tr>\n",
       "      <th>1</th>\n",
       "      <td>Alaska</td>\n",
       "      <td>AK</td>\n",
       "      <td>581</td>\n",
       "      <td>31740</td>\n",
       "    </tr>\n",
       "    <tr>\n",
       "      <th>2</th>\n",
       "      <td>Arizona</td>\n",
       "      <td>AZ</td>\n",
       "      <td>4703</td>\n",
       "      <td>247115</td>\n",
       "    </tr>\n",
       "    <tr>\n",
       "      <th>3</th>\n",
       "      <td>Arkansas</td>\n",
       "      <td>AR</td>\n",
       "      <td>1608</td>\n",
       "      <td>112812</td>\n",
       "    </tr>\n",
       "    <tr>\n",
       "      <th>4</th>\n",
       "      <td>California</td>\n",
       "      <td>CA</td>\n",
       "      <td>41398</td>\n",
       "      <td>1415405</td>\n",
       "    </tr>\n",
       "    <tr>\n",
       "      <th>5</th>\n",
       "      <td>Colorado</td>\n",
       "      <td>CO</td>\n",
       "      <td>6083</td>\n",
       "      <td>193880</td>\n",
       "    </tr>\n",
       "    <tr>\n",
       "      <th>6</th>\n",
       "      <td>Connecticut</td>\n",
       "      <td>CT</td>\n",
       "      <td>4314</td>\n",
       "      <td>105961</td>\n",
       "    </tr>\n",
       "    <tr>\n",
       "      <th>7</th>\n",
       "      <td>Delaware</td>\n",
       "      <td>DE</td>\n",
       "      <td>787</td>\n",
       "      <td>32468</td>\n",
       "    </tr>\n",
       "    <tr>\n",
       "      <th>8</th>\n",
       "      <td>District of Columbia</td>\n",
       "      <td>DC</td>\n",
       "      <td>3149</td>\n",
       "      <td>28630</td>\n",
       "    </tr>\n",
       "    <tr>\n",
       "      <th>9</th>\n",
       "      <td>Florida</td>\n",
       "      <td>FL</td>\n",
       "      <td>14080</td>\n",
       "      <td>670194</td>\n",
       "    </tr>\n",
       "    <tr>\n",
       "      <th>10</th>\n",
       "      <td>Georgia</td>\n",
       "      <td>GA</td>\n",
       "      <td>6392</td>\n",
       "      <td>385457</td>\n",
       "    </tr>\n",
       "    <tr>\n",
       "      <th>11</th>\n",
       "      <td>Hawaii</td>\n",
       "      <td>HI</td>\n",
       "      <td>713</td>\n",
       "      <td>52548</td>\n",
       "    </tr>\n",
       "    <tr>\n",
       "      <th>12</th>\n",
       "      <td>Idaho</td>\n",
       "      <td>ID</td>\n",
       "      <td>911</td>\n",
       "      <td>66066</td>\n",
       "    </tr>\n",
       "    <tr>\n",
       "      <th>13</th>\n",
       "      <td>Illinois</td>\n",
       "      <td>IL</td>\n",
       "      <td>13772</td>\n",
       "      <td>448650</td>\n",
       "    </tr>\n",
       "    <tr>\n",
       "      <th>14</th>\n",
       "      <td>Indiana</td>\n",
       "      <td>IN</td>\n",
       "      <td>4637</td>\n",
       "      <td>246907</td>\n",
       "    </tr>\n",
       "    <tr>\n",
       "      <th>15</th>\n",
       "      <td>Iowa</td>\n",
       "      <td>IA</td>\n",
       "      <td>3167</td>\n",
       "      <td>115618</td>\n",
       "    </tr>\n",
       "    <tr>\n",
       "      <th>16</th>\n",
       "      <td>Kansas</td>\n",
       "      <td>KS</td>\n",
       "      <td>2680</td>\n",
       "      <td>110833</td>\n",
       "    </tr>\n",
       "    <tr>\n",
       "      <th>17</th>\n",
       "      <td>Kentucky</td>\n",
       "      <td>KY</td>\n",
       "      <td>3478</td>\n",
       "      <td>164123</td>\n",
       "    </tr>\n",
       "    <tr>\n",
       "      <th>18</th>\n",
       "      <td>Louisiana</td>\n",
       "      <td>LA</td>\n",
       "      <td>3540</td>\n",
       "      <td>183811</td>\n",
       "    </tr>\n",
       "    <tr>\n",
       "      <th>19</th>\n",
       "      <td>Maine</td>\n",
       "      <td>ME</td>\n",
       "      <td>1106</td>\n",
       "      <td>37293</td>\n",
       "    </tr>\n",
       "    <tr>\n",
       "      <th>20</th>\n",
       "      <td>Maryland</td>\n",
       "      <td>MD</td>\n",
       "      <td>9723</td>\n",
       "      <td>215857</td>\n",
       "    </tr>\n",
       "    <tr>\n",
       "      <th>21</th>\n",
       "      <td>Massachusetts</td>\n",
       "      <td>MA</td>\n",
       "      <td>11946</td>\n",
       "      <td>211128</td>\n",
       "    </tr>\n",
       "    <tr>\n",
       "      <th>22</th>\n",
       "      <td>Michigan</td>\n",
       "      <td>MI</td>\n",
       "      <td>8222</td>\n",
       "      <td>334773</td>\n",
       "    </tr>\n",
       "    <tr>\n",
       "      <th>23</th>\n",
       "      <td>Minnesota</td>\n",
       "      <td>MN</td>\n",
       "      <td>6793</td>\n",
       "      <td>205688</td>\n",
       "    </tr>\n",
       "    <tr>\n",
       "      <th>24</th>\n",
       "      <td>Mississippi</td>\n",
       "      <td>MS</td>\n",
       "      <td>1787</td>\n",
       "      <td>112285</td>\n",
       "    </tr>\n",
       "    <tr>\n",
       "      <th>25</th>\n",
       "      <td>Missouri</td>\n",
       "      <td>MO</td>\n",
       "      <td>5206</td>\n",
       "      <td>221008</td>\n",
       "    </tr>\n",
       "    <tr>\n",
       "      <th>26</th>\n",
       "      <td>Montana</td>\n",
       "      <td>MT</td>\n",
       "      <td>830</td>\n",
       "      <td>35594</td>\n",
       "    </tr>\n",
       "    <tr>\n",
       "      <th>27</th>\n",
       "      <td>Nebraska</td>\n",
       "      <td>NE</td>\n",
       "      <td>2337</td>\n",
       "      <td>77871</td>\n",
       "    </tr>\n",
       "    <tr>\n",
       "      <th>28</th>\n",
       "      <td>Nevada</td>\n",
       "      <td>NV</td>\n",
       "      <td>1489</td>\n",
       "      <td>107698</td>\n",
       "    </tr>\n",
       "    <tr>\n",
       "      <th>29</th>\n",
       "      <td>New Hampshire</td>\n",
       "      <td>NH</td>\n",
       "      <td>1167</td>\n",
       "      <td>36378</td>\n",
       "    </tr>\n",
       "    <tr>\n",
       "      <th>30</th>\n",
       "      <td>New Jersey</td>\n",
       "      <td>NJ</td>\n",
       "      <td>10580</td>\n",
       "      <td>305120</td>\n",
       "    </tr>\n",
       "    <tr>\n",
       "      <th>31</th>\n",
       "      <td>New Mexico</td>\n",
       "      <td>NM</td>\n",
       "      <td>1560</td>\n",
       "      <td>71498</td>\n",
       "    </tr>\n",
       "    <tr>\n",
       "      <th>32</th>\n",
       "      <td>New York</td>\n",
       "      <td>NY</td>\n",
       "      <td>24728</td>\n",
       "      <td>690258</td>\n",
       "    </tr>\n",
       "    <tr>\n",
       "      <th>33</th>\n",
       "      <td>North Carolina</td>\n",
       "      <td>NC</td>\n",
       "      <td>8977</td>\n",
       "      <td>359858</td>\n",
       "    </tr>\n",
       "    <tr>\n",
       "      <th>34</th>\n",
       "      <td>North Dakota</td>\n",
       "      <td>ND</td>\n",
       "      <td>937</td>\n",
       "      <td>32756</td>\n",
       "    </tr>\n",
       "    <tr>\n",
       "      <th>35</th>\n",
       "      <td>Ohio</td>\n",
       "      <td>OH</td>\n",
       "      <td>10285</td>\n",
       "      <td>410051</td>\n",
       "    </tr>\n",
       "    <tr>\n",
       "      <th>36</th>\n",
       "      <td>Oklahoma</td>\n",
       "      <td>OK</td>\n",
       "      <td>2470</td>\n",
       "      <td>152606</td>\n",
       "    </tr>\n",
       "    <tr>\n",
       "      <th>37</th>\n",
       "      <td>Oregon</td>\n",
       "      <td>OR</td>\n",
       "      <td>4154</td>\n",
       "      <td>131354</td>\n",
       "    </tr>\n",
       "    <tr>\n",
       "      <th>38</th>\n",
       "      <td>Pennsylvania</td>\n",
       "      <td>PA</td>\n",
       "      <td>13370</td>\n",
       "      <td>412827</td>\n",
       "    </tr>\n",
       "    <tr>\n",
       "      <th>39</th>\n",
       "      <td>Rhode Island</td>\n",
       "      <td>RI</td>\n",
       "      <td>1090</td>\n",
       "      <td>31942</td>\n",
       "    </tr>\n",
       "    <tr>\n",
       "      <th>40</th>\n",
       "      <td>South Carolina</td>\n",
       "      <td>SC</td>\n",
       "      <td>3719</td>\n",
       "      <td>171040</td>\n",
       "    </tr>\n",
       "    <tr>\n",
       "      <th>41</th>\n",
       "      <td>South Dakota</td>\n",
       "      <td>SD</td>\n",
       "      <td>891</td>\n",
       "      <td>36302</td>\n",
       "    </tr>\n",
       "    <tr>\n",
       "      <th>42</th>\n",
       "      <td>Tennessee</td>\n",
       "      <td>TN</td>\n",
       "      <td>5541</td>\n",
       "      <td>242574</td>\n",
       "    </tr>\n",
       "    <tr>\n",
       "      <th>43</th>\n",
       "      <td>Texas</td>\n",
       "      <td>TX</td>\n",
       "      <td>23409</td>\n",
       "      <td>1158721</td>\n",
       "    </tr>\n",
       "    <tr>\n",
       "      <th>44</th>\n",
       "      <td>Utah</td>\n",
       "      <td>UT</td>\n",
       "      <td>1917</td>\n",
       "      <td>146258</td>\n",
       "    </tr>\n",
       "    <tr>\n",
       "      <th>45</th>\n",
       "      <td>Vermont</td>\n",
       "      <td>VT</td>\n",
       "      <td>632</td>\n",
       "      <td>16843</td>\n",
       "    </tr>\n",
       "    <tr>\n",
       "      <th>46</th>\n",
       "      <td>Virginia</td>\n",
       "      <td>VA</td>\n",
       "      <td>10417</td>\n",
       "      <td>302694</td>\n",
       "    </tr>\n",
       "    <tr>\n",
       "      <th>47</th>\n",
       "      <td>Washington</td>\n",
       "      <td>WA</td>\n",
       "      <td>7634</td>\n",
       "      <td>264152</td>\n",
       "    </tr>\n",
       "    <tr>\n",
       "      <th>48</th>\n",
       "      <td>West Virginia</td>\n",
       "      <td>WV</td>\n",
       "      <td>1181</td>\n",
       "      <td>56002</td>\n",
       "    </tr>\n",
       "    <tr>\n",
       "      <th>49</th>\n",
       "      <td>Wisconsin</td>\n",
       "      <td>WI</td>\n",
       "      <td>5127</td>\n",
       "      <td>195688</td>\n",
       "    </tr>\n",
       "    <tr>\n",
       "      <th>50</th>\n",
       "      <td>Wyoming</td>\n",
       "      <td>WY</td>\n",
       "      <td>383</td>\n",
       "      <td>20851</td>\n",
       "    </tr>\n",
       "  </tbody>\n",
       "</table>\n",
       "</div>"
      ],
      "text/plain": [
       "                   State State Abbreviation  Number of Births  \\\n",
       "0                Alabama                 AL              3238   \n",
       "1                 Alaska                 AK               581   \n",
       "2                Arizona                 AZ              4703   \n",
       "3               Arkansas                 AR              1608   \n",
       "4             California                 CA             41398   \n",
       "5               Colorado                 CO              6083   \n",
       "6            Connecticut                 CT              4314   \n",
       "7               Delaware                 DE               787   \n",
       "8   District of Columbia                 DC              3149   \n",
       "9                Florida                 FL             14080   \n",
       "10               Georgia                 GA              6392   \n",
       "11                Hawaii                 HI               713   \n",
       "12                 Idaho                 ID               911   \n",
       "13              Illinois                 IL             13772   \n",
       "14               Indiana                 IN              4637   \n",
       "15                  Iowa                 IA              3167   \n",
       "16                Kansas                 KS              2680   \n",
       "17              Kentucky                 KY              3478   \n",
       "18             Louisiana                 LA              3540   \n",
       "19                 Maine                 ME              1106   \n",
       "20              Maryland                 MD              9723   \n",
       "21         Massachusetts                 MA             11946   \n",
       "22              Michigan                 MI              8222   \n",
       "23             Minnesota                 MN              6793   \n",
       "24           Mississippi                 MS              1787   \n",
       "25              Missouri                 MO              5206   \n",
       "26               Montana                 MT               830   \n",
       "27              Nebraska                 NE              2337   \n",
       "28                Nevada                 NV              1489   \n",
       "29         New Hampshire                 NH              1167   \n",
       "30            New Jersey                 NJ             10580   \n",
       "31            New Mexico                 NM              1560   \n",
       "32              New York                 NY             24728   \n",
       "33        North Carolina                 NC              8977   \n",
       "34          North Dakota                 ND               937   \n",
       "35                  Ohio                 OH             10285   \n",
       "36              Oklahoma                 OK              2470   \n",
       "37                Oregon                 OR              4154   \n",
       "38          Pennsylvania                 PA             13370   \n",
       "39          Rhode Island                 RI              1090   \n",
       "40        South Carolina                 SC              3719   \n",
       "41          South Dakota                 SD               891   \n",
       "42             Tennessee                 TN              5541   \n",
       "43                 Texas                 TX             23409   \n",
       "44                  Utah                 UT              1917   \n",
       "45               Vermont                 VT               632   \n",
       "46              Virginia                 VA             10417   \n",
       "47            Washington                 WA              7634   \n",
       "48         West Virginia                 WV              1181   \n",
       "49             Wisconsin                 WI              5127   \n",
       "50               Wyoming                 WY               383   \n",
       "\n",
       "    Total Births in State  \n",
       "0                  175853  \n",
       "1                   31740  \n",
       "2                  247115  \n",
       "3                  112812  \n",
       "4                 1415405  \n",
       "5                  193880  \n",
       "6                  105961  \n",
       "7                   32468  \n",
       "8                   28630  \n",
       "9                  670194  \n",
       "10                 385457  \n",
       "11                  52548  \n",
       "12                  66066  \n",
       "13                 448650  \n",
       "14                 246907  \n",
       "15                 115618  \n",
       "16                 110833  \n",
       "17                 164123  \n",
       "18                 183811  \n",
       "19                  37293  \n",
       "20                 215857  \n",
       "21                 211128  \n",
       "22                 334773  \n",
       "23                 205688  \n",
       "24                 112285  \n",
       "25                 221008  \n",
       "26                  35594  \n",
       "27                  77871  \n",
       "28                 107698  \n",
       "29                  36378  \n",
       "30                 305120  \n",
       "31                  71498  \n",
       "32                 690258  \n",
       "33                 359858  \n",
       "34                  32756  \n",
       "35                 410051  \n",
       "36                 152606  \n",
       "37                 131354  \n",
       "38                 412827  \n",
       "39                  31942  \n",
       "40                 171040  \n",
       "41                  36302  \n",
       "42                 242574  \n",
       "43                1158721  \n",
       "44                 146258  \n",
       "45                  16843  \n",
       "46                 302694  \n",
       "47                 264152  \n",
       "48                  56002  \n",
       "49                 195688  \n",
       "50                  20851  "
      ]
     },
     "execution_count": 43,
     "metadata": {},
     "output_type": "execute_result"
    }
   ],
   "source": [
    "merged_df = merged_df.groupby(['State', 'State Abbreviation'])['Number of Births', 'Total Births in State'].sum().reset_index()\n",
    "merged_df"
   ]
  },
  {
   "cell_type": "code",
   "execution_count": 44,
   "metadata": {},
   "outputs": [
    {
     "data": {
      "text/html": [
       "<div>\n",
       "<style scoped>\n",
       "    .dataframe tbody tr th:only-of-type {\n",
       "        vertical-align: middle;\n",
       "    }\n",
       "\n",
       "    .dataframe tbody tr th {\n",
       "        vertical-align: top;\n",
       "    }\n",
       "\n",
       "    .dataframe thead th {\n",
       "        text-align: right;\n",
       "    }\n",
       "</style>\n",
       "<table border=\"1\" class=\"dataframe\">\n",
       "  <thead>\n",
       "    <tr style=\"text-align: right;\">\n",
       "      <th></th>\n",
       "      <th>State</th>\n",
       "      <th>State Abbreviation</th>\n",
       "      <th>Number of Births</th>\n",
       "      <th>Total Births in State</th>\n",
       "      <th>Percentage of Births by State</th>\n",
       "    </tr>\n",
       "  </thead>\n",
       "  <tbody>\n",
       "    <tr>\n",
       "      <th>0</th>\n",
       "      <td>Alabama</td>\n",
       "      <td>AL</td>\n",
       "      <td>3238</td>\n",
       "      <td>175853</td>\n",
       "      <td>1.84</td>\n",
       "    </tr>\n",
       "    <tr>\n",
       "      <th>1</th>\n",
       "      <td>Alaska</td>\n",
       "      <td>AK</td>\n",
       "      <td>581</td>\n",
       "      <td>31740</td>\n",
       "      <td>1.83</td>\n",
       "    </tr>\n",
       "    <tr>\n",
       "      <th>2</th>\n",
       "      <td>Arizona</td>\n",
       "      <td>AZ</td>\n",
       "      <td>4703</td>\n",
       "      <td>247115</td>\n",
       "      <td>1.90</td>\n",
       "    </tr>\n",
       "    <tr>\n",
       "      <th>3</th>\n",
       "      <td>Arkansas</td>\n",
       "      <td>AR</td>\n",
       "      <td>1608</td>\n",
       "      <td>112812</td>\n",
       "      <td>1.43</td>\n",
       "    </tr>\n",
       "    <tr>\n",
       "      <th>4</th>\n",
       "      <td>California</td>\n",
       "      <td>CA</td>\n",
       "      <td>41398</td>\n",
       "      <td>1415405</td>\n",
       "      <td>2.92</td>\n",
       "    </tr>\n",
       "    <tr>\n",
       "      <th>5</th>\n",
       "      <td>Colorado</td>\n",
       "      <td>CO</td>\n",
       "      <td>6083</td>\n",
       "      <td>193880</td>\n",
       "      <td>3.14</td>\n",
       "    </tr>\n",
       "    <tr>\n",
       "      <th>6</th>\n",
       "      <td>Connecticut</td>\n",
       "      <td>CT</td>\n",
       "      <td>4314</td>\n",
       "      <td>105961</td>\n",
       "      <td>4.07</td>\n",
       "    </tr>\n",
       "    <tr>\n",
       "      <th>7</th>\n",
       "      <td>Delaware</td>\n",
       "      <td>DE</td>\n",
       "      <td>787</td>\n",
       "      <td>32468</td>\n",
       "      <td>2.42</td>\n",
       "    </tr>\n",
       "    <tr>\n",
       "      <th>8</th>\n",
       "      <td>District of Columbia</td>\n",
       "      <td>DC</td>\n",
       "      <td>3149</td>\n",
       "      <td>28630</td>\n",
       "      <td>11.00</td>\n",
       "    </tr>\n",
       "    <tr>\n",
       "      <th>9</th>\n",
       "      <td>Florida</td>\n",
       "      <td>FL</td>\n",
       "      <td>14080</td>\n",
       "      <td>670194</td>\n",
       "      <td>2.10</td>\n",
       "    </tr>\n",
       "    <tr>\n",
       "      <th>10</th>\n",
       "      <td>Georgia</td>\n",
       "      <td>GA</td>\n",
       "      <td>6392</td>\n",
       "      <td>385457</td>\n",
       "      <td>1.66</td>\n",
       "    </tr>\n",
       "    <tr>\n",
       "      <th>11</th>\n",
       "      <td>Hawaii</td>\n",
       "      <td>HI</td>\n",
       "      <td>713</td>\n",
       "      <td>52548</td>\n",
       "      <td>1.36</td>\n",
       "    </tr>\n",
       "    <tr>\n",
       "      <th>12</th>\n",
       "      <td>Idaho</td>\n",
       "      <td>ID</td>\n",
       "      <td>911</td>\n",
       "      <td>66066</td>\n",
       "      <td>1.38</td>\n",
       "    </tr>\n",
       "    <tr>\n",
       "      <th>13</th>\n",
       "      <td>Illinois</td>\n",
       "      <td>IL</td>\n",
       "      <td>13772</td>\n",
       "      <td>448650</td>\n",
       "      <td>3.07</td>\n",
       "    </tr>\n",
       "    <tr>\n",
       "      <th>14</th>\n",
       "      <td>Indiana</td>\n",
       "      <td>IN</td>\n",
       "      <td>4637</td>\n",
       "      <td>246907</td>\n",
       "      <td>1.88</td>\n",
       "    </tr>\n",
       "    <tr>\n",
       "      <th>15</th>\n",
       "      <td>Iowa</td>\n",
       "      <td>IA</td>\n",
       "      <td>3167</td>\n",
       "      <td>115618</td>\n",
       "      <td>2.74</td>\n",
       "    </tr>\n",
       "    <tr>\n",
       "      <th>16</th>\n",
       "      <td>Kansas</td>\n",
       "      <td>KS</td>\n",
       "      <td>2680</td>\n",
       "      <td>110833</td>\n",
       "      <td>2.42</td>\n",
       "    </tr>\n",
       "    <tr>\n",
       "      <th>17</th>\n",
       "      <td>Kentucky</td>\n",
       "      <td>KY</td>\n",
       "      <td>3478</td>\n",
       "      <td>164123</td>\n",
       "      <td>2.12</td>\n",
       "    </tr>\n",
       "    <tr>\n",
       "      <th>18</th>\n",
       "      <td>Louisiana</td>\n",
       "      <td>LA</td>\n",
       "      <td>3540</td>\n",
       "      <td>183811</td>\n",
       "      <td>1.93</td>\n",
       "    </tr>\n",
       "    <tr>\n",
       "      <th>19</th>\n",
       "      <td>Maine</td>\n",
       "      <td>ME</td>\n",
       "      <td>1106</td>\n",
       "      <td>37293</td>\n",
       "      <td>2.97</td>\n",
       "    </tr>\n",
       "    <tr>\n",
       "      <th>20</th>\n",
       "      <td>Maryland</td>\n",
       "      <td>MD</td>\n",
       "      <td>9723</td>\n",
       "      <td>215857</td>\n",
       "      <td>4.50</td>\n",
       "    </tr>\n",
       "    <tr>\n",
       "      <th>21</th>\n",
       "      <td>Massachusetts</td>\n",
       "      <td>MA</td>\n",
       "      <td>11946</td>\n",
       "      <td>211128</td>\n",
       "      <td>5.66</td>\n",
       "    </tr>\n",
       "    <tr>\n",
       "      <th>22</th>\n",
       "      <td>Michigan</td>\n",
       "      <td>MI</td>\n",
       "      <td>8222</td>\n",
       "      <td>334773</td>\n",
       "      <td>2.46</td>\n",
       "    </tr>\n",
       "    <tr>\n",
       "      <th>23</th>\n",
       "      <td>Minnesota</td>\n",
       "      <td>MN</td>\n",
       "      <td>6793</td>\n",
       "      <td>205688</td>\n",
       "      <td>3.30</td>\n",
       "    </tr>\n",
       "    <tr>\n",
       "      <th>24</th>\n",
       "      <td>Mississippi</td>\n",
       "      <td>MS</td>\n",
       "      <td>1787</td>\n",
       "      <td>112285</td>\n",
       "      <td>1.59</td>\n",
       "    </tr>\n",
       "    <tr>\n",
       "      <th>25</th>\n",
       "      <td>Missouri</td>\n",
       "      <td>MO</td>\n",
       "      <td>5206</td>\n",
       "      <td>221008</td>\n",
       "      <td>2.36</td>\n",
       "    </tr>\n",
       "    <tr>\n",
       "      <th>26</th>\n",
       "      <td>Montana</td>\n",
       "      <td>MT</td>\n",
       "      <td>830</td>\n",
       "      <td>35594</td>\n",
       "      <td>2.33</td>\n",
       "    </tr>\n",
       "    <tr>\n",
       "      <th>27</th>\n",
       "      <td>Nebraska</td>\n",
       "      <td>NE</td>\n",
       "      <td>2337</td>\n",
       "      <td>77871</td>\n",
       "      <td>3.00</td>\n",
       "    </tr>\n",
       "    <tr>\n",
       "      <th>28</th>\n",
       "      <td>Nevada</td>\n",
       "      <td>NV</td>\n",
       "      <td>1489</td>\n",
       "      <td>107698</td>\n",
       "      <td>1.38</td>\n",
       "    </tr>\n",
       "    <tr>\n",
       "      <th>29</th>\n",
       "      <td>New Hampshire</td>\n",
       "      <td>NH</td>\n",
       "      <td>1167</td>\n",
       "      <td>36378</td>\n",
       "      <td>3.21</td>\n",
       "    </tr>\n",
       "    <tr>\n",
       "      <th>30</th>\n",
       "      <td>New Jersey</td>\n",
       "      <td>NJ</td>\n",
       "      <td>10580</td>\n",
       "      <td>305120</td>\n",
       "      <td>3.47</td>\n",
       "    </tr>\n",
       "    <tr>\n",
       "      <th>31</th>\n",
       "      <td>New Mexico</td>\n",
       "      <td>NM</td>\n",
       "      <td>1560</td>\n",
       "      <td>71498</td>\n",
       "      <td>2.18</td>\n",
       "    </tr>\n",
       "    <tr>\n",
       "      <th>32</th>\n",
       "      <td>New York</td>\n",
       "      <td>NY</td>\n",
       "      <td>24728</td>\n",
       "      <td>690258</td>\n",
       "      <td>3.58</td>\n",
       "    </tr>\n",
       "    <tr>\n",
       "      <th>33</th>\n",
       "      <td>North Carolina</td>\n",
       "      <td>NC</td>\n",
       "      <td>8977</td>\n",
       "      <td>359858</td>\n",
       "      <td>2.49</td>\n",
       "    </tr>\n",
       "    <tr>\n",
       "      <th>34</th>\n",
       "      <td>North Dakota</td>\n",
       "      <td>ND</td>\n",
       "      <td>937</td>\n",
       "      <td>32756</td>\n",
       "      <td>2.86</td>\n",
       "    </tr>\n",
       "    <tr>\n",
       "      <th>35</th>\n",
       "      <td>Ohio</td>\n",
       "      <td>OH</td>\n",
       "      <td>10285</td>\n",
       "      <td>410051</td>\n",
       "      <td>2.51</td>\n",
       "    </tr>\n",
       "    <tr>\n",
       "      <th>36</th>\n",
       "      <td>Oklahoma</td>\n",
       "      <td>OK</td>\n",
       "      <td>2470</td>\n",
       "      <td>152606</td>\n",
       "      <td>1.62</td>\n",
       "    </tr>\n",
       "    <tr>\n",
       "      <th>37</th>\n",
       "      <td>Oregon</td>\n",
       "      <td>OR</td>\n",
       "      <td>4154</td>\n",
       "      <td>131354</td>\n",
       "      <td>3.16</td>\n",
       "    </tr>\n",
       "    <tr>\n",
       "      <th>38</th>\n",
       "      <td>Pennsylvania</td>\n",
       "      <td>PA</td>\n",
       "      <td>13370</td>\n",
       "      <td>412827</td>\n",
       "      <td>3.24</td>\n",
       "    </tr>\n",
       "    <tr>\n",
       "      <th>39</th>\n",
       "      <td>Rhode Island</td>\n",
       "      <td>RI</td>\n",
       "      <td>1090</td>\n",
       "      <td>31942</td>\n",
       "      <td>3.41</td>\n",
       "    </tr>\n",
       "    <tr>\n",
       "      <th>40</th>\n",
       "      <td>South Carolina</td>\n",
       "      <td>SC</td>\n",
       "      <td>3719</td>\n",
       "      <td>171040</td>\n",
       "      <td>2.17</td>\n",
       "    </tr>\n",
       "    <tr>\n",
       "      <th>41</th>\n",
       "      <td>South Dakota</td>\n",
       "      <td>SD</td>\n",
       "      <td>891</td>\n",
       "      <td>36302</td>\n",
       "      <td>2.45</td>\n",
       "    </tr>\n",
       "    <tr>\n",
       "      <th>42</th>\n",
       "      <td>Tennessee</td>\n",
       "      <td>TN</td>\n",
       "      <td>5541</td>\n",
       "      <td>242574</td>\n",
       "      <td>2.28</td>\n",
       "    </tr>\n",
       "    <tr>\n",
       "      <th>43</th>\n",
       "      <td>Texas</td>\n",
       "      <td>TX</td>\n",
       "      <td>23409</td>\n",
       "      <td>1158721</td>\n",
       "      <td>2.02</td>\n",
       "    </tr>\n",
       "    <tr>\n",
       "      <th>44</th>\n",
       "      <td>Utah</td>\n",
       "      <td>UT</td>\n",
       "      <td>1917</td>\n",
       "      <td>146258</td>\n",
       "      <td>1.31</td>\n",
       "    </tr>\n",
       "    <tr>\n",
       "      <th>45</th>\n",
       "      <td>Vermont</td>\n",
       "      <td>VT</td>\n",
       "      <td>632</td>\n",
       "      <td>16843</td>\n",
       "      <td>3.75</td>\n",
       "    </tr>\n",
       "    <tr>\n",
       "      <th>46</th>\n",
       "      <td>Virginia</td>\n",
       "      <td>VA</td>\n",
       "      <td>10417</td>\n",
       "      <td>302694</td>\n",
       "      <td>3.44</td>\n",
       "    </tr>\n",
       "    <tr>\n",
       "      <th>47</th>\n",
       "      <td>Washington</td>\n",
       "      <td>WA</td>\n",
       "      <td>7634</td>\n",
       "      <td>264152</td>\n",
       "      <td>2.89</td>\n",
       "    </tr>\n",
       "    <tr>\n",
       "      <th>48</th>\n",
       "      <td>West Virginia</td>\n",
       "      <td>WV</td>\n",
       "      <td>1181</td>\n",
       "      <td>56002</td>\n",
       "      <td>2.11</td>\n",
       "    </tr>\n",
       "    <tr>\n",
       "      <th>49</th>\n",
       "      <td>Wisconsin</td>\n",
       "      <td>WI</td>\n",
       "      <td>5127</td>\n",
       "      <td>195688</td>\n",
       "      <td>2.62</td>\n",
       "    </tr>\n",
       "    <tr>\n",
       "      <th>50</th>\n",
       "      <td>Wyoming</td>\n",
       "      <td>WY</td>\n",
       "      <td>383</td>\n",
       "      <td>20851</td>\n",
       "      <td>1.84</td>\n",
       "    </tr>\n",
       "  </tbody>\n",
       "</table>\n",
       "</div>"
      ],
      "text/plain": [
       "                   State State Abbreviation  Number of Births  \\\n",
       "0                Alabama                 AL              3238   \n",
       "1                 Alaska                 AK               581   \n",
       "2                Arizona                 AZ              4703   \n",
       "3               Arkansas                 AR              1608   \n",
       "4             California                 CA             41398   \n",
       "5               Colorado                 CO              6083   \n",
       "6            Connecticut                 CT              4314   \n",
       "7               Delaware                 DE               787   \n",
       "8   District of Columbia                 DC              3149   \n",
       "9                Florida                 FL             14080   \n",
       "10               Georgia                 GA              6392   \n",
       "11                Hawaii                 HI               713   \n",
       "12                 Idaho                 ID               911   \n",
       "13              Illinois                 IL             13772   \n",
       "14               Indiana                 IN              4637   \n",
       "15                  Iowa                 IA              3167   \n",
       "16                Kansas                 KS              2680   \n",
       "17              Kentucky                 KY              3478   \n",
       "18             Louisiana                 LA              3540   \n",
       "19                 Maine                 ME              1106   \n",
       "20              Maryland                 MD              9723   \n",
       "21         Massachusetts                 MA             11946   \n",
       "22              Michigan                 MI              8222   \n",
       "23             Minnesota                 MN              6793   \n",
       "24           Mississippi                 MS              1787   \n",
       "25              Missouri                 MO              5206   \n",
       "26               Montana                 MT               830   \n",
       "27              Nebraska                 NE              2337   \n",
       "28                Nevada                 NV              1489   \n",
       "29         New Hampshire                 NH              1167   \n",
       "30            New Jersey                 NJ             10580   \n",
       "31            New Mexico                 NM              1560   \n",
       "32              New York                 NY             24728   \n",
       "33        North Carolina                 NC              8977   \n",
       "34          North Dakota                 ND               937   \n",
       "35                  Ohio                 OH             10285   \n",
       "36              Oklahoma                 OK              2470   \n",
       "37                Oregon                 OR              4154   \n",
       "38          Pennsylvania                 PA             13370   \n",
       "39          Rhode Island                 RI              1090   \n",
       "40        South Carolina                 SC              3719   \n",
       "41          South Dakota                 SD               891   \n",
       "42             Tennessee                 TN              5541   \n",
       "43                 Texas                 TX             23409   \n",
       "44                  Utah                 UT              1917   \n",
       "45               Vermont                 VT               632   \n",
       "46              Virginia                 VA             10417   \n",
       "47            Washington                 WA              7634   \n",
       "48         West Virginia                 WV              1181   \n",
       "49             Wisconsin                 WI              5127   \n",
       "50               Wyoming                 WY               383   \n",
       "\n",
       "    Total Births in State  Percentage of Births by State  \n",
       "0                  175853                           1.84  \n",
       "1                   31740                           1.83  \n",
       "2                  247115                           1.90  \n",
       "3                  112812                           1.43  \n",
       "4                 1415405                           2.92  \n",
       "5                  193880                           3.14  \n",
       "6                  105961                           4.07  \n",
       "7                   32468                           2.42  \n",
       "8                   28630                          11.00  \n",
       "9                  670194                           2.10  \n",
       "10                 385457                           1.66  \n",
       "11                  52548                           1.36  \n",
       "12                  66066                           1.38  \n",
       "13                 448650                           3.07  \n",
       "14                 246907                           1.88  \n",
       "15                 115618                           2.74  \n",
       "16                 110833                           2.42  \n",
       "17                 164123                           2.12  \n",
       "18                 183811                           1.93  \n",
       "19                  37293                           2.97  \n",
       "20                 215857                           4.50  \n",
       "21                 211128                           5.66  \n",
       "22                 334773                           2.46  \n",
       "23                 205688                           3.30  \n",
       "24                 112285                           1.59  \n",
       "25                 221008                           2.36  \n",
       "26                  35594                           2.33  \n",
       "27                  77871                           3.00  \n",
       "28                 107698                           1.38  \n",
       "29                  36378                           3.21  \n",
       "30                 305120                           3.47  \n",
       "31                  71498                           2.18  \n",
       "32                 690258                           3.58  \n",
       "33                 359858                           2.49  \n",
       "34                  32756                           2.86  \n",
       "35                 410051                           2.51  \n",
       "36                 152606                           1.62  \n",
       "37                 131354                           3.16  \n",
       "38                 412827                           3.24  \n",
       "39                  31942                           3.41  \n",
       "40                 171040                           2.17  \n",
       "41                  36302                           2.45  \n",
       "42                 242574                           2.28  \n",
       "43                1158721                           2.02  \n",
       "44                 146258                           1.31  \n",
       "45                  16843                           3.75  \n",
       "46                 302694                           3.44  \n",
       "47                 264152                           2.89  \n",
       "48                  56002                           2.11  \n",
       "49                 195688                           2.62  \n",
       "50                  20851                           1.84  "
      ]
     },
     "execution_count": 44,
     "metadata": {},
     "output_type": "execute_result"
    }
   ],
   "source": [
    "merged_df['Percentage of Births by State'] = ((merged_df['Number of Births'] / merged_df['Total Births in State']) * 100).round(2)\n",
    "merged_df"
   ]
  }
 ],
 "metadata": {
  "kernelspec": {
   "display_name": "base",
   "language": "python",
   "name": "python3"
  },
  "language_info": {
   "codemirror_mode": {
    "name": "ipython",
    "version": 3
   },
   "file_extension": ".py",
   "mimetype": "text/x-python",
   "name": "python",
   "nbconvert_exporter": "python",
   "pygments_lexer": "ipython3",
   "version": "3.9.13"
  },
  "orig_nbformat": 4
 },
 "nbformat": 4,
 "nbformat_minor": 2
}
